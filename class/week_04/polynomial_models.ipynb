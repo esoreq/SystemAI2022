{
 "cells": [
  {
   "cell_type": "code",
   "execution_count": null,
   "metadata": {},
   "outputs": [],
   "source": [
    "import numpy as np\n",
    "import pandas as pd\n",
    "rng = np.random.default_rng(2022)\n",
    "fu = lambda x,noise,hetro: 0.5 * x + hetro * x * rng.uniform(0,1,size=x.shape) +  noise * rng.uniform(0,1,size=x.shape)\n",
    "import statsmodels.api as sm\n",
    "\n",
    "\n",
    "N = 200\n",
    "x = rng.normal(20,5,size=(N,))\n",
    "x_range = np.linspace(np.min(x),np.max(x),100)\n",
    "y = fu(x,2,0.1)\n",
    "X = sm.add_constant(x)\n",
    "# plt.scatter(x,y)\n",
    "\n",
    "\n",
    "from statsmodels.stats.diagnostic import het_white\n",
    "from statsmodels.compat import lzip\n",
    "\n",
    "mdl = sm.OLS(y,X).fit()\n",
    "keys = ['Lagrange Multiplier statistic:', 'LM test\\'s p-value:', 'F-statistic:', 'F-test\\'s p-value:']\n",
    "results = het_white(mdl.resid, X)\n",
    "dict(zip(keys, results))\n",
    "\n",
    "\n",
    "\n",
    "X = np.hstack([X,(np.log(x)).reshape(-1,1)])\n",
    "mdl = sm.OLS(y,X).fit()\n",
    "plt.scatter(np.log(x),y)\n",
    "\n",
    "keys = ['Lagrange Multiplier statistic:', 'LM test\\'s p-value:', 'F-statistic:', 'F-test\\'s p-value:']\n",
    "results = het_white(mdl.resid, X)\n",
    "dict(zip(keys, results))"
   ]
  }
 ],
 "metadata": {
  "language_info": {
   "name": "python"
  },
  "orig_nbformat": 4
 },
 "nbformat": 4,
 "nbformat_minor": 2
}
