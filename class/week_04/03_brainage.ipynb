{
 "cells": [
  {
   "cell_type": "markdown",
   "metadata": {},
   "source": [
    "# Home assignment : Ageing and Structural VBM\n",
    "![](images/figures_VBM.png)\n",
    "\n",
    "## What is voxel-based morphometry (VBM)\n",
    "- Voxel-based morphometry is a method to allows to approximate structural brain maps grey matter intensity to compare between or within individuals\n",
    "- The basic idea is to map brains to a common space and compare voxel-wise characteristics. \n",
    "- One volume has 121 x 145 x 121 voxels each a potential feature. \n",
    "- For more information see [Intro to VBM](http://www.neuro.uni-jena.de/pdf-files/Kurth-VBM.pdf)"
   ]
  },
  {
   "cell_type": "markdown",
   "metadata": {},
   "source": [
    "## Basic hypothesis\n",
    "\n",
    "![](images/figures_Demo.png)\n",
    "- Is there a strong association between age and grey matter global intensity?\n",
    "- In this assignment we are using grey matter voxel-based morphometry volumes that were meticulously collected by Prof James Cole. (see Cole et al., 2015, Annals of Neurology). \n",
    "- We will use a carefully selected sample of 100 volumes from the much larger data-base. In the images above we see strong association exists between grey matter decline and age.\n",
    "- The human brain changes throughout the lifespan, with well-characterised reductions in grey matter volume beginning in early adulthood. White matter volume follows a non-linear trajectory, increasing in volume until middle age, before decreasing into older age. For more information read for example [Good et al.,2001, NeuroImage](http://www.sciencedirect.com/science/article/pii/S1053811901907864)"
   ]
  },
  {
   "cell_type": "markdown",
   "metadata": {},
   "source": [
    "## Using a template to construct a constrained threshold\n",
    "![](images/figures_DARTEL.png)\n",
    "\n",
    "- The [DARTEL](https://www.fil.ion.ucl.ac.uk/spm/course/slides10-vancouver/09_Morphometry.pdf) template represents the probability of a voxel to be associated with a specific tissue type.\n",
    "- The idea is to map simultaneously three independent tissue types using a non-linear registration method \n",
    "- This allows the formation of a cortical ribbon that allows us to quantify grey matter intensity only \n"
   ]
  },
  {
   "cell_type": "markdown",
   "metadata": {},
   "source": [
    "\n",
    "## Dealing with the curse of dimensionality \n",
    "- Global measures lack spatial specificity\n",
    "- The voxel wise solution is too specific and has problems of multi-collinearity or in lay terms redundancy \n",
    "- One established solution lies in parcellating the statistical space into regions of interest (ROI)\n",
    "- Parcellation - “To divide into separate parcels, parts, or portions”\n",
    "\n",
    "\n",
    "![](images/figures_ROI.png)\n"
   ]
  },
  {
   "cell_type": "markdown",
   "metadata": {},
   "source": [
    "## Brain age dataset \n",
    "- I created a dataset of 100 brains where I extracted some measures into tabular form \n",
    "- For those interested in the processed mr volumes here is a link to download it as well \n",
    "- The dataset has the following data :\n",
    "  - AgeId - a unique identifier that matches the mr volumes\n",
    "  - Sex - Binary categorical measure of sex\n",
    "  - Age in years (and where available in decimals)\n",
    "  - GMmean - grand mean intensity of the volume \n",
    "  - gMmean - masked mean (i.e. omitting zeros)  \n",
    "  - m_roiMean - mean across roi's\n",
    "  - roiMean_i - ROI specific average\n",
    "\n",
    "- To download the dataset use the following link \n",
    "- Once you downloaded it create a sklearn pipeline and compare different regression estimators to identify the best age approximation possible \n",
    "- You can use any information available "
   ]
  }
 ],
 "metadata": {
  "interpreter": {
   "hash": "af4ed3fa87ab5389ed0d164f2907ab733f2066e3ac536df37d19ad0ca2200646"
  },
  "kernelspec": {
   "display_name": "Python 3.10.4 ('SYS_2022')",
   "language": "python",
   "name": "python3"
  },
  "language_info": {
   "codemirror_mode": {
    "name": "ipython",
    "version": 3
   },
   "file_extension": ".py",
   "mimetype": "text/x-python",
   "name": "python",
   "nbconvert_exporter": "python",
   "pygments_lexer": "ipython3",
   "version": "3.10.4"
  },
  "orig_nbformat": 4
 },
 "nbformat": 4,
 "nbformat_minor": 2
}
