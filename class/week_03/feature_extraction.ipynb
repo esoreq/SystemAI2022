{
 "cells": [
  {
   "cell_type": "code",
   "execution_count": 2,
   "metadata": {},
   "outputs": [
    {
     "name": "stdout",
     "output_type": "stream",
     "text": [
      "The autoreload extension is already loaded. To reload it, use:\n",
      "  %reload_ext autoreload\n"
     ]
    }
   ],
   "source": [
    "from IPython.display import display, Markdown\n",
    "import matplotlib.pyplot as plt\n",
    "import numpy as np\n",
    "import datetime as dt \n",
    "import pandas as pd\n",
    "import seaborn as sns\n",
    "plt.style.use('bmh')\n",
    "\n",
    "pd.set_option('display.precision',2)\n",
    "pd.set_option('display.max_rows', 100)\n",
    "pd.set_option(\"display.max.columns\", None)\n",
    "\n",
    "%load_ext autoreload\n",
    "%autoreload 2"
   ]
  },
  {
   "cell_type": "code",
   "execution_count": 3,
   "metadata": {},
   "outputs": [],
   "source": [
    "df = pd.read_pickle('12_tasks.pkl')\n",
    "\n",
    "ix = [(df.columns.get_level_values(1).str.endswith('score')) &\n",
    "      (df.columns.get_level_values(1).str.contains('avg|final'))]\n",
    "scores = df[df.columns[ix]].astype(float)\n",
    "\n",
    "ix = [(df.columns.get_level_values(1).str.contains('ms'))]\n",
    "response_time = df[df.columns[ix]].astype(float)\n",
    "\n",
    "info = df.xs('info',1)"
   ]
  },
  {
   "cell_type": "code",
   "execution_count": null,
   "metadata": {},
   "outputs": [],
   "source": []
  }
 ],
 "metadata": {
  "interpreter": {
   "hash": "af4ed3fa87ab5389ed0d164f2907ab733f2066e3ac536df37d19ad0ca2200646"
  },
  "kernelspec": {
   "display_name": "Python 3.10.4 ('SYS_2022')",
   "language": "python",
   "name": "python3"
  },
  "language_info": {
   "codemirror_mode": {
    "name": "ipython",
    "version": 3
   },
   "file_extension": ".py",
   "mimetype": "text/x-python",
   "name": "python",
   "nbconvert_exporter": "python",
   "pygments_lexer": "ipython3",
   "version": "3.10.4"
  },
  "orig_nbformat": 4
 },
 "nbformat": 4,
 "nbformat_minor": 2
}
