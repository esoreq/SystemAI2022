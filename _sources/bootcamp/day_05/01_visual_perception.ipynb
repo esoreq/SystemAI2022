{
 "cells": [
  {
   "cell_type": "markdown",
   "metadata": {},
   "source": [
    "# Graphical Representations of Data\n",
    "\n",
    "- Data visualisation is more than just putting numbers on a chart for everyone to see. \n",
    "- In order to be successful in data visualisation, you need to have a solid foundation in the field. \n",
    "- Understanding why some data visualisation methods are more effective than others is based on the psychology of visual perception. \n",
    "- Every time you create a plot, you can use a variety of psychological concepts.\n",
    "- This lecture is by no means exhaustive it merely tries to highlight the importance of paying attention to the selections you make when you try to communicate ideas using visualisations "
   ]
  },
  {
   "cell_type": "markdown",
   "metadata": {},
   "source": [
    "## The Building Blocks of Visualization\n",
    "\n",
    "A visualization is composed of a set of visual items representing pieces of information. For each item in a visualization, we may use a number of visual channels to represent that item. Different visual channels can be used to represent the same item in different ways and to support different objectives. \n",
    "\n",
    "### The visual channels we can manipulate \n",
    "\n",
    "![](../../images/figures_day05_01.png)"
   ]
  },
  {
   "cell_type": "markdown",
   "metadata": {},
   "source": [
    "### Visual channels grouping \n",
    "- The visual medium is powerful in conveying specific sorts of information. \n",
    "- Using colour or texture to distinguish between categorical variables, for example, is more effective for illustrating qualitative data than quantitative data. \n",
    "- Cultural associations with more specific conceptions also influence immediate recognition. \n",
    "- On the other hand, the position is excellent at representing quantitative data, but it isn't as effective at identifying categories.\n",
    "\n",
    "#### Associative:  \n",
    "- Allowing all elements of a variable associated with some category with different values to be put together\n",
    "  - Texture, \n",
    "  - Colour, \n",
    "  - Orientation,\n",
    "  - Shape\n",
    "  - connection\n",
    "  - containment\n",
    "\n",
    "#### Selective \n",
    "- Attending to one type of data, figuring out where visual items in the same category are, and ignoring others.\n",
    "  - size, \n",
    "  - brightness, \n",
    "  - transparency \n",
    "  - texture,\n",
    "  - colour, \n",
    "  - orientation \n",
    "\n",
    "\n",
    "#### Ordered \n",
    "- Communicating visual ranking of the data \n",
    "  - planer\n",
    "  - size, \n",
    "  - brightness, \n",
    "  - density,\n",
    "  - Curvature\n",
    "  - depth\n",
    "  \n",
    "#### Quantitative: \n",
    "- Communicating visual ratios without the need to inspect a legend\n",
    "  - Planer, \n",
    "  - Size\n",
    "  - Brightness  \n",
    "  "
   ]
  },
  {
   "cell_type": "markdown",
   "metadata": {},
   "source": [
    "## But everything is relative to context\n",
    "\n",
    "### Consider the following example \n",
    "![](../../images/figures_day05_02.png)\n",
    "\n",
    "\n",
    "### Or another competing example \n",
    "![](../../images/figures_day05_03.png)\n"
   ]
  },
  {
   "cell_type": "markdown",
   "metadata": {},
   "source": [
    "### Adding context \n",
    "- When I give the context or change the ratio of stimulation the message becomes focused\n",
    "\n",
    "![](../../images/figures_day05_04.png)\n"
   ]
  },
  {
   "cell_type": "markdown",
   "metadata": {},
   "source": [
    "## Gestalt\n",
    "- Gestalt is an important theory in human psychology. \n",
    "- It was created in the early 20th century by German psychologists Max Wertheimer (1880–1943), Kurt Koffka (1886–1941), and Wolfgang Kohler (1887–1967).\n",
    "- The theory is about how our brains automatically create structure. \n",
    "- It changes the meaning of the information presented in a big way. The German word \"gestalt\" means \"unified whole\" in English. \n",
    "- It is often used to describe the idea that the whole is greater than the sum of its parts. \n"
   ]
  },
  {
   "cell_type": "markdown",
   "metadata": {},
   "source": [
    "## Gestalt principles\n",
    "- Gestalt principles explain how the brain automatically creates structure when it looks at something. \n",
    "- This is why you can read the letters at the beginning of this article that are in the wrong order because your brain already knows how each word in that sentence is put together. \n",
    "- Gestalt theory is a scientific explanation of how humans naturally look for patterns. \n",
    "- Visual artists can use this theory to create images that communicate information in the most effective way. \n",
    "- Designers don't just use their intuition and imagination to make graphics and user experiences. \n",
    "- Gestalt principles are used by most designers, whether they are aware of it or not.\n",
    "- And whenever you create a data visualization you apply some of these principles (in a useful of destructive way)\n",
    "\n",
    "### Some low level principles\n",
    "![](../../images/figures_day05_05.png)\n",
    "\n",
    "\n",
    "### And some higher level principles\n",
    "![](../../images/figures_day05_06.png)\n"
   ]
  },
  {
   "cell_type": "markdown",
   "metadata": {},
   "source": [
    "### Visual system is modular \n",
    "- We need to remember that the visual system is one of the most modular areas in the cortex \n",
    "![](../../images/figures_day05_07.png)"
   ]
  },
  {
   "cell_type": "markdown",
   "metadata": {},
   "source": [
    "### And can be manipulated quite easily \n",
    "\n",
    "\n",
    "#### consider this grid\n",
    "\n",
    "![](../../images/figures_day05_09.png)\n",
    "\n",
    "\n",
    "\n",
    "#### Now consider this gradient\n",
    "\n",
    "![](../../images/figures_day05_12.png)"
   ]
  },
  {
   "cell_type": "markdown",
   "metadata": {},
   "source": [
    "#### If we combine these we get an optical illusion that implies direction even though no direction exists \n",
    "![](../../images/figures_day05_08.png)\n",
    "\n",
    "\n",
    "#### Rotating the gradient changes the direction \n",
    "![](../../images/figures_day05_11.png)\n",
    "\n"
   ]
  },
  {
   "cell_type": "markdown",
   "metadata": {},
   "source": [
    "### We can manipulate local perception as effectively \n",
    "- A neat example of this builds on limitations of v4 \n",
    "\n",
    "- The foreground hue used for these two examples is exactly the same \n",
    "- The choice of different background hues changes our perception of those \n",
    "- But this is obviously a global effect  \n",
    "\n",
    "![](../../images/figures_day05_13.png)\n",
    "\n",
    "\n",
    "![](../../images/figures_day05_14.png)\n",
    "\n",
    "\n",
    "#### Now consider this example \n",
    "- Different local masking (or the lack of it) transformed the low frequency perception of the hues to a larger degree \n",
    "\n",
    "![](../../images/figures_day05_15.png)\n",
    "\n"
   ]
  },
  {
   "cell_type": "markdown",
   "metadata": {},
   "source": [
    "## The case of color \n",
    "- Over the years color perception has spawned many different theories and color systems\n",
    "- Here are four toy figures to illustrate the different ones \n",
    "\n",
    "![](../../images/figures_day05_16.png)"
   ]
  },
  {
   "cell_type": "markdown",
   "metadata": {},
   "source": [
    "### Colour mixtures and selections \n",
    "- Using the computerised version of the opponent system we can derive several harmonic rules that can be used to simplify the complex space of color selection \n",
    "\n",
    "![](../../images/figures_day05_17.png)"
   ]
  },
  {
   "cell_type": "markdown",
   "metadata": {},
   "source": [
    "#### To make this point clear lets apply these rules to some fixed set of shapes \n",
    "\n",
    "#### Monochromatic harmony\n",
    "![](../../images/figures_day05_19.png)\n",
    "\n",
    "\n",
    "#### Analogous harmony\n",
    "![](../../images/figures_day05_20.png)\n",
    "\n",
    "\n",
    "\n",
    "#### Complementary harmony\n",
    "![](../../images/figures_day05_21.png)\n",
    "\n",
    "\n",
    "#### Triadic harmony\n",
    "![](../../images/figures_day05_21.png)"
   ]
  },
  {
   "cell_type": "markdown",
   "metadata": {},
   "source": [
    "## Links to expand your understanding \n",
    "\n",
    "For those interested in learning more...\n",
    "\n",
    "- [Systematising glyph design for visualization](https://ora.ox.ac.uk/objects/uuid:b98ccce1-038f-4c0a-a259-7f53dfe06ac7)\n"
   ]
  }
 ],
 "metadata": {
  "kernelspec": {
   "display_name": "Python 3",
   "language": "python",
   "name": "python3"
  },
  "language_info": {
   "name": "python"
  }
 },
 "nbformat": 4,
 "nbformat_minor": 4
}
