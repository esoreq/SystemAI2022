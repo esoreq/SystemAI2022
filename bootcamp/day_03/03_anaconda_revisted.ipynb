{
 "cells": [
  {
   "cell_type": "markdown",
   "metadata": {},
   "source": [
    "# PYTHON ANACONDA 102"
   ]
  },
  {
   "cell_type": "markdown",
   "metadata": {},
   "source": [
    "## Installing packages and modules from PyPI\n",
    "- The most common usage of pip is to install from the Python Package Index using a requirement specifier. \n",
    "- The Python Package Index, abbreviated as PyPI and also known as the Cheese Shop, is the official third-party software repository for Python. \n",
    "- Some package managers, including pip, use PyPI as the default source for packages and their dependencies.\n",
    "- If you create an anconda environment you can use pip to install the specific packages into the environment\n",
    "\n",
    "### But what about the dependencies \n",
    "\n",
    "- Using a package manager such as Anaconda makes it easy to install almost any additional package. \n",
    "- Moreover, it simplifies collaboration by sending a jupyter notebook with a special file called `.yml` as you should recal from day one of this boot camp\n",
    "\n",
    "## SYS_2022 environment  \n",
    "\n",
    "- One thing that is very useful when working with collaborators of different levels of proficiency is creating a setup file that automates the whole process of setting an environment for you.\n",
    "- Here is how you set up your environment for the this course using a `.yml` file \n",
    "- Create a new python notebook and name it `setup_SYS_2022.ipynb`\n",
    "- It is up to you to decide what text to include in your markdown cells to remind yourself why you do what you do\n",
    "- This is an introductory course so we are much simpler 😊\n"
   ]
  },
  {
   "cell_type": "markdown",
   "metadata": {},
   "source": [
    "### Step 1. create a folder structure"
   ]
  },
  {
   "cell_type": "code",
   "execution_count": 45,
   "metadata": {},
   "outputs": [],
   "source": [
    "from pathlib import Path\n",
    "project_root = './SYS_2022/bootcamp'\n",
    "sub_folders = ['data','notebooks','code','report','background']\n",
    "_ = [Path(project_root + f'/{folder}').mkdir(parents=True, exist_ok=True) for folder in sub_folders]"
   ]
  },
  {
   "cell_type": "markdown",
   "metadata": {},
   "source": [
    "### Step 2. create a .yml file with required dependencies"
   ]
  },
  {
   "cell_type": "code",
   "execution_count": 47,
   "metadata": {},
   "outputs": [
    {
     "data": {
      "text/plain": [
       "214"
      ]
     },
     "execution_count": 47,
     "metadata": {},
     "output_type": "execute_result"
    }
   ],
   "source": [
    "project_root = Path('./SYS_2022')\n",
    "SYS_2022 = project_root / 'SYS_2022.yml'\n",
    "SYS_2022.write_text(\"\"\"\n",
    "name: SYS_2022\n",
    "channels:\n",
    "  - conda-forge\n",
    "dependencies:\n",
    "  - numpy\n",
    "  - pandas\n",
    "  - scipy\n",
    "  - statsmodels\n",
    "  - pingouin\n",
    "  - scikit-learn\n",
    "  - matplotlib\n",
    "  - seaborn\n",
    "  - plotly\n",
    "  - pip\n",
    "  - ipykernel\n",
    "  - watermark\n",
    "  - nb_conda_kernels\n",
    "\"\"\")"
   ]
  },
  {
   "cell_type": "code",
   "execution_count": 50,
   "metadata": {},
   "outputs": [
    {
     "name": "stdout",
     "output_type": "stream",
     "text": [
      "Collecting package metadata (repodata.json): ...working... done\n",
      "Solving environment: ...working... done\n",
      "\n",
      "Downloading and Extracting Packages\n",
      "pillow-9.1.1         | 44.5 MB   | ########## | 100% \n",
      "nb_conda_kernels-2.3 | 27 KB     | ########## | 100% \n",
      "traitlets-5.2.1.post | 85 KB     | ########## | 100% \n",
      "libtiff-4.3.0        | 583 KB    | ########## | 100% \n",
      "importlib-metadata-4 | 33 KB     | ########## | 100% \n",
      "scikit-learn-1.1.1   | 7.7 MB    | ########## | 100% \n",
      "setuptools-62.3.2    | 1.3 MB    | ########## | 100% \n",
      "threadpoolctl-3.1.0  | 18 KB     | ########## | 100% \n",
      "xarray-2022.3.0      | 650 KB    | ########## | 100% \n",
      "pyzmq-23.0.0         | 450 KB    | ########## | 100% \n",
      "statsmodels-0.13.2   | 10.7 MB   | ########## | 100% \n",
      "numpy-1.22.4         | 6.5 MB    | ########## | 100% \n",
      "scipy-1.8.1          | 22.1 MB   | ########## | 100% \n",
      "zstd-1.5.2           | 469 KB    | ########## | 100% \n",
      "plotly-5.8.0         | 7.0 MB    | ########## | 100% \n",
      "importlib_metadata-4 | 4 KB      | ########## | 100% \n",
      "pip-22.1.1           | 1.5 MB    | ########## | 100% \n",
      "psutil-5.9.1         | 357 KB    | ########## | 100% \n",
      "cryptography-37.0.2  | 1.2 MB    | ########## | 100% \n",
      "pingouin-0.5.1       | 155 KB    | ########## | 100% \n",
      "joblib-1.1.0         | 210 KB    | ########## | 100% \n",
      "Preparing transaction: ...working... done\n",
      "Verifying transaction: ...working... done\n",
      "Executing transaction: ...working... Enabling nb_conda_kernels...\n",
      "CONDA_PREFIX: /opt/anaconda3/envs/SYS_2022\n",
      "Status: enabled\n",
      "\n",
      "done\n",
      "#\n",
      "# To activate this environment, use\n",
      "#\n",
      "#     $ conda activate SYS_2022\n",
      "#\n",
      "# To deactivate an active environment, use\n",
      "#\n",
      "#     $ conda deactivate\n",
      "\n"
     ]
    },
    {
     "name": "stderr",
     "output_type": "stream",
     "text": [
      "\n",
      "CommandNotFoundError: Your shell has not been properly configured to use 'conda activate'.\n",
      "To initialize your shell, run\n",
      "\n",
      "    $ conda init <SHELL_NAME>\n",
      "\n",
      "Currently supported shells are:\n",
      "  - bash\n",
      "  - fish\n",
      "  - tcsh\n",
      "  - xonsh\n",
      "  - zsh\n",
      "  - powershell\n",
      "\n",
      "See 'conda init --help' for more information and options.\n",
      "\n",
      "IMPORTANT: You may need to close and restart your shell after running 'conda init'.\n",
      "\n",
      "\n"
     ]
    },
    {
     "name": "stdout",
     "output_type": "stream",
     "text": [
      "Installed kernelspec SYS_2022 in /Users/eyalsoreq/Library/Jupyter/kernels/sys_2022\n"
     ]
    }
   ],
   "source": [
    "%%bash\n",
    "conda env create --file  ./SYS_2022/SYS_2022.yml\n",
    "conda activate SYS_2022\n",
    "python -m ipykernel install --user --name SYS_2022 --display-name \"Python (SYS_2022)\"\n"
   ]
  },
  {
   "cell_type": "markdown",
   "metadata": {},
   "source": [
    "### Step 3. Test that the kernel exists and that the packages are installed\n",
    "- If you are using Jupyter lab or notebook search the launch pad \n",
    "- In VScode just search for the kernel in the right hand side of the UI\n",
    "- Once you selected these let's test that everything is installed correctly "
   ]
  },
  {
   "cell_type": "code",
   "execution_count": 1,
   "metadata": {},
   "outputs": [],
   "source": [
    "import numpy as np\n",
    "import pandas as pd\n",
    "import matplotlib.pyplot as plt\n",
    "import seaborn as sns \n",
    "import plotly.express as px \n",
    "import sys\n",
    "sys.path.append(\"./bootcamp/code/\")\n",
    "%matplotlib inline\n",
    "%load_ext watermark\n",
    "%load_ext autoreload\n",
    "%autoreload 2"
   ]
  },
  {
   "cell_type": "markdown",
   "metadata": {},
   "source": [
    "### Step 4. Verify the key module versions using the watermark magic function\n"
   ]
  },
  {
   "cell_type": "code",
   "execution_count": 2,
   "metadata": {},
   "outputs": [
    {
     "name": "stdout",
     "output_type": "stream",
     "text": [
      "numpy     : 1.22.4\n",
      "pandas    : 1.4.2\n",
      "matplotlib: 3.5.2\n",
      "seaborn   : 0.11.2\n",
      "plotly    : 5.8.0\n",
      "\n"
     ]
    }
   ],
   "source": [
    "%watermark -p numpy,pandas,matplotlib,seaborn,plotly"
   ]
  },
  {
   "cell_type": "markdown",
   "metadata": {},
   "source": [
    "### Step 5. If everything worked... \n",
    "\n",
    "- I mentioned that we can export our environment once everything is working properly\n",
    "- By using the following command, you can create a tml file that captures all the dependencies that your project depends on\n",
    "- While conda does have some versioning under the hood, a simple approach to exporting stable environments can save you and any potential collaborators hours of work and frustration.\n"
   ]
  },
  {
   "cell_type": "code",
   "execution_count": 3,
   "metadata": {},
   "outputs": [],
   "source": [
    "! conda env export --name SYS_2022 > ./SYS_2022/env_frozen.yml"
   ]
  },
  {
   "cell_type": "markdown",
   "metadata": {},
   "source": [
    "### What to do when things go wrong\n",
    "\n",
    "\n",
    "#### In the gwdg cloud \n",
    "- Here's what you do when your Notebook won't start, your Kernel won't connect, or the environments you created have grown out of control and you have to start over.\n",
    "\n",
    "- In a new terminal just run the following code ([Based on this link](https://info.gwdg.de/docs/doku.php?id=en:services:application_services:jupyter:start#notebook_does_not_start_kernel_can_not_connect)): \n",
    "\n",
    "~~~bash\n",
    "mv -v .local/ .local.gwdg-disable \n",
    "~~~\n",
    "\n",
    "- Renaming all our local configuration files instructs the cloud to  spawn a new virtual machine with default settings. \n",
    "\n",
    "\n",
    "\n",
    "##### Is it enough? \n",
    "\n",
    "- No, I still need to delete the different environments I created. Hence the recommendation to keep them together in one place.\n",
    "\n",
    "##### What about removing specific environments\n",
    "\n",
    "- This can be done using `conda env remove` and `jupyter kernelspec remove`\n",
    "- Or if you are brave just delete the specific kernel and env folder   \n",
    "\n",
    "##### What about updating packages (adding or removing?)\n",
    "\n",
    "- Just use the following (after you updated the file)\n",
    "\n",
    "~~~bash\n",
    "conda env update --name SYS_20221 --file ~/SYS_2022/SYS_2022.yml\n",
    "~~~\n",
    "\n",
    "##### What about updating the contents of the environment \n",
    "\n",
    "~~~bash\n",
    "conda update --name SYS_2022 --all\n",
    "~~~\n",
    "\n"
   ]
  },
  {
   "cell_type": "markdown",
   "metadata": {},
   "source": [
    "\n",
    "\n",
    "## Links to expand your understanding \n",
    "\n",
    "For those interested in learning more...\n",
    "\n",
    "- [Creation of virtual environments](https://docs.python.org/3/library/venv.html)\n",
    "- [Pyenv in python](https://github.com/pyenv/pyenv) \n",
    "- [Poetry in python](https://python-poetry.org/) \n",
    "\n"
   ]
  }
 ],
 "metadata": {
  "interpreter": {
   "hash": "af4ed3fa87ab5389ed0d164f2907ab733f2066e3ac536df37d19ad0ca2200646"
  },
  "kernelspec": {
   "display_name": "Python 3.10.4 ('SYS_2022')",
   "language": "python",
   "name": "python3"
  },
  "language_info": {
   "codemirror_mode": {
    "name": "ipython",
    "version": 3
   },
   "file_extension": ".py",
   "mimetype": "text/x-python",
   "name": "python",
   "nbconvert_exporter": "python",
   "pygments_lexer": "ipython3",
   "version": "3.10.4"
  },
  "orig_nbformat": 4
 },
 "nbformat": 4,
 "nbformat_minor": 2
}
