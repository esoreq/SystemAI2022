{
 "cells": [
  {
   "cell_type": "markdown",
   "metadata": {},
   "source": [
    "# Pandas 101\n",
    "\n",
    "\n",
    "## Data wrangling using Pandas\n",
    "- In science we make a distinction between raw data and tidy data\n",
    "- The former is usually not annotated, is closer to the acquisition source  (i.e. sensor or measurement device ) and requires some steps to perform analytics on \n",
    "- The latter represents a statistical table that is the foundation for at least one (but often many) questions to be asked on \n",
    "- The term Data wrangling is a commonly used catch-all to describe the early stages of the data analytics process. \n",
    "- It reflects the steps required to transition from raw to tidy datasets \n",
    "  - While the steps can change from project to project the most common ones are: \n",
    "    1. Collecting\\Extracting data: \n",
    "       1. The first step is to identify the data you need, \n",
    "       2. Where to acquire\\download it from, and then, of course, \n",
    "       3. How to collect it\n",
    "    2. Structuring the data  \n",
    "       1. Most raw data is unstructured and requires some attention to the way you structure it \n",
    "       2. In some cases you will use summary scores to simplify the data \n",
    "       3. Other cases may call for statistical data mining and transformation \n",
    "       4. But in the end we want to transform the data into a format where the following rules apply:\n",
    "          1. Each row reflects an observation\n",
    "          2. Each column reflects a variable/feature of the dataset \n",
    "          3. Each cell reflects a measurement\n",
    "          4. Ideally, both rows and columns are labelled \n",
    "    3. Exploratory data analysis\n",
    "       1. Describe the data components using both summary tables and data visualisation  \n",
    "       2. Identify redundancy \n",
    "       3. Identify outliers\n",
    "       4. Measure missingness \n",
    "       5. Identify association between features and categories \n",
    "    4. Data cleaning, enriching and fusion \n",
    "       1. Removing or clipping outliers \n",
    "       2. Removing errors and duplications \n",
    "       3. Standardising category names, dates and numeric formats \n",
    "       4. Fusing together complementary datasets to improve available information\n"
   ]
  },
  {
   "cell_type": "markdown",
   "metadata": {},
   "source": [
    "\n",
    "## What is Pandas?\n",
    "- While part of this list can be achieved using Numpy it not what it was designed for \n",
    "- Pandas, is a package that was designed from scratch to support all of the above list and more. \n",
    "- It extends all the elements in numpy by creating three abstract objects\n",
    "  - `Index` - Immutable sequence used for indexing and alignment. The basic object storing axis labels for all pandas objects.\n",
    "  - `Series` - One-dimensional `ndarray` with axis labels (including time series).\n",
    "  - `DataFrame` - Two-dimensional, size-mutable, tabular data. Data structure also contains labelled axes (rows and columns). \n",
    "- These three tools provides efficient access to these sorts of \"data munging\" tasks that occupy much of a data scientist's time.\n",
    "\n",
    "\n"
   ]
  },
  {
   "cell_type": "markdown",
   "metadata": {},
   "source": [
    "## Pandas practicalities \n",
    "### Importing pandas\n",
    "- Most of the times we will import both Numpy and Pandas \n",
    "- The syntax uses the `as` command to create shortcuts to speed up the code writing "
   ]
  },
  {
   "cell_type": "code",
   "execution_count": 23,
   "metadata": {},
   "outputs": [],
   "source": [
    "import numpy as np \n",
    "import pandas as pd\n",
    "import datetime as dt\n"
   ]
  },
  {
   "cell_type": "markdown",
   "metadata": {},
   "source": [
    "### Pandas basic structures \n",
    "#### The Index class \n",
    "- As stated above the major component missing from numpy is the ability to add some context to the arrays \n",
    "- The Index class provides this context \n",
    "- It is in fact the parent of a family of classes each designed to provide the means to efficiently perform various operations on the two dimensions of the tidy table format. \n",
    "- For example: \n",
    "  - RangeIndex : Index of some monotonic integer range (i.e. start stop and step)\n",
    "  - CategoricalIndex : Index of categories \n",
    "  - DatetimeIndex : Index of datetime64 data.\n",
    "  - MultiIndex : A multi-level, or hierarchical Index.\n",
    "\n",
    "```{Important}\n",
    "When you call pd.Index the class will automatically try to infer which of it's many sub-classes to use for the sake of efficiency  \n",
    "```\n",
    "- For example:\n",
    "  "
   ]
  },
  {
   "cell_type": "code",
   "execution_count": 25,
   "metadata": {},
   "outputs": [
    {
     "name": "stdout",
     "output_type": "stream",
     "text": [
      "Index(['a', 'b', 'c', 'd', 'e'], dtype='object')\n",
      "RangeIndex(start=2, stop=11, step=2)\n",
      "Int64Index([2, 4, 6, 8, 10], dtype='int64')\n",
      "CategoricalIndex(['a', 'b', 'c', 'd', 'e'], categories=['a', 'b', 'c', 'd', 'e'], ordered=False, dtype='category')\n",
      "DatetimeIndex(['2020-10-01', '2020-10-05'], dtype='datetime64[ns]', freq=None)\n",
      "MultiIndex([('a', 1),\n",
      "            ('a', 2),\n",
      "            ('b', 1),\n",
      "            ('b', 3)],\n",
      "           )\n"
     ]
    }
   ],
   "source": [
    "print(pd.Index(['a','b','c','d','e']))\n",
    "print(pd.Index(range(2,11,2)))\n",
    "print(pd.Index([2,4,6,8,10]))\n",
    "print(pd.Index(pd.Categorical(['a','b','c','d','e'])))\n",
    "print(pd.Index([dt.datetime(2020,10,1),dt.datetime(2020,10,5)]))\n",
    "print(pd.Index([('a',1),('a',2),('b',1),('b',3)]))\n"
   ]
  },
  {
   "cell_type": "markdown",
   "metadata": {},
   "source": [
    "##### Index are very similar to an immutable numpy array\n",
    "- For example, you can use standard indexing notation to retrieve values or slices\n",
    "- And it has many of the attributes that NumPy arrays have\n",
    "- However you cannot change indices, only replace the whole thing\n"
   ]
  },
  {
   "cell_type": "code",
   "execution_count": 41,
   "metadata": {},
   "outputs": [
    {
     "name": "stdout",
     "output_type": "stream",
     "text": [
      "C\n",
      "Index(['C', 'D', 'E'], dtype='object')\n",
      "Index(['B', 'E'], dtype='object')\n",
      "size = 26, shape = (26,), dtype = object\n"
     ]
    }
   ],
   "source": [
    "A2Z = pd.Index([chr(n) for n in range(65,91)])\n",
    "print(A2Z[2])\n",
    "print(A2Z[2:5])\n",
    "print(A2Z[1:6:3])\n",
    "print(f'size = {A2Z.size}, shape = {A2Z.shape}, dtype = {A2Z.dtype}')"
   ]
  },
  {
   "cell_type": "markdown",
   "metadata": {},
   "source": [
    "##### Index support many set operations \n",
    "- Python's built-in set methods such as Difference, Intersection or Union are supported either by set notation\n",
    "- Or as builtin functions"
   ]
  },
  {
   "cell_type": "code",
   "execution_count": 45,
   "metadata": {},
   "outputs": [
    {
     "name": "stdout",
     "output_type": "stream",
     "text": [
      "Index 01 = [1, 4, 7, 10] and Index 02 = [1, 3, 5, 7, 9]\n",
      "Difference of ix_01 and ix_02                      = Int64Index([3, 4, 5, 9, 10], dtype='int64')\n",
      "Intersection of ix_01 and ix_02                    = RangeIndex(start=1, stop=11, step=6)\n",
      "Union of ix_01 and ix_02                           = Int64Index([1, 3, 4, 5, 7, 9, 10], dtype='int64')\n"
     ]
    }
   ],
   "source": [
    "ix_01 = pd.Index(range(1,11,3))\n",
    "ix_02 = pd.Index(range(1,11,2))\n",
    "print(f'Index 01 = {list(range(1,11,3))} and Index 02 = {list(range(1,11,2))}')\n",
    "print(f'{\"Symmetric Difference of ix_01 and ix_02\":<50} = {ix_01 ^ ix_02}')\n",
    "print(f'{\"Intersection of ix_01 and ix_02\":<50} = {ix_01 & ix_02}')\n",
    "print(f'{\"Union of ix_01 and ix_02\":<50} = {ix_01 | ix_02}')"
   ]
  },
  {
   "cell_type": "code",
   "execution_count": 48,
   "metadata": {},
   "outputs": [
    {
     "name": "stdout",
     "output_type": "stream",
     "text": [
      "Difference of ix_01 and ix_02                      = RangeIndex(start=4, stop=13, step=6)\n",
      "Difference of ix_02 and ix_01                      = Int64Index([3, 5, 9], dtype='int64')\n",
      "Intersection of ix_01 and ix_02                    = RangeIndex(start=1, stop=11, step=6)\n",
      "Union of ix_01 and ix_02                           = Int64Index([1, 3, 4, 5, 7, 9, 10], dtype='int64')\n"
     ]
    }
   ],
   "source": [
    "print(f'{\"Difference of ix_01 and ix_02\":<50} = {ix_01.difference(ix_02)}')\n",
    "print(f'{\"Difference of ix_02 and ix_01\":<50} = {ix_02.difference(ix_01)}')\n",
    "print(f'{\"Intersection of ix_01 and ix_02\":<50} = {ix_01.intersection(ix_02)}')\n",
    "print(f'{\"Union of ix_01 and ix_02\":<50} = {ix_01 | ix_02}')"
   ]
  },
  {
   "cell_type": "markdown",
   "metadata": {},
   "source": [
    "#### The Pandas Series Object\n",
    "- A Pandas `Series` is an object that contains at least three attributes \n",
    "  - one-dimensional array of values\n",
    "  - a pandas index, \n",
    "  - and a dtype.\n",
    "- It can be created from any sequence that can create a numpy array - because it is a numpy array (at least the value data is)\n",
    "- If you wish you can explicitly define an index \n",
    "- You can also add a name \n",
    "  "
   ]
  },
  {
   "cell_type": "code",
   "execution_count": 56,
   "metadata": {},
   "outputs": [
    {
     "name": "stdout",
     "output_type": "stream",
     "text": [
      "0    1\n",
      "1    2\n",
      "2    3\n",
      "dtype: int64\n",
      "a    1.0\n",
      "b    1.0\n",
      "c    1.0\n",
      "dtype: float64\n",
      "0    4\n",
      "1    6\n",
      "Name: 46, dtype: int64\n"
     ]
    }
   ],
   "source": [
    "print(pd.Series((1,2,3)))\n",
    "print(pd.Series(np.ones(3),index = ('a','b','c')))\n",
    "print(pd.Series(range(4,7,2),name='46'))"
   ]
  },
  {
   "cell_type": "markdown",
   "metadata": {},
   "source": [
    "##### Series provide the power of numpy arrays with the flexibility of dictionaries \n",
    "- For example, you can use standard indexing notation to retrieve values or slices\n",
    "- And it has many of the attributes that NumPy arrays have\n",
    "- It also has access to many analytical methods \n",
    "- A series cell can contain any type of data \n",
    "- And they are of course mutable \n",
    "- Also by default a Series Index will be implicitly sorted "
   ]
  },
  {
   "cell_type": "markdown",
   "metadata": {},
   "source": [
    "#### The Pandas DataFrame Object\n",
    "- The Series object can be viewed as a coupling of a numpy array with a pandas Index object \n",
    "- The DataFrame object is just a set of Series objects that share a pandas Index object for their rows and have another index object that identifies each Series \n",
    "- Can be thought of as a dict-like container for Series objects.\n",
    "- If for example we combine several Series that have overlapping indices Pandas will automatically combine these Series and create missing values (using `NaN`) in the parts that misalign. \n",
    "- Let's see this in action  "
   ]
  },
  {
   "cell_type": "code",
   "execution_count": 74,
   "metadata": {},
   "outputs": [
    {
     "data": {
      "text/html": [
       "<div>\n",
       "<style scoped>\n",
       "    .dataframe tbody tr th:only-of-type {\n",
       "        vertical-align: middle;\n",
       "    }\n",
       "\n",
       "    .dataframe tbody tr th {\n",
       "        vertical-align: top;\n",
       "    }\n",
       "\n",
       "    .dataframe thead th {\n",
       "        text-align: right;\n",
       "    }\n",
       "</style>\n",
       "<table border=\"1\" class=\"dataframe\">\n",
       "  <thead>\n",
       "    <tr style=\"text-align: right;\">\n",
       "      <th></th>\n",
       "      <th>0</th>\n",
       "      <th>1</th>\n",
       "      <th>2</th>\n",
       "    </tr>\n",
       "  </thead>\n",
       "  <tbody>\n",
       "    <tr>\n",
       "      <th>0</th>\n",
       "      <td>1.0</td>\n",
       "      <td>3.0</td>\n",
       "      <td>NaN</td>\n",
       "    </tr>\n",
       "    <tr>\n",
       "      <th>1</th>\n",
       "      <td>2.0</td>\n",
       "      <td>4.0</td>\n",
       "      <td>a</td>\n",
       "    </tr>\n",
       "    <tr>\n",
       "      <th>2</th>\n",
       "      <td>3.0</td>\n",
       "      <td>5.0</td>\n",
       "      <td>c</td>\n",
       "    </tr>\n",
       "    <tr>\n",
       "      <th>3</th>\n",
       "      <td>NaN</td>\n",
       "      <td>6.0</td>\n",
       "      <td>NaN</td>\n",
       "    </tr>\n",
       "    <tr>\n",
       "      <th>5</th>\n",
       "      <td>NaN</td>\n",
       "      <td>NaN</td>\n",
       "      <td>b</td>\n",
       "    </tr>\n",
       "  </tbody>\n",
       "</table>\n",
       "</div>"
      ],
      "text/plain": [
       "     0    1    2\n",
       "0  1.0  3.0  NaN\n",
       "1  2.0  4.0    a\n",
       "2  3.0  5.0    c\n",
       "3  NaN  6.0  NaN\n",
       "5  NaN  NaN    b"
      ]
     },
     "execution_count": 74,
     "metadata": {},
     "output_type": "execute_result"
    }
   ],
   "source": [
    "col_A = pd.Series((1,2,3))\n",
    "col_B = pd.Series(list(range(3,7)))\n",
    "col_C = pd.Series(['a','b','c'],index=[1,5,2])\n",
    "pd.concat([col_A,col_B,col_C],axis=1)"
   ]
  },
  {
   "cell_type": "markdown",
   "metadata": {},
   "source": [
    "```{admonition} Discuss \n",
    "What do you think adding the name argument change the DataFrame? \n",
    "````{code} python\n",
    "col_A = pd.Series((1,2,3),name='col_A')\n",
    "col_B = pd.Series(list(range(3,7)),name='col_B')\n",
    "col_C = pd.Series(['a','b','c'],index=[1,5,2],name='col_C')\n",
    "pd.concat([col_A,col_B,col_C],axis=1)\n",
    "````\n",
    "```"
   ]
  },
  {
   "cell_type": "code",
   "execution_count": 4,
   "metadata": {},
   "outputs": [
    {
     "data": {
      "text/html": [
       "<div>\n",
       "<style scoped>\n",
       "    .dataframe tbody tr th:only-of-type {\n",
       "        vertical-align: middle;\n",
       "    }\n",
       "\n",
       "    .dataframe tbody tr th {\n",
       "        vertical-align: top;\n",
       "    }\n",
       "\n",
       "    .dataframe thead th {\n",
       "        text-align: right;\n",
       "    }\n",
       "</style>\n",
       "<table border=\"1\" class=\"dataframe\">\n",
       "  <thead>\n",
       "    <tr style=\"text-align: right;\">\n",
       "      <th></th>\n",
       "      <th>col_A</th>\n",
       "      <th>col_B</th>\n",
       "      <th>col_C</th>\n",
       "    </tr>\n",
       "  </thead>\n",
       "  <tbody>\n",
       "    <tr>\n",
       "      <th>0</th>\n",
       "      <td>1.0</td>\n",
       "      <td>3.0</td>\n",
       "      <td>NaN</td>\n",
       "    </tr>\n",
       "    <tr>\n",
       "      <th>1</th>\n",
       "      <td>2.0</td>\n",
       "      <td>4.0</td>\n",
       "      <td>a</td>\n",
       "    </tr>\n",
       "    <tr>\n",
       "      <th>2</th>\n",
       "      <td>3.0</td>\n",
       "      <td>5.0</td>\n",
       "      <td>c</td>\n",
       "    </tr>\n",
       "    <tr>\n",
       "      <th>3</th>\n",
       "      <td>NaN</td>\n",
       "      <td>6.0</td>\n",
       "      <td>NaN</td>\n",
       "    </tr>\n",
       "    <tr>\n",
       "      <th>5</th>\n",
       "      <td>NaN</td>\n",
       "      <td>NaN</td>\n",
       "      <td>b</td>\n",
       "    </tr>\n",
       "  </tbody>\n",
       "</table>\n",
       "</div>"
      ],
      "text/plain": [
       "   col_A  col_B col_C\n",
       "0    1.0    3.0   NaN\n",
       "1    2.0    4.0     a\n",
       "2    3.0    5.0     c\n",
       "3    NaN    6.0   NaN\n",
       "5    NaN    NaN     b"
      ]
     },
     "execution_count": 4,
     "metadata": {},
     "output_type": "execute_result"
    }
   ],
   "source": [
    "col_A = pd.Series((1,2,3),name='col_A')\n",
    "col_B = pd.Series(list(range(3,7)),name='col_B')\n",
    "col_C = pd.Series(['a','b','c'],index=[1,5,2],name='col_C')\n",
    "pd.concat([col_A,col_B,col_C],axis=1)"
   ]
  },
  {
   "cell_type": "markdown",
   "metadata": {},
   "source": [
    "#### Constructing DataFrame objects (selected methods)\n",
    "\n",
    "- A Pandas `DataFrame` can be constructed in many ways.\n",
    "\n",
    " "
   ]
  },
  {
   "cell_type": "markdown",
   "metadata": {},
   "source": [
    "##### The simplest approach - Dictionary  \n"
   ]
  },
  {
   "cell_type": "code",
   "execution_count": 1,
   "metadata": {},
   "outputs": [
    {
     "data": {
      "text/html": [
       "<div>\n",
       "<style scoped>\n",
       "    .dataframe tbody tr th:only-of-type {\n",
       "        vertical-align: middle;\n",
       "    }\n",
       "\n",
       "    .dataframe tbody tr th {\n",
       "        vertical-align: top;\n",
       "    }\n",
       "\n",
       "    .dataframe thead th {\n",
       "        text-align: right;\n",
       "    }\n",
       "</style>\n",
       "<table border=\"1\" class=\"dataframe\">\n",
       "  <thead>\n",
       "    <tr style=\"text-align: right;\">\n",
       "      <th></th>\n",
       "      <th>col1</th>\n",
       "      <th>col2</th>\n",
       "    </tr>\n",
       "  </thead>\n",
       "  <tbody>\n",
       "    <tr>\n",
       "      <th>0</th>\n",
       "      <td>1</td>\n",
       "      <td>3</td>\n",
       "    </tr>\n",
       "    <tr>\n",
       "      <th>1</th>\n",
       "      <td>2</td>\n",
       "      <td>4</td>\n",
       "    </tr>\n",
       "  </tbody>\n",
       "</table>\n",
       "</div>"
      ],
      "text/plain": [
       "   col1  col2\n",
       "0     1     3\n",
       "1     2     4"
      ]
     },
     "execution_count": 1,
     "metadata": {},
     "output_type": "execute_result"
    }
   ],
   "source": [
    "d = {'col_A': [1, 2], 'col_B': [3, 4]}\n",
    "df = pd.DataFrame(data=d)\n",
    "df"
   ]
  },
  {
   "cell_type": "markdown",
   "metadata": {},
   "source": [
    "##### Dictionary values can be Series\n"
   ]
  },
  {
   "cell_type": "code",
   "execution_count": 9,
   "metadata": {},
   "outputs": [
    {
     "data": {
      "text/html": [
       "<div>\n",
       "<style scoped>\n",
       "    .dataframe tbody tr th:only-of-type {\n",
       "        vertical-align: middle;\n",
       "    }\n",
       "\n",
       "    .dataframe tbody tr th {\n",
       "        vertical-align: top;\n",
       "    }\n",
       "\n",
       "    .dataframe thead th {\n",
       "        text-align: right;\n",
       "    }\n",
       "</style>\n",
       "<table border=\"1\" class=\"dataframe\">\n",
       "  <thead>\n",
       "    <tr style=\"text-align: right;\">\n",
       "      <th></th>\n",
       "      <th>col_A</th>\n",
       "      <th>col_B</th>\n",
       "    </tr>\n",
       "  </thead>\n",
       "  <tbody>\n",
       "    <tr>\n",
       "      <th>0</th>\n",
       "      <td>1.0</td>\n",
       "      <td>3</td>\n",
       "    </tr>\n",
       "    <tr>\n",
       "      <th>1</th>\n",
       "      <td>2.0</td>\n",
       "      <td>4</td>\n",
       "    </tr>\n",
       "    <tr>\n",
       "      <th>2</th>\n",
       "      <td>3.0</td>\n",
       "      <td>5</td>\n",
       "    </tr>\n",
       "    <tr>\n",
       "      <th>3</th>\n",
       "      <td>NaN</td>\n",
       "      <td>6</td>\n",
       "    </tr>\n",
       "  </tbody>\n",
       "</table>\n",
       "</div>"
      ],
      "text/plain": [
       "   col_A  col_B\n",
       "0    1.0      3\n",
       "1    2.0      4\n",
       "2    3.0      5\n",
       "3    NaN      6"
      ]
     },
     "execution_count": 9,
     "metadata": {},
     "output_type": "execute_result"
    }
   ],
   "source": [
    "d = {'col_A': col_A, 'col_B': col_B}\n",
    "df = pd.DataFrame(data=d)\n",
    "df"
   ]
  },
  {
   "cell_type": "code",
   "execution_count": 2,
   "metadata": {},
   "outputs": [
    {
     "data": {
      "text/html": [
       "<div>\n",
       "<style scoped>\n",
       "    .dataframe tbody tr th:only-of-type {\n",
       "        vertical-align: middle;\n",
       "    }\n",
       "\n",
       "    .dataframe tbody tr th {\n",
       "        vertical-align: top;\n",
       "    }\n",
       "\n",
       "    .dataframe thead th {\n",
       "        text-align: right;\n",
       "    }\n",
       "</style>\n",
       "<table border=\"1\" class=\"dataframe\">\n",
       "  <thead>\n",
       "    <tr style=\"text-align: right;\">\n",
       "      <th></th>\n",
       "      <th>0</th>\n",
       "      <th>1</th>\n",
       "    </tr>\n",
       "  </thead>\n",
       "  <tbody>\n",
       "    <tr>\n",
       "      <th>0</th>\n",
       "      <td>1</td>\n",
       "      <td>2</td>\n",
       "    </tr>\n",
       "    <tr>\n",
       "      <th>1</th>\n",
       "      <td>3</td>\n",
       "      <td>4</td>\n",
       "    </tr>\n",
       "  </tbody>\n",
       "</table>\n",
       "</div>"
      ],
      "text/plain": [
       "   0  1\n",
       "0  1  2\n",
       "1  3  4"
      ]
     },
     "execution_count": 2,
     "metadata": {},
     "output_type": "execute_result"
    }
   ],
   "source": [
    "d = [[1,2],[3,4]]\n",
    "df = pd.DataFrame(data=d)\n",
    "df"
   ]
  }
 ],
 "metadata": {
  "interpreter": {
   "hash": "af4ed3fa87ab5389ed0d164f2907ab733f2066e3ac536df37d19ad0ca2200646"
  },
  "kernelspec": {
   "display_name": "Python 3",
   "language": "python",
   "name": "python3"
  },
  "language_info": {
   "codemirror_mode": {
    "name": "ipython",
    "version": 3
   },
   "file_extension": ".py",
   "mimetype": "text/x-python",
   "name": "python",
   "nbconvert_exporter": "python",
   "pygments_lexer": "ipython3",
   "version": "3.10.4"
  }
 },
 "nbformat": 4,
 "nbformat_minor": 4
}
