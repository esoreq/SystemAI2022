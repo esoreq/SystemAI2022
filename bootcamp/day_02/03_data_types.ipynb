{
 "cells": [
  {
   "cell_type": "markdown",
   "metadata": {},
   "source": [
    "# PYTHON Data operations 101\n",
    "\n",
    "## Basic Data operations\n",
    "\n",
    "The different data types we just discussed in detail are the basic building blocks of any Python operation. \n",
    "As I mentioned earlier, objects are copies of a template called a class. \n",
    "Each class has a different set of methods associated with the specific operations allowed on its data type.\n"
   ]
  },
  {
   "cell_type": "markdown",
   "metadata": {},
   "source": [
    "### Basic Arithmetic operations on integers (whole numbers)\n",
    "\n",
    "- As we already saw, Python has various \"types\" of numbers (numeric literals).\n",
    "- It also has many different operators. \n",
    "- Arithmetic Operators perform various arithmetic calculations on these.\n"
   ]
  },
  {
   "cell_type": "code",
   "execution_count": 17,
   "metadata": {},
   "outputs": [
    {
     "name": "stdout",
     "output_type": "stream",
     "text": [
      "+ Addition :                                 5 + 4 = 9\n",
      "* Multiplication :                           5 * 4 = 20\n",
      "/ Division :                                 5 / 4 = 1.25\n",
      "- Substraction :                             5 - 4 = 1\n",
      "% Modulus :                                  5 % 4 = 1\n",
      "// Floor Division :                          5 / 4 = 1\n",
      "** Exponent :                                5^4 = 625\n",
      "() Use parentheses to specify order :        5 * ( 5/4 - 4 ) = -13.75\n"
     ]
    }
   ],
   "source": [
    "x,y = 5,4\n",
    "print(f\"{f'+ Addition :':<45}{f'{x} + {y} = {x+y}'}\")\n",
    "print(f\"{f'* Multiplication :':<45}{f'{x} * {y} = {x*y}'}\")\n",
    "print(f\"{f'/ Division :':<45}{f'{x} / {y} = {x/y}'}\")\n",
    "print(f\"{f'- Substraction :':<45}{f'{x} - {y} = {x-y}'}\")\n",
    "print(f\"{f'% Modulus :':<45}{f'{x} % {y} = {x%y}'}\")\n",
    "print(f\"{f'// Floor Division :':<45}{f'{x} / {y} = {x//y}'}\")\n",
    "print(f\"{f'** Exponent :':<45}{f'{x}^{y} = {x**y}'}\")\n",
    "print(f\"{f'() Use parentheses to specify order :':<45}{f'{x} * ( {x}/{y} - {y} ) = {x*(x/y-y)}'}\")\n"
   ]
  },
  {
   "cell_type": "markdown",
   "metadata": {},
   "source": [
    "`````{admonition} Challenge\n",
    "Obtain 21 using the four numbers 1, 5, 6, 7 and any arithmetic operations ( +, -, *, / ).\n",
    "````{dropdown} Solution \n",
    "```{code-block} python \n",
    "6 / (1 - 5/7)\n",
    "```\n",
    "````\n",
    "`````"
   ]
  },
  {
   "cell_type": "markdown",
   "metadata": {},
   "source": [
    "### Basic Arithmetic operations on complex numbers\n",
    "\n",
    "- Python complex numbers are of type complex.\n",
    "- Every complex number contains one real part and one imaginary part.\n",
    "- We define imaginary numbers using the letter `j`\n"
   ]
  },
  {
   "cell_type": "code",
   "execution_count": 18,
   "metadata": {},
   "outputs": [
    {
     "name": "stdout",
     "output_type": "stream",
     "text": [
      "Real Parts (x = 1.0, y = 2.0) | Imaginary Parts = (x = 1.0, y = -2.0)\n"
     ]
    }
   ],
   "source": [
    "x,y = 1+1j, 2-2j\n",
    "print(f\"Real Parts (x = {x.real}, y = {y.real}) | Imaginary Parts = (x = {x.imag}, y = {y.imag})\") "
   ]
  },
  {
   "cell_type": "markdown",
   "metadata": {},
   "source": [
    " `````{admonition} Challenge\n",
    "Using python solve the following equation $(-7 + 7i) - (-7 - 3i) + (-7 - 8i) = ?$\n",
    "````{dropdown} Solution \n",
    "```{code-block} python \n",
    "(-7 + 7j) - (-7 - 3j) + (-7 - 8j) \n",
    "```\n",
    "````\n",
    "`````"
   ]
  },
  {
   "cell_type": "markdown",
   "metadata": {},
   "source": [
    "### Basic Arithmetic operations on strings (SAY WHAT!?)\n",
    "\n",
    "- In general, you cannot perform mathematical operations on strings, even if the strings look like numbers.\n",
    "- However, some arithmetic operators do work on strings and open up some nice options. Let's explore this. \n"
   ]
  },
  {
   "cell_type": "code",
   "execution_count": 19,
   "metadata": {},
   "outputs": [
    {
     "name": "stdout",
     "output_type": "stream",
     "text": [
      "+ Addition :                             cere+bellum=cerebellum\n",
      "* Multiplication :                       cere*3=cerecerecere\n",
      "Combinations :                           cere*3+bellum=cerecerecerebellum\n",
      "() Use parentheses to specify order:     cere+((cere+bellum)*2)=cerecerebellumcerebellum\n"
     ]
    }
   ],
   "source": [
    "x,y = 'cere','bellum'\n",
    "print(f\"+ Addition :                             {x}+{y}={x+y}\") \n",
    "print(f\"* Multiplication :                       {x}*{3}={x*3}\") \n",
    "print(f\"Combinations :                           {x}*{3}+{y}={x*3+y}\")\n",
    "print(f\"() Use parentheses to specify order:     {x}+(({x}+{y})*{2})={x+((x+y)*2)}\")"
   ]
  },
  {
   "cell_type": "markdown",
   "metadata": {},
   "source": [
    "### Basic Numeric Comparison Operators\n",
    "\n",
    "- Comparison operators are used to comparing two values\n"
   ]
  },
  {
   "cell_type": "code",
   "execution_count": 20,
   "metadata": {},
   "outputs": [
    {
     "name": "stdout",
     "output_type": "stream",
     "text": [
      " isEqual(==)          5==4 is False\n",
      " notEqual(!=)         5!=4 is True\n",
      " isGreater(>)         5>4  is True\n",
      " isSmaller(<)         5<4  is False\n",
      " isGreaterOrEqual(>=) 5>=4 is True\n",
      " isSmallerOrEqual(<=) 5<=4 is False\n"
     ]
    }
   ],
   "source": [
    "x,y = 5,4\n",
    "print(f\" isEqual(==)          {x}=={y} is {x==y}\")\n",
    "print(f\" notEqual(!=)         {x}!={y} is {x!=y}\")\n",
    "print(f\" isGreater(>)         {x}>{y}  is {x>y}\")\n",
    "print(f\" isSmaller(<)         {x}<{y}  is {x<y}\")\n",
    "print(f\" isGreaterOrEqual(>=) {x}>={y} is {x>=y}\")\n",
    "print(f\" isSmallerOrEqual(<=) {x}<={y} is {x<=y}\")"
   ]
  },
  {
   "cell_type": "markdown",
   "metadata": {},
   "source": [
    "### Basic Numeric Assignment Operators\n",
    "\n",
    "- Assignment operators are used to assigning values to variables\n"
   ]
  },
  {
   "cell_type": "code",
   "execution_count": 21,
   "metadata": {},
   "outputs": [
    {
     "name": "stdout",
     "output_type": "stream",
     "text": [
      " x = y   \t| y is assigned to x\t| x=3\n",
      " x = y  \t| 17 is assigned to x\t| x=19\n",
      " x += y \t| y is added to x\t| x=22\n",
      " x -= y \t| y subtracted from x\t| x=19\n",
      " x *= y \t| x multiplied by y\t| x=57\n",
      " x /= y \t| x divided by y\t| x=19.0\n",
      " x %= y \t| x%y is assigned to x\t| x=1.0\n",
      " x **= y\t| x**y is Added to x\t| x=1.0\n",
      " x //= y\t| x//y is assigned to x\t| x=0.0\n"
     ]
    }
   ],
   "source": [
    "y = 3\n",
    "x = y ;print(f\" x = y   \\t| y is assigned to x\\t| x={y}\")\n",
    "x = 19 ;print(f\" x = y  \\t| 17 is assigned to x\\t| x={x}\")\n",
    "x += y ;print(f\" x += y \\t| y is added to x\\t| x={x}\")\n",
    "x -= y ;print(f\" x -= y \\t| y subtracted from x\\t| x={x}\")\n",
    "x *= y ;print(f\" x *= y \\t| x multiplied by y\\t| x={x}\")\n",
    "x /= y ;print(f\" x /= y \\t| x divided by y\\t| x={x}\")\n",
    "x %= y ;print(f\" x %= y \\t| x%y is assigned to x\\t| x={x}\")\n",
    "x **= y;print(f\" x **= y\\t| x**y is Added to x\\t| x={x}\")\n",
    "x //= y;print(f\" x //= y\\t| x//y is assigned to x\\t| x={x}\")"
   ]
  },
  {
   "cell_type": "markdown",
   "metadata": {},
   "source": [
    "### Basic Logical Operators\n",
    "\n",
    "- Logical operators in Python are used for conditional statements are true or false. \n",
    "- Logical operators in Python are **and**, **or** and **not**. \n",
    "- For logical operators, the following condition are applied.\n",
    "- AND operator returns True if both the operands (right side and left side) are True\n",
    "- OR operator returns True if either of the operand (right side or left side) is True\n",
    "- NOT operator returns True if the operand is False"
   ]
  },
  {
   "cell_type": "code",
   "execution_count": 22,
   "metadata": {},
   "outputs": [
    {
     "name": "stdout",
     "output_type": "stream",
     "text": [
      " When x is True and y is False\n",
      " ===================================\n",
      " x and y                 is False\n",
      " x or y                  is True\n",
      " not x and y             is False\n",
      " x and not y             is True\n",
      " ~~~~~~~~~~~~~~~~~~~~~~~~~~~~~~~~~~~\n",
      "\n",
      " When x is 10 and y is 20\n",
      " ===================================\n",
      " x<y<y**2 and not y<x    is True\n"
     ]
    }
   ],
   "source": [
    "x,y = True,False\n",
    "print(f\" When x is {x} and y is {y}\")\n",
    "print(f\" {'='*35}\")\n",
    "print(f\" x and y                 is {x and y}\")\n",
    "print(f\" x or y                  is {x or y}\")\n",
    "print(f\" not x and y             is {not x or y}\")\n",
    "print(f\" x and not y             is {x or not y}\")\n",
    "print(f\" {'~'*35}\\n\")\n",
    "x,y = 10,20\n",
    "print(f\" When x is {x} and y is {y}\")\n",
    "print(f\" {'='*35}\")\n",
    "print(f\" x<y<y**2 and not y<x    is {x<y<y**2 and not y<x }\")"
   ]
  },
  {
   "cell_type": "markdown",
   "metadata": {},
   "source": [
    "### Basic Comparison operations on strings\n",
    "\n",
    "- String objects can be compared as well "
   ]
  },
  {
   "cell_type": "code",
   "execution_count": 23,
   "metadata": {},
   "outputs": [
    {
     "name": "stdout",
     "output_type": "stream",
     "text": [
      " isEqual(==)          small == small = True\n",
      " notEqual(!=)         SMALL != small = True\n",
      " ===========================================\n",
      " isEqual(==)          small == SMALL = False\n",
      " notEqual(!=)         small != small = False\n"
     ]
    }
   ],
   "source": [
    "x,y = 'small','small'\n",
    "print(f\" isEqual(==)          {x} == {y} = {x==y}\")\n",
    "print(f\" notEqual(!=)         {x.upper()} != {y} = {x.upper()!=y}\")\n",
    "x,y = 'small','SMALL'\n",
    "print(f\" {'='*43}\")\n",
    "print(f\" isEqual(==)          {x} == {y} = {x==y}\") \n",
    "print(f\" notEqual(!=)         {x} != {y.lower()} = {x!=y.lower()}\")"
   ]
  },
  {
   "cell_type": "markdown",
   "metadata": {},
   "source": [
    "### Lets expand on strings \n",
    "\n",
    "- Every string in Python is an object containing a sequence of characters. \n",
    "- Each letter in a string has a distinct index corresponding to its specific order. \n",
    "- Indices start in 0 and end in the length of the string-1\n",
    "- Spaces count as a character\n",
    "- Both single and double quotes can be used to define a string"
   ]
  },
  {
   "cell_type": "code",
   "execution_count": 24,
   "metadata": {},
   "outputs": [
    {
     "name": "stdout",
     "output_type": "stream",
     "text": [
      " Both tests are the same i.e. a='test' and b='test' and a==b is True\n"
     ]
    }
   ],
   "source": [
    "a,b = 'test', \"test\"\n",
    "print(f\" Both tests are the same i.e. a=\\'{a}\\' and b=\\'{b}\\' and a==b is {a==b}\") "
   ]
  },
  {
   "cell_type": "markdown",
   "metadata": {},
   "source": [
    "#### Why do we need both single `'` and double `\"` quotes? \n",
    "\n",
    "This simplifies using either single or double quotes within a phrase\n",
    "Consider the following code: "
   ]
  },
  {
   "cell_type": "code",
   "execution_count": 25,
   "metadata": {},
   "outputs": [
    {
     "name": "stdout",
     "output_type": "stream",
     "text": [
      "British style\t: Did you know that 'cultivar' is synonymous with 'clone'?\n",
      "American style \t: Did you know that \"cultivar\" is synonymous with \"clone\"?\n"
     ]
    }
   ],
   "source": [
    "some_phrash = \"Did you know that 'cultivar' is synonymous with 'clone'?\"\n",
    "print(f\"British style\\t: {some_phrash}\")\n",
    "same_phrash = 'Did you know that \"cultivar\" is synonymous with \"clone\"?'\n",
    "print(f\"American style \\t: {same_phrash}\")\n"
   ]
  },
  {
   "cell_type": "markdown",
   "metadata": {},
   "source": [
    "### What about using both  single `'` and double `\"` quotes?\n",
    "What do we do when we want both single `'` and double `\"` quotes in the same string?  \n",
    "\n",
    "\n",
    "`````{admonition} Challenge\n",
    "Try to print the following sentence using python  \n",
    "\"'The Green Hills of Earth' is one of my favourite stories,\" my teacher said.\n",
    "````{dropdown} Solution\n",
    "- Luckily we have Escape Sequences in Python \n",
    "- An escape sequence is defined using a backslash (\\\\) followed by any protected word.\n",
    "```{code-block} python \n",
    "mixed_quote_phrash = '\" \\'The Green Hills of Earth\\' is one of my favourite stories,\" my teacher said.'\n",
    "print(f\"We can escape the single: \\n{mixed_quote_phrash}\")\n",
    "mixed_quote_phrash = \"\\\" 'The Green Hills of Earth' is one of my favourite stories,\\\" my teacher said.\"\n",
    "print(f\"Or the double: \\n{mixed_quote_phrash}\")\n",
    "```\n",
    "````\n",
    "`````\n"
   ]
  },
  {
   "cell_type": "markdown",
   "metadata": {},
   "source": [
    "### Escaping the Escape Sequences\n",
    "- If we need to add a backslash, we will simply use a double \\\\\\ \n",
    "- This will print out only one backslash\n",
    "\n",
    "#### useful Escape sequence characters (ESC)\n",
    "\n",
    "| ESC | Description |\n",
    "| :-- | :-- | \n",
    "| \\\\\\ | Prints Backslash | \n",
    "| \\\\'  | Prints single-quote | \n",
    "| \\\\\"  | Prints double quote |\n",
    "| \\\\n  | Print line break | \n",
    "| \\\\t  | print tab | \n",
    "| \\\\uxxxx | Use 16-bit hex Unicode char | \n",
    "| \\\\Uxxxxxxxx | Use 32-bit hex Unicode char | \n",
    "| | |"
   ]
  },
  {
   "cell_type": "markdown",
   "metadata": {},
   "source": [
    "### Everything in Python is an object\n",
    "\n",
    "- String class is an object as well.\n",
    "- Every time you create a string, it comes with many methods\n",
    "- After initializing a string object, all the possible methods can be accessed using dot notation\n",
    "- These are all functions that are useful under different situations\n"
   ]
  },
  {
   "cell_type": "markdown",
   "metadata": {},
   "source": [
    "`````{admonition} Challenge\n",
    "Use the right introspection function to print all the methods a string object has\n",
    "````{dropdown} Solution\n",
    "- `dir` returns list of methods and attributes associated with that object.\n",
    "```{code-block} python \n",
    "dir('')\n",
    "```\n",
    "````\n",
    "`````"
   ]
  },
  {
   "cell_type": "markdown",
   "metadata": {},
   "source": [
    "### What’s the Meaning of double leading and trailing underscores In Python?"
   ]
  },
  {
   "cell_type": "markdown",
   "metadata": {},
   "source": [
    "### Some string transformation examples\n"
   ]
  },
  {
   "cell_type": "code",
   "execution_count": 26,
   "metadata": {},
   "outputs": [
    {
     "name": "stdout",
     "output_type": "stream",
     "text": [
      " UPPER IS A METHOD USED TO CONVERT A STRING TO UPPERCASE\n",
      "~~~~~~~~~~~~~ center pads a string from both sides to fill k chars ~~~~~~~~~~~~~\n",
      "~~~~~~~~~~~~~~~~~~~~~~~~~~ WE CAN CHAIN BOTH TOGETHER ~~~~~~~~~~~~~~~~~~~~~~~~~~\n",
      "~~~~~~~~~~~~~~~~~~~ But There Are Many Options (E.G. Title) ~~~~~~~~~~~~~~~~~~~~\n"
     ]
    }
   ],
   "source": [
    "print((\" upper is a method used to convert a string to uppercase\").upper())\n",
    "print((\" center pads a string from both sides to fill k chars \").center(80,'~'))\n",
    "print((\" we can chain both together \").upper().center(80,'~'))\n",
    "print((\" But there are many options (e.g. title) \").title().center(80,'~'))"
   ]
  },
  {
   "cell_type": "markdown",
   "metadata": {},
   "source": [
    "### More than style \n",
    "\n",
    "- By definition, we would expect string functions to be associated with style\n",
    "- But there are also more general ones \n",
    "- For example the `endswith` command is a useful way to test the type of a filename \n",
    "\n"
   ]
  },
  {
   "cell_type": "code",
   "execution_count": 27,
   "metadata": {},
   "outputs": [
    {
     "name": "stdout",
     "output_type": "stream",
     "text": [
      "True\n"
     ]
    }
   ],
   "source": [
    "print((\"some_file_name.zip\").endswith(\"zip\"))"
   ]
  },
  {
   "cell_type": "markdown",
   "metadata": {},
   "source": [
    "`````{admonition} Challenge\n",
    "Try to find a way to count the number of times the word 'her' is used in this short story by [N. West Moss](http://fiftywordstories.com/2021/04/12/n-west-moss-a-man-not-her-husband/).\n",
    "\n",
    "> *A man (not her husband) had loved her last summer. He never said so, never kissed her, so maybe he hadn’t, but the wondering lit her up like a firefly. His absence weighed a thousand pounds and made her ears ring. Having almost certainly been loved still made her dance.*\n",
    "\n",
    "````{dropdown} Solution\n",
    "```{code-block} python \n",
    "story = \"A man (not her husband) had loved her last summer. He never said so, never kissed her, so maybe he hadn’t, but the wondering lit her up like a firefly. His absence weighed a thousand pounds and made her ears ring. Having almost certainly been loved still made her dance.\" \n",
    "print(f'The word her is used {story.count(\"her\")} times')\n",
    "```\n",
    "````\n",
    "`````"
   ]
  },
  {
   "cell_type": "markdown",
   "metadata": {},
   "source": [
    "`````{admonition} Challenge\n",
    "Now find a way to identify the index of the first occurrence of the word 'her' in the story.\n",
    "\n",
    "> *A man (not her husband) had loved her last summer. He never said so, never kissed her, so maybe he hadn’t, but the wondering lit her up like a firefly. His absence weighed a thousand pounds and made her ears ring. Having almost certainly been loved still made her dance.*\n",
    "\n",
    "````{dropdown} Solution\n",
    "```{code-block} python \n",
    "print(f'The word her first appears in the {story.find(\"her\")} position')\n",
    "```\n",
    "````\n",
    "`````"
   ]
  },
  {
   "cell_type": "markdown",
   "metadata": {},
   "source": [
    "### Let's focus on indexing for a moment \n",
    "\n",
    "- Every string is a sequence of characters \n",
    "- This is an excellent opportunity to cover how indexing works\n",
    "- The len() function will count all of the string characters (including spaces and punctuation)"
   ]
  },
  {
   "cell_type": "code",
   "execution_count": 28,
   "metadata": {},
   "outputs": [
    {
     "name": "stdout",
     "output_type": "stream",
     "text": [
      "Some times we want to find how long is a string  = 47\n"
     ]
    }
   ],
   "source": [
    "some_string = \"Some times we want to find how long is a string\"\n",
    "print(f'{some_string}  = {len(some_string)}')"
   ]
  },
  {
   "cell_type": "markdown",
   "metadata": {},
   "source": [
    "### But how can we navigate in this sequence? \n",
    "- To go to a specific index in a string, we use brackets `[ ]`\n",
    "- Remember that indexing starts at 0 for Python\n",
    "- Consider the following:"
   ]
  },
  {
   "cell_type": "code",
   "execution_count": 29,
   "metadata": {},
   "outputs": [
    {
     "name": "stdout",
     "output_type": "stream",
     "text": [
      "Access start index using [0]\t\t\t= S \n",
      "Access end index using  [-1] \t\t\t= G \n",
      "Use the colon [start:end] to perform slicing \t=  A \n",
      "Get everything UPTO [:end] \t\t\t= SOME \n",
      "Get everything FROM TO [start:end-2] \t\t=  A STRI\n"
     ]
    }
   ],
   "source": [
    "print(f\"Access start index using [0]\\t\\t\\t= {some_string[0].upper()} \\n\\\n",
    "Access end index using  [-1] \\t\\t\\t= {some_string[-1].upper()} \\n\\\n",
    "Use the colon [start:end] to perform slicing \\t= {some_string[38:40].upper()} \\n\\\n",
    "Get everything UPTO [:end] \\t\\t\\t= {some_string[:4].upper()} \\n\\\n",
    "Get everything FROM TO [start:end-2] \\t\\t= {some_string[38:-2].upper()}\" )"
   ]
  },
  {
   "cell_type": "markdown",
   "metadata": {},
   "source": [
    "### Slicing and skipping \n",
    "- It is possible to use index and slice notation to get a sequence using a step size\n"
   ]
  },
  {
   "cell_type": "code",
   "execution_count": 30,
   "metadata": {},
   "outputs": [
    {
     "name": "stdout",
     "output_type": "stream",
     "text": [
      "Print everything [:]\t\t= SOME TIMES WE WANT TO FIND HOW LONG IS A STRING \n",
      "Print every second word [::2] \t= SM IE EWN OFN O OGI  TIG \n",
      "Everything in reverse [::-1]\t= GNIRTS A SI GNOL WOH DNIF OT TNAW EW SEMIT EMOS\n"
     ]
    }
   ],
   "source": [
    "print(f\"Print everything [:]\\t\\t= {some_string[:].upper()} \\n\\\n",
    "Print every second word [::2] \\t= {some_string[::2].upper()} \\n\\\n",
    "Everything in reverse [::-1]\\t= {some_string[::-1].upper()}\" )"
   ]
  },
  {
   "cell_type": "markdown",
   "metadata": {},
   "source": [
    "### Strings are immutable\n",
    "\n",
    "- Remember, immutable means that you cannot change the object itself\n",
    "- This means that we cannot change a single letter in the string \n",
    "\n",
    "\n",
    "`````{admonition} Example\n",
    "Let's try this explicitly - try to run this sta\n",
    "```{code-block} python \n",
    "some_string[4]='a'\n",
    "```\n",
    "\n",
    "`````\n"
   ]
  },
  {
   "cell_type": "markdown",
   "metadata": {},
   "source": [
    "### We can also use split to break a long string\n",
    "\n",
    "- The split() and rsplit() methods splits string from the left or right at the specified separator and returns a list of strings.\n"
   ]
  },
  {
   "cell_type": "code",
   "execution_count": 31,
   "metadata": {},
   "outputs": [
    {
     "name": "stdout",
     "output_type": "stream",
     "text": [
      "['some', 'times', 'we', 'would', 'like', 'to', 'split', 'long', 'text']\n",
      "['It', 'can', 'use any', 'kind of', ' delimiter']\n",
      "['You', 'can', 'also', 'define,how,many,splits']\n",
      "['As,well,as,direction', 'of', 'splits']\n"
     ]
    }
   ],
   "source": [
    "print(\"some times we would like to split long text\".split())\n",
    "print(\"It,can,use any,kind of, delimiter\".split(','))\n",
    "print(\"You,can,also,define,how,many,splits\".split(',',3))\n",
    "print(\"As,well,as,direction,of,splits\".rsplit(',',2))"
   ]
  },
  {
   "cell_type": "markdown",
   "metadata": {},
   "source": [
    "### Strings can be concatenated \n",
    "- We already saw that we could combine different strings together \n",
    "- But this is not very easy to understand"
   ]
  },
  {
   "cell_type": "code",
   "execution_count": 32,
   "metadata": {},
   "outputs": [
    {
     "name": "stdout",
     "output_type": "stream",
     "text": [
      "sometimeswouldwouldwe\n"
     ]
    }
   ],
   "source": [
    "a,b,c,d = 'some','times', 'we', 'would'\n",
    "print(a+b+d*2+c)"
   ]
  },
  {
   "cell_type": "markdown",
   "metadata": {},
   "source": [
    "- For those paying attention to the code, you can see that I am constantly combining strings with variables \n",
    "- This operation is called string formatting, and it is useful to know the different ways in which it can be used \n",
    "\n",
    "## String Formatting\n",
    "\n",
    "- From python 3.6 string formatting is done using f-strings, these simplify this process and make the code easier to understand  \n",
    "- For those interested (and for completeness) [here is a link explaining the older methods](https://realpython.com/python-string-formatting/)"
   ]
  },
  {
   "cell_type": "markdown",
   "metadata": {},
   "source": [
    "### f-strings examples"
   ]
  },
  {
   "cell_type": "code",
   "execution_count": 33,
   "metadata": {},
   "outputs": [
    {
     "name": "stdout",
     "output_type": "stream",
     "text": [
      "Do you know what Malarkey means?\n",
      "\n",
      "'Malarkey' refers to talk that is particularly foolish\n"
     ]
    }
   ],
   "source": [
    "some_str = \"Malarkey\"\n",
    "print(f\"Do you know what {some_str} means?\\n\") \n",
    "# using !r will keep the string\n",
    "print(f\"{some_str!r} refers to talk that is particularly foolish\") "
   ]
  },
  {
   "cell_type": "markdown",
   "metadata": {},
   "source": [
    "### Anatomy of an f-string command\n",
    "\n",
    "- Any string starting with the letter `f` or `F` (case doesn't matter) will be interpreted as an f-string"
   ]
  },
  {
   "cell_type": "code",
   "execution_count": 34,
   "metadata": {},
   "outputs": [
    {
     "data": {
      "text/plain": [
       "True"
      ]
     },
     "execution_count": 34,
     "metadata": {},
     "output_type": "execute_result"
    }
   ],
   "source": [
    "f'String' == F'String'"
   ]
  },
  {
   "cell_type": "markdown",
   "metadata": {},
   "source": [
    "- An f-string is composed of at least one of two potential components:\n",
    "  - A string \n",
    "  - A replacement field contained between two curly brackets  "
   ]
  },
  {
   "cell_type": "code",
   "execution_count": 35,
   "metadata": {},
   "outputs": [
    {
     "data": {
      "text/plain": [
       "True"
      ]
     },
     "execution_count": 35,
     "metadata": {},
     "output_type": "execute_result"
    }
   ],
   "source": [
    "f'{\"String\"}' == f'String'"
   ]
  },
  {
   "cell_type": "markdown",
   "metadata": {},
   "source": [
    "- The replacement field has two potential components contained between the two curly brackets\n",
    "  - f_expression   \n",
    "  - format_spec"
   ]
  },
  {
   "cell_type": "markdown",
   "metadata": {},
   "source": [
    "#### f-string and numbers\n"
   ]
  },
  {
   "cell_type": "markdown",
   "metadata": {},
   "source": [
    "|Expression   |\tFormat    | Syntax                    | Output              | \tDescription      |\n",
    "|:---       |:---   |:---                       | :---       |:---------------------|\n",
    "|22/7\t     | .2f |f'{22/7:.2f}'\t            | 3.14\t              |2 decimal places        |\n",
    "|(1+1/5)**5  | .3f |f'{(1+1/5)**5:+.3f}'\t    |+2.488\t              |3 decimal places with sign |\n",
    "|(-.5)**0.75 | .1f |f'{(-.5)**0.75:+.1f}'\t    |-0.4+0.4j\t          |1 decimal places with sign |\n",
    "|44/7\t     | .0f |f'{44/7:.0f}'     \t    |6                    |No decimal places     |\n",
    "|12\t        | 0>3 |f'{12:0>3}'                |012                  |Pad number with zeros (left padding, width 3) |\n",
    "|1e6\t    | , |f'{1e6:,}'\t                |1,000,000.0          |Float format with comma separator |\n",
    "|1e9\t    | , |f'{int(1e9):,}'\t        |1,000,000,000        |Int format with comma separator |\n",
    "|5/9\t    | .2% |f'{5/9:.2%}'\t            |25.00%\t              |Format percentage |\n",
    "|25**5\t    | .2e |f'{25**5:.2e}'             |9.77e+06           |Exponent notation |"
   ]
  },
  {
   "cell_type": "markdown",
   "metadata": {},
   "source": [
    "#### f-strings dates and time\n",
    "\n",
    "- Dates are also simpler to define (however, I am cheating here as I am using some Python package)\n",
    "\n"
   ]
  },
  {
   "cell_type": "code",
   "execution_count": 36,
   "metadata": {},
   "outputs": [
    {
     "name": "stdout",
     "output_type": "stream",
     "text": [
      "May 26, 2020 13:30:10\n"
     ]
    }
   ],
   "source": [
    "from datetime import date\n",
    "from datetime import time\n",
    "some_date = date(year=2020, month=5, day=26)\n",
    "some_time = time(hour=13, minute=30,second=10)\n",
    "print(f\"{some_date:%B %d, %Y} {some_time:%H:%M:%S}\") "
   ]
  },
  {
   "cell_type": "markdown",
   "metadata": {},
   "source": [
    "#### f-string can do numeric notations\n",
    "- For example Hexadecimal often used to describe RGB colors  "
   ]
  },
  {
   "cell_type": "code",
   "execution_count": 37,
   "metadata": {},
   "outputs": [
    {
     "name": "stdout",
     "output_type": "stream",
     "text": [
      "The color cyan-blue can be written as #099ff in hex form\n"
     ]
    }
   ],
   "source": [
    "R, G, B = 0, 153, 255\n",
    "print(f'The color cyan-blue can be written as #{R:x}{G:x}{B:x} in hex form')"
   ]
  },
  {
   "cell_type": "markdown",
   "metadata": {},
   "source": [
    "- Also binary numbers  "
   ]
  },
  {
   "cell_type": "code",
   "execution_count": 38,
   "metadata": {},
   "outputs": [
    {
     "name": "stdout",
     "output_type": "stream",
     "text": [
      "The number 254 is 11111110 in binary \n"
     ]
    }
   ],
   "source": [
    "print(f'The number 254 is {254:b} in binary ')"
   ]
  },
  {
   "cell_type": "markdown",
   "metadata": {},
   "source": [
    "### Let's do some exercises \n",
    "- Try to change the question mark using expressions and the variables x and y in the right side of the equation to produce the following output\n",
    "\n",
    "~~~ python \n",
    "x,y = -12,2 # given numbers\n",
    "? = -6.0 \n",
    "? = -10\n",
    "? = -14\n",
    "? = 0\n",
    "? = 144.0\n",
    "? = 0.0+3.5j \n",
    "? = 96.0\n",
    "~~~"
   ]
  },
  {
   "cell_type": "markdown",
   "metadata": {},
   "source": [
    "## Links to expand your understanding \n",
    "\n",
    "For those interested in learning more...\n",
    "\n",
    "- [Python String Tutorial](https://www.datacamp.com/community/tutorials/python-string-tutorial)\n",
    "- [Python For Data Science - A Cheat Sheet For Beginners](https://www.datacamp.com/community/tutorials/python-data-science-cheat-sheet-basics)\n"
   ]
  }
 ],
 "metadata": {
  "kernelspec": {
   "display_name": "Python 3",
   "language": "python",
   "name": "python3"
  },
  "language_info": {
   "name": "python",
   "version": "3.8.12"
  }
 },
 "nbformat": 4,
 "nbformat_minor": 4
}
