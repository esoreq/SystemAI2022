{
 "cells": [
  {
   "cell_type": "markdown",
   "metadata": {},
   "source": [
    "# Python Programming 101\n",
    "\n",
    "## Programming Fundamentals\n",
    "\n",
    "- In this section, we will go over the things that make programming so powerful \n",
    "- We will cover conditional statements \n",
    "- And finally, cover for and while loops "
   ]
  },
  {
   "cell_type": "markdown",
   "metadata": {},
   "source": [
    "## Conditional statements\n",
    "\n",
    "- A conditional statement allows us to take alternate actions based on a set of rules\n",
    "- In these types of procedures, `if`, `elif`, and `else` keywords are used.\n",
    "- Using the \"if\" and \"else\" combinations, we can construct a rule tree to perform some logic  \n",
    "\n",
    "~~~python\n",
    "if rule1:\n",
    "    do something\n",
    "elif rule2:\n",
    "    do something different\n",
    "else: # if both are False\n",
    "    do another thing\n",
    "~~~"
   ]
  },
  {
   "cell_type": "markdown",
   "metadata": {},
   "source": [
    "### Simple example"
   ]
  },
  {
   "cell_type": "code",
   "execution_count": 1,
   "metadata": {},
   "outputs": [
    {
     "name": "stdout",
     "output_type": "stream",
     "text": [
      "Rule 1 is True\n"
     ]
    }
   ],
   "source": [
    "rule1 = True\n",
    "if rule1:\n",
    "    print(f'Rule 1 is {rule1}')"
   ]
  },
  {
   "cell_type": "markdown",
   "metadata": {},
   "source": [
    "#### What will happen if we change rule1 to *False*?"
   ]
  },
  {
   "cell_type": "markdown",
   "metadata": {},
   "source": [
    "### Add complexity to the example\n",
    "\n",
    "- Without running the code assess which statement will be executed \n",
    "\n",
    "~~~python\n",
    "rule1 = False    \n",
    "if not rule1:\n",
    "    print(f'Only if Rule 1 is {rule1} go here')\n",
    "else: \n",
    "    print(f\"Not Rule 1 is {not rule1}\")\n",
    "~~~"
   ]
  },
  {
   "cell_type": "markdown",
   "metadata": {},
   "source": [
    "### Multiple *if*, *elif* and *else* Branches example \n",
    "\n",
    "- Guess what the output will be without running the code\n",
    "- Then try to change values to reach a specific branch\n",
    "\n",
    "~~~python\n",
    "rule1,rule2 = True,False    \n",
    "if not rule1:\n",
    "    print(f'Only if Rule 1 is {rule1} go here')\n",
    "elif not rule2:\n",
    "    print(f'Only if Rule 2 is {rule2} go here')\n",
    "else: \n",
    "    print(f\"Not Rule 1 is {not rule1}\")\n",
    "~~~"
   ]
  },
  {
   "cell_type": "markdown",
   "metadata": {},
   "source": [
    "### Nested *if* example (see Indentation!!!)\n",
    "~~~python\n",
    "var1, var2 = 'CRTX','FPN'\n",
    "\n",
    "if var1 == 'CRTX':\n",
    "    if var2 == 'FPN':\n",
    "        print(f'The {var2} is part of the {var1}')\n",
    "~~~"
   ]
  },
  {
   "cell_type": "markdown",
   "metadata": {},
   "source": [
    "### Ternary operator\n",
    "\n",
    "- Python supports ternary in a nice way \n",
    "- If you don't know what ternary operator and want to dive in the rabbit hole check this [link](https://en.wikipedia.org/wiki/%3F:) \n",
    "- However, for our cases, it is just a short form of conditional statements that takes the following form: \n",
    "\n",
    "```python\n",
    "one_line = 'yes' if expression==True else 'no'\n",
    "```"
   ]
  },
  {
   "cell_type": "markdown",
   "metadata": {},
   "source": [
    "### Here's an example\n",
    "\n",
    "~~~python\n",
    "age = 13\n",
    "teen = True if age>=13 and age <=18 else False\n",
    "print(f'It is {teen} that you are a teen if you are {age}')\n",
    "~~~\n"
   ]
  },
  {
   "cell_type": "markdown",
   "metadata": {},
   "source": [
    "## Conditional Loop *While*\n",
    "\n",
    "- The idea of conditional statements can be combined to generate a statement that will repeat until the condition is no longer valid.\n",
    "- The general syntax of a while loop is:\n",
    "\n",
    "~~~python\n",
    "while condition:\n",
    "    do something until condition is False\n",
    "else:\n",
    "    do once and exit the loop\n",
    "~~~"
   ]
  },
  {
   "cell_type": "markdown",
   "metadata": {},
   "source": [
    "### Simple example\n"
   ]
  },
  {
   "cell_type": "code",
   "execution_count": 3,
   "metadata": {},
   "outputs": [
    {
     "name": "stdout",
     "output_type": "stream",
     "text": [
      "20|19|18|17|16|15|14|13|12|11|10|9|8|7|6|5|4|3|2|1|"
     ]
    }
   ],
   "source": [
    "counter = 20\n",
    "while counter>0:\n",
    "    print(f'{counter}',end='|')\n",
    "    counter -= 1"
   ]
  },
  {
   "cell_type": "markdown",
   "metadata": {},
   "source": [
    "### While loops are dangerous \n",
    "- Think what will happen if you type + instead of minus in the previous example\n",
    "- Unless we add another condition, this loop will run forever \n",
    "- When this happens by mistake, you can always use the stop icon at the top to break the loop"
   ]
  },
  {
   "cell_type": "markdown",
   "metadata": {},
   "source": [
    "### Lets add conditional fences"
   ]
  },
  {
   "cell_type": "code",
   "execution_count": 4,
   "metadata": {},
   "outputs": [
    {
     "name": "stdout",
     "output_type": "stream",
     "text": [
      "30|31|32|33|34|35|36|37|38|39|40|41|42|43|44|45|46|47|48|49|\n",
      "\n",
      "Done !!\n"
     ]
    }
   ],
   "source": [
    "counter = 30\n",
    "while counter > 0 and counter < 50:\n",
    "    print(f'{counter}',end='|')\n",
    "    counter += 1\n",
    "else: \n",
    "    print(f'\\n\\nDone !!')"
   ]
  },
  {
   "cell_type": "markdown",
   "metadata": {},
   "source": [
    "\n",
    "`````{admonition} Challenge\n",
    "How would I change the code above so it will output a sequence that ends with 50 instead of 49\n",
    "````{dropdown} Solution \n",
    "```{code-block} python\n",
    "# Option one change the upper fence conditional statement to include 50\n",
    "while counter>0 and counter<=50:\n",
    "    print(f'{counter}',end='|')\n",
    "    counter += 1\n",
    "else: \n",
    "    print(f'\\n\\nDone !!')\n",
    "# Option two change the upper fence conditional statement to include 50    \n",
    "while counter>0 and counter<51:\n",
    "    print(f'{counter}',end='|')\n",
    "    counter += 1\n",
    "else: \n",
    "    print(f'\\n\\nDone !!')\n",
    "```\n",
    "````\n",
    "`````"
   ]
  },
  {
   "cell_type": "markdown",
   "metadata": {},
   "source": [
    "### We can adjust the loop internaly using *break*, *continue* and *pass* \n",
    "- We can use control statements in our loops to add additional functionality for various cases\n",
    "- `Break` Breaks out of the current loop.\n",
    "- `Continue` Goes to the top of current loop\n",
    "- `Pass` do nothing "
   ]
  },
  {
   "cell_type": "markdown",
   "metadata": {},
   "source": [
    "#### Why do we need a control statement that does nothing? \n",
    "- Python requires that code blocks (after if, except, def, class etc.) will not be empty.\n",
    "- Empty code blocks are however useful in a variety of different contexts\n",
    "- One main one is during implementation as a place holder to remember to deal with\n",
    "- let's test this with some silly function "
   ]
  },
  {
   "cell_type": "code",
   "execution_count": 6,
   "metadata": {},
   "outputs": [
    {
     "name": "stdout",
     "output_type": "stream",
     "text": [
      "f(-5)=5.000\n",
      "f(-4)=-1.333\n",
      "f(-3)=3.000\n",
      "f(-2)=-0.667\n",
      "f(-1)=1.000\n",
      "f(0)=0.000\n",
      "f(2)=0.667\n",
      "f(4)=1.333\n"
     ]
    }
   ],
   "source": [
    "num = -5\n",
    "while num<5:\n",
    "    if not num % 2: # Even numbers are divided by 3\n",
    "            print(f'f({num})={num/3:.3f}')\n",
    "    elif num<0: # odd negative numberes become positive\n",
    "        print(f'f({num})={(num**2)**.5:.3f}')\n",
    "    else: # Otherwise, I still haven't decided \n",
    "        pass\n",
    "    num+=1"
   ]
  },
  {
   "cell_type": "markdown",
   "metadata": {},
   "source": [
    "`````{admonition} Challenge\n",
    "Add a rule that is applied on the odd positive numbers\n",
    "````{dropdown} Solution \n",
    "```{code-block} python\n",
    "# Here is one possible solution\n",
    "num = -5\n",
    "while num<5:\n",
    "    if not num % 2: # Even numbers are divided by 3\n",
    "            print(f'f({num})={num/3:.3f}')\n",
    "    elif num<0: # odd negative numberes become positive\n",
    "        print(f'f({num})={(num**2)**.5:.3f}')\n",
    "    else: # Otherwise, I still haven't decided \n",
    "        print(f'f({num})={(-num**3)**.5:.3f}')\n",
    "    num+=1\n",
    "```\n",
    "````\n",
    "`````"
   ]
  },
  {
   "cell_type": "markdown",
   "metadata": {},
   "source": [
    "`````{admonition} Challenge\n",
    "Change the code to go from -50 to 50 with steps of 10\n",
    "````{dropdown} Solution \n",
    "```{code-block} python\n",
    "# Here is one possible solution\n",
    "start_condition = -50\n",
    "stop_condition = 50\n",
    "num = start_condition\n",
    "steps = 10\n",
    "while num<stop_condition:\n",
    "    if not num % 20: # Even numbers are divided by 3\n",
    "            print(f'f({num})={num/3:.3f}')\n",
    "    elif num<0: # odd negative numberes become positive\n",
    "        print(f'f({num})={(num**2)**.5:.3f}')\n",
    "    else: # Otherwise, I still haven't decided \n",
    "        print(f'f({num})={(-num**3)**.5:.3f}')\n",
    "    num+=steps\n",
    "```\n",
    "````\n",
    "`````"
   ]
  },
  {
   "cell_type": "code",
   "execution_count": 8,
   "metadata": {},
   "outputs": [
    {
     "name": "stdout",
     "output_type": "stream",
     "text": [
      "f(-50)=50.000\n",
      "f(-40)=-13.333\n",
      "f(-30)=30.000\n",
      "f(-20)=-6.667\n",
      "f(-10)=10.000\n",
      "f(0)=0.000\n",
      "f(10)=0.000+31.623j\n",
      "f(20)=6.667\n",
      "f(30)=0.000+164.317j\n",
      "f(40)=13.333\n"
     ]
    }
   ],
   "source": [
    "start_condition = -50\n",
    "stop_condition = 50\n",
    "num = start_condition\n",
    "steps = 10\n",
    "while num<stop_condition:\n",
    "    if not num % 20: # Even numbers are divided by 3\n",
    "            print(f'f({num})={num/3:.3f}')\n",
    "    elif num<0: # odd negative numberes become positive\n",
    "        print(f'f({num})={(num**2)**.5:.3f}')\n",
    "    else: # Otherwise, I still haven't decided \n",
    "        print(f'f({num})={(-num**3)**.5:.3f}')\n",
    "    num+=steps"
   ]
  },
  {
   "cell_type": "markdown",
   "metadata": {},
   "source": [
    "### `range()` function is a useful way to control loops\n",
    "- The `range()` generates a sequence of numbers and is immutable \n",
    "- It takes one to three input arguments (i.e. start, stop and step)\n",
    "- The stop is not included \n",
    "- [Click on this link to learn more about the range object](https://treyhunner.com/2018/02/python-range-is-not-an-iterator/#:~:text=Unlike%20zip%20%2C%20enumerate%20%2C%20or%20generator,range%20objects%20are%20not%20iterators.)"
   ]
  },
  {
   "cell_type": "markdown",
   "metadata": {},
   "source": [
    "### Using the range simplifies the task "
   ]
  },
  {
   "cell_type": "code",
   "execution_count": 9,
   "metadata": {},
   "outputs": [
    {
     "name": "stdout",
     "output_type": "stream",
     "text": [
      "-50,-40,-30,-20,-10,0,10,20,30,40,50,"
     ]
    }
   ],
   "source": [
    "start = -50\n",
    "stop = 51\n",
    "step = 10\n",
    "seq = range(start,stop,step)\n",
    "index = 0\n",
    "while index<len(seq):\n",
    "    print(seq[index],end=',')\n",
    "    # do something\n",
    "    index+=1"
   ]
  },
  {
   "cell_type": "markdown",
   "metadata": {},
   "source": [
    "\n",
    "## `for` loops using iterable objects\n",
    "- If we know in advance the sequence perhaps we don't need the condition\n",
    "- A `for` loop goes through items that are in any iterable objects\n",
    "- Iter-**able** objects are any data type that can be iterated over\n",
    "- These include strings, lists, tuples, dictionaries, sets and range"
   ]
  },
  {
   "cell_type": "markdown",
   "metadata": {},
   "source": [
    "### Same concept using `for` and `range`"
   ]
  },
  {
   "cell_type": "code",
   "execution_count": 11,
   "metadata": {},
   "outputs": [
    {
     "name": "stdout",
     "output_type": "stream",
     "text": [
      "-50,-40,-30,-20,-10,0,10,20,30,40,50,"
     ]
    }
   ],
   "source": [
    "start,stop,step = -50,51,10\n",
    "for number in range(start,stop,step):\n",
    "    # do something\n",
    "    print(number,end=',')"
   ]
  },
  {
   "cell_type": "markdown",
   "metadata": {},
   "source": [
    "### Iterators doing the hard work \n",
    "- Iter-**ators** are the agents that perform the iteration.\n",
    "- An iterator is an object that allows us to go over a sequence one element at a time using the `iter()` function and the `next` method\n",
    "- There is a big difference between an iterable object and an iterator derived from that object: the former has no memory, while the latter is like a stack -- with each use of it you have one fewer element in the stack\n"
   ]
  },
  {
   "cell_type": "markdown",
   "metadata": {},
   "source": [
    "#### Let's look at another example\n",
    "- Compare the output below "
   ]
  },
  {
   "cell_type": "code",
   "execution_count": 13,
   "metadata": {},
   "outputs": [
    {
     "name": "stdout",
     "output_type": "stream",
     "text": [
      "-50,-40,-30,-20,-10,0,10,20,30,40,50,- #0 iter\n",
      "-50,-40,-30,-20,-10,0,10,20,30,40,50,- #1 iter\n",
      "-50,-40,-30,-20,-10,0,10,20,30,40,50,- #2 iter\n"
     ]
    }
   ],
   "source": [
    "for i in range(3):\n",
    "    for number in range(-50,51,10):\n",
    "        print(number,end=',')\n",
    "    print(f'- #{i} iter')   "
   ]
  },
  {
   "cell_type": "markdown",
   "metadata": {},
   "source": [
    "- To this section of code"
   ]
  },
  {
   "cell_type": "code",
   "execution_count": 15,
   "metadata": {},
   "outputs": [
    {
     "name": "stdout",
     "output_type": "stream",
     "text": [
      "-50,-40,-30,-20,-10,0,10,20,30,40,50,- #0 iter\n",
      "- #1 iter\n",
      "- #2 iter\n"
     ]
    }
   ],
   "source": [
    "range_iterator = iter(range(-50,51,10))\n",
    "for i in range(3):\n",
    "    for number in range_iterator:\n",
    "        print(number,end=',')\n",
    "    print(f'- #{i} iter')  "
   ]
  },
  {
   "cell_type": "markdown",
   "metadata": {},
   "source": [
    "- And this one"
   ]
  },
  {
   "cell_type": "code",
   "execution_count": 17,
   "metadata": {},
   "outputs": [
    {
     "name": "stdout",
     "output_type": "stream",
     "text": [
      "-50,-40,-30,-20,-10,0,10,20,30,40,50,- #0 iter\n",
      "-50,-40,-30,-20,-10,0,10,20,30,40,50,- #1 iter\n",
      "-50,-40,-30,-20,-10,0,10,20,30,40,50,- #2 iter\n"
     ]
    }
   ],
   "source": [
    "for i in range(3):\n",
    "    range_iterator = iter(range(-50,51,10))\n",
    "    for number in range_iterator:\n",
    "        print(number,end=',')\n",
    "    print(f'- #{i} iter') "
   ]
  },
  {
   "cell_type": "markdown",
   "metadata": {},
   "source": [
    "### Using `enumerate()` function to keep index \n",
    "- enumerate is a function that returns an enumerate object that produces a sequence of tuples, and each of the tuples is an index-value pair.\n"
   ]
  },
  {
   "cell_type": "code",
   "execution_count": 18,
   "metadata": {},
   "outputs": [
    {
     "data": {
      "text/plain": [
       "[(0, 5), (1, 7), (2, 9), (3, 11), (4, 13)]"
      ]
     },
     "execution_count": 18,
     "metadata": {},
     "output_type": "execute_result"
    }
   ],
   "source": [
    "seq = range(5,15,2)\n",
    "enumerated_seq = enumerate(seq)\n",
    "list(enumerated_seq)"
   ]
  },
  {
   "cell_type": "markdown",
   "metadata": {},
   "source": [
    "`````{admonition} Discussion\n",
    "Why do we need a function like this? \n",
    "Try to come-up with some ways that one can use it\n",
    "`````"
   ]
  },
  {
   "cell_type": "markdown",
   "metadata": {},
   "source": [
    "#### lets answer with an example \n",
    "- Here we take a list of names and map out a possible abbreviation name pair "
   ]
  },
  {
   "cell_type": "code",
   "execution_count": 19,
   "metadata": {},
   "outputs": [
    {
     "data": {
      "text/plain": [
       "{1: {'abbreviation': 'FRO', 'name': 'frontal'},\n",
       " 2: {'abbreviation': 'PAR', 'name': 'parietal'},\n",
       " 3: {'abbreviation': 'TEM', 'name': 'temporal'},\n",
       " 4: {'abbreviation': 'OCC', 'name': 'occipital'},\n",
       " 5: {'abbreviation': 'INS', 'name': 'insula'}}"
      ]
     },
     "execution_count": 19,
     "metadata": {},
     "output_type": "execute_result"
    }
   ],
   "source": [
    "lobe_names = ['frontal','parietal','temporal', 'occipital','insula']\n",
    "lobes_mapper = {}\n",
    "for index,lobe in enumerate(lobe_names):\n",
    "    lobes_mapper[index+1] = {'abbreviation':lobe[:3].upper(),'name':lobe}\n",
    "lobes_mapper"
   ]
  },
  {
   "cell_type": "markdown",
   "metadata": {},
   "source": [
    "#### Let's unpack the whole thing\n",
    "\n",
    "| Code | Explenation | Data structures  | \n",
    "| :--- |:--- |:--- |\n",
    "| `lobe_names = ['frontal','parietal','temporal', 'occipital','insula']` | Assign list with strings to a variable | `list`, `variable` | \n",
    "| `lobes_mapper = {}` | Create an empty dictionary and assign it to a variable named lobes_mapper| `variable`,`dict` | \n",
    "| `for index,lobe in enumerate(lobe_names):` | Declare a for loop that iterates over all the elements in lobe_names using enumerate to construct an index value pair, and unpack that pair to the two variables  index and lobe | `variable`, `tuple`, `list` `iterator` |\n",
    "| `lobes_mapper[index] = {'abbreviation':lobe[:3].upper(),'name':lobe}` | Create a dictionary with two keys and two values. In the first pair, we transform the first three letters into uppercase and assign them to the key abbreviation. The second pair simply adds the lobe name to the key. We can now assign this local dictionary to the lobes_mapper dictionary we created at the beginning, with the key being the current  index +1| `dict` | \n",
    "| `lobes_mapper` | print out the contents of the dict to the screen  | `dict` |"
   ]
  },
  {
   "cell_type": "markdown",
   "metadata": {},
   "source": [
    "## What are list comprehensions?\n",
    "\n",
    "- List comprehension is a way to define and create lists building on existing lists.\n",
    "- The syntax is elegant `some_list = [expression for item in list]`\n",
    "- Consider the following example:"
   ]
  },
  {
   "cell_type": "code",
   "execution_count": 21,
   "metadata": {},
   "outputs": [
    {
     "data": {
      "text/plain": [
       "[[0, 1, 2, 3, 4],\n",
       " [0, 1, 2, 3, 4],\n",
       " [0, 1, 2, 3, 4],\n",
       " [0, 1, 2, 3, 4],\n",
       " [0, 1, 2, 3, 4]]"
      ]
     },
     "execution_count": 21,
     "metadata": {},
     "output_type": "execute_result"
    }
   ],
   "source": [
    "grid = []\n",
    "for row in range(5):\n",
    "    grid.append(list(range(5)))\n",
    "grid   "
   ]
  },
  {
   "cell_type": "markdown",
   "metadata": {},
   "source": [
    "- Now compare it to this form: "
   ]
  },
  {
   "cell_type": "code",
   "execution_count": 20,
   "metadata": {},
   "outputs": [
    {
     "data": {
      "text/plain": [
       "[[0, 1, 2, 3, 4],\n",
       " [0, 1, 2, 3, 4],\n",
       " [0, 1, 2, 3, 4],\n",
       " [0, 1, 2, 3, 4],\n",
       " [0, 1, 2, 3, 4]]"
      ]
     },
     "execution_count": 20,
     "metadata": {},
     "output_type": "execute_result"
    }
   ],
   "source": [
    "grid = [list(range(5)) for row in range(5)]\n",
    "grid"
   ]
  },
  {
   "cell_type": "markdown",
   "metadata": {},
   "source": [
    "### Nested List comprehensions rotated grid example \n",
    "- In the same way we can created hierarchy in for loops we can create nested lists\n"
   ]
  },
  {
   "cell_type": "code",
   "execution_count": 22,
   "metadata": {},
   "outputs": [
    {
     "data": {
      "text/plain": [
       "[[0, 0, 0, 0, 0],\n",
       " [1, 1, 1, 1, 1],\n",
       " [2, 2, 2, 2, 2],\n",
       " [3, 3, 3, 3, 3],\n",
       " [4, 4, 4, 4, 4]]"
      ]
     },
     "execution_count": 22,
     "metadata": {},
     "output_type": "execute_result"
    }
   ],
   "source": [
    "grid_rot90 =[]\n",
    "for col in range(5):\n",
    "    tmp = []\n",
    "    for row in grid:\n",
    "        tmp.append(row[col])\n",
    "    grid_rot90.append(tmp)   \n",
    "grid_rot90 "
   ]
  },
  {
   "cell_type": "markdown",
   "metadata": {},
   "source": [
    "`````{admonition} Challenge\n",
    "Now try to rewrite the code using list comprehensions \n",
    "````{dropdown} Solution \n",
    "```{code-block} python\n",
    "grid_rot90 = [[row[col] for row in grid] for col in range(5)]\n",
    "```\n",
    "````\n",
    "`````"
   ]
  },
  {
   "cell_type": "markdown",
   "metadata": {},
   "source": [
    "## Using `zip()` to create complex combinations\n",
    "- Zip creates an iterator of tuples, where each tuple contains the i-th element of each argument sequence or iterable. When the shortest input iterable is exhausted, the iterator stops. "
   ]
  },
  {
   "cell_type": "code",
   "execution_count": 24,
   "metadata": {},
   "outputs": [
    {
     "data": {
      "text/plain": [
       "[(6, 's'), (5, 't'), (4, 'r'), (3, 'i'), (2, 'n'), (1, 'g')]"
      ]
     },
     "execution_count": 24,
     "metadata": {},
     "output_type": "execute_result"
    }
   ],
   "source": [
    "num_list = list(range(1,7))\n",
    "str_list  = list('string')\n",
    "result = list(zip(num_list[::-1], str_list))\n",
    "result"
   ]
  },
  {
   "cell_type": "markdown",
   "metadata": {},
   "source": [
    "### In contrast to enumerate we are not limited to two lists "
   ]
  },
  {
   "cell_type": "code",
   "execution_count": 25,
   "metadata": {},
   "outputs": [
    {
     "data": {
      "text/plain": [
       "[(6, 's', 1), (5, 't', 2), (4, 'r', 3), (3, 'i', 4), (2, 'n', 5), (1, 'g', 6)]"
      ]
     },
     "execution_count": 25,
     "metadata": {},
     "output_type": "execute_result"
    }
   ],
   "source": [
    "num_list = list(range(1,7))\n",
    "str_list  = list('string')\n",
    "result = list(zip(num_list[::-1], str_list,num_list))\n",
    "result"
   ]
  },
  {
   "cell_type": "markdown",
   "metadata": {},
   "source": [
    "### Zip has the ability to unpack a list of tuples as well"
   ]
  },
  {
   "cell_type": "code",
   "execution_count": 26,
   "metadata": {},
   "outputs": [
    {
     "name": "stdout",
     "output_type": "stream",
     "text": [
      "(6, 5, 4, 3, 2, 1)\n",
      "('s', 't', 'r', 'i', 'n', 'g')\n",
      "(1, 2, 3, 4, 5, 6)\n"
     ]
    }
   ],
   "source": [
    "a1,a2,a3 = zip(*result)\n",
    "print(a1)\n",
    "print(a2)\n",
    "print(a3)"
   ]
  },
  {
   "cell_type": "markdown",
   "metadata": {},
   "source": [
    "## Links to expand your understanding \n",
    "\n",
    "For those interested in learning more...\n",
    "\n",
    "- [Python Range() Function](https://www.datacamp.com/community/tutorials/python-range-function)\n",
    "- [Playing with iterators](https://campus.datacamp.com/courses/python-data-science-toolbox-part-2/using-iterators-in-pythonland)\n",
    "- [Data Structures](https://docs.python.org/3/tutorial/datastructures.html)\n",
    "- [list-comprehensions](https://docs.python.org/3/tutorial/datastructures.html#list-comprehensions)\n",
    "- [Zip](https://docs.python.org/3/library/functions.html#zip)"
   ]
  }
 ],
 "metadata": {
  "interpreter": {
   "hash": "758785a5db8cea210020796a8d499f9bc3415c1f560a1a7f9f9e7309f37457cf"
  },
  "kernelspec": {
   "display_name": "Python 3.10.4 ('dcarte_tutorials')",
   "language": "python",
   "name": "python3"
  },
  "language_info": {
   "codemirror_mode": {
    "name": "ipython",
    "version": 3
   },
   "file_extension": ".py",
   "mimetype": "text/x-python",
   "name": "python",
   "nbconvert_exporter": "python",
   "pygments_lexer": "ipython3",
   "version": "3.10.4"
  },
  "orig_nbformat": 4
 },
 "nbformat": 4,
 "nbformat_minor": 2
}
