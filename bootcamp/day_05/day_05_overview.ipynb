{
 "cells": [
  {
   "cell_type": "markdown",
   "metadata": {},
   "source": [
    "# DAY 05 - Data visualisation\n",
    "\n",
    "\n",
    "## What is data visualisation\n",
    "\n",
    "- Data visualisation is the graphical representation of information and data. \n",
    "- By using visual elements like charts, graphs and maps, data visualisation tools provide an accessible way to see, understand and communicate trends, outliers and patterns in data.\n",
    "- In the world of big data, data visualisation tools and technologies are essential for analysing massive amounts of information and making data-driven decisions.\n"
   ]
  }
 ],
 "metadata": {
  "kernelspec": {
   "display_name": "Python 3",
   "language": "python",
   "name": "python3"
  },
  "language_info": {
   "name": "python"
  }
 },
 "nbformat": 4,
 "nbformat_minor": 4
}
