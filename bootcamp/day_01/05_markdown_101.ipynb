{
 "cells": [
  {
   "cell_type": "markdown",
   "metadata": {},
   "source": [
    "# Markdown 101\n",
    "\n",
    "\n",
    "## What is Markdown?\n",
    "Markdown is the formating codes for creating publishable data science report using Jupyter. \n",
    "The Markdown formatting process requires you to use syntax to apply various formatting, such as **bold text** or *italics*.\n",
    "In this section, we will go over all the different ways to create a structured document using the Markdown syntax supported by Jupyter Notebook.\n"
   ]
  },
  {
   "cell_type": "markdown",
   "metadata": {},
   "source": [
    "\n",
    "### **The lab notebook** \n",
    "**The lab notebook** is where you try out ideas for your study and is intended for you and in special cases someone you are working with (can and will be messy). \n",
    "\n",
    "### Here are some best practices that work for me\n",
    "\n",
    "1. Use a simple naming convention \n",
    "    `[#]_[notebook_description]_[author_initials]_[YYYY-MM-DD].ipynb`\n",
    "    - `#` The number of notebooks in an analysis can be very large, and clustering notebooks together with an identifying symbol makes it easier to keep track of what you tried.  \n",
    "    - `notebook_description` is just a short description of what this notebook is about, e.g. `exploratory_analysis`,  `pre_processing`, `FIR_FC_mining` or `final_report`. \n",
    "    - `author_initials` Is essential when working together with collaborators using a joint repository or when sending over your work to a supervisor.\n",
    "    - `Date` Could take any form but is the simplest way of keeping track of what you did \n",
    "\n",
    "1. Include a meaningful introduction (H1 header) that describes the notebooks purpose and content.\n",
    "1. Make your notebook's headings and documentation in markdown cells clear and concise. Tell people about your workflow steps and consider how it might benefit you in the future.\n",
    "1. Refactor and outsource code into modules. Every time you copy and paste a piece of code, you should consider replacing it with a function. This will not only make your notebook more readable, but also make fixing errors easier.\n",
    "\n"
   ]
  },
  {
   "cell_type": "markdown",
   "metadata": {},
   "source": [
    "\n",
    "## Markdown Syntax guide\n",
    "\n",
    "- The underlying machinery that supports Jupyter rendering is HTML \n",
    "- However, the main idea is not to use it for sophisticated web design but rather to speed up and simplify the processes of analytical investigation. \n",
    "- As such Markdown syntax is minimal and sufficient\n",
    "- If (or when) you feel like you want to create something that isn't supported by the existing syntax you should probably use different software. \n",
    "- The current setup supports, creating sophisticated formatting for your text and code with simple to remember the syntax. \n",
    "\n"
   ]
  },
  {
   "cell_type": "markdown",
   "metadata": {},
   "source": [
    "\n",
    "```{dropdown} ## Create a new notebook with a lab structure\n",
    "Select the top cell using your mouse \n",
    "Press <kbd>Esc +  M</kbd>\n",
    "Write the following in that cell \n",
    "````{code-block} markdown\n",
    "# Lab Template\n",
    "This notebook covers the different ways to use markdown to create an effective data science document.\n",
    "````\n",
    "Now press <kbd>Shift+Enter</kbd> to render the Markdown cell  \n",
    "Use the following shortcut <kbd>Shift+Cmd+s</kbd> or just use the GUI to rename the open notebook\n",
    "Use a name that follows the rules we just covered e.g. `1_Lab_template_ES_YYYY-MM-DD.ipynb`  \n",
    "```  "
   ]
  },
  {
   "cell_type": "markdown",
   "metadata": {},
   "source": [
    "\n",
    "<!-- \n",
    "## Creating a report structure\n",
    "**The report** is a polished version of your study and is intended for collaboration and review. Making a habit of aggregating useful discoveries into a single report notebook used for communication with colleagues can save you a lot of time!\n",
    "If you follow the following structure for the final project for this course, you can easily convert your report into an article.\n",
    "\n",
    "## Report structure \n",
    "1. Title   \n",
    "1. Short introduction that has the following sections:\n",
    "    - Background (The general context and the specific area of this report)\n",
    "    - The problem or question you wish to address  \n",
    "    - The data and methods you are using to answer your questions\n",
    "    - Summarizes your main result and explain your results in relation to your questions.\n",
    "    - Discuss how your findings compare to existing knowledge? \n",
    "1. Data overview that has the following information\n",
    "    - Where is the data from \n",
    "    - Sample size\n",
    "    - Group/condition of intrest\n",
    "    - A full description of the other covariates of intrest\n",
    "    - What metrics are you using and how were they extracted\n",
    "1. Methods\n",
    "    - What are the different methods used in this report \n",
    "    - Briefly explain what they do and why they will be suitable for you to answer your questions.\n",
    "1. Results \n",
    "   - There should be a clear title for each result section that guides the reader through the results in context.\n",
    "   - Start the text with a question\n",
    "   - Then add a sentence explaining what you did and how\n",
    "   - Report the findings\n",
    "   - Tie them to previous research with some references (at least one).\n",
    "1. Conclusion   \n",
    "    - State your most important results in the Conclusion section. \n",
    "    - Make sure you do not simply summarize your findings - interpret the findings at a higher level of abstraction. \n",
    "    - What are the limitations of your study? \n",
    "    - Do you believe you did an adequate job of answering the questions stated in the introduction in light of the limitations? \n",
    "    - Lastly, what suggestions do you have for future research?\n",
    " -->\n"
   ]
  },
  {
   "cell_type": "markdown",
   "metadata": {},
   "source": [
    "\n",
    " ## Cell Headers\n",
    "\n",
    "- Cell headers come in six sizes \n",
    "- They are defined using the pound sign `#` before the text \n",
    "- The number of symbols `##` = h2 corresponds with the heading level \n",
    "\n",
    "# Here is an example starting from H1 the largest heading \n",
    "## H2\n",
    "### H3\n",
    "#### H4\n",
    "##### H5\n",
    "###### H6 is the smallest heading \n"
   ]
  },
  {
   "cell_type": "markdown",
   "metadata": {},
   "source": [
    "`````{admonition} Challenge\n",
    "Add a new markdown cell and create all the different heading sizes \n",
    "````{dropdown} Solution \n",
    "```{code-block} markdown \n",
    "## Cell headers come in six sizes \n",
    "They are defined using the pound sign `#` before the text \n",
    "# Here is an example starting from H1 the largest heading \n",
    "## H2 \n",
    "### H3 \n",
    "#### H4 \n",
    "##### H5 \n",
    "###### H6 \n",
    "```\n",
    "````\n",
    "`````"
   ]
  },
  {
   "cell_type": "markdown",
   "metadata": {},
   "source": [
    "\n",
    "#### Styling text \n",
    " \n",
    "- Bold text is defined by either using two stars `**` **before and after the text** \n",
    "- Italic uses one star `*` before and after the *emphasized text*\n",
    "- Two tildas `\\~\\~` before and after text create the ~~strikethrough effect~~\n",
    "- ***Important text*** can be emphsised using three stars `***` \n",
    "\n"
   ]
  },
  {
   "cell_type": "markdown",
   "metadata": {},
   "source": [
    "\n",
    "#### Styling text - *indented quotes*\n",
    "\n",
    "\n",
    "> Indenting can be initialized using Greater than and space `> ` before the text\n",
    "> > The text will move two indents with two greater signs\n",
    "> > > We can continue like this for as long as we want\n"
   ]
  },
  {
   "cell_type": "markdown",
   "metadata": {},
   "source": [
    "\n",
    "\n",
    "#### HTML tags \n",
    "\n",
    "- HTML tags are special words or letters surrounded by angle brackets, < and >. \n",
    "- Jupyter relies on HTML to render everything, and as a byproduct, we can use native HTML components  \n",
    "- Styling text with tags is easy, you declare a region with a `<tag>` and close it like this `</tag>` \n",
    "- For example Marked <mark>text</mark> is defined using `<mark>` tag.\n",
    "- <u>Underline text</u> is almost never used but is defined using `<u>` tag. \n",
    "- Adding css attributes such as <mark style=\"background-color:blue;color:white\"> background-color or font color</mark> within the enclosed area is also an option. \n",
    "- This is achieved using the inline css style attribute changing the tag to look like this `<mark style=\"background-color:blue;color:white\">`. \n",
    "- In a similiar way text can be <small>small</small>, <ins>inserted</ins> using `<small>` and `<ins>`. \n",
    "- It can be subscript<sub>text</sub> or Superscript<sup>text</sup> using `<sub>` and `<sup>`\n",
    "- This opens a whole world of options, that to be honest you will rarely use, but can be fun &#128528;&#128521;. \n"
   ]
  },
  {
   "cell_type": "markdown",
   "metadata": {},
   "source": [
    "\n",
    "#### Preformatted Text \n",
    "\n",
    "- Sometimes you want the text to show up exactly as you write it.\n",
    "- Without Markdown tags doing their schtick \n",
    "- This can be achieved by indent every line by at least four spaces (or one tab). \n",
    "- Alternatively, you can make a code block using 3 or more tildes (~) or backticks (`) on a line before and after the text.\n"
   ]
  },
  {
   "cell_type": "markdown",
   "metadata": {},
   "source": [
    "\n",
    "\n",
    "#### Code blocks and code highlighting\n",
    "\n",
    "- When you declare a code block, you can also add the type of language to enable syntax highlighting \n",
    "\n",
    "For example `~~~python` \n",
    "\n",
    "~~~python \n",
    "def f(x):\n",
    "    #Returns the square root of x\n",
    "    return x**0.5\n",
    "~~~\n",
    "\n",
    "Or `~~~html` \n",
    "~~~html \n",
    "<hr style=\"border-top: 2px solid black;\">\n",
    "~~~\n"
   ]
  },
  {
   "cell_type": "markdown",
   "metadata": {},
   "source": [
    "\n",
    "#### Creating Markdown bullet lists \n",
    "\n",
    "- To create a circular bullet point, simply use either `-`, `*` or `*` followed with either one or two spaces.  \n",
    "    * Each bullet point must be on its line.\n",
    "        - To construct sub levels just press TAB to before a bullet using one of the methods described here. \n",
    "\n",
    "~~~markdown \n",
    "- Main bullet point\n",
    "    * Sub bullet point\n",
    "        - Subsub bullet point\n",
    "~~~\n"
   ]
  },
  {
   "cell_type": "markdown",
   "metadata": {},
   "source": [
    "\n",
    "#### Creating Markdown numbered lists \n",
    "\n",
    "1. To create a numbered list, enter `1.` followed by a space\n",
    "    1. To construct sub levels just press TAB to before a bullet. \n",
    "    1. You don't need to number your lists markdown will do that for you  \n",
    "    Adding text just requires  \n",
    "    ending each line  \n",
    "    with 2 spaces `  `\n",
    "    1. Numbers will continue once you add aline\n",
    "\n",
    "~~~markdown \n",
    "1. Numbered item 1\n",
    "1. Numbered item 2\n",
    "    1. Numbered item A\n",
    "        1. Numbered item a\n",
    "~~~        \n",
    "\n"
   ]
  },
  {
   "cell_type": "markdown",
   "metadata": {},
   "source": [
    "\n",
    "#### Finally, I am a sucker for to-do lists that start my notebooks. \n",
    "\n",
    "- To start a checklist, use `- [ ]` followed by space, for example:\n",
    "- Creating checked boxes simply replaces the space with x - like this `- [x]`\n",
    "- [ ]  this is not checked\n",
    "- [x]  but this is checked\n",
    "\n",
    "\n"
   ]
  },
  {
   "cell_type": "markdown",
   "metadata": {},
   "source": [
    "\n",
    "\n",
    "#### Hyperlinks and references \n",
    "\n",
    "There are four different ways of adding a hyperlink in a cell. \n",
    "The simplest is by declaring the link explicitly\n",
    "1. https://en.wikipedia.org/wiki/Hyperlink    \n",
    "Another more subtle approach creates a name link pair\n",
    "1. [Hyperlink](https://en.wikipedia.org/wiki/Hyperlink)\n",
    "1. created like this:`[Hyperlink](https://en.wikipedia.org/wiki/Hyperlink)`   \n",
    "\n",
    "Sometimes you would wish to reference[[1][Hyperlink]] within the text \n",
    "1. Creating these references requires a name id pair `[[1][Hyperlink]]`\n",
    "1. And an invisible id link pair placed at the bottom of the cell\n",
    "1. `[Hyperlink]: https://en.wikipedia.org/wiki/Hyperlink \"Wiki Hyperlink\"`  \n",
    "\n",
    "[Hyperlink]: https://en.wikipedia.org/wiki/Hyperlink \"Wiki Hyperlink.\"\n",
    "\n",
    "Finally you can always use HTML tags to define a <a href=\"https://en.wikipedia.org/wiki/Hyperlink\">Hyperlink</a>\n",
    "1. Using this syntax \n",
    "\n",
    "\n",
    "```html\n",
    "<a href=\"https://en.wikipedia.org/wiki/Hyperlink\">Hyperlink</a>\n",
    "```\n"
   ]
  },
  {
   "cell_type": "markdown",
   "metadata": {},
   "source": [
    "\n",
    "#### Horizontal rules\n",
    "\n",
    "Adding some horizontal lines can be as simple as just writing `---`\n",
    "----\n",
    "If you want to impress, however, HTML tags are simpler to use and more flexible. \n",
    "\n",
    "Consider this :\n",
    "<hr style=\"height:30px;background-color:gray\">\n",
    "Or this: \n",
    "<hr style=\"height:10px;background-color:blue;width:50%\">\n",
    "\n",
    "Which were generated using this code: \n",
    "~~~html\n",
    "<hr style=\"height:30px;background-color:gray\">\n",
    "<hr style=\"height:10px;background-color:blue;width:50%\">\n",
    "~~~\n"
   ]
  },
  {
   "cell_type": "markdown",
   "metadata": {},
   "source": [
    "\n",
    "#### Sourcing local video content \n",
    "\n",
    "We can run loal video files using relative paths and an html tag\n",
    "\n",
    "~~~html\n",
    "<video controls src=\"../files/some video.mp4\">Title</video>\n",
    "~~~\n",
    "\n",
    "<video controls src=\"../files/Reproducibility and Replicability in Science.mp4\"></video>\n",
    "\n"
   ]
  },
  {
   "cell_type": "markdown",
   "metadata": {},
   "source": [
    "\n",
    "#### Insert images  \n",
    "\n",
    "To insert images to your markdown file, use the markup `![Alt text](/path/image.ext)`. The path can either be relative to the website, or a full URL for an external image. The supported formats are .png, .jpg, .gif. You might be able to use some .svg files too, depending on its structure.\n",
    "\n",
    "Markdown uses an image syntax that is intended to resemble the syntax for links.  \n",
    "- Start with an exclamation mark: `!`   \n",
    "- Followed by a set of square brackets, containing the alt attribute text for the image;\n",
    "- followed by a set of parentheses, containing the URL or path to the image, and an optional title attribute enclosed in double or single quotes.\n",
    "\n",
    "For clickable images, simply wrap the image markup into a link markup\n",
    "\n",
    "![](http://www.scottbot.net/HIAL/wp-content/uploads/2012/01/Last-line-of-defense-statistics.gif)\n",
    "\n",
    "~~~markdown\n",
    "![Semantic description of image](/images/path/to/folder/image.png)\n",
    "![Semantic description of image](/images/path/to/folder/image.png)] <br> we can also add some captions\n",
    "[![Semantic description of image](/images/path/to/folder/image.png)]](path to click)\n",
    "~~~\n"
   ]
  },
  {
   "cell_type": "markdown",
   "metadata": {},
   "source": [
    "\n",
    "### Mathematical equations and LaTeX\n",
    "\n",
    "- Dealing with mathematical equations can be annoying. \n",
    "- However, Jupyter embeds a powerful coding language that was designed specifically for this. \n",
    "- With syntax that is as simple as the Markdown and HTML codes, we learned by now. \n",
    "\n",
    "\n",
    "#### Inline and display equations \n",
    "- You can write inline formulas, enclosing the formula with `$` signs. \n",
    "- For example, consider the inline form of the Gaussian Normal Distribution\n",
    "\n",
    "~~~markdown \n",
    "$P(x) = \\frac{1}{\\sigma \\sqrt {2\\pi}}e^{-(x-\\mu)^2/2 \\sigma^2}$. \n",
    "~~~\n",
    "\n",
    "- You can also write them in display mode by using two \\\\$$ signs, for example.\n",
    "\n",
    "~~~markdown \n",
    "$$P(x)=\\frac{1}{{\\sigma \\sqrt {2\\pi}}}e^{-(x-\\mu)^2/2 \\sigma^2}$$. \n",
    "~~~\n",
    "\n",
    "#### If you want to learn more  \n",
    "\n",
    "- Latex is a world on its own, and if you need it, you probably know some of it already. \n",
    "- Here is an excellent tutorial designed explicitly for the LaTeX flavour supported by Jupyter [mathjax-basic](https://math.meta.stackexchange.com/questions/5020/mathjax-basic-tutorial-and-quick-reference) \n",
    "- And a long list of all the commands available can be found [here](http://www.onemathematicalcat.org/MathJaxDocumentation/TeXSyntax.htm)\n",
    "\n"
   ]
  },
  {
   "cell_type": "markdown",
   "metadata": {},
   "source": [
    "\n",
    "### Creating tables \n",
    "\n",
    "- While you could use latex to create your tables, Markdown simplifies this. \n",
    "- Tables are created using pipes `|` and hyphens `-`. \n",
    "- Hyphens are used to create each column's header, while pipes separate each column. \n",
    "- You must include a blank line before your table for it to correctly render.\n",
    "\n"
   ]
  },
  {
   "cell_type": "markdown",
   "metadata": {},
   "source": [
    "#### Consider the following table \n",
    "\n",
    "##### Broken Assumptions\n",
    "<div class=\"special_table\">\n",
    "  \n",
    "| Information about| Type of Knowledge |  Information|  \n",
    "| :--- | :--- | :--- |\n",
    "| Who |  <mark style=\"background-color:green;color:white\"> Explicit</mark> | 'I' |\n",
    "| What | <mark style=\"background-color:green;color:white\"> Explicit</mark> | 'gave my cat a bath' | \n",
    "| Where | <mark style=\"background-color:red;color:white\"> Implicit</mark> | “the bathroom” |\n",
    "| When | <mark style=\"background-color:green;color:white\"> Explicit</mark> | the other day|\n",
    "| Why | <mark style=\"background-color:red;color:white\"> Implicit</mark>  | “the cat was dirty”| \n",
    "| How | <mark style=\"background-color:red;color:white\"> Implicit</mark>  | “He put the cat in the bath”| \n",
    "</div>"
   ]
  },
  {
   "cell_type": "markdown",
   "metadata": {},
   "source": [
    "\n",
    "`````{admonition} Challenge\n",
    "Try to recreate it using markdown  \n",
    "\n",
    "````{dropdown} Solution \n",
    "```{code-block} markdown \n",
    "| Information about | Type of Knowledge | Information |  \n",
    "| :--- | :--- | :--- | \n",
    "| Who |  <mark style=\"background-color:green;color:white\"> Explicit</mark> | 'I' |\n",
    "| What | <mark style=\"background-color:green;color:white\"> Explicit</mark> | 'gave my cat a bath' | \n",
    "| Where |<mark style=\"background-color:red;color:white\"> Implicit</mark> | “the bathroom” |\n",
    "| When | <mark style=\"background-color:green;color:white\"> Explicit</mark> | the other day|\n",
    "| Why | <mark style=\"background-color:red;color:white\"> Implicit</mark>  | “the cat was dirty”| \n",
    "| How | <mark style=\"background-color:red;color:white\"> Implicit</mark>  | “He put the cat in the bath”| \n",
    "```\n",
    "#### Here is the original joke, which has some relevance to our course \n",
    "> *I gave my cat a bath the other day… they love it.*  \n",
    "> *He sat there, he enjoyed it, and it was fun for me too.*  \n",
    "> *The fur would stick to my tongue, but other than that…*  \n",
    "> *(Steve Martin)*   \n",
    "Taken from Jared Volle, M.S. CreativeStandUp.com  \n",
    "\n",
    "Jared Volle argues that the punchline works because it violates one of the implicit assumptions we made based on the knowledge we had. \n",
    "Call me crazy but I see a really great cognitive study here.  \n",
    "\n",
    "````\n",
    "`````"
   ]
  },
  {
   "cell_type": "markdown",
   "metadata": {},
   "source": [
    "#### Table content can be aligned \n",
    "\n",
    "- Content alignment is achieved by including colons :\n",
    "    - To the right ---: of the hyphens\n",
    "    - Left :--- of the hyphens\n",
    "    - Or using colons in both sides :---: will centre the content \n",
    "\n",
    "~~~markdown\n",
    "| latex  | rendering | context |\n",
    "| ---: | :---: |  :--- |\n",
    "| `$x_1$`  | $x_1$    | Subscripts    |\n",
    "| `$x^1$`     | $x^1$     | Superscripts      |\n",
    "| `$x_1^y$`     | $x_1^y$     | both      |\n",
    "| `$x_{1^y}$`     | $x_{1^y}$     | nested below     |\n",
    "| `$x^{y_1}$`     | $x^{y_1}$    | nested above      |\n",
    "| `$x^{CRTX}$`     | $x^{CRTX}$     | long words      |\n",
    "~~~\n"
   ]
  },
  {
   "cell_type": "markdown",
   "metadata": {},
   "source": [
    "\n",
    "- Which will look like this \n",
    "\n",
    "| latex  | rendering | context |\n",
    "| ---: | :---: |  :--- |\n",
    "|  x_1  | $$x_1$$ | Subscripts |\n",
    "|  x^1  | $$x^1$$ | Superscripts |\n",
    "|  x_1^y  | $$x_1^y$$ | both |\n",
    "|  x_{1^y}  | $$x_{1^y}$$ | nested below |\n",
    "|  x^{y_1}  | $$x^{y_1}$$ | nested above |\n",
    "|  x^{CRTX}  | $$x^{CRTX}$$ | long words |\n",
    "\n"
   ]
  },
  {
   "cell_type": "markdown",
   "metadata": {},
   "source": [
    "### Timothy Leary\n",
    "\n",
    "![](https://cdn-60080014c1ac18031c64f892.closte.com/wp-content/uploads/2017/08/leary-750x420.jpg)\n",
    "\n",
    "\n",
    "###### American psychologist\n",
    "**Born**: October 22, 1920, Springfield, Massachusetts, United States  \n",
    "**Died**: May 31, 1996, Beverly Hills, California, United States\n",
    "\n",
    "*“The language of God is not English or Latin; the language of God is cellular and molecular.”*\n",
    "###### ***As quoted in \"Leary calls LSD 'sacrament'\" in The Tech (8 November 1966), p. 6***"
   ]
  },
  {
   "cell_type": "markdown",
   "metadata": {},
   "source": [
    "\n",
    "\n",
    "`````{admonition} Challenge\n",
    "Try to replicate the above section in your notebook using a combination of what you learned so far.\n",
    "````{dropdown} Solution \n",
    "```{code-block} markdown\n",
    "### Timothy Leary\n",
    "\n",
    "![](https://cdn-60080014c1ac18031c64f892.closte.com/wp-content/uploads/2017/08/leary-750x420.jpg)\n",
    "\n",
    "\n",
    "###### American psychologist\n",
    "**Born**: October 22, 1920, Springfield, Massachusetts, United States  \n",
    "**Died**: May 31, 1996, Beverly Hills, California, United States\n",
    "\n",
    "*“The language of God is not English or Latin; the language of God is cellular and molecular.”*\n",
    "***As quoted in \"Leary calls LSD 'sacrament'\" in The Tech (8 November 1966), p. 6***\n",
    "```\n",
    "````\n",
    "`````"
   ]
  },
  {
   "cell_type": "markdown",
   "metadata": {},
   "source": [
    "## Links to expand your understanding \n",
    "\n",
    "For those interested in using FSL, you might find the following tutorials useful.\n",
    "\n",
    "- [Markdown in Jupyter Notebook](https://www.datacamp.com/community/tutorials/markdown-in-jupyter-notebook)\n",
    "- [Markdown Cells basics](https://jupyter-notebook.readthedocs.io/en/stable/examples/Notebook/Working%20With%20Markdown%20Cells.html)\n"
   ]
  }
 ],
 "metadata": {
  "interpreter": {
   "hash": "758785a5db8cea210020796a8d499f9bc3415c1f560a1a7f9f9e7309f37457cf"
  },
  "kernelspec": {
   "display_name": "Python 3",
   "language": "python",
   "name": "python3"
  },
  "language_info": {
   "name": "python",
   "version": "3.10.4"
  }
 },
 "nbformat": 4,
 "nbformat_minor": 4
}
