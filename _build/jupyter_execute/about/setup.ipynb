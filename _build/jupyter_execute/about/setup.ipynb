{
 "cells": [
  {
   "cell_type": "markdown",
   "metadata": {},
   "source": [
    "# ⚙️ Course Setup\n",
    "\n",
    "##  Requirements\n",
    "\n",
    "- For the online sessions you must have a laptop with a Mac, Linux,or Windows operating system. \n",
    "- Make sure you have admin privileges on the laptop so you can install the packages needed.\n",
    "\n"
   ]
  },
  {
   "cell_type": "markdown",
   "metadata": {},
   "source": [
    "\n",
    "## What do I need to have installed in advance? \n",
    "- To participate in the online sessions, you will need access to the following tools and software:\n",
    "  - Bash terminal \n",
    "  - Anaconda\n",
    "    - [Windows](https://docs.anaconda.com/anaconda/install/windows/)\n",
    "    - [Apple](https://docs.anaconda.com/anaconda/install/mac-os/)\n",
    "    - [Linux](https://docs.anaconda.com/anaconda/install/linux/)\n",
    "\n",
    "\n",
    "### On your local computer I recommend also \n",
    "- [VScode](https://code.visualstudio.com/)\n",
    "\n",
    "\n",
    "#### Recommended VScode extensions\n",
    "- [Python](https://marketplace.visualstudio.com/items?itemName=ms-python.python)\n",
    "- [Pylance](https://marketplace.visualstudio.com/items?itemName=ms-python.vscode-pylance)\n",
    "- [Path Intellisense](https://marketplace.visualstudio.com/items?itemName=christian-kohler.path-intellisense)\n",
    "- [Code Spell Checker](https://marketplace.visualstudio.com/items?itemName=streetsidesoftware.code-spell-checker)\n",
    "\n"
   ]
  },
  {
   "cell_type": "markdown",
   "metadata": {},
   "source": [
    "\n",
    "### You can also participate using the GWDG jupyter hub\n",
    "- To setup the GWDG terminal to play nice with the anaconda setup you need to add a setup file called `.profile` \n",
    "- This isn't hard just follow the steps below \n",
    "  - Log on to the [GWDG Jupyter hub](https://jupyter-cloud.gwdg.de/jhub/hub/user/0610061/lab)\n",
    "  - Open a terminal using the Launcher \n",
    "  - In the terminal run the command `nano` (the simplest text editor out there)\n",
    "  - copy the following lines \n",
    "  ~~~bash\n",
    "  echo \"running my .profile\"\n",
    "  source /opt/conda/etc/profile.d/conda.sh\n",
    "  export PATH=/opt/conda/bin:/opt/conda/condabin:/opt/conda/bin:/usr/local/sbin:/usr/local/bin:/usr/sbin:/usr/bin:/sbin:/bin:/bin\n",
    "  ~~~\n",
    "  - Now press <kbd>ctrl</kbd>+<kbd>x</kbd>\n",
    "  - And when prompted to supply a file name write `.profile`\n",
    "  - To test if this works run the following lines \n",
    "  ~~~bash\n",
    "  source ~/.profile\n",
    "  conda activate base\n",
    "  ~~~ \n",
    "  - If your terminal now includes a `(base)` prefix to the standard input line in the terminal you are all setup for the next step\n",
    "  "
   ]
  },
  {
   "cell_type": "markdown",
   "metadata": {},
   "source": [
    "### Setup the course environment \n",
    "- This step assumes you have either have an anaconda local setup with Jupyter lab installed or you are working with the gwdg cluster \n",
    "- Open a new notebook in a folder that will contain your course material \n",
    "- Copy the following code into a cell and run it \n",
    "- This code block creates a folder structure for the course \n",
    "\n",
    "~~~python\n",
    "from pathlib import Path\n",
    "root = Path().cwd()\n",
    "project_root = f'{root}/SYS_2022/course'\n",
    "sub_folders = ['data','notebooks','code','report','background']\n",
    "_ = [Path(project_root + f'/{folder}').mkdir(parents=True, exist_ok=True) for folder in sub_folders]\n",
    "~~~"
   ]
  },
  {
   "cell_type": "markdown",
   "metadata": {},
   "source": [
    "- The next code block creates a yaml file that includes all the different tools we will be using in the next five weeks "
   ]
  },
  {
   "cell_type": "markdown",
   "metadata": {},
   "source": [
    "~~~python\n",
    "project_root = Path(f'{root}/SYS_2022')\n",
    "SYS_2022 = project_root / 'SYS_2022.yml'\n",
    "SYS_2022.write_text(\"\"\"\n",
    "name: SYS_2022\n",
    "channels:\n",
    "  - conda-forge\n",
    "dependencies:\n",
    "  - numpy\n",
    "  - pandas\n",
    "  - jupyterlab\n",
    "  - scipy\n",
    "  - statsmodels\n",
    "  - pingouin\n",
    "  - scikit-learn\n",
    "  - matplotlib\n",
    "  - seaborn\n",
    "  - plotly\n",
    "  - pip\n",
    "  - ipykernel\n",
    "  - watermark\n",
    "\"\"\")\n",
    "~~~"
   ]
  },
  {
   "cell_type": "markdown",
   "metadata": {},
   "source": [
    "- The next code block creates the conda environment\n",
    "\n",
    "~~~python\n",
    "%conda env create --file  ~/SYS_2022/SYS_2022.yml\n",
    "~~~"
   ]
  },
  {
   "cell_type": "markdown",
   "metadata": {},
   "source": [
    "- Final step is to register this environment to the jupyter lab hub\n",
    "~~~python\n",
    "%%bash\n",
    "python -m ipykernel install --user --name SYS_2022 --display-name \"Python (SYS_2022)\"\n",
    "~~~"
   ]
  },
  {
   "cell_type": "markdown",
   "metadata": {},
   "source": [
    "### Check if this worked \n",
    "- If everything worked as planned when you run the following line you will get the new SYS_2022 environment as one of the conda environments\n",
    "\n",
    "~~python \n",
    "%conda env list\n",
    "~~~\n",
    "\n",
    "- Refresh your terminal and you can now work on the lab material "
   ]
  },
  {
   "cell_type": "markdown",
   "metadata": {},
   "source": [
    "```{note}\n",
    "To create notebooks inside the notebook folder you should navigate to the notebooks folder using the jupyter lab explorer and launch a notebook when you are in the right folder\n",
    "```"
   ]
  }
 ],
 "metadata": {
  "kernelspec": {
   "display_name": "Python 3",
   "language": "python",
   "name": "python3"
  },
  "language_info": {
   "codemirror_mode": {
    "name": "ipython",
    "version": 3
   },
   "file_extension": ".py",
   "mimetype": "text/x-python",
   "name": "python",
   "nbconvert_exporter": "python",
   "pygments_lexer": "ipython3",
   "version": "3.10.4"
  }
 },
 "nbformat": 4,
 "nbformat_minor": 4
}