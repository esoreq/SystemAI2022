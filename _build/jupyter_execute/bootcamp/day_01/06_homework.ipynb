{
 "cells": [
  {
   "cell_type": "markdown",
   "metadata": {},
   "source": [
    "## DAY 01 - HOMEWORK \n",
    "\n",
    "1. Create a GitHub repository for this course with the following file\n",
    "   1. A Readme.md file with some short information about you \n",
    "      1. Your name \n",
    "      2. A head shot \n",
    "      3. Affiliation\n",
    "      4. Academic background in two sentences \n",
    "      5. Cognitive background in two sentences \n",
    "      6. Programming background in a markdown table\n",
    "      7. Interests and hobbies\n",
    "2. Add a folder called `bootcamp`\n",
    "   1. In it create another folder called `day_01`\n",
    "   2. Inside that folder create some documentation of the things you learned in either jupyter notebook format or markdown\n",
    "3. Join the slack workspace \n",
    "   1. Go to [slack](https://slack.com/help/articles/212675257-Join-a-Slack-workspace) and create a slack account \n",
    "   2. Go to the course workspace and ask to [join](https://join.slack.com/t/max-planckworkspace/signup)\n",
    "4. Copy your github link in the slack channel for bootcamp-day_01\n",
    "5. Finally this course is an evolving course and can be adapted extensively if you give feedback. \n",
    "   1. To give useful feedback that will improve the material for next year students, and potentially change future sections in this years course I would love if you could point out the following:\n",
    "      1. **Mistakes** - we all do them and if you can just point to where they are by right clicking on the section header to copy the link and pointing out the mistake\n",
    "      2. **Errors** - Sometimes things don't work for multiple reasons - pointing to the section (using a link) that produced an error and copying the error itself will allow me to understand what went wrong and fix that \n",
    "      3. **Confusing** Communication is the essence of this course. If you struggle with getting an idea or concept it means that I didn't communicate in a clear way. This can happen just because I am unaware of gaps in your knowledge that I failed to provide or I assumed you have from previous courses. If you point that out, I can easily either add a section that clarifies the point or add a link to further your knowledge using some external content\n",
    "      4. **Repeated** - Sometimes I repeat myself because I think that this is an important point that should be attacked in several examples, however, if you feel that a section is redundant, please point that out and I will consider removing it in the future. \n",
    "      5. **Interesting** - \"Interesting\" is the holy grail of online material. Please let me know if you feel that I managed to make something difficult more accessible because of its content. I do experiments in my online material, and knowing when it works is as important as knowing when it doesn't.\n",
    "      6. **Boring** - Feel free to tell me when you feel that I added information that is boring or if you have any suggestions to improve the way this can be delivered to make it more interesting. This will motivate me to do less of these things.  \n",
    "   2. You can either do this directly in the slack app on the relevant day - or using the OPEN-LMS framework    "
   ]
  }
 ],
 "metadata": {
  "language_info": {
   "codemirror_mode": {
    "name": "ipython",
    "version": 3
   },
   "file_extension": ".py",
   "mimetype": "text/x-python",
   "name": "python",
   "nbconvert_exporter": "python",
   "pygments_lexer": "ipython3",
   "version": "3.10.4"
  }
 },
 "nbformat": 4,
 "nbformat_minor": 2
}