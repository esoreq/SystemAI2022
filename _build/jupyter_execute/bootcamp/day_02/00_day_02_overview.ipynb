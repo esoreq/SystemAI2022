{
 "cells": [
  {
   "cell_type": "markdown",
   "metadata": {},
   "source": [
    "# DAY 02 - Python\n",
    "## What is Python?\n",
    "- Python is a popular high-level, object-oriented, interpreted programming language created by a developer called Guido Van Rossum.\n",
    "\n",
    "\n",
    "## Why Python?\n",
    "\n",
    "- It is easy to learn and master, and its syntax is straightforward to both learn and read. \n",
    "- In the context of Data Science in general and specifically in neuroscience it is quickly the new lingua franca of the field. \n",
    "\n",
    "\n",
    "### Some basic recommendations\n",
    "\n",
    "- Python projects can require complex development or implementation; in those cases, it is recommended to use some integrated development environment (IDE), for example, PyCharm. \n",
    "- While the use of IDE is not discouraged, I feel that it isn't necessary for applied Data Science projects (as opposed to algorithm development, for example). \n",
    "- Moreover, to strengthen the encoding of the language syntax, I recommend at the beginning to force yourself to use Jupyter lab or notebook interface only.\n",
    "- However, my current favourite tool is visual studio code, which has a nice Python and Jupyter built-in support.\n",
    "\n",
    "\n",
    "### Module Recommendation\n",
    "\n",
    "- today's main objective is to familiarize you with the use of this framework  and Python, making the writing process intuitive.\n",
    "- All slides you will see were created using Jupyter, and all code snippets can be copied and pasted into your notebook.\n",
    "I urge you, however, to avoid doing so.\n",
    "Instead, write down the commands in your notebook and try to add your own comments.\n",
    "- Keep in mind that you are doing this for future you, who in six months will want to know how to do something trivial, and having it in one (or more) notebooks that you have created will be worthwhile \n",
    "\n",
    "### What this module will cover\n",
    "- This module is composed of several sections going over Python essentials such as: \n",
    "    1. Python Basics (e.g. Syntax Essentials, Keywords, Variables, Data Types, Comments and Operators)\n",
    "    1. Python Data Structures (e.g. Lists, Tuples, Dictionaries and Sets)\n",
    "    1. Python Programming Fundamentals (Conditions, Loops and Functions)\n",
    "- The goal is to quickly give you a cheat sheet to start using Python as a data scientist.\n",
    "\n",
    "\n",
    "\n",
    "### Links to expand your understanding \n",
    "\n",
    "For those interested in learning more...\n",
    "\n",
    "- [FreeCodeCamp’s Python Tutorial ](https://www.youtube.com/watch?v=rfscVS0vtbwl)\n",
    "- [Udemy’s Python for Data Science and Machine Learning Bootcamp](https://bit.ly/dataprofessor-udemy-python-ds)\n",
    "- [Coursera Python Course](https://www.coursera.org/learn/python)\n",
    "- [Introduction to Python](https://learn.datacamp.com/courses/intro-to-python-for-data-science)\n",
    "- [Intermediate Python](https://learn.datacamp.com/courses/intermediate-python)\n",
    "- [Introduction to Python](https://learn.datacamp.com/courses/intro-to-python-for-data-science)\n",
    "\n"
   ]
  },
  {
   "cell_type": "markdown",
   "metadata": {},
   "source": [
    "## Schedule \n",
    "\n",
    "|Time    | Session    | Description   | \n",
    "|-----------:|----------:|---------:|\n",
    "|09:00-09:10| Day 02 overview | Intro to Python |\n",
    "|09:10-09:30| [Python Syntax 101](01_python_syntax_101.ipynb)| Python Syntax |\n",
    "|09:30-09:35| Break | Coffee or Tea |\n",
    "|09:35-10:55| [Variables 101](02_variables_101.ipynb)| What are variables |\n",
    "|09:55-10:00| Break | Coffee or Tea |\n",
    "|10:00-10:30| [Data types 101](03_data_types.ipynb)| Basic data types in Python |\n",
    "|10:30-10:35| Break | Coffee or Tea |\n",
    "|10:35-11:00| [Data structures 101](04_python_data_structures.ipynb) | Basic data structures in Python |\n",
    "|11:00-11:05| Break | Coffee or Tea |\n",
    "|11:05-11:45| [Basic programming 101](05_programming_101.ipynb)| Learning to automate stuff in python |\n",
    "|11:45-11:50| Break | Coffee or Tea |\n",
    "|11:50-12:00| [homework assignment](06_home_work.ipynb) | Going over the homework assignment |\n",
    "\n",
    "## Home work\n",
    "\n",
    "After finishing all the modules please complete day two [homework assignment](06_home_work.ipynb)"
   ]
  }
 ],
 "metadata": {
  "interpreter": {
   "hash": "758785a5db8cea210020796a8d499f9bc3415c1f560a1a7f9f9e7309f37457cf"
  },
  "kernelspec": {
   "display_name": "Python 3",
   "language": "python",
   "name": "python3"
  },
  "language_info": {
   "codemirror_mode": {
    "name": "ipython",
    "version": 3
   },
   "file_extension": ".py",
   "mimetype": "text/x-python",
   "name": "python",
   "nbconvert_exporter": "python",
   "pygments_lexer": "ipython3",
   "version": "3.10.4"
  }
 },
 "nbformat": 4,
 "nbformat_minor": 4
}