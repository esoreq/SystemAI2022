{
 "cells": [
  {
   "cell_type": "markdown",
   "metadata": {},
   "source": [
    "## DAY 02 - HOMEWORK \n",
    "\n",
    "- Solve as many of the exercises below "
   ]
  },
  {
   "cell_type": "markdown",
   "metadata": {},
   "source": [
    "### Exercise 1\n",
    "- Extract the second and middle element from the list below\n",
    "\n",
    "~~~python\n",
    "L = list(range(10,90,5))\n",
    "# your solution goes here \n",
    "second = ?\n",
    "middle = ?\n",
    "~~~"
   ]
  },
  {
   "cell_type": "markdown",
   "metadata": {},
   "source": [
    "### Exercise 2\n",
    "- Using indexing extract the following sequence from the list L \n",
    "~~~python\n",
    "L = list(range(10,90,5))\n",
    "seq = [40,50,60]\n",
    "# your solution goes here \n",
    "sub_seq = ? \n",
    "~~~"
   ]
  },
  {
   "cell_type": "markdown",
   "metadata": {},
   "source": [
    "### Exercise 3\n",
    "- Using one line of code count the number of unique words in this [story](http://fiftywordstories.com/2022/02/09/michelle-wilson-hoarder-s8-e5/)\n",
    "~~~python\n",
    "story = \"\"\"'There`s safety in things,' the therapist explains, noting mile-high clothing, bric-a-brac, and boxes.\n",
    "            They won`t abandon you like the husband who vanished eight years ago. \n",
    "            You’re filling the void with objects that can`t love you.\n",
    "            But he`s wrong. The thing in the basement corner loves me.\n",
    "\n",
    "            When I feed him.\"\"\"\n",
    "# your solution goes here \n",
    "~~~"
   ]
  },
  {
   "cell_type": "markdown",
   "metadata": {},
   "source": [
    "### Exercise 4\n",
    "- Using the same story print out only the words that are repeated \n",
    "- For an extra challenge try to do this with one line also \n",
    "~~~python\n",
    "story = \"\"\"'There`s safety in things,' the therapist explains, noting mile-high clothing, bric-a-brac, and boxes.\n",
    "            They won`t abandon you like the husband who vanished eight years ago. \n",
    "            You’re filling the void with objects that can`t love you.\n",
    "            But he`s wrong. The thing in the basement corner loves me.\n",
    "\n",
    "            When I feed him.\"\"\"\n",
    "# your solution goes here \n",
    "~~~"
   ]
  },
  {
   "cell_type": "markdown",
   "metadata": {},
   "source": [
    "### Exercise 4\n",
    "- Using the same story create a dictionary that contains the following:\n",
    "  - A unique numeric index\n",
    "  - The number of word occurrence in the story \n",
    "  - The number of characters has\n",
    "- For an extra challenge try to do this with one line also \n",
    "~~~python\n",
    "story = \"\"\"'There`s safety in things,' the therapist explains, noting mile-high clothing, bric-a-brac, and boxes.\n",
    "            They won`t abandon you like the husband who vanished eight years ago. \n",
    "            You’re filling the void with objects that can`t love you.\n",
    "            But he`s wrong. The thing in the basement corner loves me.\n",
    "\n",
    "            When I feed him.\"\"\"\n",
    "# your solution goes here \n",
    "~~~"
   ]
  },
  {
   "cell_type": "markdown",
   "metadata": {},
   "source": [
    "### Exercise 5\n",
    "- Create the multiplication matrix for 1-13 \n",
    "- So that the cell with index 2,3 will be $3x4=12$\n",
    "- For an extra challenge try to do this with one line\n",
    "~~~python\n",
    "# your solution goes here \n",
    "~~~"
   ]
  },
  {
   "cell_type": "markdown",
   "metadata": {},
   "source": [
    "### Exercise 6\n",
    "- Now create the power matrix for 1-6 \n",
    "- So that the cell in 3,4 will be $4^5=1024$\n",
    "- For an extra challenge try to do this with one line\n",
    "~~~python\n",
    "# your solution goes here \n",
    "~~~"
   ]
  },
  {
   "cell_type": "markdown",
   "metadata": {},
   "source": [
    "### Exercise 7\n",
    "- Now create the power matrix for 1-6 \n",
    "- So that the cell in 3,4 will be $4^5=1024$\n",
    "- For an extra challenge try to do this with one line\n",
    "~~~python\n",
    "# your solution goes here \n",
    "~~~"
   ]
  },
  {
   "cell_type": "markdown",
   "metadata": {},
   "source": [
    "### Exercise 8\n",
    "- Using steps of 46 and starting from 25 and ending with 163, print out a sequence of strings that begins with the word Week (e.g. Week_025, … , Week_163) and is on the same line separated by commas.\n",
    "\n",
    "~~~python\n",
    "# your solution goes here \n",
    "~~~"
   ]
  },
  {
   "cell_type": "markdown",
   "metadata": {},
   "source": [
    "### Exercise 9 \n",
    "- For all the numbers from 1 to 15 (including) print the number a comma and if they are odd,(O) or even (E).\n",
    "- So the sequence will begin with the following `1-O,2-E,3-O`\n",
    "\n",
    "~~~python\n",
    "# your solution goes here \n",
    "~~~"
   ]
  },
  {
   "cell_type": "markdown",
   "metadata": {},
   "source": [
    "### Exercise 10 \n",
    "- Using the following sequence `abCdEFGHjd0rG` print out if a single character is UPPER (U) or lower (l) case\n",
    "- So the sequence will begin with the following `a-l,b-l,C-U`\n",
    "\n",
    "~~~python\n",
    "seq = \"abCdEFGHjd0rG\"\n",
    "# your solution goes here \n",
    "~~~"
   ]
  },
  {
   "cell_type": "markdown",
   "metadata": {},
   "source": [
    "### Exercise 11 \n",
    "- Using one of the following quotes\n",
    "  - \"People say nothing is impossible, but I do nothing every day.\"\n",
    "  - \"The best thing about the future is that it comes one day at a time.\"\n",
    "  - \"The difference between stupidity and genius is that genius has its limits.\"\n",
    "- And using a for loop print **on the same line** the same sentence with underscores instead of spaces    \n",
    "\n",
    "~~~python\n",
    "sen1 = \"People say nothing is impossible, but I do nothing every day.\"\n",
    "sen2 = \"The best thing about the future is that it comes one day at a time.\"\n",
    "sen3 = \"The difference between stupidity and genius is that genius has its limits.\"\n",
    "# your solution goes here \n",
    "~~~"
   ]
  },
  {
   "cell_type": "markdown",
   "metadata": {},
   "source": [
    "### Exercise 12 \n",
    "- Using the same quote print each word independently stacked\n",
    "- So for sentence 01 your output will look like this\n",
    "  - People\n",
    "  - say\n",
    "  - ...\n",
    "  - day.\n",
    "\n",
    "~~~python\n",
    "# your solution goes here \n",
    "~~~"
   ]
  }
 ],
 "metadata": {
  "kernelspec": {
   "display_name": "dcarte_tutorials",
   "language": "python",
   "name": "dcarte_tutorials"
  },
  "language_info": {
   "codemirror_mode": {
    "name": "ipython",
    "version": 3
   },
   "file_extension": ".py",
   "mimetype": "text/x-python",
   "name": "python",
   "nbconvert_exporter": "python",
   "pygments_lexer": "ipython3",
   "version": "3.10.4"
  }
 },
 "nbformat": 4,
 "nbformat_minor": 4
}