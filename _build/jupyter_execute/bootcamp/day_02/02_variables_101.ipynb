{
 "cells": [
  {
   "cell_type": "markdown",
   "metadata": {},
   "source": [
    "# PYTHON Basic Data Types\n",
    "\n",
    "## Variables and Basic Data Types\n",
    "\n",
    "A variable implies change and is a way of referring to some space in your computer memory that is allocated by your computer program to store a specific type of information. In other words, it is a symbolic name for a physical address in memory that contains static or dynamic values. Python supports many different Data Types, and in contrast to other programming languages where you need to specify the data type of a variable, python will automatically find out the data type at the process of allocation.\n",
    "\n",
    "- None (aka null object or variable) \n",
    "- Boolean Type (True or False)\n",
    "- Strings (strings in Python are arrays of bytes representing unicode characters)\n",
    "- Integers $\\pm\\mathbb{Z}$\n",
    "- Floats $\\pm\\mathbb{R}$\n",
    "- Complex $\\pm\\mathbb{C}$"
   ]
  },
  {
   "cell_type": "markdown",
   "metadata": {},
   "source": [
    "#### For example: "
   ]
  },
  {
   "cell_type": "code",
   "execution_count": 1,
   "metadata": {},
   "outputs": [],
   "source": [
    "my_none_variable = None \n",
    "my_bool_variable = True \n",
    "my_string_variable = 'STRING'\n",
    "my_int_variable = 1\n",
    "my_float_variable = 1.1\n",
    "my_complex_variable = 1.1+1j"
   ]
  },
  {
   "cell_type": "markdown",
   "metadata": {},
   "source": [
    "### Variables Naming Styles\n",
    "\n",
    "#### lowercase/UPPERCASE\n",
    "    - single letter - b/B\n",
    "    - single name - var/VAR\n",
    "    - lower_with_underscores/UPPER_WITH_UNDERSCORES\n",
    "\n",
    "#### For example\n",
    "\n"
   ]
  },
  {
   "cell_type": "code",
   "execution_count": 2,
   "metadata": {},
   "outputs": [],
   "source": [
    "a = A = 5\n",
    "number = NUMBER = 154.456\n",
    "first_name = FIRST_NAME = 'EYAL'"
   ]
  },
  {
   "cell_type": "markdown",
   "metadata": {},
   "source": [
    "#### mixed cases\n",
    "    - CamelCase - capitalize all the starting letters\n",
    "    - mixedCase - initial lowercase character\n",
    "    \n",
    "    \n",
    "#### For example"
   ]
  },
  {
   "cell_type": "code",
   "execution_count": 3,
   "metadata": {},
   "outputs": [],
   "source": [
    "Last_Name = last_Name = 'Soreq'"
   ]
  },
  {
   "cell_type": "markdown",
   "metadata": {},
   "source": [
    "### Introspective functions \n",
    "\n",
    "- Introspection is the ability to interrogate objects at runtime.\n",
    "- Everything in python is an object. \n",
    "- Every object in Python may have attributes and methods. \n",
    "- By using introspection, we can dynamically examine python objects. \n"
   ]
  },
  {
   "cell_type": "markdown",
   "metadata": {},
   "source": [
    "#### `type` function returns the type of an object."
   ]
  },
  {
   "cell_type": "code",
   "execution_count": 4,
   "metadata": {},
   "outputs": [
    {
     "data": {
      "text/plain": [
       "NoneType"
      ]
     },
     "execution_count": 4,
     "metadata": {},
     "output_type": "execute_result"
    }
   ],
   "source": [
    "type(None) "
   ]
  },
  {
   "cell_type": "markdown",
   "metadata": {},
   "source": [
    "#### The `dir` function return list of methods and attributes associated with that object."
   ]
  },
  {
   "cell_type": "code",
   "execution_count": 5,
   "metadata": {},
   "outputs": [
    {
     "data": {
      "text/plain": [
       "['__bool__',\n",
       " '__class__',\n",
       " '__delattr__',\n",
       " '__dir__',\n",
       " '__doc__',\n",
       " '__eq__',\n",
       " '__format__',\n",
       " '__ge__',\n",
       " '__getattribute__',\n",
       " '__gt__',\n",
       " '__hash__',\n",
       " '__init__',\n",
       " '__init_subclass__',\n",
       " '__le__',\n",
       " '__lt__',\n",
       " '__ne__',\n",
       " '__new__',\n",
       " '__reduce__',\n",
       " '__reduce_ex__',\n",
       " '__repr__',\n",
       " '__setattr__',\n",
       " '__sizeof__',\n",
       " '__str__',\n",
       " '__subclasshook__']"
      ]
     },
     "execution_count": 5,
     "metadata": {},
     "output_type": "execute_result"
    }
   ],
   "source": [
    "dir(None) \n"
   ]
  },
  {
   "cell_type": "markdown",
   "metadata": {},
   "source": [
    "#### The id function returns a special id of an object representing a specific location in memory."
   ]
  },
  {
   "cell_type": "code",
   "execution_count": 6,
   "metadata": {},
   "outputs": [
    {
     "data": {
      "text/plain": [
       "4518950352"
      ]
     },
     "execution_count": 6,
     "metadata": {},
     "output_type": "execute_result"
    }
   ],
   "source": [
    "id(None) "
   ]
  },
  {
   "cell_type": "markdown",
   "metadata": {},
   "source": [
    "#### The `help` function is used to find what other functions do\n",
    "- You can either call it explicitly or using question mark `?` symbol after the function"
   ]
  },
  {
   "cell_type": "code",
   "execution_count": 7,
   "metadata": {},
   "outputs": [
    {
     "name": "stdout",
     "output_type": "stream",
     "text": [
      "Help on NoneType object:\n",
      "\n",
      "class NoneType(object)\n",
      " |  Methods defined here:\n",
      " |  \n",
      " |  __bool__(self, /)\n",
      " |      True if self else False\n",
      " |  \n",
      " |  __repr__(self, /)\n",
      " |      Return repr(self).\n",
      " |  \n",
      " |  ----------------------------------------------------------------------\n",
      " |  Static methods defined here:\n",
      " |  \n",
      " |  __new__(*args, **kwargs) from builtins.type\n",
      " |      Create and return a new object.  See help(type) for accurate signature.\n",
      "\n"
     ]
    }
   ],
   "source": [
    "help(None) "
   ]
  },
  {
   "cell_type": "code",
   "execution_count": 8,
   "metadata": {},
   "outputs": [],
   "source": [
    "len?"
   ]
  },
  {
   "cell_type": "markdown",
   "metadata": {},
   "source": [
    "#### The `print` function prints the specified message to the screen, or other standard output devices."
   ]
  },
  {
   "cell_type": "code",
   "execution_count": 9,
   "metadata": {},
   "outputs": [
    {
     "name": "stdout",
     "output_type": "stream",
     "text": [
      "None\n"
     ]
    }
   ],
   "source": [
    "print(None) "
   ]
  },
  {
   "cell_type": "markdown",
   "metadata": {},
   "source": [
    "### Variables are just skins to a place in memory\n",
    "\n",
    "- The id of a variable returns a unique integer representing the identity of an object\n",
    "- This is also the address of the object in memory\n",
    "- When you change the variable, you are creating a new object \n",
    "\n"
   ]
  },
  {
   "cell_type": "code",
   "execution_count": 10,
   "metadata": {},
   "outputs": [
    {
     "name": "stdout",
     "output_type": "stream",
     "text": [
      "The ID of some_var is 4518950352\n"
     ]
    }
   ],
   "source": [
    "some_var = None\n",
    "print(f'The ID of some_var is {id(some_var)}')\n"
   ]
  },
  {
   "cell_type": "code",
   "execution_count": 11,
   "metadata": {},
   "outputs": [
    {
     "name": "stdout",
     "output_type": "stream",
     "text": [
      "When I change the content of some_var the id changes as well 4605748416\n"
     ]
    }
   ],
   "source": [
    "some_var = 'some different data'\n",
    "print(f'When I change the content of some_var the id changes as well {id(some_var)}')\n"
   ]
  },
  {
   "cell_type": "markdown",
   "metadata": {},
   "source": [
    "## Basic Data Types\n",
    "\n",
    "Everything in python is an instance (a copy) of a class (an object).   \n",
    "\n",
    "We can use type to examine the different classes these variables are instances of \n"
   ]
  },
  {
   "cell_type": "markdown",
   "metadata": {},
   "source": [
    "### NoneType (`None`)\n",
    "\n",
    "NoneType is the type for the None object, which is an object that indicates no value. \n",
    "None is the return value of functions that \"don't return anything\".\n",
    "It is also a typical default return value for functions that search for something and may or may not find it."
   ]
  },
  {
   "cell_type": "code",
   "execution_count": 12,
   "metadata": {},
   "outputs": [
    {
     "name": "stdout",
     "output_type": "stream",
     "text": [
      "<class 'NoneType'>\n"
     ]
    }
   ],
   "source": [
    "print(f'{type(my_none_variable)}')\n"
   ]
  },
  {
   "cell_type": "markdown",
   "metadata": {},
   "source": [
    "### Integers (`int`)\n",
    "- Integers are numbers without fractional parts derived from the Latin word integer, which means \"whole.\" \n",
    "- Integers consist of zero, positive natural numbers (1, 2, 3, etc. ), whole numbers or counting numbers, additive inverses, and negative integers (-1, -2, -3, etc.). \n",
    "- Often, the set of integers is denoted by the boldface (Z) or bold blackboard letter $\\pm\\mathbb{Z}$ which comes from the German words Zahlen (\"numbers\")."
   ]
  },
  {
   "cell_type": "code",
   "execution_count": 13,
   "metadata": {},
   "outputs": [
    {
     "name": "stdout",
     "output_type": "stream",
     "text": [
      "<class 'int'>\n"
     ]
    }
   ],
   "source": [
    "print(f'{type(my_int_variable)}')"
   ]
  },
  {
   "cell_type": "markdown",
   "metadata": {},
   "source": [
    "### Boolean (`bool`)\n",
    "\n",
    "Booleans in Python are special case of integers (subclass of integer). \n",
    "There are only two booleans, `False` and `True`. \n",
    "They are also interpreted as 0 and 1 respectively. "
   ]
  },
  {
   "cell_type": "code",
   "execution_count": 14,
   "metadata": {},
   "outputs": [
    {
     "name": "stdout",
     "output_type": "stream",
     "text": [
      "<class 'bool'>\n"
     ]
    }
   ],
   "source": [
    "print(f'{type(my_bool_variable)}')\n"
   ]
  },
  {
   "cell_type": "markdown",
   "metadata": {},
   "source": [
    "### Floating-point (`float`)\n",
    "A floating point number is a whole number with a decimal point, which can be positive or negative.\n",
    "Because the decimal point is able to \"float\" to any place, floating point numbers are named after this fact.\n",
    "`float` is a 64-bit representation of a double-precision floating-point number in Python, which is analogous to double in other programming languages such as C or Matlab.\n",
    "A few examples of floating point numbers are: 5.2, 0.5, and -10001.67.\n",
    "The range of possible numbers limited by $-1.797e+308 <= f <= 1.797e+308$ and anything above or below that number is converted to $\\pm$ inf"
   ]
  },
  {
   "cell_type": "code",
   "execution_count": 15,
   "metadata": {},
   "outputs": [
    {
     "name": "stdout",
     "output_type": "stream",
     "text": [
      "<class 'float'>\n"
     ]
    }
   ],
   "source": [
    "print(f'{type(my_float_variable)}')"
   ]
  },
  {
   "cell_type": "markdown",
   "metadata": {},
   "source": [
    "### Complex (`complex`)\n",
    "An complex number is represented by “ x + yi “. Python converts the real numbers x and y into complex using the function complex(x,y). The real part can be accessed using the method real() and imaginary part can be represented by imag().\n"
   ]
  },
  {
   "cell_type": "code",
   "execution_count": 16,
   "metadata": {},
   "outputs": [
    {
     "name": "stdout",
     "output_type": "stream",
     "text": [
      "<class 'complex'>\n"
     ]
    }
   ],
   "source": [
    "print(f'{type(my_complex_variable)}')"
   ]
  },
  {
   "cell_type": "markdown",
   "metadata": {},
   "source": [
    "### String (`str`) and character (`chr`)\n",
    "Textual data in Python is handled with str objects, or strings. \n",
    "Strings are sequences of Unicode code points represented in python as `chr`.\n",
    "Which are just a mapping between numbers and symbols\n",
    "For example the mapping of uppercase english symbols starts at 65 and ends at 90\n",
    "Therefore `chr(67)` is interpreted as the letter `C` and is of type string. "
   ]
  },
  {
   "cell_type": "code",
   "execution_count": 17,
   "metadata": {},
   "outputs": [
    {
     "name": "stdout",
     "output_type": "stream",
     "text": [
      "<class 'str'>\n",
      "<class 'str'>\n"
     ]
    }
   ],
   "source": [
    "print(f'{type(my_string_variable)}')\n",
    "print(f'{type(chr(67))}')"
   ]
  },
  {
   "cell_type": "markdown",
   "metadata": {},
   "source": [
    "## Immutable vs Mutable Objects\n",
    "\n",
    "- In Python, there are two types of objects:\n",
    "    - Immutable objects can't be changed\n",
    "    - Mutable objects can be changed\n",
    "    \n",
    "- All the basic data types are immutable!!!  "
   ]
  },
  {
   "cell_type": "markdown",
   "metadata": {},
   "source": [
    "## Links to expand your understanding \n",
    "\n",
    "For those interested in learning more...\n",
    "\n",
    "- [realpython - Basic Data Types in Python](https://realpython.com/python-data-types/)\n",
    "- [Variables and Types](https://www.learnpython.org/en/Variables_and_Types)\n"
   ]
  }
 ],
 "metadata": {
  "kernelspec": {
   "display_name": "Python 3",
   "language": "python",
   "name": "python3"
  },
  "language_info": {
   "codemirror_mode": {
    "name": "ipython",
    "version": 3
   },
   "file_extension": ".py",
   "mimetype": "text/x-python",
   "name": "python",
   "nbconvert_exporter": "python",
   "pygments_lexer": "ipython3",
   "version": "3.10.4"
  }
 },
 "nbformat": 4,
 "nbformat_minor": 4
}