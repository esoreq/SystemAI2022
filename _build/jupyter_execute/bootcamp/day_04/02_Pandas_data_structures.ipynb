{
 "cells": [
  {
   "cell_type": "markdown",
   "metadata": {},
   "source": [
    "# Pandas 101\n",
    "\n",
    "\n",
    "## Data wrangling using Pandas\n",
    "- In science we make a distinction between raw data and tidy data\n",
    "- The former is usually not annotated, is closer to the acquisition source  (i.e. sensor or measurement device ) and requires some steps to perform analytics on \n",
    "- The latter represents a statistical table that is the foundation for at least one (but often many) questions to be asked on \n",
    "- The term Data wrangling is a commonly used catch-all to describe the early stages of the data analytics process. \n",
    "- It reflects the steps required to transition from raw to tidy datasets \n",
    "  - While the steps can change from project to project the most common ones are: \n",
    "    1. Collecting\\Extracting data: \n",
    "       1. The first step is to identify the data you need, \n",
    "       2. Where to acquire\\download it from, and then, of course, \n",
    "       3. How to collect it\n",
    "    2. Structuring the data  \n",
    "       1. Most raw data is unstructured and requires some attention to the way you structure it \n",
    "       2. In some cases you will use summary scores to simplify the data \n",
    "       3. Other cases may call for statistical data mining and transformation \n",
    "       4. But in the end we want to transform the data into a format where the following rules apply:\n",
    "          1. Each row reflects an observation\n",
    "          2. Each column reflects a variable/feature of the dataset \n",
    "          3. Each cell reflects a measurement\n",
    "          4. Ideally, both rows and columns are labelled \n",
    "    3. Exploratory data analysis\n",
    "       1. Describe the data components using both summary tables and data visualisation  \n",
    "       2. Identify redundancy \n",
    "       3. Identify outliers\n",
    "       4. Measure missingness \n",
    "       5. Identify association between features and categories \n",
    "    4. Data cleaning, enriching and fusion \n",
    "       1. Removing or clipping outliers \n",
    "       2. Removing errors and duplications \n",
    "       3. Standardising category names, dates and numeric formats \n",
    "       4. Fusing together complementary datasets to improve available information\n"
   ]
  },
  {
   "cell_type": "markdown",
   "metadata": {},
   "source": [
    "\n",
    "## What is Pandas?\n",
    "- While part of this list can be achieved using Numpy it not what it was designed for \n",
    "- Pandas, is a package that was designed from scratch to support all of the above list and more. \n",
    "- It extends all the elements in numpy by creating three abstract objects\n",
    "  - `Index` - Immutable sequence used for indexing and alignment. The basic object storing axis labels for all pandas objects.\n",
    "  - `Series` - One-dimensional `ndarray` with axis labels (including time series).\n",
    "  - `DataFrame` - Two-dimensional, size-mutable, tabular data. Data structure also contains labelled axes (rows and columns). \n",
    "- These three tools provides efficient access to these sorts of \"data munging\" tasks that occupy much of a data scientist's time.\n",
    "\n",
    "\n"
   ]
  },
  {
   "cell_type": "markdown",
   "metadata": {},
   "source": [
    "## Pandas practicalities \n",
    "### Importing pandas\n",
    "- Most of the times we will import both Numpy and Pandas \n",
    "- The syntax uses the `as` command to create shortcuts to speed up the code writing "
   ]
  },
  {
   "cell_type": "code",
   "execution_count": 1,
   "metadata": {},
   "outputs": [
    {
     "ename": "ModuleNotFoundError",
     "evalue": "No module named 'pandas'",
     "output_type": "error",
     "traceback": [
      "\u001b[0;31m---------------------------------------------------------------------------\u001b[0m",
      "\u001b[0;31mModuleNotFoundError\u001b[0m                       Traceback (most recent call last)",
      "Input \u001b[0;32mIn [1]\u001b[0m, in \u001b[0;36m<cell line: 2>\u001b[0;34m()\u001b[0m\n\u001b[1;32m      1\u001b[0m \u001b[38;5;28;01mimport\u001b[39;00m \u001b[38;5;21;01mnumpy\u001b[39;00m \u001b[38;5;28;01mas\u001b[39;00m \u001b[38;5;21;01mnp\u001b[39;00m \n\u001b[0;32m----> 2\u001b[0m \u001b[38;5;28;01mimport\u001b[39;00m \u001b[38;5;21;01mpandas\u001b[39;00m \u001b[38;5;28;01mas\u001b[39;00m \u001b[38;5;21;01mpd\u001b[39;00m\n\u001b[1;32m      3\u001b[0m \u001b[38;5;28;01mimport\u001b[39;00m \u001b[38;5;21;01mdatetime\u001b[39;00m \u001b[38;5;28;01mas\u001b[39;00m \u001b[38;5;21;01mdt\u001b[39;00m\n\u001b[1;32m      4\u001b[0m \u001b[38;5;28;01mfrom\u001b[39;00m \u001b[38;5;21;01mIPython\u001b[39;00m\u001b[38;5;21;01m.\u001b[39;00m\u001b[38;5;21;01mdisplay\u001b[39;00m \u001b[38;5;28;01mimport\u001b[39;00m display, Markdown\n",
      "\u001b[0;31mModuleNotFoundError\u001b[0m: No module named 'pandas'"
     ]
    }
   ],
   "source": [
    "import numpy as np \n",
    "import pandas as pd\n",
    "import datetime as dt\n",
    "from IPython.display import display, Markdown\n"
   ]
  },
  {
   "cell_type": "markdown",
   "metadata": {},
   "source": [
    "### Pandas basic structures \n",
    "#### The Index class \n",
    "- As stated above the major component missing from numpy is the ability to add some context to the arrays \n",
    "- The Index class provides this context \n",
    "- It is in fact the parent of a family of classes each designed to provide the means to efficiently perform various operations on the two dimensions of the tidy table format. \n",
    "- For example: \n",
    "  - RangeIndex : Index of some monotonic integer range (i.e. start stop and step)\n",
    "  - CategoricalIndex : Index of categories \n",
    "  - DatetimeIndex : Index of datetime64 data.\n",
    "  - MultiIndex : A multi-level, or hierarchical Index.\n",
    "\n",
    "```{Important}\n",
    "When you call pd.Index the class will automatically try to infer which of it's many sub-classes to use for the sake of efficiency  \n",
    "```\n",
    "- For example:\n",
    "  "
   ]
  },
  {
   "cell_type": "code",
   "execution_count": 25,
   "metadata": {},
   "outputs": [
    {
     "name": "stdout",
     "output_type": "stream",
     "text": [
      "Index(['a', 'b', 'c', 'd', 'e'], dtype='object')\n",
      "RangeIndex(start=2, stop=11, step=2)\n",
      "Int64Index([2, 4, 6, 8, 10], dtype='int64')\n",
      "CategoricalIndex(['a', 'b', 'c', 'd', 'e'], categories=['a', 'b', 'c', 'd', 'e'], ordered=False, dtype='category')\n",
      "DatetimeIndex(['2020-10-01', '2020-10-05'], dtype='datetime64[ns]', freq=None)\n",
      "MultiIndex([('a', 1),\n",
      "            ('a', 2),\n",
      "            ('b', 1),\n",
      "            ('b', 3)],\n",
      "           )\n"
     ]
    }
   ],
   "source": [
    "print(pd.Index(['a','b','c','d','e']))\n",
    "print(pd.Index(range(2,11,2)))\n",
    "print(pd.Index([2,4,6,8,10]))\n",
    "print(pd.Index(pd.Categorical(['a','b','c','d','e'])))\n",
    "print(pd.Index([dt.datetime(2020,10,1),dt.datetime(2020,10,5)]))\n",
    "print(pd.Index([('a',1),('a',2),('b',1),('b',3)]))\n"
   ]
  },
  {
   "cell_type": "markdown",
   "metadata": {},
   "source": [
    "##### Index are very similar to an immutable numpy array\n",
    "- For example, you can use standard indexing notation to retrieve values or slices\n",
    "- And it has many of the attributes that NumPy arrays have\n",
    "- However you cannot change indices, only replace the whole thing\n"
   ]
  },
  {
   "cell_type": "code",
   "execution_count": 41,
   "metadata": {},
   "outputs": [
    {
     "name": "stdout",
     "output_type": "stream",
     "text": [
      "C\n",
      "Index(['C', 'D', 'E'], dtype='object')\n",
      "Index(['B', 'E'], dtype='object')\n",
      "size = 26, shape = (26,), dtype = object\n"
     ]
    }
   ],
   "source": [
    "A2Z = pd.Index([chr(n) for n in range(65,91)])\n",
    "print(A2Z[2])\n",
    "print(A2Z[2:5])\n",
    "print(A2Z[1:6:3])\n",
    "print(f'size = {A2Z.size}, shape = {A2Z.shape}, dtype = {A2Z.dtype}')"
   ]
  },
  {
   "cell_type": "markdown",
   "metadata": {},
   "source": [
    "##### Index support many set operations \n",
    "- Python's built-in set methods such as Difference, Intersection or Union are supported either by set notation\n",
    "- Or as builtin functions"
   ]
  },
  {
   "cell_type": "code",
   "execution_count": 45,
   "metadata": {},
   "outputs": [
    {
     "name": "stdout",
     "output_type": "stream",
     "text": [
      "Index 01 = [1, 4, 7, 10] and Index 02 = [1, 3, 5, 7, 9]\n",
      "Difference of ix_01 and ix_02                      = Int64Index([3, 4, 5, 9, 10], dtype='int64')\n",
      "Intersection of ix_01 and ix_02                    = RangeIndex(start=1, stop=11, step=6)\n",
      "Union of ix_01 and ix_02                           = Int64Index([1, 3, 4, 5, 7, 9, 10], dtype='int64')\n"
     ]
    }
   ],
   "source": [
    "ix_01 = pd.Index(range(1,11,3))\n",
    "ix_02 = pd.Index(range(1,11,2))\n",
    "print(f'Index 01 = {list(range(1,11,3))} and Index 02 = {list(range(1,11,2))}')\n",
    "print(f'{\"Symmetric Difference of ix_01 and ix_02\":<50} = {ix_01 ^ ix_02}')\n",
    "print(f'{\"Intersection of ix_01 and ix_02\":<50} = {ix_01 & ix_02}')\n",
    "print(f'{\"Union of ix_01 and ix_02\":<50} = {ix_01 | ix_02}')"
   ]
  },
  {
   "cell_type": "code",
   "execution_count": 48,
   "metadata": {},
   "outputs": [
    {
     "name": "stdout",
     "output_type": "stream",
     "text": [
      "Difference of ix_01 and ix_02                      = RangeIndex(start=4, stop=13, step=6)\n",
      "Difference of ix_02 and ix_01                      = Int64Index([3, 5, 9], dtype='int64')\n",
      "Intersection of ix_01 and ix_02                    = RangeIndex(start=1, stop=11, step=6)\n",
      "Union of ix_01 and ix_02                           = Int64Index([1, 3, 4, 5, 7, 9, 10], dtype='int64')\n"
     ]
    }
   ],
   "source": [
    "print(f'{\"Difference of ix_01 and ix_02\":<50} = {ix_01.difference(ix_02)}')\n",
    "print(f'{\"Difference of ix_02 and ix_01\":<50} = {ix_02.difference(ix_01)}')\n",
    "print(f'{\"Intersection of ix_01 and ix_02\":<50} = {ix_01.intersection(ix_02)}')\n",
    "print(f'{\"Union of ix_01 and ix_02\":<50} = {ix_01 | ix_02}')"
   ]
  },
  {
   "cell_type": "markdown",
   "metadata": {},
   "source": [
    "#### The Pandas Series Object\n",
    "- A Pandas `Series` is an object that contains at least three attributes \n",
    "  - one-dimensional array of values\n",
    "  - a pandas index, \n",
    "  - and a dtype.\n",
    "- It can be created from any sequence that can create a numpy array - because it is a numpy array (at least the value data is)\n",
    "- If you wish you can explicitly define an index \n",
    "- You can also add a name \n",
    "  "
   ]
  },
  {
   "cell_type": "code",
   "execution_count": 56,
   "metadata": {},
   "outputs": [
    {
     "name": "stdout",
     "output_type": "stream",
     "text": [
      "0    1\n",
      "1    2\n",
      "2    3\n",
      "dtype: int64\n",
      "a    1.0\n",
      "b    1.0\n",
      "c    1.0\n",
      "dtype: float64\n",
      "0    4\n",
      "1    6\n",
      "Name: 46, dtype: int64\n"
     ]
    }
   ],
   "source": [
    "print(pd.Series((1,2,3)))\n",
    "print(pd.Series(np.ones(3),index = ('a','b','c')))\n",
    "print(pd.Series(range(4,7,2),name='46'))"
   ]
  },
  {
   "cell_type": "markdown",
   "metadata": {},
   "source": [
    "##### Series provide the power of numpy arrays with the flexibility of dictionaries \n",
    "- For example, you can use standard indexing notation to retrieve values or slices\n",
    "- And it has many of the attributes that NumPy arrays have\n",
    "- It also has access to many analytical methods \n",
    "- A series cell can contain any type of data \n",
    "- And they are of course mutable \n",
    "- Also by default a Series Index will be implicitly sorted "
   ]
  },
  {
   "cell_type": "markdown",
   "metadata": {},
   "source": [
    "##### Series are by definition vectors\n",
    "- As you can see they have only one dimension \n",
    "- We can convert them to a 1D array that is called a data frame\n",
    "- The Series name becomes the column header and every element becomes a row "
   ]
  },
  {
   "cell_type": "code",
   "execution_count": 120,
   "metadata": {},
   "outputs": [
    {
     "name": "stdout",
     "output_type": "stream",
     "text": [
      "shape = (3,)\n"
     ]
    },
    {
     "data": {
      "text/html": [
       "<div>\n",
       "<style scoped>\n",
       "    .dataframe tbody tr th:only-of-type {\n",
       "        vertical-align: middle;\n",
       "    }\n",
       "\n",
       "    .dataframe tbody tr th {\n",
       "        vertical-align: top;\n",
       "    }\n",
       "\n",
       "    .dataframe thead th {\n",
       "        text-align: right;\n",
       "    }\n",
       "</style>\n",
       "<table border=\"1\" class=\"dataframe\">\n",
       "  <thead>\n",
       "    <tr style=\"text-align: right;\">\n",
       "      <th></th>\n",
       "      <th>vector_a</th>\n",
       "    </tr>\n",
       "  </thead>\n",
       "  <tbody>\n",
       "    <tr>\n",
       "      <th>a</th>\n",
       "      <td>1.0</td>\n",
       "    </tr>\n",
       "    <tr>\n",
       "      <th>b</th>\n",
       "      <td>1.0</td>\n",
       "    </tr>\n",
       "    <tr>\n",
       "      <th>c</th>\n",
       "      <td>1.0</td>\n",
       "    </tr>\n",
       "  </tbody>\n",
       "</table>\n",
       "</div>"
      ],
      "text/plain": [
       "   vector_a\n",
       "a       1.0\n",
       "b       1.0\n",
       "c       1.0"
      ]
     },
     "execution_count": 120,
     "metadata": {},
     "output_type": "execute_result"
    }
   ],
   "source": [
    "vector_a = pd.Series(np.ones(3),index = ('a','b','c'),name='vector_a')\n",
    "print(f'shape = {vector_a.shape}')\n",
    "vector_a.to_frame()"
   ]
  },
  {
   "cell_type": "markdown",
   "metadata": {},
   "source": [
    "#### The Pandas DataFrame Object\n",
    "- The Series object can be viewed as a coupling of a numpy array with a pandas Index object \n",
    "- The DataFrame object is just a set of Series objects that share a pandas Index object for their rows and have another index object that identifies each Series \n",
    "- Can be thought of as a dict-like container for Series objects.\n",
    "- If for example we combine several Series that have overlapping indices Pandas will automatically combine these Series and create missing values (using `NaN`) in the parts that misalign. \n",
    "- Let's see this in action  "
   ]
  },
  {
   "cell_type": "markdown",
   "metadata": {},
   "source": [
    "#### Constructing DataFrame objects (selected methods)\n",
    "\n",
    "- A Pandas `DataFrame` can be constructed in many ways.\n",
    "\n",
    " "
   ]
  },
  {
   "cell_type": "markdown",
   "metadata": {},
   "source": [
    "##### The simplest approach - Dictionary  \n",
    "- The keys are treated as a columns\n",
    "- The values are the rows \n",
    "- The only caveat that is that the values need to have the same length "
   ]
  },
  {
   "cell_type": "code",
   "execution_count": 116,
   "metadata": {},
   "outputs": [
    {
     "data": {
      "text/html": [
       "<div>\n",
       "<style scoped>\n",
       "    .dataframe tbody tr th:only-of-type {\n",
       "        vertical-align: middle;\n",
       "    }\n",
       "\n",
       "    .dataframe tbody tr th {\n",
       "        vertical-align: top;\n",
       "    }\n",
       "\n",
       "    .dataframe thead th {\n",
       "        text-align: right;\n",
       "    }\n",
       "</style>\n",
       "<table border=\"1\" class=\"dataframe\">\n",
       "  <thead>\n",
       "    <tr style=\"text-align: right;\">\n",
       "      <th></th>\n",
       "      <th>col_A</th>\n",
       "      <th>col_B</th>\n",
       "    </tr>\n",
       "  </thead>\n",
       "  <tbody>\n",
       "    <tr>\n",
       "      <th>0</th>\n",
       "      <td>1</td>\n",
       "      <td>3</td>\n",
       "    </tr>\n",
       "    <tr>\n",
       "      <th>1</th>\n",
       "      <td>2</td>\n",
       "      <td>4</td>\n",
       "    </tr>\n",
       "  </tbody>\n",
       "</table>\n",
       "</div>"
      ],
      "text/plain": [
       "   col_A  col_B\n",
       "0      1      3\n",
       "1      2      4"
      ]
     },
     "execution_count": 116,
     "metadata": {},
     "output_type": "execute_result"
    }
   ],
   "source": [
    "pd.DataFrame({'col_A':[1,2],'col_B':[3,4]})"
   ]
  },
  {
   "cell_type": "markdown",
   "metadata": {},
   "source": [
    "##### We can also supply a list of dict \n",
    "- The same rules apply \n",
    "- Keys are column names\n",
    "- Values are elements \n",
    "- Pandas adapts to new columns by implicitly adding missing values\n"
   ]
  },
  {
   "cell_type": "code",
   "execution_count": 122,
   "metadata": {},
   "outputs": [
    {
     "data": {
      "text/html": [
       "<div>\n",
       "<style scoped>\n",
       "    .dataframe tbody tr th:only-of-type {\n",
       "        vertical-align: middle;\n",
       "    }\n",
       "\n",
       "    .dataframe tbody tr th {\n",
       "        vertical-align: top;\n",
       "    }\n",
       "\n",
       "    .dataframe thead th {\n",
       "        text-align: right;\n",
       "    }\n",
       "</style>\n",
       "<table border=\"1\" class=\"dataframe\">\n",
       "  <thead>\n",
       "    <tr style=\"text-align: right;\">\n",
       "      <th></th>\n",
       "      <th>col_A</th>\n",
       "      <th>col_B</th>\n",
       "      <th>col_c</th>\n",
       "    </tr>\n",
       "  </thead>\n",
       "  <tbody>\n",
       "    <tr>\n",
       "      <th>0</th>\n",
       "      <td>1</td>\n",
       "      <td>2.0</td>\n",
       "      <td>NaN</td>\n",
       "    </tr>\n",
       "    <tr>\n",
       "      <th>1</th>\n",
       "      <td>4</td>\n",
       "      <td>3.0</td>\n",
       "      <td>NaN</td>\n",
       "    </tr>\n",
       "    <tr>\n",
       "      <th>2</th>\n",
       "      <td>2</td>\n",
       "      <td>NaN</td>\n",
       "      <td>5.0</td>\n",
       "    </tr>\n",
       "  </tbody>\n",
       "</table>\n",
       "</div>"
      ],
      "text/plain": [
       "   col_A  col_B  col_c\n",
       "0      1    2.0    NaN\n",
       "1      4    3.0    NaN\n",
       "2      2    NaN    5.0"
      ]
     },
     "execution_count": 122,
     "metadata": {},
     "output_type": "execute_result"
    }
   ],
   "source": [
    "data = [{'col_A': 1,'col_B': 2},\n",
    "        {'col_A': 4,'col_B': 3},\n",
    "        {'col_A': 2,'col_C': 5}]\n",
    "pd.DataFrame(data)"
   ]
  },
  {
   "cell_type": "markdown",
   "metadata": {},
   "source": [
    "##### We can define the values using Series with index and then Pandas can adapt\n",
    "- If we supply a Series with indices this will be taken into account "
   ]
  },
  {
   "cell_type": "code",
   "execution_count": 117,
   "metadata": {},
   "outputs": [
    {
     "data": {
      "text/html": [
       "<div>\n",
       "<style scoped>\n",
       "    .dataframe tbody tr th:only-of-type {\n",
       "        vertical-align: middle;\n",
       "    }\n",
       "\n",
       "    .dataframe tbody tr th {\n",
       "        vertical-align: top;\n",
       "    }\n",
       "\n",
       "    .dataframe thead th {\n",
       "        text-align: right;\n",
       "    }\n",
       "</style>\n",
       "<table border=\"1\" class=\"dataframe\">\n",
       "  <thead>\n",
       "    <tr style=\"text-align: right;\">\n",
       "      <th></th>\n",
       "      <th>col_A</th>\n",
       "      <th>col_B</th>\n",
       "      <th>col_C</th>\n",
       "    </tr>\n",
       "  </thead>\n",
       "  <tbody>\n",
       "    <tr>\n",
       "      <th>0</th>\n",
       "      <td>1.0</td>\n",
       "      <td>3.0</td>\n",
       "      <td>NaN</td>\n",
       "    </tr>\n",
       "    <tr>\n",
       "      <th>1</th>\n",
       "      <td>2.0</td>\n",
       "      <td>4.0</td>\n",
       "      <td>a</td>\n",
       "    </tr>\n",
       "    <tr>\n",
       "      <th>2</th>\n",
       "      <td>3.0</td>\n",
       "      <td>5.0</td>\n",
       "      <td>c</td>\n",
       "    </tr>\n",
       "    <tr>\n",
       "      <th>3</th>\n",
       "      <td>NaN</td>\n",
       "      <td>6.0</td>\n",
       "      <td>NaN</td>\n",
       "    </tr>\n",
       "    <tr>\n",
       "      <th>5</th>\n",
       "      <td>NaN</td>\n",
       "      <td>NaN</td>\n",
       "      <td>b</td>\n",
       "    </tr>\n",
       "  </tbody>\n",
       "</table>\n",
       "</div>"
      ],
      "text/plain": [
       "   col_A  col_B col_C\n",
       "0    1.0    3.0   NaN\n",
       "1    2.0    4.0     a\n",
       "2    3.0    5.0     c\n",
       "3    NaN    6.0   NaN\n",
       "5    NaN    NaN     b"
      ]
     },
     "execution_count": 117,
     "metadata": {},
     "output_type": "execute_result"
    }
   ],
   "source": [
    "col_A = pd.Series((1,2,3))\n",
    "col_B = pd.Series(list(range(3,7)))\n",
    "col_C = pd.Series(['a','b','c'],index=[1,5,2])\n",
    "pd.DataFrame({'col_A':col_A,'col_B':col_B,'col_C':col_C})\n"
   ]
  },
  {
   "cell_type": "markdown",
   "metadata": {},
   "source": [
    "##### From a 2d NumPy array\n",
    "- We can create a DataFrame with 2d matrix\n",
    "- By default an integer index will be used for both columns and indices\n",
    "- Alternatively, one can supply both of them or either they just need to be at the right shape \n",
    "- In contrast to sets or dictionaries index can contain multiple copies\n"
   ]
  },
  {
   "cell_type": "code",
   "execution_count": 128,
   "metadata": {},
   "outputs": [
    {
     "data": {
      "text/html": [
       "<div>\n",
       "<style scoped>\n",
       "    .dataframe tbody tr th:only-of-type {\n",
       "        vertical-align: middle;\n",
       "    }\n",
       "\n",
       "    .dataframe tbody tr th {\n",
       "        vertical-align: top;\n",
       "    }\n",
       "\n",
       "    .dataframe thead th {\n",
       "        text-align: right;\n",
       "    }\n",
       "</style>\n",
       "<table border=\"1\" class=\"dataframe\">\n",
       "  <thead>\n",
       "    <tr style=\"text-align: right;\">\n",
       "      <th></th>\n",
       "      <th>0</th>\n",
       "      <th>1</th>\n",
       "      <th>2</th>\n",
       "      <th>3</th>\n",
       "    </tr>\n",
       "  </thead>\n",
       "  <tbody>\n",
       "    <tr>\n",
       "      <th>0</th>\n",
       "      <td>1</td>\n",
       "      <td>2</td>\n",
       "      <td>3</td>\n",
       "      <td>4</td>\n",
       "    </tr>\n",
       "    <tr>\n",
       "      <th>1</th>\n",
       "      <td>2</td>\n",
       "      <td>4</td>\n",
       "      <td>6</td>\n",
       "      <td>8</td>\n",
       "    </tr>\n",
       "    <tr>\n",
       "      <th>2</th>\n",
       "      <td>3</td>\n",
       "      <td>6</td>\n",
       "      <td>9</td>\n",
       "      <td>12</td>\n",
       "    </tr>\n",
       "    <tr>\n",
       "      <th>3</th>\n",
       "      <td>4</td>\n",
       "      <td>8</td>\n",
       "      <td>12</td>\n",
       "      <td>16</td>\n",
       "    </tr>\n",
       "  </tbody>\n",
       "</table>\n",
       "</div>"
      ],
      "text/plain": [
       "   0  1   2   3\n",
       "0  1  2   3   4\n",
       "1  2  4   6   8\n",
       "2  3  6   9  12\n",
       "3  4  8  12  16"
      ]
     },
     "execution_count": 128,
     "metadata": {},
     "output_type": "execute_result"
    }
   ],
   "source": [
    "x = np.array([range(1,5)])\n",
    "pd.DataFrame(x*x.T)"
   ]
  },
  {
   "cell_type": "code",
   "execution_count": 130,
   "metadata": {},
   "outputs": [
    {
     "data": {
      "text/html": [
       "<div>\n",
       "<style scoped>\n",
       "    .dataframe tbody tr th:only-of-type {\n",
       "        vertical-align: middle;\n",
       "    }\n",
       "\n",
       "    .dataframe tbody tr th {\n",
       "        vertical-align: top;\n",
       "    }\n",
       "\n",
       "    .dataframe thead th {\n",
       "        text-align: right;\n",
       "    }\n",
       "</style>\n",
       "<table border=\"1\" class=\"dataframe\">\n",
       "  <thead>\n",
       "    <tr style=\"text-align: right;\">\n",
       "      <th></th>\n",
       "      <th>0</th>\n",
       "      <th>1</th>\n",
       "      <th>2</th>\n",
       "      <th>3</th>\n",
       "    </tr>\n",
       "  </thead>\n",
       "  <tbody>\n",
       "    <tr>\n",
       "      <th>a</th>\n",
       "      <td>1</td>\n",
       "      <td>2</td>\n",
       "      <td>3</td>\n",
       "      <td>4</td>\n",
       "    </tr>\n",
       "    <tr>\n",
       "      <th>b</th>\n",
       "      <td>2</td>\n",
       "      <td>4</td>\n",
       "      <td>6</td>\n",
       "      <td>8</td>\n",
       "    </tr>\n",
       "    <tr>\n",
       "      <th>x</th>\n",
       "      <td>3</td>\n",
       "      <td>6</td>\n",
       "      <td>9</td>\n",
       "      <td>12</td>\n",
       "    </tr>\n",
       "    <tr>\n",
       "      <th>a</th>\n",
       "      <td>4</td>\n",
       "      <td>8</td>\n",
       "      <td>12</td>\n",
       "      <td>16</td>\n",
       "    </tr>\n",
       "  </tbody>\n",
       "</table>\n",
       "</div>"
      ],
      "text/plain": [
       "   0  1   2   3\n",
       "a  1  2   3   4\n",
       "b  2  4   6   8\n",
       "x  3  6   9  12\n",
       "a  4  8  12  16"
      ]
     },
     "execution_count": 130,
     "metadata": {},
     "output_type": "execute_result"
    }
   ],
   "source": [
    "pd.DataFrame(x*x.T, index = ['a','b','x','a'])"
   ]
  },
  {
   "cell_type": "markdown",
   "metadata": {},
   "source": [
    "### Data Selection in Series and DataFrames\n",
    "- Let's create some simulated data to explore some selection basics "
   ]
  },
  {
   "cell_type": "code",
   "execution_count": 232,
   "metadata": {},
   "outputs": [
    {
     "data": {
      "text/plain": [
       "array([100.43,  90.17,  78.08,  91.39])"
      ]
     },
     "execution_count": 232,
     "metadata": {},
     "output_type": "execute_result"
    }
   ],
   "source": [
    "np.clip(np.round(rng.normal(80,15,size=(n,)),2),45,125)"
   ]
  },
  {
   "cell_type": "code",
   "execution_count": 3,
   "metadata": {},
   "outputs": [
    {
     "data": {
      "text/html": [
       "<div>\n",
       "<style scoped>\n",
       "    .dataframe tbody tr th:only-of-type {\n",
       "        vertical-align: middle;\n",
       "    }\n",
       "\n",
       "    .dataframe tbody tr th {\n",
       "        vertical-align: top;\n",
       "    }\n",
       "\n",
       "    .dataframe thead th {\n",
       "        text-align: right;\n",
       "    }\n",
       "</style>\n",
       "<table border=\"1\" class=\"dataframe\">\n",
       "  <thead>\n",
       "    <tr style=\"text-align: right;\">\n",
       "      <th></th>\n",
       "      <th>age</th>\n",
       "      <th>sex</th>\n",
       "      <th>height</th>\n",
       "      <th>weight</th>\n",
       "      <th>depressed</th>\n",
       "      <th>group</th>\n",
       "    </tr>\n",
       "  </thead>\n",
       "  <tbody>\n",
       "    <tr>\n",
       "      <th>100</th>\n",
       "      <td>100</td>\n",
       "      <td>F</td>\n",
       "      <td>1.65</td>\n",
       "      <td>87.9</td>\n",
       "      <td>False</td>\n",
       "      <td>c</td>\n",
       "    </tr>\n",
       "    <tr>\n",
       "      <th>101</th>\n",
       "      <td>33</td>\n",
       "      <td>F</td>\n",
       "      <td>1.63</td>\n",
       "      <td>86.9</td>\n",
       "      <td>False</td>\n",
       "      <td>d</td>\n",
       "    </tr>\n",
       "    <tr>\n",
       "      <th>102</th>\n",
       "      <td>91</td>\n",
       "      <td>F</td>\n",
       "      <td>1.46</td>\n",
       "      <td>72.9</td>\n",
       "      <td>False</td>\n",
       "      <td>c</td>\n",
       "    </tr>\n",
       "    <tr>\n",
       "      <th>103</th>\n",
       "      <td>19</td>\n",
       "      <td>F</td>\n",
       "      <td>1.84</td>\n",
       "      <td>64.2</td>\n",
       "      <td>False</td>\n",
       "      <td>c</td>\n",
       "    </tr>\n",
       "    <tr>\n",
       "      <th>104</th>\n",
       "      <td>57</td>\n",
       "      <td>F</td>\n",
       "      <td>1.95</td>\n",
       "      <td>80.8</td>\n",
       "      <td>False</td>\n",
       "      <td>c</td>\n",
       "    </tr>\n",
       "  </tbody>\n",
       "</table>\n",
       "</div>"
      ],
      "text/plain": [
       "     age sex  height  weight  depressed group\n",
       "100  100   F    1.65    87.9      False     c\n",
       "101   33   F    1.63    86.9      False     d\n",
       "102   91   F    1.46    72.9      False     c\n",
       "103   19   F    1.84    64.2      False     c\n",
       "104   57   F    1.95    80.8      False     c"
      ]
     },
     "execution_count": 3,
     "metadata": {},
     "output_type": "execute_result"
    }
   ],
   "source": [
    "rng = np.random.default_rng(2022)\n",
    "n = 100\n",
    "data = dict(\n",
    "    age = np.clip(rng.normal(50,20,size=(n,)).astype(int),0,100),\n",
    "    sex = rng.choice(['M','F'],size=(n,)),\n",
    "    height = np.clip(np.round(rng.normal(1.5,0.2,size=(n,)),2),1.2,2.1),\n",
    "    weight = np.clip(np.round(rng.normal(80,15,size=(n,)),1),45,125),\n",
    "    depressed = rng.choice([True, False],p=[0.05,0.95],size=(n,)),\n",
    "    group = rng.choice(['a','b','c','d'],p=[0.15,0.25,0.5,0.1],size=(n,))\n",
    ")\n",
    "\n",
    "df = pd.DataFrame(data,index=np.arange(100,100+n))\n",
    "df.head()"
   ]
  },
  {
   "cell_type": "markdown",
   "metadata": {},
   "source": [
    "##### Data Selection using pandas data access methods \n",
    "- We can access a single value for a row/column label pair (for this to work the indices need to be unique).\n",
    "- We can do the same using actual indices"
   ]
  },
  {
   "cell_type": "code",
   "execution_count": 172,
   "metadata": {},
   "outputs": [
    {
     "name": "stdout",
     "output_type": "stream",
     "text": [
      "The sex of subject 104 is F\n",
      "The sex of subject 104 is F\n"
     ]
    }
   ],
   "source": [
    "print(f'The sex of subject 104 is {df.at[104,\"sex\"]}')\n",
    "print(f'The sex of subject 104 is {df.iat[4,1]}')\n"
   ]
  },
  {
   "cell_type": "markdown",
   "metadata": {},
   "source": [
    "- We can Access a group of rows and columns by label(s)\n",
    "- This simply returns the range between the two index labels (which might not be useful if the dataframe isn't sorted by the index)\n",
    "- We can also slice based on real hidden index that reflects the current state of the dataframe \n"
   ]
  },
  {
   "cell_type": "code",
   "execution_count": 234,
   "metadata": {},
   "outputs": [
    {
     "data": {
      "text/markdown": [
       "### Slice the rows between labels 104 and 122"
      ],
      "text/plain": [
       "<IPython.core.display.Markdown object>"
      ]
     },
     "metadata": {},
     "output_type": "display_data"
    },
    {
     "data": {
      "text/html": [
       "<div>\n",
       "<style scoped>\n",
       "    .dataframe tbody tr th:only-of-type {\n",
       "        vertical-align: middle;\n",
       "    }\n",
       "\n",
       "    .dataframe tbody tr th {\n",
       "        vertical-align: top;\n",
       "    }\n",
       "\n",
       "    .dataframe thead th {\n",
       "        text-align: right;\n",
       "    }\n",
       "</style>\n",
       "<table border=\"1\" class=\"dataframe\">\n",
       "  <thead>\n",
       "    <tr style=\"text-align: right;\">\n",
       "      <th></th>\n",
       "      <th>age</th>\n",
       "      <th>sex</th>\n",
       "      <th>height</th>\n",
       "      <th>weight</th>\n",
       "      <th>depressed</th>\n",
       "      <th>group</th>\n",
       "    </tr>\n",
       "  </thead>\n",
       "  <tbody>\n",
       "    <tr>\n",
       "      <th>104</th>\n",
       "      <td>57</td>\n",
       "      <td>F</td>\n",
       "      <td>1.95</td>\n",
       "      <td>80.8</td>\n",
       "      <td>False</td>\n",
       "      <td>c</td>\n",
       "    </tr>\n",
       "    <tr>\n",
       "      <th>168</th>\n",
       "      <td>58</td>\n",
       "      <td>F</td>\n",
       "      <td>1.57</td>\n",
       "      <td>78.8</td>\n",
       "      <td>True</td>\n",
       "      <td>b</td>\n",
       "    </tr>\n",
       "    <tr>\n",
       "      <th>122</th>\n",
       "      <td>59</td>\n",
       "      <td>M</td>\n",
       "      <td>1.51</td>\n",
       "      <td>96.2</td>\n",
       "      <td>False</td>\n",
       "      <td>d</td>\n",
       "    </tr>\n",
       "  </tbody>\n",
       "</table>\n",
       "</div>"
      ],
      "text/plain": [
       "     age sex  height  weight  depressed group\n",
       "104   57   F    1.95    80.8      False     c\n",
       "168   58   F    1.57    78.8       True     b\n",
       "122   59   M    1.51    96.2      False     d"
      ]
     },
     "metadata": {},
     "output_type": "display_data"
    },
    {
     "data": {
      "text/markdown": [
       "### Slice the rows between index 4 and 7"
      ],
      "text/plain": [
       "<IPython.core.display.Markdown object>"
      ]
     },
     "metadata": {},
     "output_type": "display_data"
    },
    {
     "data": {
      "text/html": [
       "<div>\n",
       "<style scoped>\n",
       "    .dataframe tbody tr th:only-of-type {\n",
       "        vertical-align: middle;\n",
       "    }\n",
       "\n",
       "    .dataframe tbody tr th {\n",
       "        vertical-align: top;\n",
       "    }\n",
       "\n",
       "    .dataframe thead th {\n",
       "        text-align: right;\n",
       "    }\n",
       "</style>\n",
       "<table border=\"1\" class=\"dataframe\">\n",
       "  <thead>\n",
       "    <tr style=\"text-align: right;\">\n",
       "      <th></th>\n",
       "      <th>age</th>\n",
       "      <th>sex</th>\n",
       "      <th>height</th>\n",
       "      <th>weight</th>\n",
       "      <th>depressed</th>\n",
       "      <th>group</th>\n",
       "    </tr>\n",
       "  </thead>\n",
       "  <tbody>\n",
       "    <tr>\n",
       "      <th>143</th>\n",
       "      <td>12</td>\n",
       "      <td>M</td>\n",
       "      <td>1.58</td>\n",
       "      <td>77.7</td>\n",
       "      <td>False</td>\n",
       "      <td>c</td>\n",
       "    </tr>\n",
       "    <tr>\n",
       "      <th>162</th>\n",
       "      <td>13</td>\n",
       "      <td>F</td>\n",
       "      <td>1.78</td>\n",
       "      <td>84.4</td>\n",
       "      <td>False</td>\n",
       "      <td>d</td>\n",
       "    </tr>\n",
       "    <tr>\n",
       "      <th>159</th>\n",
       "      <td>17</td>\n",
       "      <td>M</td>\n",
       "      <td>1.23</td>\n",
       "      <td>75.3</td>\n",
       "      <td>False</td>\n",
       "      <td>a</td>\n",
       "    </tr>\n",
       "  </tbody>\n",
       "</table>\n",
       "</div>"
      ],
      "text/plain": [
       "     age sex  height  weight  depressed group\n",
       "143   12   M    1.58    77.7      False     c\n",
       "162   13   F    1.78    84.4      False     d\n",
       "159   17   M    1.23    75.3      False     a"
      ]
     },
     "metadata": {},
     "output_type": "display_data"
    }
   ],
   "source": [
    "display(Markdown( '### Slice the rows between labels 104 and 122'))\n",
    "display(df.sort_values('age').loc[104:122])\n",
    "display(Markdown( '### Slice the rows between index 4 and 7'))\n",
    "display(df.sort_values('age').iloc[4:7])"
   ]
  },
  {
   "cell_type": "markdown",
   "metadata": {},
   "source": [
    "##### Data Selection using standard Python / NumPy expressions\n",
    "- We can slice a data frame using the standard numpy notation  "
   ]
  },
  {
   "cell_type": "code",
   "execution_count": 235,
   "metadata": {},
   "outputs": [
    {
     "data": {
      "text/markdown": [
       "### Slice the last two rows"
      ],
      "text/plain": [
       "<IPython.core.display.Markdown object>"
      ]
     },
     "metadata": {},
     "output_type": "display_data"
    },
    {
     "data": {
      "text/html": [
       "<div>\n",
       "<style scoped>\n",
       "    .dataframe tbody tr th:only-of-type {\n",
       "        vertical-align: middle;\n",
       "    }\n",
       "\n",
       "    .dataframe tbody tr th {\n",
       "        vertical-align: top;\n",
       "    }\n",
       "\n",
       "    .dataframe thead th {\n",
       "        text-align: right;\n",
       "    }\n",
       "</style>\n",
       "<table border=\"1\" class=\"dataframe\">\n",
       "  <thead>\n",
       "    <tr style=\"text-align: right;\">\n",
       "      <th></th>\n",
       "      <th>age</th>\n",
       "      <th>sex</th>\n",
       "      <th>height</th>\n",
       "      <th>weight</th>\n",
       "      <th>depressed</th>\n",
       "      <th>group</th>\n",
       "    </tr>\n",
       "  </thead>\n",
       "  <tbody>\n",
       "    <tr>\n",
       "      <th>197</th>\n",
       "      <td>55</td>\n",
       "      <td>F</td>\n",
       "      <td>1.20</td>\n",
       "      <td>83.7</td>\n",
       "      <td>True</td>\n",
       "      <td>b</td>\n",
       "    </tr>\n",
       "    <tr>\n",
       "      <th>198</th>\n",
       "      <td>31</td>\n",
       "      <td>M</td>\n",
       "      <td>1.45</td>\n",
       "      <td>70.3</td>\n",
       "      <td>False</td>\n",
       "      <td>c</td>\n",
       "    </tr>\n",
       "  </tbody>\n",
       "</table>\n",
       "</div>"
      ],
      "text/plain": [
       "     age sex  height  weight  depressed group\n",
       "197   55   F    1.20    83.7       True     b\n",
       "198   31   M    1.45    70.3      False     c"
      ]
     },
     "metadata": {},
     "output_type": "display_data"
    },
    {
     "data": {
      "text/markdown": [
       "### Slice row 1"
      ],
      "text/plain": [
       "<IPython.core.display.Markdown object>"
      ]
     },
     "metadata": {},
     "output_type": "display_data"
    },
    {
     "data": {
      "text/html": [
       "<div>\n",
       "<style scoped>\n",
       "    .dataframe tbody tr th:only-of-type {\n",
       "        vertical-align: middle;\n",
       "    }\n",
       "\n",
       "    .dataframe tbody tr th {\n",
       "        vertical-align: top;\n",
       "    }\n",
       "\n",
       "    .dataframe thead th {\n",
       "        text-align: right;\n",
       "    }\n",
       "</style>\n",
       "<table border=\"1\" class=\"dataframe\">\n",
       "  <thead>\n",
       "    <tr style=\"text-align: right;\">\n",
       "      <th></th>\n",
       "      <th>age</th>\n",
       "      <th>sex</th>\n",
       "      <th>height</th>\n",
       "      <th>weight</th>\n",
       "      <th>depressed</th>\n",
       "      <th>group</th>\n",
       "    </tr>\n",
       "  </thead>\n",
       "  <tbody>\n",
       "    <tr>\n",
       "      <th>101</th>\n",
       "      <td>33</td>\n",
       "      <td>F</td>\n",
       "      <td>1.63</td>\n",
       "      <td>86.9</td>\n",
       "      <td>False</td>\n",
       "      <td>d</td>\n",
       "    </tr>\n",
       "  </tbody>\n",
       "</table>\n",
       "</div>"
      ],
      "text/plain": [
       "     age sex  height  weight  depressed group\n",
       "101   33   F    1.63    86.9      False     d"
      ]
     },
     "metadata": {},
     "output_type": "display_data"
    },
    {
     "data": {
      "text/markdown": [
       "### Slice odd rows from 1 - 5"
      ],
      "text/plain": [
       "<IPython.core.display.Markdown object>"
      ]
     },
     "metadata": {},
     "output_type": "display_data"
    },
    {
     "data": {
      "text/html": [
       "<div>\n",
       "<style scoped>\n",
       "    .dataframe tbody tr th:only-of-type {\n",
       "        vertical-align: middle;\n",
       "    }\n",
       "\n",
       "    .dataframe tbody tr th {\n",
       "        vertical-align: top;\n",
       "    }\n",
       "\n",
       "    .dataframe thead th {\n",
       "        text-align: right;\n",
       "    }\n",
       "</style>\n",
       "<table border=\"1\" class=\"dataframe\">\n",
       "  <thead>\n",
       "    <tr style=\"text-align: right;\">\n",
       "      <th></th>\n",
       "      <th>age</th>\n",
       "      <th>sex</th>\n",
       "      <th>height</th>\n",
       "      <th>weight</th>\n",
       "      <th>depressed</th>\n",
       "      <th>group</th>\n",
       "    </tr>\n",
       "  </thead>\n",
       "  <tbody>\n",
       "    <tr>\n",
       "      <th>101</th>\n",
       "      <td>33</td>\n",
       "      <td>F</td>\n",
       "      <td>1.63</td>\n",
       "      <td>86.9</td>\n",
       "      <td>False</td>\n",
       "      <td>d</td>\n",
       "    </tr>\n",
       "    <tr>\n",
       "      <th>103</th>\n",
       "      <td>19</td>\n",
       "      <td>F</td>\n",
       "      <td>1.84</td>\n",
       "      <td>64.2</td>\n",
       "      <td>False</td>\n",
       "      <td>c</td>\n",
       "    </tr>\n",
       "    <tr>\n",
       "      <th>105</th>\n",
       "      <td>48</td>\n",
       "      <td>F</td>\n",
       "      <td>1.78</td>\n",
       "      <td>79.6</td>\n",
       "      <td>False</td>\n",
       "      <td>c</td>\n",
       "    </tr>\n",
       "  </tbody>\n",
       "</table>\n",
       "</div>"
      ],
      "text/plain": [
       "     age sex  height  weight  depressed group\n",
       "101   33   F    1.63    86.9      False     d\n",
       "103   19   F    1.84    64.2      False     c\n",
       "105   48   F    1.78    79.6      False     c"
      ]
     },
     "metadata": {},
     "output_type": "display_data"
    },
    {
     "data": {
      "text/markdown": [
       "### Slice odd rows from 1 - 5 just for sex and group "
      ],
      "text/plain": [
       "<IPython.core.display.Markdown object>"
      ]
     },
     "metadata": {},
     "output_type": "display_data"
    },
    {
     "data": {
      "text/html": [
       "<div>\n",
       "<style scoped>\n",
       "    .dataframe tbody tr th:only-of-type {\n",
       "        vertical-align: middle;\n",
       "    }\n",
       "\n",
       "    .dataframe tbody tr th {\n",
       "        vertical-align: top;\n",
       "    }\n",
       "\n",
       "    .dataframe thead th {\n",
       "        text-align: right;\n",
       "    }\n",
       "</style>\n",
       "<table border=\"1\" class=\"dataframe\">\n",
       "  <thead>\n",
       "    <tr style=\"text-align: right;\">\n",
       "      <th></th>\n",
       "      <th>sex</th>\n",
       "      <th>group</th>\n",
       "    </tr>\n",
       "  </thead>\n",
       "  <tbody>\n",
       "    <tr>\n",
       "      <th>101</th>\n",
       "      <td>F</td>\n",
       "      <td>d</td>\n",
       "    </tr>\n",
       "    <tr>\n",
       "      <th>103</th>\n",
       "      <td>F</td>\n",
       "      <td>c</td>\n",
       "    </tr>\n",
       "    <tr>\n",
       "      <th>105</th>\n",
       "      <td>F</td>\n",
       "      <td>c</td>\n",
       "    </tr>\n",
       "  </tbody>\n",
       "</table>\n",
       "</div>"
      ],
      "text/plain": [
       "    sex group\n",
       "101   F     d\n",
       "103   F     c\n",
       "105   F     c"
      ]
     },
     "metadata": {},
     "output_type": "display_data"
    },
    {
     "data": {
      "text/markdown": [
       "### Extract all Sex values for odd rows from 1 - 5"
      ],
      "text/plain": [
       "<IPython.core.display.Markdown object>"
      ]
     },
     "metadata": {},
     "output_type": "display_data"
    },
    {
     "data": {
      "text/plain": [
       "101    F\n",
       "103    F\n",
       "105    F\n",
       "Name: sex, dtype: object"
      ]
     },
     "metadata": {},
     "output_type": "display_data"
    }
   ],
   "source": [
    "display(Markdown( '### Slice the last two rows'))\n",
    "display(df[-3:-1])\n",
    "display(Markdown( '### Slice row 1'))\n",
    "display(df[1:2])\n",
    "display(Markdown( '### Slice odd rows from 1 - 5'))\n",
    "display(df[1:6:2])\n",
    "display(Markdown( '### Slice odd rows from 1 - 5 just for sex and group '))\n",
    "display(df[1:6:2][['sex','group']])\n",
    "display(Markdown( '### Extract all Sex values for odd rows from 1 - 5'))\n",
    "display(df[1:6:2].sex)"
   ]
  },
  {
   "cell_type": "markdown",
   "metadata": {},
   "source": [
    "##### Data Selection using masking via conditional statements \n",
    "- We can mask a data frame using boolean sequence\n",
    "  - This can be done for both rows and columns\n",
    "  - It has to be in the size of the rows\n",
    "- But we can use any conditional statement on the series that compose the data frame \n",
    "- Pandas even has a special function that is declarative to make this more explicit and easier to read"
   ]
  },
  {
   "cell_type": "code",
   "execution_count": 236,
   "metadata": {},
   "outputs": [
    {
     "data": {
      "text/markdown": [
       "### Select 5% of the rows using masking"
      ],
      "text/plain": [
       "<IPython.core.display.Markdown object>"
      ]
     },
     "metadata": {},
     "output_type": "display_data"
    },
    {
     "data": {
      "text/html": [
       "<div>\n",
       "<style scoped>\n",
       "    .dataframe tbody tr th:only-of-type {\n",
       "        vertical-align: middle;\n",
       "    }\n",
       "\n",
       "    .dataframe tbody tr th {\n",
       "        vertical-align: top;\n",
       "    }\n",
       "\n",
       "    .dataframe thead th {\n",
       "        text-align: right;\n",
       "    }\n",
       "</style>\n",
       "<table border=\"1\" class=\"dataframe\">\n",
       "  <thead>\n",
       "    <tr style=\"text-align: right;\">\n",
       "      <th></th>\n",
       "      <th>age</th>\n",
       "      <th>sex</th>\n",
       "      <th>height</th>\n",
       "      <th>weight</th>\n",
       "      <th>depressed</th>\n",
       "      <th>group</th>\n",
       "    </tr>\n",
       "  </thead>\n",
       "  <tbody>\n",
       "    <tr>\n",
       "      <th>107</th>\n",
       "      <td>42</td>\n",
       "      <td>M</td>\n",
       "      <td>1.33</td>\n",
       "      <td>81.4</td>\n",
       "      <td>False</td>\n",
       "      <td>b</td>\n",
       "    </tr>\n",
       "    <tr>\n",
       "      <th>134</th>\n",
       "      <td>50</td>\n",
       "      <td>M</td>\n",
       "      <td>1.41</td>\n",
       "      <td>74.2</td>\n",
       "      <td>False</td>\n",
       "      <td>a</td>\n",
       "    </tr>\n",
       "    <tr>\n",
       "      <th>147</th>\n",
       "      <td>50</td>\n",
       "      <td>F</td>\n",
       "      <td>1.28</td>\n",
       "      <td>73.1</td>\n",
       "      <td>False</td>\n",
       "      <td>a</td>\n",
       "    </tr>\n",
       "    <tr>\n",
       "      <th>160</th>\n",
       "      <td>60</td>\n",
       "      <td>F</td>\n",
       "      <td>2.10</td>\n",
       "      <td>83.8</td>\n",
       "      <td>True</td>\n",
       "      <td>c</td>\n",
       "    </tr>\n",
       "    <tr>\n",
       "      <th>171</th>\n",
       "      <td>51</td>\n",
       "      <td>M</td>\n",
       "      <td>1.58</td>\n",
       "      <td>87.0</td>\n",
       "      <td>False</td>\n",
       "      <td>b</td>\n",
       "    </tr>\n",
       "    <tr>\n",
       "      <th>178</th>\n",
       "      <td>44</td>\n",
       "      <td>M</td>\n",
       "      <td>1.50</td>\n",
       "      <td>59.8</td>\n",
       "      <td>False</td>\n",
       "      <td>b</td>\n",
       "    </tr>\n",
       "  </tbody>\n",
       "</table>\n",
       "</div>"
      ],
      "text/plain": [
       "     age sex  height  weight  depressed group\n",
       "107   42   M    1.33    81.4      False     b\n",
       "134   50   M    1.41    74.2      False     a\n",
       "147   50   F    1.28    73.1      False     a\n",
       "160   60   F    2.10    83.8       True     c\n",
       "171   51   M    1.58    87.0      False     b\n",
       "178   44   M    1.50    59.8      False     b"
      ]
     },
     "metadata": {},
     "output_type": "display_data"
    },
    {
     "data": {
      "text/markdown": [
       "### Select people between 30 - 35 "
      ],
      "text/plain": [
       "<IPython.core.display.Markdown object>"
      ]
     },
     "metadata": {},
     "output_type": "display_data"
    },
    {
     "data": {
      "text/html": [
       "<div>\n",
       "<style scoped>\n",
       "    .dataframe tbody tr th:only-of-type {\n",
       "        vertical-align: middle;\n",
       "    }\n",
       "\n",
       "    .dataframe tbody tr th {\n",
       "        vertical-align: top;\n",
       "    }\n",
       "\n",
       "    .dataframe thead th {\n",
       "        text-align: right;\n",
       "    }\n",
       "</style>\n",
       "<table border=\"1\" class=\"dataframe\">\n",
       "  <thead>\n",
       "    <tr style=\"text-align: right;\">\n",
       "      <th></th>\n",
       "      <th>age</th>\n",
       "      <th>sex</th>\n",
       "      <th>height</th>\n",
       "      <th>weight</th>\n",
       "      <th>depressed</th>\n",
       "      <th>group</th>\n",
       "    </tr>\n",
       "  </thead>\n",
       "  <tbody>\n",
       "    <tr>\n",
       "      <th>101</th>\n",
       "      <td>33</td>\n",
       "      <td>F</td>\n",
       "      <td>1.63</td>\n",
       "      <td>86.9</td>\n",
       "      <td>False</td>\n",
       "      <td>d</td>\n",
       "    </tr>\n",
       "    <tr>\n",
       "      <th>118</th>\n",
       "      <td>32</td>\n",
       "      <td>M</td>\n",
       "      <td>1.64</td>\n",
       "      <td>69.1</td>\n",
       "      <td>False</td>\n",
       "      <td>c</td>\n",
       "    </tr>\n",
       "    <tr>\n",
       "      <th>125</th>\n",
       "      <td>32</td>\n",
       "      <td>F</td>\n",
       "      <td>1.46</td>\n",
       "      <td>82.5</td>\n",
       "      <td>False</td>\n",
       "      <td>d</td>\n",
       "    </tr>\n",
       "    <tr>\n",
       "      <th>127</th>\n",
       "      <td>32</td>\n",
       "      <td>M</td>\n",
       "      <td>1.44</td>\n",
       "      <td>103.9</td>\n",
       "      <td>False</td>\n",
       "      <td>b</td>\n",
       "    </tr>\n",
       "    <tr>\n",
       "      <th>128</th>\n",
       "      <td>32</td>\n",
       "      <td>F</td>\n",
       "      <td>1.45</td>\n",
       "      <td>81.1</td>\n",
       "      <td>False</td>\n",
       "      <td>b</td>\n",
       "    </tr>\n",
       "    <tr>\n",
       "      <th>182</th>\n",
       "      <td>34</td>\n",
       "      <td>M</td>\n",
       "      <td>1.42</td>\n",
       "      <td>88.8</td>\n",
       "      <td>False</td>\n",
       "      <td>b</td>\n",
       "    </tr>\n",
       "    <tr>\n",
       "      <th>191</th>\n",
       "      <td>34</td>\n",
       "      <td>F</td>\n",
       "      <td>1.20</td>\n",
       "      <td>76.9</td>\n",
       "      <td>False</td>\n",
       "      <td>c</td>\n",
       "    </tr>\n",
       "    <tr>\n",
       "      <th>198</th>\n",
       "      <td>31</td>\n",
       "      <td>M</td>\n",
       "      <td>1.45</td>\n",
       "      <td>70.3</td>\n",
       "      <td>False</td>\n",
       "      <td>c</td>\n",
       "    </tr>\n",
       "  </tbody>\n",
       "</table>\n",
       "</div>"
      ],
      "text/plain": [
       "     age sex  height  weight  depressed group\n",
       "101   33   F    1.63    86.9      False     d\n",
       "118   32   M    1.64    69.1      False     c\n",
       "125   32   F    1.46    82.5      False     d\n",
       "127   32   M    1.44   103.9      False     b\n",
       "128   32   F    1.45    81.1      False     b\n",
       "182   34   M    1.42    88.8      False     b\n",
       "191   34   F    1.20    76.9      False     c\n",
       "198   31   M    1.45    70.3      False     c"
      ]
     },
     "metadata": {},
     "output_type": "display_data"
    },
    {
     "data": {
      "text/markdown": [
       "### Select the first 3 people from group a "
      ],
      "text/plain": [
       "<IPython.core.display.Markdown object>"
      ]
     },
     "metadata": {},
     "output_type": "display_data"
    },
    {
     "data": {
      "text/html": [
       "<div>\n",
       "<style scoped>\n",
       "    .dataframe tbody tr th:only-of-type {\n",
       "        vertical-align: middle;\n",
       "    }\n",
       "\n",
       "    .dataframe tbody tr th {\n",
       "        vertical-align: top;\n",
       "    }\n",
       "\n",
       "    .dataframe thead th {\n",
       "        text-align: right;\n",
       "    }\n",
       "</style>\n",
       "<table border=\"1\" class=\"dataframe\">\n",
       "  <thead>\n",
       "    <tr style=\"text-align: right;\">\n",
       "      <th></th>\n",
       "      <th>age</th>\n",
       "      <th>sex</th>\n",
       "      <th>height</th>\n",
       "      <th>weight</th>\n",
       "      <th>depressed</th>\n",
       "      <th>group</th>\n",
       "    </tr>\n",
       "  </thead>\n",
       "  <tbody>\n",
       "    <tr>\n",
       "      <th>106</th>\n",
       "      <td>0</td>\n",
       "      <td>F</td>\n",
       "      <td>1.31</td>\n",
       "      <td>77.2</td>\n",
       "      <td>False</td>\n",
       "      <td>a</td>\n",
       "    </tr>\n",
       "    <tr>\n",
       "      <th>108</th>\n",
       "      <td>61</td>\n",
       "      <td>F</td>\n",
       "      <td>1.44</td>\n",
       "      <td>74.0</td>\n",
       "      <td>False</td>\n",
       "      <td>a</td>\n",
       "    </tr>\n",
       "    <tr>\n",
       "      <th>119</th>\n",
       "      <td>23</td>\n",
       "      <td>M</td>\n",
       "      <td>1.34</td>\n",
       "      <td>88.7</td>\n",
       "      <td>False</td>\n",
       "      <td>a</td>\n",
       "    </tr>\n",
       "  </tbody>\n",
       "</table>\n",
       "</div>"
      ],
      "text/plain": [
       "     age sex  height  weight  depressed group\n",
       "106    0   F    1.31    77.2      False     a\n",
       "108   61   F    1.44    74.0      False     a\n",
       "119   23   M    1.34    88.7      False     a"
      ]
     },
     "metadata": {},
     "output_type": "display_data"
    },
    {
     "data": {
      "text/markdown": [
       "### Use the query function to filter males age 42 "
      ],
      "text/plain": [
       "<IPython.core.display.Markdown object>"
      ]
     },
     "metadata": {},
     "output_type": "display_data"
    },
    {
     "data": {
      "text/html": [
       "<div>\n",
       "<style scoped>\n",
       "    .dataframe tbody tr th:only-of-type {\n",
       "        vertical-align: middle;\n",
       "    }\n",
       "\n",
       "    .dataframe tbody tr th {\n",
       "        vertical-align: top;\n",
       "    }\n",
       "\n",
       "    .dataframe thead th {\n",
       "        text-align: right;\n",
       "    }\n",
       "</style>\n",
       "<table border=\"1\" class=\"dataframe\">\n",
       "  <thead>\n",
       "    <tr style=\"text-align: right;\">\n",
       "      <th></th>\n",
       "      <th>age</th>\n",
       "      <th>sex</th>\n",
       "      <th>height</th>\n",
       "      <th>weight</th>\n",
       "      <th>depressed</th>\n",
       "      <th>group</th>\n",
       "    </tr>\n",
       "  </thead>\n",
       "  <tbody>\n",
       "    <tr>\n",
       "      <th>107</th>\n",
       "      <td>42</td>\n",
       "      <td>M</td>\n",
       "      <td>1.33</td>\n",
       "      <td>81.4</td>\n",
       "      <td>False</td>\n",
       "      <td>b</td>\n",
       "    </tr>\n",
       "    <tr>\n",
       "      <th>184</th>\n",
       "      <td>42</td>\n",
       "      <td>M</td>\n",
       "      <td>1.63</td>\n",
       "      <td>113.2</td>\n",
       "      <td>False</td>\n",
       "      <td>b</td>\n",
       "    </tr>\n",
       "  </tbody>\n",
       "</table>\n",
       "</div>"
      ],
      "text/plain": [
       "     age sex  height  weight  depressed group\n",
       "107   42   M    1.33    81.4      False     b\n",
       "184   42   M    1.63   113.2      False     b"
      ]
     },
     "metadata": {},
     "output_type": "display_data"
    },
    {
     "data": {
      "text/markdown": [
       "### You can combine slicing and masking using pandas indexers"
      ],
      "text/plain": [
       "<IPython.core.display.Markdown object>"
      ]
     },
     "metadata": {},
     "output_type": "display_data"
    },
    {
     "data": {
      "text/html": [
       "<div>\n",
       "<style scoped>\n",
       "    .dataframe tbody tr th:only-of-type {\n",
       "        vertical-align: middle;\n",
       "    }\n",
       "\n",
       "    .dataframe tbody tr th {\n",
       "        vertical-align: top;\n",
       "    }\n",
       "\n",
       "    .dataframe thead th {\n",
       "        text-align: right;\n",
       "    }\n",
       "</style>\n",
       "<table border=\"1\" class=\"dataframe\">\n",
       "  <thead>\n",
       "    <tr style=\"text-align: right;\">\n",
       "      <th></th>\n",
       "      <th>sex</th>\n",
       "      <th>age</th>\n",
       "    </tr>\n",
       "  </thead>\n",
       "  <tbody>\n",
       "    <tr>\n",
       "      <th>100</th>\n",
       "      <td>F</td>\n",
       "      <td>100</td>\n",
       "    </tr>\n",
       "    <tr>\n",
       "      <th>102</th>\n",
       "      <td>F</td>\n",
       "      <td>91</td>\n",
       "    </tr>\n",
       "    <tr>\n",
       "      <th>138</th>\n",
       "      <td>M</td>\n",
       "      <td>93</td>\n",
       "    </tr>\n",
       "    <tr>\n",
       "      <th>144</th>\n",
       "      <td>M</td>\n",
       "      <td>91</td>\n",
       "    </tr>\n",
       "  </tbody>\n",
       "</table>\n",
       "</div>"
      ],
      "text/plain": [
       "    sex  age\n",
       "100   F  100\n",
       "102   F   91\n",
       "138   M   93\n",
       "144   M   91"
      ]
     },
     "metadata": {},
     "output_type": "display_data"
    }
   ],
   "source": [
    "m,n = df.shape\n",
    "rng = np.random.default_rng(2022)\n",
    "row_mask = rng.choice([True, False],p=[0.05,0.95],size=(m,))\n",
    "display(Markdown( '### Select 5% of the rows using masking'))\n",
    "display(df[row_mask])\n",
    "display(Markdown( '### Select people between 30 - 35 '))\n",
    "display(df[(df.age > 30 ) & (df.age < 35)])\n",
    "display(Markdown( '### Select the first 3 people from group a '))\n",
    "display(df[df.group == 'a'].head(3))\n",
    "display(Markdown( '### Use the query function to filter males age 42 '))\n",
    "display(df.query('sex == \"M\" and age == 42'))\n",
    "display(Markdown( '### You can combine slicing and masking using pandas indexers'))\n",
    "display(df.loc[df.age > 90,['sex','age']])\n"
   ]
  },
  {
   "cell_type": "markdown",
   "metadata": {},
   "source": [
    "## Data operations in Pandas\n",
    "### Basic arithmetic operations\n",
    "NumPy's ability to do rapid element-wise operations (addition, subtraction, multiplication, etc.) is migrated into the Pandas framework and is available for both series and DataFrame objects. \n",
    "\n",
    "The following table lists Python operators and their equivalent Pandas object methods:\n",
    "\n",
    "| Operator | Pandas Method(s)                      |\n",
    "|-----------------|---------------------------------------|\n",
    "| `+`           | `add()`                            |\n",
    "| `-`           | `sub()` |\n",
    "| `*`           | `mul()` |\n",
    "| `/`           | `div()` |\n",
    "| `//`          | `floordiv()`                        |\n",
    "| `%`           | `mod()`                             |\n",
    "| `**`          | `pow()`                             |\n"
   ]
  },
  {
   "cell_type": "code",
   "execution_count": 4,
   "metadata": {},
   "outputs": [
    {
     "data": {
      "text/markdown": [
       "### For example multiply height by a constant to convert to feet"
      ],
      "text/plain": [
       "<IPython.core.display.Markdown object>"
      ]
     },
     "metadata": {},
     "output_type": "display_data"
    },
    {
     "data": {
      "text/plain": [
       "100    5.4120\n",
       "101    5.3464\n",
       "102    4.7888\n",
       "103    6.0352\n",
       "104    6.3960\n",
       "Name: height_feet, dtype: float64"
      ]
     },
     "metadata": {},
     "output_type": "display_data"
    },
    {
     "data": {
      "text/markdown": [
       "### Or calculate BMI based on the ratio between mass and height<sup>2</sup>"
      ],
      "text/plain": [
       "<IPython.core.display.Markdown object>"
      ]
     },
     "metadata": {},
     "output_type": "display_data"
    },
    {
     "data": {
      "text/plain": [
       "100    32.286501\n",
       "101    32.707290\n",
       "102    34.199662\n",
       "103    18.962665\n",
       "104    21.249178\n",
       "Name: BMI, dtype: float64"
      ]
     },
     "metadata": {},
     "output_type": "display_data"
    }
   ],
   "source": [
    "display(Markdown( '### For example multiply height by a constant to convert to feet'))\n",
    "height_feet = (df.height * 3.280).rename('height_feet')\n",
    "height_feet = (df.height.mul(3.280) ).rename('height_feet')\n",
    "display(height_feet.head(5))\n",
    "\n",
    "display(Markdown( '### Or calculate BMI based on the ratio between mass and height<sup>2</sup>'))\n",
    "bmi = (df.weight/( df.height ** 2)).rename('BMI')\n",
    "display(bmi.head(5))"
   ]
  },
  {
   "cell_type": "markdown",
   "metadata": {},
   "source": [
    "### Index is preserved \n",
    "- Because the index is preserved we can assign this to the original df\n",
    "- Note that I can use pandas methods using the dot notation \n"
   ]
  },
  {
   "cell_type": "code",
   "execution_count": 245,
   "metadata": {},
   "outputs": [
    {
     "data": {
      "text/html": [
       "<div>\n",
       "<style scoped>\n",
       "    .dataframe tbody tr th:only-of-type {\n",
       "        vertical-align: middle;\n",
       "    }\n",
       "\n",
       "    .dataframe tbody tr th {\n",
       "        vertical-align: top;\n",
       "    }\n",
       "\n",
       "    .dataframe thead th {\n",
       "        text-align: right;\n",
       "    }\n",
       "</style>\n",
       "<table border=\"1\" class=\"dataframe\">\n",
       "  <thead>\n",
       "    <tr style=\"text-align: right;\">\n",
       "      <th></th>\n",
       "      <th>age</th>\n",
       "      <th>sex</th>\n",
       "      <th>height</th>\n",
       "      <th>weight</th>\n",
       "      <th>depressed</th>\n",
       "      <th>group</th>\n",
       "      <th>bmi</th>\n",
       "      <th>height_feet</th>\n",
       "    </tr>\n",
       "  </thead>\n",
       "  <tbody>\n",
       "    <tr>\n",
       "      <th>100</th>\n",
       "      <td>100</td>\n",
       "      <td>F</td>\n",
       "      <td>1.65</td>\n",
       "      <td>87.9</td>\n",
       "      <td>False</td>\n",
       "      <td>c</td>\n",
       "      <td>32.29</td>\n",
       "      <td>5.41</td>\n",
       "    </tr>\n",
       "    <tr>\n",
       "      <th>101</th>\n",
       "      <td>33</td>\n",
       "      <td>F</td>\n",
       "      <td>1.63</td>\n",
       "      <td>86.9</td>\n",
       "      <td>False</td>\n",
       "      <td>d</td>\n",
       "      <td>32.71</td>\n",
       "      <td>5.35</td>\n",
       "    </tr>\n",
       "    <tr>\n",
       "      <th>102</th>\n",
       "      <td>91</td>\n",
       "      <td>F</td>\n",
       "      <td>1.46</td>\n",
       "      <td>72.9</td>\n",
       "      <td>False</td>\n",
       "      <td>c</td>\n",
       "      <td>34.20</td>\n",
       "      <td>4.79</td>\n",
       "    </tr>\n",
       "    <tr>\n",
       "      <th>103</th>\n",
       "      <td>19</td>\n",
       "      <td>F</td>\n",
       "      <td>1.84</td>\n",
       "      <td>64.2</td>\n",
       "      <td>False</td>\n",
       "      <td>c</td>\n",
       "      <td>18.96</td>\n",
       "      <td>6.04</td>\n",
       "    </tr>\n",
       "    <tr>\n",
       "      <th>104</th>\n",
       "      <td>57</td>\n",
       "      <td>F</td>\n",
       "      <td>1.95</td>\n",
       "      <td>80.8</td>\n",
       "      <td>False</td>\n",
       "      <td>c</td>\n",
       "      <td>21.25</td>\n",
       "      <td>6.40</td>\n",
       "    </tr>\n",
       "    <tr>\n",
       "      <th>...</th>\n",
       "      <td>...</td>\n",
       "      <td>...</td>\n",
       "      <td>...</td>\n",
       "      <td>...</td>\n",
       "      <td>...</td>\n",
       "      <td>...</td>\n",
       "      <td>...</td>\n",
       "      <td>...</td>\n",
       "    </tr>\n",
       "    <tr>\n",
       "      <th>195</th>\n",
       "      <td>60</td>\n",
       "      <td>M</td>\n",
       "      <td>1.67</td>\n",
       "      <td>87.0</td>\n",
       "      <td>False</td>\n",
       "      <td>c</td>\n",
       "      <td>31.20</td>\n",
       "      <td>5.48</td>\n",
       "    </tr>\n",
       "    <tr>\n",
       "      <th>196</th>\n",
       "      <td>49</td>\n",
       "      <td>M</td>\n",
       "      <td>1.56</td>\n",
       "      <td>96.9</td>\n",
       "      <td>False</td>\n",
       "      <td>a</td>\n",
       "      <td>39.82</td>\n",
       "      <td>5.12</td>\n",
       "    </tr>\n",
       "    <tr>\n",
       "      <th>197</th>\n",
       "      <td>55</td>\n",
       "      <td>F</td>\n",
       "      <td>1.20</td>\n",
       "      <td>83.7</td>\n",
       "      <td>True</td>\n",
       "      <td>b</td>\n",
       "      <td>58.13</td>\n",
       "      <td>3.94</td>\n",
       "    </tr>\n",
       "    <tr>\n",
       "      <th>198</th>\n",
       "      <td>31</td>\n",
       "      <td>M</td>\n",
       "      <td>1.45</td>\n",
       "      <td>70.3</td>\n",
       "      <td>False</td>\n",
       "      <td>c</td>\n",
       "      <td>33.44</td>\n",
       "      <td>4.76</td>\n",
       "    </tr>\n",
       "    <tr>\n",
       "      <th>199</th>\n",
       "      <td>19</td>\n",
       "      <td>M</td>\n",
       "      <td>1.63</td>\n",
       "      <td>88.1</td>\n",
       "      <td>False</td>\n",
       "      <td>c</td>\n",
       "      <td>33.16</td>\n",
       "      <td>5.35</td>\n",
       "    </tr>\n",
       "  </tbody>\n",
       "</table>\n",
       "<p>100 rows × 8 columns</p>\n",
       "</div>"
      ],
      "text/plain": [
       "     age sex  height  weight  depressed group    bmi  height_feet\n",
       "100  100   F    1.65    87.9      False     c  32.29         5.41\n",
       "101   33   F    1.63    86.9      False     d  32.71         5.35\n",
       "102   91   F    1.46    72.9      False     c  34.20         4.79\n",
       "103   19   F    1.84    64.2      False     c  18.96         6.04\n",
       "104   57   F    1.95    80.8      False     c  21.25         6.40\n",
       "..   ...  ..     ...     ...        ...   ...    ...          ...\n",
       "195   60   M    1.67    87.0      False     c  31.20         5.48\n",
       "196   49   M    1.56    96.9      False     a  39.82         5.12\n",
       "197   55   F    1.20    83.7       True     b  58.13         3.94\n",
       "198   31   M    1.45    70.3      False     c  33.44         4.76\n",
       "199   19   M    1.63    88.1      False     c  33.16         5.35\n",
       "\n",
       "[100 rows x 8 columns]"
      ]
     },
     "execution_count": 245,
     "metadata": {},
     "output_type": "execute_result"
    }
   ],
   "source": [
    "df = df.assign(\n",
    "    bmi = (df.weight/( df.height ** 2)).round(2),\n",
    "    height_feet = (df.height * 3.280).round(2)\n",
    ")\n",
    "df"
   ]
  },
  {
   "cell_type": "markdown",
   "metadata": {},
   "source": [
    "#### The `insert` method\n",
    "- The insert column into DataFrame at specified location.\n",
    "- Note that you can add duplicate columns\n",
    "- This is a good opportunity to also introduce two vital tools \n",
    "  - `pd.cut` and `categorical` dtype \n"
   ]
  },
  {
   "cell_type": "markdown",
   "metadata": {
    "notebookRunGroups": {
     "groupValue": "2"
    }
   },
   "source": [
    "##### `pd.cut` bins values into discrete intervals\n",
    "- Use cut when you need to segment and sort data values into bins. \n",
    "- This function is also useful for going from a continuous variable to a categorical variable. \n",
    "- For example:"
   ]
  },
  {
   "cell_type": "code",
   "execution_count": 278,
   "metadata": {},
   "outputs": [],
   "source": [
    "age_labels = ['baby','toddler','children','teens','adults','elderly']\n",
    "age_bins = [0,2,5,11,18,65,100]\n",
    "age_groups = pd.cut(df.age,age_bins,labels=age_labels )\n",
    "df.insert(1,'age_groups',age_groups)"
   ]
  },
  {
   "cell_type": "code",
   "execution_count": 279,
   "metadata": {},
   "outputs": [
    {
     "data": {
      "text/html": [
       "<div>\n",
       "<style scoped>\n",
       "    .dataframe tbody tr th:only-of-type {\n",
       "        vertical-align: middle;\n",
       "    }\n",
       "\n",
       "    .dataframe tbody tr th {\n",
       "        vertical-align: top;\n",
       "    }\n",
       "\n",
       "    .dataframe thead th {\n",
       "        text-align: right;\n",
       "    }\n",
       "</style>\n",
       "<table border=\"1\" class=\"dataframe\">\n",
       "  <thead>\n",
       "    <tr style=\"text-align: right;\">\n",
       "      <th></th>\n",
       "      <th>age</th>\n",
       "      <th>age_groups</th>\n",
       "      <th>sex</th>\n",
       "      <th>height</th>\n",
       "      <th>weight</th>\n",
       "      <th>depressed</th>\n",
       "      <th>group</th>\n",
       "      <th>bmi</th>\n",
       "      <th>height_feet</th>\n",
       "    </tr>\n",
       "  </thead>\n",
       "  <tbody>\n",
       "    <tr>\n",
       "      <th>100</th>\n",
       "      <td>100</td>\n",
       "      <td>elderly</td>\n",
       "      <td>F</td>\n",
       "      <td>1.65</td>\n",
       "      <td>87.9</td>\n",
       "      <td>False</td>\n",
       "      <td>c</td>\n",
       "      <td>32.29</td>\n",
       "      <td>5.41</td>\n",
       "    </tr>\n",
       "    <tr>\n",
       "      <th>101</th>\n",
       "      <td>33</td>\n",
       "      <td>adults</td>\n",
       "      <td>F</td>\n",
       "      <td>1.63</td>\n",
       "      <td>86.9</td>\n",
       "      <td>False</td>\n",
       "      <td>d</td>\n",
       "      <td>32.71</td>\n",
       "      <td>5.35</td>\n",
       "    </tr>\n",
       "    <tr>\n",
       "      <th>102</th>\n",
       "      <td>91</td>\n",
       "      <td>elderly</td>\n",
       "      <td>F</td>\n",
       "      <td>1.46</td>\n",
       "      <td>72.9</td>\n",
       "      <td>False</td>\n",
       "      <td>c</td>\n",
       "      <td>34.20</td>\n",
       "      <td>4.79</td>\n",
       "    </tr>\n",
       "    <tr>\n",
       "      <th>103</th>\n",
       "      <td>19</td>\n",
       "      <td>adults</td>\n",
       "      <td>F</td>\n",
       "      <td>1.84</td>\n",
       "      <td>64.2</td>\n",
       "      <td>False</td>\n",
       "      <td>c</td>\n",
       "      <td>18.96</td>\n",
       "      <td>6.04</td>\n",
       "    </tr>\n",
       "    <tr>\n",
       "      <th>104</th>\n",
       "      <td>57</td>\n",
       "      <td>adults</td>\n",
       "      <td>F</td>\n",
       "      <td>1.95</td>\n",
       "      <td>80.8</td>\n",
       "      <td>False</td>\n",
       "      <td>c</td>\n",
       "      <td>21.25</td>\n",
       "      <td>6.40</td>\n",
       "    </tr>\n",
       "    <tr>\n",
       "      <th>...</th>\n",
       "      <td>...</td>\n",
       "      <td>...</td>\n",
       "      <td>...</td>\n",
       "      <td>...</td>\n",
       "      <td>...</td>\n",
       "      <td>...</td>\n",
       "      <td>...</td>\n",
       "      <td>...</td>\n",
       "      <td>...</td>\n",
       "    </tr>\n",
       "    <tr>\n",
       "      <th>195</th>\n",
       "      <td>60</td>\n",
       "      <td>adults</td>\n",
       "      <td>M</td>\n",
       "      <td>1.67</td>\n",
       "      <td>87.0</td>\n",
       "      <td>False</td>\n",
       "      <td>c</td>\n",
       "      <td>31.20</td>\n",
       "      <td>5.48</td>\n",
       "    </tr>\n",
       "    <tr>\n",
       "      <th>196</th>\n",
       "      <td>49</td>\n",
       "      <td>adults</td>\n",
       "      <td>M</td>\n",
       "      <td>1.56</td>\n",
       "      <td>96.9</td>\n",
       "      <td>False</td>\n",
       "      <td>a</td>\n",
       "      <td>39.82</td>\n",
       "      <td>5.12</td>\n",
       "    </tr>\n",
       "    <tr>\n",
       "      <th>197</th>\n",
       "      <td>55</td>\n",
       "      <td>adults</td>\n",
       "      <td>F</td>\n",
       "      <td>1.20</td>\n",
       "      <td>83.7</td>\n",
       "      <td>True</td>\n",
       "      <td>b</td>\n",
       "      <td>58.13</td>\n",
       "      <td>3.94</td>\n",
       "    </tr>\n",
       "    <tr>\n",
       "      <th>198</th>\n",
       "      <td>31</td>\n",
       "      <td>adults</td>\n",
       "      <td>M</td>\n",
       "      <td>1.45</td>\n",
       "      <td>70.3</td>\n",
       "      <td>False</td>\n",
       "      <td>c</td>\n",
       "      <td>33.44</td>\n",
       "      <td>4.76</td>\n",
       "    </tr>\n",
       "    <tr>\n",
       "      <th>199</th>\n",
       "      <td>19</td>\n",
       "      <td>adults</td>\n",
       "      <td>M</td>\n",
       "      <td>1.63</td>\n",
       "      <td>88.1</td>\n",
       "      <td>False</td>\n",
       "      <td>c</td>\n",
       "      <td>33.16</td>\n",
       "      <td>5.35</td>\n",
       "    </tr>\n",
       "  </tbody>\n",
       "</table>\n",
       "<p>100 rows × 9 columns</p>\n",
       "</div>"
      ],
      "text/plain": [
       "     age age_groups sex  height  weight  depressed group    bmi  height_feet\n",
       "100  100    elderly   F    1.65    87.9      False     c  32.29         5.41\n",
       "101   33     adults   F    1.63    86.9      False     d  32.71         5.35\n",
       "102   91    elderly   F    1.46    72.9      False     c  34.20         4.79\n",
       "103   19     adults   F    1.84    64.2      False     c  18.96         6.04\n",
       "104   57     adults   F    1.95    80.8      False     c  21.25         6.40\n",
       "..   ...        ...  ..     ...     ...        ...   ...    ...          ...\n",
       "195   60     adults   M    1.67    87.0      False     c  31.20         5.48\n",
       "196   49     adults   M    1.56    96.9      False     a  39.82         5.12\n",
       "197   55     adults   F    1.20    83.7       True     b  58.13         3.94\n",
       "198   31     adults   M    1.45    70.3      False     c  33.44         4.76\n",
       "199   19     adults   M    1.63    88.1      False     c  33.16         5.35\n",
       "\n",
       "[100 rows x 9 columns]"
      ]
     },
     "execution_count": 279,
     "metadata": {},
     "output_type": "execute_result"
    }
   ],
   "source": [
    "df"
   ]
  },
  {
   "cell_type": "markdown",
   "metadata": {},
   "source": [
    "#### But you can also just add a column like in a dictionary \n",
    "- Note that if this column already exists it will overwrite the contents "
   ]
  },
  {
   "cell_type": "code",
   "execution_count": 280,
   "metadata": {},
   "outputs": [],
   "source": [
    "df['age_groups'] = age_groups"
   ]
  },
  {
   "cell_type": "code",
   "execution_count": 281,
   "metadata": {},
   "outputs": [
    {
     "data": {
      "text/html": [
       "<div>\n",
       "<style scoped>\n",
       "    .dataframe tbody tr th:only-of-type {\n",
       "        vertical-align: middle;\n",
       "    }\n",
       "\n",
       "    .dataframe tbody tr th {\n",
       "        vertical-align: top;\n",
       "    }\n",
       "\n",
       "    .dataframe thead th {\n",
       "        text-align: right;\n",
       "    }\n",
       "</style>\n",
       "<table border=\"1\" class=\"dataframe\">\n",
       "  <thead>\n",
       "    <tr style=\"text-align: right;\">\n",
       "      <th></th>\n",
       "      <th>age</th>\n",
       "      <th>age_groups</th>\n",
       "      <th>sex</th>\n",
       "      <th>height</th>\n",
       "      <th>weight</th>\n",
       "      <th>depressed</th>\n",
       "      <th>group</th>\n",
       "      <th>bmi</th>\n",
       "      <th>height_feet</th>\n",
       "    </tr>\n",
       "  </thead>\n",
       "  <tbody>\n",
       "    <tr>\n",
       "      <th>100</th>\n",
       "      <td>100</td>\n",
       "      <td>elderly</td>\n",
       "      <td>F</td>\n",
       "      <td>1.65</td>\n",
       "      <td>87.9</td>\n",
       "      <td>False</td>\n",
       "      <td>c</td>\n",
       "      <td>32.29</td>\n",
       "      <td>5.41</td>\n",
       "    </tr>\n",
       "    <tr>\n",
       "      <th>101</th>\n",
       "      <td>33</td>\n",
       "      <td>adults</td>\n",
       "      <td>F</td>\n",
       "      <td>1.63</td>\n",
       "      <td>86.9</td>\n",
       "      <td>False</td>\n",
       "      <td>d</td>\n",
       "      <td>32.71</td>\n",
       "      <td>5.35</td>\n",
       "    </tr>\n",
       "    <tr>\n",
       "      <th>102</th>\n",
       "      <td>91</td>\n",
       "      <td>elderly</td>\n",
       "      <td>F</td>\n",
       "      <td>1.46</td>\n",
       "      <td>72.9</td>\n",
       "      <td>False</td>\n",
       "      <td>c</td>\n",
       "      <td>34.20</td>\n",
       "      <td>4.79</td>\n",
       "    </tr>\n",
       "    <tr>\n",
       "      <th>103</th>\n",
       "      <td>19</td>\n",
       "      <td>adults</td>\n",
       "      <td>F</td>\n",
       "      <td>1.84</td>\n",
       "      <td>64.2</td>\n",
       "      <td>False</td>\n",
       "      <td>c</td>\n",
       "      <td>18.96</td>\n",
       "      <td>6.04</td>\n",
       "    </tr>\n",
       "    <tr>\n",
       "      <th>104</th>\n",
       "      <td>57</td>\n",
       "      <td>adults</td>\n",
       "      <td>F</td>\n",
       "      <td>1.95</td>\n",
       "      <td>80.8</td>\n",
       "      <td>False</td>\n",
       "      <td>c</td>\n",
       "      <td>21.25</td>\n",
       "      <td>6.40</td>\n",
       "    </tr>\n",
       "    <tr>\n",
       "      <th>...</th>\n",
       "      <td>...</td>\n",
       "      <td>...</td>\n",
       "      <td>...</td>\n",
       "      <td>...</td>\n",
       "      <td>...</td>\n",
       "      <td>...</td>\n",
       "      <td>...</td>\n",
       "      <td>...</td>\n",
       "      <td>...</td>\n",
       "    </tr>\n",
       "    <tr>\n",
       "      <th>195</th>\n",
       "      <td>60</td>\n",
       "      <td>adults</td>\n",
       "      <td>M</td>\n",
       "      <td>1.67</td>\n",
       "      <td>87.0</td>\n",
       "      <td>False</td>\n",
       "      <td>c</td>\n",
       "      <td>31.20</td>\n",
       "      <td>5.48</td>\n",
       "    </tr>\n",
       "    <tr>\n",
       "      <th>196</th>\n",
       "      <td>49</td>\n",
       "      <td>adults</td>\n",
       "      <td>M</td>\n",
       "      <td>1.56</td>\n",
       "      <td>96.9</td>\n",
       "      <td>False</td>\n",
       "      <td>a</td>\n",
       "      <td>39.82</td>\n",
       "      <td>5.12</td>\n",
       "    </tr>\n",
       "    <tr>\n",
       "      <th>197</th>\n",
       "      <td>55</td>\n",
       "      <td>adults</td>\n",
       "      <td>F</td>\n",
       "      <td>1.20</td>\n",
       "      <td>83.7</td>\n",
       "      <td>True</td>\n",
       "      <td>b</td>\n",
       "      <td>58.13</td>\n",
       "      <td>3.94</td>\n",
       "    </tr>\n",
       "    <tr>\n",
       "      <th>198</th>\n",
       "      <td>31</td>\n",
       "      <td>adults</td>\n",
       "      <td>M</td>\n",
       "      <td>1.45</td>\n",
       "      <td>70.3</td>\n",
       "      <td>False</td>\n",
       "      <td>c</td>\n",
       "      <td>33.44</td>\n",
       "      <td>4.76</td>\n",
       "    </tr>\n",
       "    <tr>\n",
       "      <th>199</th>\n",
       "      <td>19</td>\n",
       "      <td>adults</td>\n",
       "      <td>M</td>\n",
       "      <td>1.63</td>\n",
       "      <td>88.1</td>\n",
       "      <td>False</td>\n",
       "      <td>c</td>\n",
       "      <td>33.16</td>\n",
       "      <td>5.35</td>\n",
       "    </tr>\n",
       "  </tbody>\n",
       "</table>\n",
       "<p>100 rows × 9 columns</p>\n",
       "</div>"
      ],
      "text/plain": [
       "     age age_groups sex  height  weight  depressed group    bmi  height_feet\n",
       "100  100    elderly   F    1.65    87.9      False     c  32.29         5.41\n",
       "101   33     adults   F    1.63    86.9      False     d  32.71         5.35\n",
       "102   91    elderly   F    1.46    72.9      False     c  34.20         4.79\n",
       "103   19     adults   F    1.84    64.2      False     c  18.96         6.04\n",
       "104   57     adults   F    1.95    80.8      False     c  21.25         6.40\n",
       "..   ...        ...  ..     ...     ...        ...   ...    ...          ...\n",
       "195   60     adults   M    1.67    87.0      False     c  31.20         5.48\n",
       "196   49     adults   M    1.56    96.9      False     a  39.82         5.12\n",
       "197   55     adults   F    1.20    83.7       True     b  58.13         3.94\n",
       "198   31     adults   M    1.45    70.3      False     c  33.44         4.76\n",
       "199   19     adults   M    1.63    88.1      False     c  33.16         5.35\n",
       "\n",
       "[100 rows x 9 columns]"
      ]
     },
     "execution_count": 281,
     "metadata": {},
     "output_type": "execute_result"
    }
   ],
   "source": [
    "df"
   ]
  },
  {
   "cell_type": "markdown",
   "metadata": {},
   "source": [
    "#### `pd.concat`\n",
    "- Finally you can concatenate different data frames and Series \n",
    "- "
   ]
  },
  {
   "cell_type": "markdown",
   "metadata": {},
   "source": [
    "### Data operations in Pandas using Numpy Universal Functions\n",
    "\n",
    "- Pandas derives most of this capability from Universal Functions in NumPy. \n",
    "- The neat thing is that you can apply the numpy functions directly on a Pandas object and get a Series in return. "
   ]
  },
  {
   "cell_type": "code",
   "execution_count": 264,
   "metadata": {},
   "outputs": [
    {
     "data": {
      "text/markdown": [
       "### We can transform values using numpy functions"
      ],
      "text/plain": [
       "<IPython.core.display.Markdown object>"
      ]
     },
     "metadata": {},
     "output_type": "display_data"
    },
    {
     "data": {
      "text/plain": [
       "100    4.605170\n",
       "101    3.496508\n",
       "102    4.510860\n",
       "103    2.944439\n",
       "104    4.043051\n",
       "Name: age, dtype: float64"
      ]
     },
     "metadata": {},
     "output_type": "display_data"
    },
    {
     "data": {
      "text/markdown": [
       "### We can also standardise values using `mean` and `std`"
      ],
      "text/plain": [
       "<IPython.core.display.Markdown object>"
      ]
     },
     "metadata": {},
     "output_type": "display_data"
    },
    {
     "data": {
      "text/plain": [
       "100    2.475448\n",
       "101   -0.614251\n",
       "102    2.060414\n",
       "103   -1.259859\n",
       "104    0.492507\n",
       "Name: age, dtype: float64"
      ]
     },
     "metadata": {},
     "output_type": "display_data"
    }
   ],
   "source": [
    "display(Markdown( '### We can transform values using numpy functions'))\n",
    "display(np.log(df.age).head())\n",
    "display(Markdown( '### We can also standardise values using `mean` and `std`'))\n",
    "display((((df.age - np.mean(df.age)))/np.std(df.age)).head())"
   ]
  },
  {
   "cell_type": "markdown",
   "metadata": {},
   "source": [
    "### Extend dataframes using ufunc and assign \n",
    "- This effectively means that you can use numpy ufunc to extend the original data frame also\n",
    "- You can even use scipy to the same functionality \n",
    "- For example, using scipy Z-score transformation compared to the equivalent manual using NumPy\n"
   ]
  },
  {
   "cell_type": "code",
   "execution_count": 9,
   "metadata": {},
   "outputs": [
    {
     "data": {
      "text/html": [
       "<div>\n",
       "<style scoped>\n",
       "    .dataframe tbody tr th:only-of-type {\n",
       "        vertical-align: middle;\n",
       "    }\n",
       "\n",
       "    .dataframe tbody tr th {\n",
       "        vertical-align: top;\n",
       "    }\n",
       "\n",
       "    .dataframe thead th {\n",
       "        text-align: right;\n",
       "    }\n",
       "</style>\n",
       "<table border=\"1\" class=\"dataframe\">\n",
       "  <thead>\n",
       "    <tr style=\"text-align: right;\">\n",
       "      <th></th>\n",
       "      <th>age</th>\n",
       "      <th>sex</th>\n",
       "      <th>height</th>\n",
       "      <th>weight</th>\n",
       "      <th>depressed</th>\n",
       "      <th>group</th>\n",
       "      <th>age_log</th>\n",
       "      <th>age_zscore</th>\n",
       "      <th>age_Z</th>\n",
       "    </tr>\n",
       "  </thead>\n",
       "  <tbody>\n",
       "    <tr>\n",
       "      <th>100</th>\n",
       "      <td>100</td>\n",
       "      <td>F</td>\n",
       "      <td>1.65</td>\n",
       "      <td>87.9</td>\n",
       "      <td>False</td>\n",
       "      <td>c</td>\n",
       "      <td>4.61</td>\n",
       "      <td>2.48</td>\n",
       "      <td>2.48</td>\n",
       "    </tr>\n",
       "    <tr>\n",
       "      <th>101</th>\n",
       "      <td>33</td>\n",
       "      <td>F</td>\n",
       "      <td>1.63</td>\n",
       "      <td>86.9</td>\n",
       "      <td>False</td>\n",
       "      <td>d</td>\n",
       "      <td>3.50</td>\n",
       "      <td>-0.61</td>\n",
       "      <td>-0.61</td>\n",
       "    </tr>\n",
       "    <tr>\n",
       "      <th>102</th>\n",
       "      <td>91</td>\n",
       "      <td>F</td>\n",
       "      <td>1.46</td>\n",
       "      <td>72.9</td>\n",
       "      <td>False</td>\n",
       "      <td>c</td>\n",
       "      <td>4.51</td>\n",
       "      <td>2.06</td>\n",
       "      <td>2.06</td>\n",
       "    </tr>\n",
       "    <tr>\n",
       "      <th>103</th>\n",
       "      <td>19</td>\n",
       "      <td>F</td>\n",
       "      <td>1.84</td>\n",
       "      <td>64.2</td>\n",
       "      <td>False</td>\n",
       "      <td>c</td>\n",
       "      <td>2.94</td>\n",
       "      <td>-1.26</td>\n",
       "      <td>-1.26</td>\n",
       "    </tr>\n",
       "    <tr>\n",
       "      <th>104</th>\n",
       "      <td>57</td>\n",
       "      <td>F</td>\n",
       "      <td>1.95</td>\n",
       "      <td>80.8</td>\n",
       "      <td>False</td>\n",
       "      <td>c</td>\n",
       "      <td>4.04</td>\n",
       "      <td>0.49</td>\n",
       "      <td>0.49</td>\n",
       "    </tr>\n",
       "    <tr>\n",
       "      <th>...</th>\n",
       "      <td>...</td>\n",
       "      <td>...</td>\n",
       "      <td>...</td>\n",
       "      <td>...</td>\n",
       "      <td>...</td>\n",
       "      <td>...</td>\n",
       "      <td>...</td>\n",
       "      <td>...</td>\n",
       "      <td>...</td>\n",
       "    </tr>\n",
       "    <tr>\n",
       "      <th>195</th>\n",
       "      <td>60</td>\n",
       "      <td>M</td>\n",
       "      <td>1.67</td>\n",
       "      <td>87.0</td>\n",
       "      <td>False</td>\n",
       "      <td>c</td>\n",
       "      <td>4.09</td>\n",
       "      <td>0.63</td>\n",
       "      <td>0.63</td>\n",
       "    </tr>\n",
       "    <tr>\n",
       "      <th>196</th>\n",
       "      <td>49</td>\n",
       "      <td>M</td>\n",
       "      <td>1.56</td>\n",
       "      <td>96.9</td>\n",
       "      <td>False</td>\n",
       "      <td>a</td>\n",
       "      <td>3.89</td>\n",
       "      <td>0.12</td>\n",
       "      <td>0.12</td>\n",
       "    </tr>\n",
       "    <tr>\n",
       "      <th>197</th>\n",
       "      <td>55</td>\n",
       "      <td>F</td>\n",
       "      <td>1.20</td>\n",
       "      <td>83.7</td>\n",
       "      <td>True</td>\n",
       "      <td>b</td>\n",
       "      <td>4.01</td>\n",
       "      <td>0.40</td>\n",
       "      <td>0.40</td>\n",
       "    </tr>\n",
       "    <tr>\n",
       "      <th>198</th>\n",
       "      <td>31</td>\n",
       "      <td>M</td>\n",
       "      <td>1.45</td>\n",
       "      <td>70.3</td>\n",
       "      <td>False</td>\n",
       "      <td>c</td>\n",
       "      <td>3.43</td>\n",
       "      <td>-0.71</td>\n",
       "      <td>-0.71</td>\n",
       "    </tr>\n",
       "    <tr>\n",
       "      <th>199</th>\n",
       "      <td>19</td>\n",
       "      <td>M</td>\n",
       "      <td>1.63</td>\n",
       "      <td>88.1</td>\n",
       "      <td>False</td>\n",
       "      <td>c</td>\n",
       "      <td>2.94</td>\n",
       "      <td>-1.26</td>\n",
       "      <td>-1.26</td>\n",
       "    </tr>\n",
       "  </tbody>\n",
       "</table>\n",
       "<p>100 rows × 9 columns</p>\n",
       "</div>"
      ],
      "text/plain": [
       "     age sex  height  weight  depressed group  age_log  age_zscore  age_Z\n",
       "100  100   F    1.65    87.9      False     c     4.61        2.48   2.48\n",
       "101   33   F    1.63    86.9      False     d     3.50       -0.61  -0.61\n",
       "102   91   F    1.46    72.9      False     c     4.51        2.06   2.06\n",
       "103   19   F    1.84    64.2      False     c     2.94       -1.26  -1.26\n",
       "104   57   F    1.95    80.8      False     c     4.04        0.49   0.49\n",
       "..   ...  ..     ...     ...        ...   ...      ...         ...    ...\n",
       "195   60   M    1.67    87.0      False     c     4.09        0.63   0.63\n",
       "196   49   M    1.56    96.9      False     a     3.89        0.12   0.12\n",
       "197   55   F    1.20    83.7       True     b     4.01        0.40   0.40\n",
       "198   31   M    1.45    70.3      False     c     3.43       -0.71  -0.71\n",
       "199   19   M    1.63    88.1      False     c     2.94       -1.26  -1.26\n",
       "\n",
       "[100 rows x 9 columns]"
      ]
     },
     "execution_count": 9,
     "metadata": {},
     "output_type": "execute_result"
    }
   ],
   "source": [
    "from scipy.stats import zscore\n",
    "df = df.assign(\n",
    "    age_log = np.log(df.age).round(2),\n",
    "    age_zscore = zscore(df.age).round(2),\n",
    "    age_Z = (((df.age - np.mean(df.age)))/np.std(df.age)).round(2)\n",
    ")\n",
    "df"
   ]
  },
  {
   "cell_type": "markdown",
   "metadata": {},
   "source": [
    "### Pandas dataframe have information to share \n",
    "- Pandas has several methods to describe the properties of a dataset "
   ]
  },
  {
   "cell_type": "code",
   "execution_count": 265,
   "metadata": {},
   "outputs": [
    {
     "data": {
      "text/markdown": [
       "#### We can output the technical info of the data frame "
      ],
      "text/plain": [
       "<IPython.core.display.Markdown object>"
      ]
     },
     "metadata": {},
     "output_type": "display_data"
    },
    {
     "name": "stdout",
     "output_type": "stream",
     "text": [
      "<class 'pandas.core.frame.DataFrame'>\n",
      "Int64Index: 100 entries, 100 to 199\n",
      "Data columns (total 8 columns):\n",
      " #   Column       Non-Null Count  Dtype  \n",
      "---  ------       --------------  -----  \n",
      " 0   age          100 non-null    int64  \n",
      " 1   sex          100 non-null    object \n",
      " 2   height       100 non-null    float64\n",
      " 3   weight       100 non-null    float64\n",
      " 4   depressed    100 non-null    bool   \n",
      " 5   group        100 non-null    object \n",
      " 6   bmi          100 non-null    float64\n",
      " 7   height_feet  100 non-null    float64\n",
      "dtypes: bool(1), float64(4), int64(1), object(2)\n",
      "memory usage: 6.3+ KB\n"
     ]
    },
    {
     "data": {
      "text/plain": [
       "None"
      ]
     },
     "metadata": {},
     "output_type": "display_data"
    }
   ],
   "source": [
    "display(Markdown( '#### We can output the technical info of the data frame '))\n",
    "display(df.info())"
   ]
  },
  {
   "cell_type": "code",
   "execution_count": 271,
   "metadata": {},
   "outputs": [
    {
     "data": {
      "text/markdown": [
       "#### We can describe the statistical properties of the dataset"
      ],
      "text/plain": [
       "<IPython.core.display.Markdown object>"
      ]
     },
     "metadata": {},
     "output_type": "display_data"
    },
    {
     "data": {
      "text/markdown": [
       "##### For numerical features (columns)"
      ],
      "text/plain": [
       "<IPython.core.display.Markdown object>"
      ]
     },
     "metadata": {},
     "output_type": "display_data"
    },
    {
     "data": {
      "text/html": [
       "<div>\n",
       "<style scoped>\n",
       "    .dataframe tbody tr th:only-of-type {\n",
       "        vertical-align: middle;\n",
       "    }\n",
       "\n",
       "    .dataframe tbody tr th {\n",
       "        vertical-align: top;\n",
       "    }\n",
       "\n",
       "    .dataframe thead th {\n",
       "        text-align: right;\n",
       "    }\n",
       "</style>\n",
       "<table border=\"1\" class=\"dataframe\">\n",
       "  <thead>\n",
       "    <tr style=\"text-align: right;\">\n",
       "      <th></th>\n",
       "      <th>age</th>\n",
       "      <th>height</th>\n",
       "      <th>weight</th>\n",
       "      <th>bmi</th>\n",
       "      <th>height_feet</th>\n",
       "    </tr>\n",
       "  </thead>\n",
       "  <tbody>\n",
       "    <tr>\n",
       "      <th>count</th>\n",
       "      <td>100.000000</td>\n",
       "      <td>100.000000</td>\n",
       "      <td>100.000000</td>\n",
       "      <td>100.000000</td>\n",
       "      <td>100.000000</td>\n",
       "    </tr>\n",
       "    <tr>\n",
       "      <th>mean</th>\n",
       "      <td>46.320000</td>\n",
       "      <td>1.503400</td>\n",
       "      <td>80.548000</td>\n",
       "      <td>37.242600</td>\n",
       "      <td>4.931500</td>\n",
       "    </tr>\n",
       "    <tr>\n",
       "      <th>std</th>\n",
       "      <td>21.794207</td>\n",
       "      <td>0.188279</td>\n",
       "      <td>13.736529</td>\n",
       "      <td>11.115863</td>\n",
       "      <td>0.617505</td>\n",
       "    </tr>\n",
       "    <tr>\n",
       "      <th>min</th>\n",
       "      <td>0.000000</td>\n",
       "      <td>1.200000</td>\n",
       "      <td>46.000000</td>\n",
       "      <td>17.750000</td>\n",
       "      <td>3.940000</td>\n",
       "    </tr>\n",
       "    <tr>\n",
       "      <th>25%</th>\n",
       "      <td>32.000000</td>\n",
       "      <td>1.405000</td>\n",
       "      <td>70.200000</td>\n",
       "      <td>30.070000</td>\n",
       "      <td>4.605000</td>\n",
       "    </tr>\n",
       "    <tr>\n",
       "      <th>50%</th>\n",
       "      <td>45.000000</td>\n",
       "      <td>1.500000</td>\n",
       "      <td>81.050000</td>\n",
       "      <td>35.410000</td>\n",
       "      <td>4.920000</td>\n",
       "    </tr>\n",
       "    <tr>\n",
       "      <th>75%</th>\n",
       "      <td>60.000000</td>\n",
       "      <td>1.610000</td>\n",
       "      <td>88.725000</td>\n",
       "      <td>43.605000</td>\n",
       "      <td>5.280000</td>\n",
       "    </tr>\n",
       "    <tr>\n",
       "      <th>max</th>\n",
       "      <td>100.000000</td>\n",
       "      <td>2.100000</td>\n",
       "      <td>113.200000</td>\n",
       "      <td>73.170000</td>\n",
       "      <td>6.890000</td>\n",
       "    </tr>\n",
       "  </tbody>\n",
       "</table>\n",
       "</div>"
      ],
      "text/plain": [
       "              age      height      weight         bmi  height_feet\n",
       "count  100.000000  100.000000  100.000000  100.000000   100.000000\n",
       "mean    46.320000    1.503400   80.548000   37.242600     4.931500\n",
       "std     21.794207    0.188279   13.736529   11.115863     0.617505\n",
       "min      0.000000    1.200000   46.000000   17.750000     3.940000\n",
       "25%     32.000000    1.405000   70.200000   30.070000     4.605000\n",
       "50%     45.000000    1.500000   81.050000   35.410000     4.920000\n",
       "75%     60.000000    1.610000   88.725000   43.605000     5.280000\n",
       "max    100.000000    2.100000  113.200000   73.170000     6.890000"
      ]
     },
     "metadata": {},
     "output_type": "display_data"
    },
    {
     "data": {
      "text/markdown": [
       "##### For categorical features (columns)"
      ],
      "text/plain": [
       "<IPython.core.display.Markdown object>"
      ]
     },
     "metadata": {},
     "output_type": "display_data"
    },
    {
     "data": {
      "text/html": [
       "<div>\n",
       "<style scoped>\n",
       "    .dataframe tbody tr th:only-of-type {\n",
       "        vertical-align: middle;\n",
       "    }\n",
       "\n",
       "    .dataframe tbody tr th {\n",
       "        vertical-align: top;\n",
       "    }\n",
       "\n",
       "    .dataframe thead th {\n",
       "        text-align: right;\n",
       "    }\n",
       "</style>\n",
       "<table border=\"1\" class=\"dataframe\">\n",
       "  <thead>\n",
       "    <tr style=\"text-align: right;\">\n",
       "      <th></th>\n",
       "      <th>sex</th>\n",
       "      <th>depressed</th>\n",
       "      <th>group</th>\n",
       "    </tr>\n",
       "  </thead>\n",
       "  <tbody>\n",
       "    <tr>\n",
       "      <th>count</th>\n",
       "      <td>100</td>\n",
       "      <td>100</td>\n",
       "      <td>100</td>\n",
       "    </tr>\n",
       "    <tr>\n",
       "      <th>unique</th>\n",
       "      <td>2</td>\n",
       "      <td>2</td>\n",
       "      <td>4</td>\n",
       "    </tr>\n",
       "    <tr>\n",
       "      <th>top</th>\n",
       "      <td>F</td>\n",
       "      <td>False</td>\n",
       "      <td>c</td>\n",
       "    </tr>\n",
       "    <tr>\n",
       "      <th>freq</th>\n",
       "      <td>52</td>\n",
       "      <td>90</td>\n",
       "      <td>45</td>\n",
       "    </tr>\n",
       "  </tbody>\n",
       "</table>\n",
       "</div>"
      ],
      "text/plain": [
       "        sex depressed group\n",
       "count   100       100   100\n",
       "unique    2         2     4\n",
       "top       F     False     c\n",
       "freq     52        90    45"
      ]
     },
     "metadata": {},
     "output_type": "display_data"
    }
   ],
   "source": [
    "display(Markdown( '#### We can describe the statistical properties of the dataset'))\n",
    "display(Markdown( '##### For numerical features (columns)'))\n",
    "display(df.describe())\n",
    "display(Markdown( '##### For categorical object or boolean features (columns)'))\n",
    "display(df.describe(include=['O','bool']))"
   ]
  },
  {
   "cell_type": "markdown",
   "metadata": {},
   "source": [
    "## Links to expand your understanding \n",
    "\n",
    "For those interested in learning more...\n",
    "- [Pandas online documentation](http://pandas.pydata.org/)\n",
    "- [Pandas on PyVideo](http://pyvideo.org/search?q=pandas)"
   ]
  }
 ],
 "metadata": {
  "interpreter": {
   "hash": "758785a5db8cea210020796a8d499f9bc3415c1f560a1a7f9f9e7309f37457cf"
  },
  "kernelspec": {
   "display_name": "Python 3",
   "language": "python",
   "name": "python3"
  },
  "language_info": {
   "codemirror_mode": {
    "name": "ipython",
    "version": 3
   },
   "file_extension": ".py",
   "mimetype": "text/x-python",
   "name": "python",
   "nbconvert_exporter": "python",
   "pygments_lexer": "ipython3",
   "version": "3.10.4"
  }
 },
 "nbformat": 4,
 "nbformat_minor": 4
}