{
 "cells": [
  {
   "cell_type": "markdown",
   "metadata": {},
   "source": [
    "# PYTHON FUNCTIONS 101\n",
    "\n",
    "## What are Functions?\n",
    "- Python is full of functions: we've already encountered a variety of built-in functions that can be used for many different tasks. It is likely, however, that it will be necessary for you to write your own functions to deal with problems that your data presents.\n",
    "- A function is a sequence of statements in a certain order, with a unique name that can be called upon to be executed. \n",
    "- When it is executed the sequence is re-used again. \n",
    "\n",
    "Functions in Python fall into three types:\n",
    "- Built-in functions (all the functions we have used so far are considered built-in)\n",
    "- Lambda or anonymous functions are very similar to the mathematical definition above; they receive input and return it after applying some rule or expression. \n",
    "- General purpose functions that are created to do something useful.\n",
    "\n",
    "## What are Functions good for?\n",
    "\n",
    "The two most important reasons that we use functions are *reusability* and *abstraction*\n",
    "\n",
    " - Reusability: Once defined, a function can be used repeatedly. By reusing functions in your program, you can save time and effort.\n",
    "- Abstraction. To use a particular function, you have to know its name, its function, the arguments you need to give it, and what results you will receive.\n",
    "- Writing large programs that actually work is possible because of the ability to break them up into many abstract, reusable parts.\n"
   ]
  },
  {
   "cell_type": "markdown",
   "metadata": {},
   "source": [
    "## Creating and Calling a Function\n",
    "\n",
    "- In Python a function is defined using the def keyword:\n"
   ]
  },
  {
   "cell_type": "code",
   "execution_count": 1,
   "metadata": {},
   "outputs": [
    {
     "data": {
      "text/plain": [
       "function"
      ]
     },
     "execution_count": 1,
     "metadata": {},
     "output_type": "execute_result"
    }
   ],
   "source": [
    "def my_first_function():\n",
    "  print(\"Hello from my first function\")\n",
    "type(my_first_function)  "
   ]
  },
  {
   "cell_type": "markdown",
   "metadata": {},
   "source": [
    "- You call a function, using it's name followed by parenthesis\n"
   ]
  },
  {
   "cell_type": "code",
   "execution_count": 2,
   "metadata": {},
   "outputs": [
    {
     "name": "stdout",
     "output_type": "stream",
     "text": [
      "Hello from my first function\n"
     ]
    }
   ],
   "source": [
    "my_first_function()"
   ]
  },
  {
   "cell_type": "markdown",
   "metadata": {},
   "source": [
    "## Parameters, Arguments and Function scope\n",
    "\n",
    "- A parameter is a variable name declared when the function is created.\n",
    "- Normally, a variable is only available from inside the region it is created. This is called scope.\n",
    "- Parameters are specified after the function name, inside the parentheses. \n",
    "- Arguments are the data you pass into the method's parameters\n",
    "- You can add as many parameters as you want, just separate them with a comma.\n",
    "\n",
    "- Consider the following example: \n"
   ]
  },
  {
   "cell_type": "code",
   "execution_count": 3,
   "metadata": {},
   "outputs": [
    {
     "name": "stdout",
     "output_type": "stream",
     "text": [
      "Hello this function is eyal's second function\n"
     ]
    }
   ],
   "source": [
    "def my_second_function(first_name):\n",
    "  print(f\"Hello this function is {first_name}'s second function\")\n",
    "my_second_function('eyal')"
   ]
  },
  {
   "cell_type": "markdown",
   "metadata": {},
   "source": [
    "### What will happen if we run our function without passing an argument?\n",
    "\n",
    "`````{admonition} Try it \n",
    "~~~python\n",
    "my_second_function() \n",
    "~~~\n",
    "`````"
   ]
  },
  {
   "cell_type": "markdown",
   "metadata": {},
   "source": [
    "- When creating a function you declare what is the minimum amount of data the function requires in order to run\n",
    "- By adding a default value, we can fix the above problem\n"
   ]
  },
  {
   "cell_type": "code",
   "execution_count": 4,
   "metadata": {},
   "outputs": [
    {
     "name": "stdout",
     "output_type": "stream",
     "text": [
      "Hello this function is eyal's second function\n"
     ]
    }
   ],
   "source": [
    "def my_second_function(first_name='eyal'):\n",
    "  print(f\"Hello this function is {first_name}'s second function\")\n",
    "my_second_function()"
   ]
  },
  {
   "cell_type": "markdown",
   "metadata": {},
   "source": [
    "### Number of Arguments\n",
    "\n",
    "- What will happen if we add another argument not declared in the function scope\n",
    "\n",
    "\n",
    "`````{admonition} Try it \n",
    "~~~python\n",
    "my_second_function('Eyal','Soreq') \n",
    "~~~\n",
    "`````\n",
    "\n",
    "\n"
   ]
  },
  {
   "cell_type": "markdown",
   "metadata": {},
   "source": [
    "### Consider the following example: \n",
    "\n",
    "~~~python\n",
    "last_name = 'soreq'\n",
    "def my_third_function(first_name):\n",
    "    print(f\"Hello this function is {first_name} {last_name} third function\")\n",
    "my_third_function('eyal')  \n",
    "~~~\n",
    "\n",
    "#### What do you think will happen?"
   ]
  },
  {
   "cell_type": "markdown",
   "metadata": {},
   "source": [
    "- In Python, whenever a function is called, a dictionary of name-value pairs is searched for arguments needed. \n",
    "- The process begins with the local scope, moves to the enclosing scope, then moves to the global scope, and ends with the built-in scope. \n",
    "- If the  variable name cannot be found, an error will be returned\n"
   ]
  },
  {
   "cell_type": "markdown",
   "metadata": {},
   "source": [
    "### To emphasis this, I will explicitly delete `last_name` using the function `del`\n",
    "\n",
    "~~~python\n",
    "del last_name\n",
    "def my_third_function(first_name):\n",
    "    print(f\"Hello this function is {first_name} {last_name} third function\")\n",
    "my_third_function('Eyal')  \n",
    "~~~\n",
    "\n",
    "#### What do you think will happen now?\n",
    "\n"
   ]
  },
  {
   "cell_type": "markdown",
   "metadata": {},
   "source": [
    "### Let's add a last name  parameter\n"
   ]
  },
  {
   "cell_type": "code",
   "execution_count": 5,
   "metadata": {},
   "outputs": [
    {
     "name": "stdout",
     "output_type": "stream",
     "text": [
      "Hello this function is eyal soreq's fourth function\n"
     ]
    }
   ],
   "source": [
    "def my_fourth_function(first_name='eyal',last_name='soreq'):\n",
    "    print(f\"Hello this function is {first_name} {last_name}'s fourth function\")\n",
    "my_fourth_function()"
   ]
  },
  {
   "cell_type": "markdown",
   "metadata": {},
   "source": [
    "## Functions are objects of type function\n",
    "- Every time you create a function you are in fact creating an instance of type function \n",
    "- This means that you have all the different methods the developers of Python thought a function should have\n",
    "\n",
    "\n",
    "`````{admonition} Challenge\n",
    "Use the right introspection function to list the methods `my_fourth_function` has\n",
    "````{dropdown} Solution \n",
    "```{code-block} python \n",
    "dir(my_fourth_function)\n",
    "```\n",
    "````\n",
    "`````"
   ]
  },
  {
   "cell_type": "markdown",
   "metadata": {},
   "source": [
    "## `return` values from a function\n",
    "\n",
    "- If we define a function without returning anything, it returns `None`\n"
   ]
  },
  {
   "cell_type": "code",
   "execution_count": 6,
   "metadata": {},
   "outputs": [
    {
     "name": "stdout",
     "output_type": "stream",
     "text": [
      "Hello this function is eyal soreq's fourth function\n",
      "None\n"
     ]
    }
   ],
   "source": [
    "function_value = my_fourth_function()\n",
    "print(function_value)"
   ]
  },
  {
   "cell_type": "markdown",
   "metadata": {},
   "source": [
    "- We can use the protected keyword `return` to give the function the ability to return values"
   ]
  },
  {
   "cell_type": "code",
   "execution_count": 7,
   "metadata": {},
   "outputs": [
    {
     "name": "stdout",
     "output_type": "stream",
     "text": [
      "Hello this function is eyal soreq's fourth function\n",
      "eyal soreq\n"
     ]
    }
   ],
   "source": [
    "def my_fourth_function(first_name='eyal',last_name='soreq'):\n",
    "    full_name = f'{first_name} {last_name}'\n",
    "    print(f\"Hello this function is {full_name}'s fourth function\")\n",
    "    return full_name\n",
    "full_name = my_fourth_function()\n",
    "print(full_name)"
   ]
  },
  {
   "cell_type": "markdown",
   "metadata": {},
   "source": [
    "### `return` more than one value\n",
    "\n",
    "- A function in python can return more than one value \n",
    "- In fact it returns a tuple of the objects\n",
    "- Let's try this "
   ]
  },
  {
   "cell_type": "code",
   "execution_count": 8,
   "metadata": {},
   "outputs": [
    {
     "name": "stdout",
     "output_type": "stream",
     "text": [
      "(3, 6, 9, 12)\n",
      "<class 'tuple'>\n"
     ]
    }
   ],
   "source": [
    "def multiple_returns(arg):\n",
    "    return arg,arg*2,arg*3,arg*4\n",
    "value = multiple_returns(3)\n",
    "print(value)\n",
    "print(type(value))"
   ]
  },
  {
   "cell_type": "markdown",
   "metadata": {},
   "source": [
    "### Unpack multiple values \n",
    "\n",
    "- If we know the number of values a function returns we can unpack the tuple to individual variables\n"
   ]
  },
  {
   "cell_type": "code",
   "execution_count": 9,
   "metadata": {},
   "outputs": [
    {
     "data": {
      "text/plain": [
       "9"
      ]
     },
     "execution_count": 9,
     "metadata": {},
     "output_type": "execute_result"
    }
   ],
   "source": [
    "a,b,c,d = multiple_returns(3)\n",
    "c"
   ]
  },
  {
   "cell_type": "markdown",
   "metadata": {},
   "source": [
    "````{admonition} Test it\n",
    "What will happen if we have more variables than output values?\n",
    "```{code-block} python \n",
    "a,b,c,d,e = multiple_returns(3)\n",
    "```\n",
    "````"
   ]
  },
  {
   "cell_type": "markdown",
   "metadata": {},
   "source": [
    "### Unpack creatively\n",
    "\n",
    "- If we don't know the number of values a function returns (but we know it's at least more than one) we can use star unpacking to do some creative unpacking \n"
   ]
  },
  {
   "cell_type": "code",
   "execution_count": 10,
   "metadata": {},
   "outputs": [
    {
     "data": {
      "text/plain": [
       "[6, 9]"
      ]
     },
     "execution_count": 10,
     "metadata": {},
     "output_type": "execute_result"
    }
   ],
   "source": [
    "a,*b,c = multiple_returns(3)\n",
    "b"
   ]
  },
  {
   "cell_type": "markdown",
   "metadata": {},
   "source": [
    "### Pass variable number of arguments\n",
    "- Using ths same logic we can create a function that can receive arbitrary number of variables"
   ]
  },
  {
   "cell_type": "code",
   "execution_count": 11,
   "metadata": {},
   "outputs": [
    {
     "data": {
      "text/plain": [
       "[49, 512]"
      ]
     },
     "execution_count": 11,
     "metadata": {},
     "output_type": "execute_result"
    }
   ],
   "source": [
    "def multiple_inputs(*args):\n",
    "    output = [arg**i for i,arg in enumerate(args)]\n",
    "    return output\n",
    "a,b,*c = multiple_inputs(2,5,7,8)\n",
    "c"
   ]
  },
  {
   "cell_type": "markdown",
   "metadata": {},
   "source": [
    "### Pass multiple keyword arguments \n",
    "- A neighbour of the `*args` statement is the `**kwargs` one\n",
    "- The key take home idea here is that you are creating a function that can get any number of key argument pairs which we will use extensively on Thursday when we go over visualization tools in Python"
   ]
  },
  {
   "cell_type": "code",
   "execution_count": 12,
   "metadata": {},
   "outputs": [
    {
     "data": {
      "text/plain": [
       "['one_1', 'two_2']"
      ]
     },
     "execution_count": 12,
     "metadata": {},
     "output_type": "execute_result"
    }
   ],
   "source": [
    "def multiple_kwargs_inputs(**kwargs):\n",
    "    output = [f'{key}_{value}' for key,value in kwargs.items()]\n",
    "    return output\n",
    "multiple_kwargs_inputs(one=1,two=2)"
   ]
  },
  {
   "cell_type": "markdown",
   "metadata": {},
   "source": [
    "### Conditional returns \n",
    "- A function can use conditional statements to return different values based on the condition\n",
    "- In this example I am introducing a new keyword `in` that allows us to check if a variable exists in an iterable \n",
    "- "
   ]
  },
  {
   "cell_type": "code",
   "execution_count": 13,
   "metadata": {},
   "outputs": [
    {
     "name": "stdout",
     "output_type": "stream",
     "text": [
      "This function requires a number\n"
     ]
    },
    {
     "data": {
      "text/plain": [
       "False"
      ]
     },
     "execution_count": 13,
     "metadata": {},
     "output_type": "execute_result"
    }
   ],
   "source": [
    "def conditional_return(number):\n",
    "    if type(number) in [float,int]:\n",
    "        return number**2\n",
    "    else:\n",
    "        print('This function requires a number')\n",
    "        return False\n",
    "conditional_return('test')"
   ]
  },
  {
   "cell_type": "markdown",
   "metadata": {},
   "source": [
    "## Documenting functions \n",
    "- Functions in Python have a unique property called a docstring \n",
    "- It is the ability to document the function in a way that can be used later \n",
    "- Remember you are documenting at first for your future self \n",
    "- While we are at it, it is useful to name function explicitly to declare their utility\n"
   ]
  },
  {
   "cell_type": "code",
   "execution_count": 14,
   "metadata": {},
   "outputs": [],
   "source": [
    "def output_bespoke_greeting(first_name='eyal',last_name='soreq'):\n",
    "    \"\"\"output_bespoke_greeting personalised greetings printed\n",
    "\n",
    "    output_bespoke_greeting get's a person first and last name merges them\n",
    "    and outputs a personalised greeting\n",
    "    It also returns a full name composed of the two names\n",
    "\n",
    "    Args:\n",
    "        first_name (str, optional):  Defaults to 'eyal'.\n",
    "        last_name (str, optional):  Defaults to 'soreq'.\n",
    "\n",
    "    Returns:\n",
    "        full_name (str): the full name in title mode combining the first and last names\n",
    "    \"\"\"\n",
    "    full_name = f'{first_name.title()} {last_name.title()}'\n",
    "    print(f\"Hello this function is {full_name}'s fourth function\")\n",
    "    return full_name"
   ]
  },
  {
   "cell_type": "markdown",
   "metadata": {},
   "source": [
    "### Once defined we will can use help to remind us of the function requirements\n",
    "  "
   ]
  },
  {
   "cell_type": "code",
   "execution_count": 15,
   "metadata": {},
   "outputs": [
    {
     "name": "stdout",
     "output_type": "stream",
     "text": [
      "Help on function output_bespoke_greeting in module __main__:\n",
      "\n",
      "output_bespoke_greeting(first_name='eyal', last_name='soreq')\n",
      "    output_bespoke_greeting personalised greetings printed\n",
      "    \n",
      "    output_bespoke_greeting get's a person first and last name merges them\n",
      "    and outputs a personalised greeting\n",
      "    It also returns a full name composed of the two names\n",
      "    \n",
      "    Args:\n",
      "        first_name (str, optional):  Defaults to 'eyal'.\n",
      "        last_name (str, optional):  Defaults to 'soreq'.\n",
      "    \n",
      "    Returns:\n",
      "        full_name (str): the full name in title mode combining the first and last names\n",
      "\n"
     ]
    }
   ],
   "source": [
    "help(output_bespoke_greeting)"
   ]
  },
  {
   "cell_type": "markdown",
   "metadata": {},
   "source": [
    "## Some useful built-in functions\n",
    "- Yesterday we used several built-in functions \n",
    "- Today we will add several more to the pile\n",
    "- This is to illustrate the utility and versatility of generalised functions"
   ]
  },
  {
   "cell_type": "markdown",
   "metadata": {},
   "source": [
    "### What is the map function\n",
    "\n",
    "- The map function allows you to \"map\" a function to an iterable object. \n",
    "- in other words, we call the same function for every item in an iterable, such as a list. \n",
    "- For example, the function below is used to convert numeric age to a categorical age_group.\n"
   ]
  },
  {
   "cell_type": "code",
   "execution_count": 16,
   "metadata": {},
   "outputs": [
    {
     "name": "stdout",
     "output_type": "stream",
     "text": [
      "['children', 'children', 'children', 'children', 'teens', 'teens', 'teens', 'adults', 'adults', 'adults', 'adults', 'adults', 'adults', 'adults', 'adults', 'adults', 'adults', 'adults', 'adults', 'adults', 'adults', 'adults', 'elderly', 'elderly', 'elderly', 'elderly', 'elderly', 'elderly', 'elderly', 'elderly']\n"
     ]
    }
   ],
   "source": [
    "def age_group(age):\n",
    "    if age<=11:\n",
    "        return 'children'\n",
    "    elif age<=21:\n",
    "        return 'teens'\n",
    "    elif age<=65:\n",
    "        return 'adults'\n",
    "    else: \n",
    "        return 'elderly'\n",
    "age_group = list(map(age_group,  list(range(1,90,3))))\n",
    "print(age_group)"
   ]
  },
  {
   "cell_type": "markdown",
   "metadata": {},
   "source": [
    "`````{admonition} Challenge\n",
    "Change the function above to add a toddler group\n",
    "````{dropdown} Solution \n",
    "```{code-block} python \n",
    "def age_group(age):\n",
    "    if age<=5:\n",
    "        return 'toddler'\n",
    "    elif age<=11:\n",
    "        return 'children'\n",
    "    elif age<=21:\n",
    "        return 'teens'\n",
    "    elif age<=65:\n",
    "        return 'adults'\n",
    "    else: \n",
    "        return 'elderly'\n",
    "```\n",
    "````\n",
    "`````"
   ]
  },
  {
   "cell_type": "markdown",
   "metadata": {},
   "source": [
    "#### what about multiple iterables?\n",
    "\n",
    "- `map` can accept more than one iterable. \n",
    "- However, the iterables should be the same length\n",
    "- If they are not, the shortest iterable will terminate the function\n",
    "\n",
    "##### Without running the code try to guess what the output will look like"
   ]
  },
  {
   "cell_type": "code",
   "execution_count": 17,
   "metadata": {},
   "outputs": [],
   "source": [
    "lobe_names = ['frontal','parietal','temporal', 'occipital','insula']\n",
    "def combine_strings(a, b):\n",
    "  return a[:3].upper() + b[-3:].lower()\n",
    "x = list(map(combine_strings, lobe_names[1:], lobe_names[::-1]))"
   ]
  },
  {
   "cell_type": "markdown",
   "metadata": {},
   "source": [
    "##### And what about this example"
   ]
  },
  {
   "cell_type": "code",
   "execution_count": 18,
   "metadata": {},
   "outputs": [],
   "source": [
    "def triangle(s,e):\n",
    "    return list(range(s,e))\n",
    "grid = list(map(triangle,  [1]*20,list(range(2,20,1))))"
   ]
  },
  {
   "cell_type": "markdown",
   "metadata": {},
   "source": [
    "### filter function\n",
    "\n",
    "- The filter function creates an iterator containing only items for which a function(item) is true. \n",
    "- In other words, similar to map() you combine a function with a list.\n",
    "- The list is then filtered returning only **True** results.\n"
   ]
  },
  {
   "cell_type": "code",
   "execution_count": 19,
   "metadata": {},
   "outputs": [
    {
     "name": "stdout",
     "output_type": "stream",
     "text": [
      "['children', 'children', 'children', 'children']\n"
     ]
    }
   ],
   "source": [
    "def is_children(age_group):\n",
    "    return age_group == 'children'\n",
    "print(list(filter(is_children, age_group)))"
   ]
  },
  {
   "cell_type": "markdown",
   "metadata": {},
   "source": [
    "### assert function/statement \n",
    "\n",
    "- The assert statement in Python enables you to perform sanity tests in your code. These tests are known as assertions, and you may use them to determine if particular assumptions continue to hold true as you build code. If any of your assertions are false, your code contains a flaw.\n",
    "\n",
    "- The syntax is simple : \n",
    "~~~python\n",
    "assert expression[, assertion_message]\n",
    "~~~\n",
    "\n",
    "#### For example \n"
   ]
  },
  {
   "cell_type": "code",
   "execution_count": 20,
   "metadata": {},
   "outputs": [
    {
     "ename": "AssertionError",
     "evalue": "age needs to be a number",
     "output_type": "error",
     "traceback": [
      "\u001b[0;31m---------------------------------------------------------------------------\u001b[0m",
      "\u001b[0;31mAssertionError\u001b[0m                            Traceback (most recent call last)",
      "Input \u001b[0;32mIn [20]\u001b[0m, in \u001b[0;36m<cell line: 5>\u001b[0;34m()\u001b[0m\n\u001b[1;32m      3\u001b[0m     \u001b[38;5;28;01massert\u001b[39;00m \u001b[38;5;28mstr\u001b[39m(age)\u001b[38;5;241m.\u001b[39misnumeric(), \u001b[38;5;124m'\u001b[39m\u001b[38;5;124mage needs to be a number\u001b[39m\u001b[38;5;124m'\u001b[39m\n\u001b[1;32m      4\u001b[0m     \u001b[38;5;28;01mreturn\u001b[39;00m teen_bounds[\u001b[38;5;241m0\u001b[39m] \u001b[38;5;241m<\u001b[39m age \u001b[38;5;241m<\u001b[39m teen_bounds[\u001b[38;5;241m1\u001b[39m]\n\u001b[0;32m----> 5\u001b[0m \u001b[43mis_teen\u001b[49m\u001b[43m(\u001b[49m\u001b[43mage\u001b[49m\u001b[43m)\u001b[49m\n",
      "Input \u001b[0;32mIn [20]\u001b[0m, in \u001b[0;36mis_teen\u001b[0;34m(age, teen_bounds)\u001b[0m\n\u001b[1;32m      2\u001b[0m \u001b[38;5;28;01mdef\u001b[39;00m \u001b[38;5;21mis_teen\u001b[39m(age,teen_bounds \u001b[38;5;241m=\u001b[39m (\u001b[38;5;241m11\u001b[39m,\u001b[38;5;241m18\u001b[39m)): \n\u001b[0;32m----> 3\u001b[0m     \u001b[38;5;28;01massert\u001b[39;00m \u001b[38;5;28mstr\u001b[39m(age)\u001b[38;5;241m.\u001b[39misnumeric(), \u001b[38;5;124m'\u001b[39m\u001b[38;5;124mage needs to be a number\u001b[39m\u001b[38;5;124m'\u001b[39m\n\u001b[1;32m      4\u001b[0m     \u001b[38;5;28;01mreturn\u001b[39;00m teen_bounds[\u001b[38;5;241m0\u001b[39m] \u001b[38;5;241m<\u001b[39m age \u001b[38;5;241m<\u001b[39m teen_bounds[\u001b[38;5;241m1\u001b[39m]\n",
      "\u001b[0;31mAssertionError\u001b[0m: age needs to be a number"
     ]
    }
   ],
   "source": [
    "age = 'Ten'\n",
    "def is_teen(age,teen_bounds = (11,18)): \n",
    "    assert str(age).isnumeric(), 'age needs to be a number'\n",
    "    return teen_bounds[0] < age < teen_bounds[1]\n",
    "is_teen(age)"
   ]
  },
  {
   "cell_type": "code",
   "execution_count": 58,
   "metadata": {},
   "outputs": [
    {
     "data": {
      "text/plain": [
       "True"
      ]
     },
     "execution_count": 58,
     "metadata": {},
     "output_type": "execute_result"
    }
   ],
   "source": [
    "is_teen(15)"
   ]
  },
  {
   "cell_type": "markdown",
   "metadata": {},
   "source": [
    "## What are Lambda functions?\n",
    "\n",
    "- Lambda functions are anonymous functions in Python or functions with no name. \n",
    "- It's a small and restricted function with only one  line. \n",
    "- As with normal functions, Lambda functions can take more than one argument.\n",
    "\n",
    "### Python anonymous functions have three  parts:\n",
    "1. The lambda keyword.\n",
    "1. The parameters (or bound variables), and\n",
    "1. The function body.\n",
    "\n",
    "\n",
    "### Syntax\n",
    "\n",
    "`lambda arguments : expression`\n"
   ]
  },
  {
   "cell_type": "code",
   "execution_count": 66,
   "metadata": {},
   "outputs": [
    {
     "data": {
      "text/plain": [
       "'0,1,10,33,76,145,246,385,568,801,1090,1441,1860,2353,2926,3585,4336,5185,6138,7201'"
      ]
     },
     "execution_count": 66,
     "metadata": {},
     "output_type": "execute_result"
    }
   ],
   "source": [
    "\",\".join(list(map(lambda x: f'{x**3 + x**2 - x}',range(20))))"
   ]
  },
  {
   "cell_type": "markdown",
   "metadata": {},
   "source": [
    "`````{admonition} Challenge\n",
    "Try using a lambda function to recreate the following output:\n",
    "- `0,1,10,33,76,145,246,385,568,801,1090,1441,1860,2353,2926,3585,4336,5185,6138,7201`\n",
    "- Based on the following expression $ f(x) = x^3 + x^2 - x $\n",
    "- Can you this using one line only?\n",
    "````{dropdown} Solution \n",
    "```{code-block} python \n",
    "\",\".join(list(map(lambda x: f'{x**3 + x**2 - x}',range(20))))\n",
    "```\n",
    "- This solution is just to demonstrate how to use lambda functions with the map function\n",
    "- However, writing dense lines in not uncommon in data science, therefore learning to read these lines is important\n",
    "````\n",
    "`````"
   ]
  },
  {
   "cell_type": "markdown",
   "metadata": {},
   "source": [
    "### Why are Lambda Expressions useful?\n",
    "\n",
    "- A lambda function is used for creating small, one-time, anonymous function object in Python. \n",
    "- Because a lambda function is an expression, it can be named. \n",
    "- Multi-arguments are expressed by separating arguments with a comma (,)\n",
    "- However, Lambda expressions are rarely named - these are just to make a point\n",
    "\n",
    "\n",
    "\n",
    "### Here are some more examples \n"
   ]
  },
  {
   "cell_type": "code",
   "execution_count": null,
   "metadata": {},
   "outputs": [],
   "source": [
    "square = lambda x: x**2\n",
    "product = lambda x,y: x*y\n",
    "power = lambda x,y: x**y"
   ]
  },
  {
   "cell_type": "markdown",
   "metadata": {},
   "source": [
    "### Using if else in Lambda function\n",
    "\n",
    "- Using conditional statements (if-else) in lambda function is little tricky, the syntax is as follows \n",
    "- if you shouted Ternary Operators pat yourself on the back\n",
    "\n",
    "~~~python\n",
    "lambda <arguments> : <Value if True> if <condition> else <Value if False>\n",
    "~~~\n"
   ]
  },
  {
   "cell_type": "markdown",
   "metadata": {},
   "source": [
    "\n",
    "`````{admonition} Challenge\n",
    "Try using a lambda function to recreate the age2group function:\n",
    "````{dropdown} Solution \n",
    "```{code-block} python \n",
    "age2group = lambda age: 'children' if age<=11 else 'teens' if age<=21 else 'adults' if age<=65 else 'elderly'\n",
    "print(list(map(age2group,  list(range(1,30,1)))))\n",
    "```\n",
    "````\n",
    "`````"
   ]
  },
  {
   "cell_type": "markdown",
   "metadata": {},
   "source": [
    "## Links to expand your understanding \n",
    "\n",
    "For those interested in learning more...\n",
    "\n",
    "- [python-scope-legb-rule](https://realpython.com/python-scope-legb-rule/)\n",
    "- [lambda-expressions](https://docs.python.org/3/tutorial/controlflow.html?highlight=lambda#lambda-expressions)\n",
    "- [filter](https://docs.python.org/3/library/functions.html#filter) \n",
    "- [writing-functions-in-python](https://learn.datacamp.com/courses/writing-functions-in-python)\n"
   ]
  }
 ],
 "metadata": {
  "kernelspec": {
   "display_name": "Python 3",
   "language": "python",
   "name": "python3"
  },
  "language_info": {
   "codemirror_mode": {
    "name": "ipython",
    "version": 3
   },
   "file_extension": ".py",
   "mimetype": "text/x-python",
   "name": "python",
   "nbconvert_exporter": "python",
   "pygments_lexer": "ipython3",
   "version": "3.10.4"
  }
 },
 "nbformat": 4,
 "nbformat_minor": 4
}