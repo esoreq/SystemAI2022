{
 "cells": [
  {
   "cell_type": "markdown",
   "metadata": {},
   "source": [
    "# PYTHON MODULES 101\n",
    "\n",
    "## Modules and Packages\n",
    "\n",
    "- Python core language is compact. \n",
    "- This is an intentional design feature to maintain simplicity. \n",
    "- Much of the powerful functionality comes through external modules and packages.\n",
    "\n",
    "\n",
    "###  What is a Module?\n",
    "- A module is simply a file with the `.py` extension, containing Python definitions, functions, and statements. \n",
    "- Modules are imported from other modules using the import command.\n",
    "- The first time a module is loaded into a running Python script, it is initialized by executing the code in the module once.\n",
    "- If we change the module, we need to reload it for these changes to take effect\n",
    "\n",
    "### Modules are useful because they:\n",
    "\n",
    "1. Simplify your code by calling readable functions instead of multiple lines of code\n",
    "2. Make it simpler to maintain, improve and collaborate \n",
    "3. Allow you to organize your code in different files (each a different module)\n",
    "    \n",
    "\n",
    "### Why use Modules? \n",
    "\n",
    "- Using modules, you can break down large programs into smaller, more manageable pieces. \n",
    "- Code can also be reused through modules.\n",
    "- Instead of copying their definitions between different programs, we can create modules for our most commonly used functions.\n",
    "- a module is also the simplest way to share code with a collaborator\n"
   ]
  },
  {
   "cell_type": "markdown",
   "metadata": {},
   "source": [
    "### my_module example\n",
    "- Jupyter notebooks have a nifty thing called magic functions \n",
    "- In the next session we will go over some of them in detail \n",
    "- For now I will use magic to simplify the creation of a python script to act as my first module \n",
    "- This file can be generated using magic or by creating a text file and renaming it. \n",
    "- The example is not intended to be considered good practice, but rather to illustrate some functionality in general. \n"
   ]
  },
  {
   "cell_type": "code",
   "execution_count": 1,
   "metadata": {},
   "outputs": [
    {
     "name": "stdout",
     "output_type": "stream",
     "text": [
      "Writing my_module.py\n"
     ]
    }
   ],
   "source": [
    "%%writefile my_module.py\n",
    "sum_sq = lambda data: sum(x ** 2 for x in data)\n",
    "mean = lambda data: sum(data)/float(len(data))\n",
    "sq_mean = lambda data: sum_sq(data)/float(len(data)-1)\n",
    "var = lambda data: sum((x - mean(data))**2/float(len(data)-1) for x in data)"
   ]
  },
  {
   "cell_type": "markdown",
   "metadata": {},
   "source": [
    "`````{admonition} Imports best practice \n",
    "- Use **import x** for importing packages and modules.\n",
    "- Use **from x import y** where x is the package prefix, and y is the module name with no prefix.\n",
    "- Use **from x import y as z** if two modules named y are to be imported or if y is an inconveniently long name.\n",
    "- Use **import y as z** only when z is a standard abbreviation (e.g., np for NumPy).\n",
    "`````"
   ]
  },
  {
   "cell_type": "markdown",
   "metadata": {},
   "source": [
    "###  Using import to load my_module\n",
    "- Once the file is in the same folder as my notebook we can use import to load it "
   ]
  },
  {
   "cell_type": "markdown",
   "metadata": {},
   "source": [
    "`````{admonition} Challenge\n",
    "- In a code cell use import to load `my_module`\n",
    "- Also use from x import y to load the lambda function `var` from `my_module`\n",
    "````{dropdown} Solution \n",
    "```{code-block} python \n",
    "import my_module\n",
    "from my_module import var\n",
    "```\n",
    "````\n",
    "`````"
   ]
  },
  {
   "cell_type": "markdown",
   "metadata": {},
   "source": [
    "### How does importing in Python work?\n",
    "\n",
    "- One limitation of the import approach is that it explicitly loads the contents of the script into the memory as an object \n",
    "- For efficiency reasons, when you import a module in an interactive Python session, the Python interpreter executes two operations: It begins by determining if the module is already stored in the sys.module dictionary. And only if it is absent does it import the module. Python will ignore this request if you have previously imported the module (or imported another module that references it) and you attempt to import it again.\n",
    "- This means that if we change the file (by adding a function to it for example) we will need to re-import it to make it accessible  "
   ]
  },
  {
   "cell_type": "markdown",
   "metadata": {},
   "source": [
    "### Using introspection to look under the hood\n",
    "- Using `dir` and `type` on `my_module` is revealing (look below) \n",
    "- my_module is an object (everything in python is an object) of type module \n",
    "- And it has as methods the different lambda functions we just created"
   ]
  },
  {
   "cell_type": "code",
   "execution_count": 2,
   "metadata": {},
   "outputs": [
    {
     "ename": "NameError",
     "evalue": "name 'my_module' is not defined",
     "output_type": "error",
     "traceback": [
      "\u001b[0;31m---------------------------------------------------------------------------\u001b[0m",
      "\u001b[0;31mNameError\u001b[0m                                 Traceback (most recent call last)",
      "Input \u001b[0;32mIn [2]\u001b[0m, in \u001b[0;36m<cell line: 1>\u001b[0;34m()\u001b[0m\n\u001b[0;32m----> 1\u001b[0m \u001b[38;5;28mtype\u001b[39m(\u001b[43mmy_module\u001b[49m)\n",
      "\u001b[0;31mNameError\u001b[0m: name 'my_module' is not defined"
     ]
    }
   ],
   "source": [
    "type(my_module)"
   ]
  },
  {
   "cell_type": "code",
   "execution_count": 10,
   "metadata": {},
   "outputs": [
    {
     "data": {
      "text/plain": [
       "['__builtins__',\n",
       " '__cached__',\n",
       " '__doc__',\n",
       " '__file__',\n",
       " '__loader__',\n",
       " '__name__',\n",
       " '__package__',\n",
       " '__spec__',\n",
       " 'mean',\n",
       " 'sq_mean',\n",
       " 'sum_sq',\n",
       " 'var']"
      ]
     },
     "execution_count": 10,
     "metadata": {},
     "output_type": "execute_result"
    }
   ],
   "source": [
    "dir(my_module)"
   ]
  },
  {
   "cell_type": "markdown",
   "metadata": {},
   "source": [
    "### How to reimport a module?\n",
    "- Often we want to change code that exists in a module we are developing for various reasons. \n",
    "- The easiest way reload a module is to quit your interactive session and start it again. \n",
    "- This also means you need to rerun all steps leading to that point which might not be very wise or efficient.\n",
    "- Working in a non-interactive settings the only way to reload your module to reflect change is via a module called `importlib`"
   ]
  },
  {
   "cell_type": "code",
   "execution_count": null,
   "metadata": {},
   "outputs": [],
   "source": [
    "import importlib\n",
    "importlib.reload(my_module)"
   ]
  },
  {
   "cell_type": "markdown",
   "metadata": {},
   "source": [
    "#### In the jupyter interactive settings there are alternatives \n",
    "- One option is to not use import and simply load the module into memory using the magic function `%run`\n",
    "- You can rerun a file as many times as you want and it will always update all the functions.\n",
    "- Running a file in IPython is extremely easy."
   ]
  },
  {
   "cell_type": "code",
   "execution_count": null,
   "metadata": {},
   "outputs": [],
   "source": [
    "%run my_module"
   ]
  },
  {
   "cell_type": "markdown",
   "metadata": {},
   "source": [
    "####  Using cache to keep my_module alive \n",
    "\n",
    "- In Jupyter we have another set of magic commands that deal with that \n",
    "- The `%autoreload` magic command can be used to automatically track changes in any module and update them when a change occurs. \n",
    "- Because it’s not enabled by default, you have to load it as an extension using a different magic command called `%load_ext`\n",
    "- So the first step is to call `%load_ext autoreload` that makes the `autoreload` command active \n",
    "- Then use it \n",
    "- There are 3 configuration options for the `autoreload` you can set\n",
    "  - `%autoreload 0` - disables the auto-reloading. This is the default setting.\n",
    "  - `%autoreload 1` - it will only auto-reload modules that were imported using the `%aimport` function \n",
    "  - `%autoreload 2` - auto-reload all the modules. Great way to make writing and testing your modules much easier.\n",
    "- In the context of this course we will use `%autoreload 2`"
   ]
  },
  {
   "cell_type": "markdown",
   "metadata": {},
   "source": [
    "`````{admonition} Challenge\n",
    "- Update your import cell to contain the reload magic commands\n",
    "- Also use the `as` format to rename `my_module` to `utils`\n",
    "````{dropdown} Solution \n",
    "```{code-block} python \n",
    "import my_module as utils\n",
    "%load_ext autoreload\n",
    "%autoreload 2\n",
    "```\n",
    "````\n",
    "`````"
   ]
  },
  {
   "cell_type": "markdown",
   "metadata": {},
   "source": [
    "#### Lets test our module \n",
    "- If you did everything so far you should get the same result as me\n"
   ]
  },
  {
   "cell_type": "code",
   "execution_count": 14,
   "metadata": {},
   "outputs": [
    {
     "name": "stdout",
     "output_type": "stream",
     "text": [
      "25.5\n"
     ]
    }
   ],
   "source": [
    "print(utils.var(list(range(3,20))))"
   ]
  },
  {
   "cell_type": "markdown",
   "metadata": {},
   "source": [
    "###  Extend your module by adding sample standard deviation\n",
    "\n",
    "\n",
    "\n",
    "`````{admonition} Challenge\n",
    "- The standard deviation of the sample mean is defined using the following formula \n",
    "- $ s = \\sqrt{\\frac{1}{N-1}\\sum^n_{i=1} (x_i-\\bar{x})^2} $\n",
    "- Try to implement your std function and place it into your module file\n",
    "````{dropdown} Solution \n",
    "```{code-block} python \n",
    "%%writefile -a my_module.py\n",
    "std = lambda data: var(data)**0.5\n",
    "```\n",
    "- Here I am using `-a` argument with magic %%writefile to append the line to the end of the file \n",
    "- But you could have just opened the file and added the line manually \n",
    "````\n",
    "`````\n"
   ]
  },
  {
   "cell_type": "markdown",
   "metadata": {},
   "source": [
    "###  Testing your code against some gold standard package\n",
    "\n",
    "\n",
    "- We sometimes create our own mathematical functions for a variety of reasons\n",
    "- Testing these with established modules is a good habit to have\n",
    "- Recall that the assert keyword lets you test if a condition in your code returns True, if not, the program will raise an AssertionError.\n",
    "- You can write a message to be written if the code returns False, check the example below.\n",
    "\n"
   ]
  },
  {
   "cell_type": "code",
   "execution_count": 15,
   "metadata": {},
   "outputs": [
    {
     "ename": "AssertionError",
     "evalue": "variance is not equal to standard deviation",
     "output_type": "error",
     "traceback": [
      "\u001b[0;31m---------------------------------------------------------------------------\u001b[0m",
      "\u001b[0;31mAssertionError\u001b[0m                            Traceback (most recent call last)",
      "\u001b[1;32m/Users/eyalsoreq/github/SystemAI2022/bootcamp/day_03/02_python_modules_101.ipynb Cell 16'\u001b[0m in \u001b[0;36m<cell line: 4>\u001b[0;34m()\u001b[0m\n\u001b[1;32m      <a href='vscode-notebook-cell:/Users/eyalsoreq/github/SystemAI2022/bootcamp/day_03/02_python_modules_101.ipynb#ch0000022?line=1'>2</a>\u001b[0m seq \u001b[39m=\u001b[39m \u001b[39mlist\u001b[39m(\u001b[39mrange\u001b[39m(\u001b[39m3\u001b[39m,\u001b[39m20\u001b[39m))\n\u001b[1;32m      <a href='vscode-notebook-cell:/Users/eyalsoreq/github/SystemAI2022/bootcamp/day_03/02_python_modules_101.ipynb#ch0000022?line=2'>3</a>\u001b[0m \u001b[39massert\u001b[39;00m utils\u001b[39m.\u001b[39mstd(seq) \u001b[39m==\u001b[39m statistics\u001b[39m.\u001b[39mstdev(seq)\n\u001b[0;32m----> <a href='vscode-notebook-cell:/Users/eyalsoreq/github/SystemAI2022/bootcamp/day_03/02_python_modules_101.ipynb#ch0000022?line=3'>4</a>\u001b[0m \u001b[39massert\u001b[39;00m utils\u001b[39m.\u001b[39mvar(seq) \u001b[39m==\u001b[39m statistics\u001b[39m.\u001b[39mstdev(seq) ,\u001b[39m\"\u001b[39m\u001b[39mvariance is not equal to standard deviation\u001b[39m\u001b[39m\"\u001b[39m\n",
      "\u001b[0;31mAssertionError\u001b[0m: variance is not equal to standard deviation"
     ]
    }
   ],
   "source": [
    "import statistics \n",
    "seq = list(range(3,20))\n",
    "assert utils.std(seq) == statistics.stdev(seq)\n",
    "assert utils.var(seq) == statistics.stdev(seq) ,\"variance is not equal to standard deviation\" "
   ]
  },
  {
   "cell_type": "markdown",
   "metadata": {},
   "source": [
    "### We can call a module from within a function\n",
    "- Consider the code below \n",
    "- We created a function that imports a module called datetime from a Python package called  datetime\n",
    "- It is safe to assume that this is a module that deals with dates and times\n",
    "- Because it was imported inside the functions scope it is only available to the function itself \n"
   ]
  },
  {
   "cell_type": "code",
   "execution_count": 18,
   "metadata": {},
   "outputs": [],
   "source": [
    "def temporal_hello():\n",
    "    from datetime import datetime,time\n",
    "    local_dt = datetime.now()\n",
    "    if (time(6) < local_dt.time() < time(12)): \n",
    "        print(\"Good Morning\")\n",
    "    elif (time(12) < local_dt.time() < time(18)):    \n",
    "        print(\"Good Afternoon\")\n",
    "    else:\n",
    "        print(\"Good night\") "
   ]
  },
  {
   "cell_type": "code",
   "execution_count": 19,
   "metadata": {},
   "outputs": [
    {
     "name": "stdout",
     "output_type": "stream",
     "text": [
      "Good night\n"
     ]
    }
   ],
   "source": [
    "temporal_hello()"
   ]
  },
  {
   "cell_type": "markdown",
   "metadata": {},
   "source": [
    "### Import datetime to the main scope\n",
    "- Let's the anatomy of the datetime module using `dir`"
   ]
  },
  {
   "cell_type": "code",
   "execution_count": 25,
   "metadata": {},
   "outputs": [
    {
     "data": {
      "text/plain": [
       "['MAXYEAR',\n",
       " 'MINYEAR',\n",
       " '__all__',\n",
       " '__builtins__',\n",
       " '__cached__',\n",
       " '__doc__',\n",
       " '__file__',\n",
       " '__loader__',\n",
       " '__name__',\n",
       " '__package__',\n",
       " '__spec__',\n",
       " 'date',\n",
       " 'datetime',\n",
       " 'datetime_CAPI',\n",
       " 'sys',\n",
       " 'time',\n",
       " 'timedelta',\n",
       " 'timezone',\n",
       " 'tzinfo']"
      ]
     },
     "execution_count": 25,
     "metadata": {},
     "output_type": "execute_result"
    }
   ],
   "source": [
    "import datetime \n",
    "dir(datetime)"
   ]
  },
  {
   "cell_type": "markdown",
   "metadata": {},
   "source": [
    "### Every module has a physical file associated with it \n",
    "- In Python every module has a file that can be examined\n",
    "- This can be identified using the `__file__` property \n",
    "- Using another nifty magic command we can peak into that file  "
   ]
  },
  {
   "cell_type": "code",
   "execution_count": 26,
   "metadata": {},
   "outputs": [
    {
     "data": {
      "text/plain": [
       "'/opt/anaconda3/envs/dcarte_tutorials/lib/python3.10/datetime.py'"
      ]
     },
     "execution_count": 26,
     "metadata": {},
     "output_type": "execute_result"
    }
   ],
   "source": [
    "datetime.__file__"
   ]
  },
  {
   "cell_type": "code",
   "execution_count": 24,
   "metadata": {},
   "outputs": [
    {
     "name": "stdout",
     "output_type": "stream",
     "text": [
      "\"\"\"Concrete date/time and related types.\n",
      "\n",
      "See http://www.iana.org/time-zones/repository/tz-link.html for\n",
      "time zone and DST data sources.\n",
      "\"\"\"\n",
      "\n",
      "__all__ = (\"date\", \"datetime\", \"time\", \"timedelta\", \"timezone\", \"tzinfo\",\n",
      "           \"MINYEAR\", \"MAXYEAR\")\n",
      "\n",
      "\n",
      "import time as _time\n",
      "import math as _math\n",
      "import sys\n",
      "from operator import index as _index\n",
      "\n",
      "def _cmp(x, y):\n",
      "    return 0 if x == y else 1 if x > y else -1\n",
      "\n",
      "MINYEAR = 1\n",
      "MAXYEAR = 9999\n"
     ]
    }
   ],
   "source": [
    "%%bash\n",
    "head -n 20 /opt/anaconda3/envs/dcarte_tutorials/lib/python3.10/datetime.py"
   ]
  },
  {
   "cell_type": "markdown",
   "metadata": {},
   "source": [
    "### The module anatomy \n",
    "- We see a docstring at the beginning \n",
    "- Then a weird variable named `__all__` that receives a tuple \n",
    "- Followed by a block of imports \n",
    "\n",
    "#### What does __all__ do?\n",
    "- It declares the semantically \"public\" names from a module. \n",
    "- If there is a function name in __all__, it will be available when starr import the module contents to the scope.\n",
    "- However, if you omit __all__ in a module, the \"starred import\" will import all names (not starting with an underscore) defined in the module."
   ]
  },
  {
   "cell_type": "markdown",
   "metadata": {},
   "source": [
    "### Why does datetime have datetime inside? \n",
    "= This is not a meta thing but rather an organizational tool\n",
    "- A module can have modules or classes contained inside it\n",
    "- In Python 3.0, user-defined class objects are instances of the object named type, which is itself a class.\n",
    "- We will go over this later on today"
   ]
  },
  {
   "cell_type": "code",
   "execution_count": 34,
   "metadata": {},
   "outputs": [
    {
     "name": "stdout",
     "output_type": "stream",
     "text": [
      "<class 'type'>\n"
     ]
    }
   ],
   "source": [
    "from datetime import datetime\n",
    "print(type(datetime))"
   ]
  },
  {
   "cell_type": "markdown",
   "metadata": {},
   "source": [
    "- This higher level of abstraction comprises modules or classes that can work independently, but have a common function in terms of time, and are thus part of the datetime  package.\n"
   ]
  },
  {
   "cell_type": "markdown",
   "metadata": {},
   "source": [
    "## How to define a package\n",
    "\n",
    "- Packages are a way of structuring Python’s module namespace by using “dotted module names”\n",
    "- They are simple directories, containing several python scripts.\n",
    "- Defining a package in Python requires a unique folder name and used to require a special file called `__init__.py`\n",
    "\n",
    "### Make a directory called my_package\n",
    "\n",
    "- We will use Jupyter magic to change the cell to `%%bash`\n",
    "- Use `mkdir` to create a folder \n",
    "- Use `mv` to move and rename `my_module.py` into the newly created folder `my_package`\n",
    "- Finlay create an empty python file called `__init__.py` in `my_package` using `touch`\n"
   ]
  },
  {
   "cell_type": "code",
   "execution_count": 36,
   "metadata": {},
   "outputs": [
    {
     "name": "stderr",
     "output_type": "stream",
     "text": [
      "mv: my_module.py: No such file or directory\n"
     ]
    }
   ],
   "source": [
    "%%bash\n",
    "mkdir -p my_package\n",
    "#rename the file and move it into my_package\n",
    "mv my_module.py my_package/my_stats.py \n",
    "touch my_package/__init__.py "
   ]
  },
  {
   "cell_type": "markdown",
   "metadata": {},
   "source": [
    "### Can we do the same using Python? \n",
    "- We can using a module :) \n",
    "- To achieve exactly the same chain of events (and some more) we will use the `Path` module\n",
    "- We will use the `mkdir` and `write_text` functions \n",
    "- One limitation by design is that the Path module does not support appending text\n",
    "- This is only a means to teach you how to use the module to interact with the file system in an OS agnostic way\n",
    "- Pay close attention to the use of `__all__` in this context, I am only giving the user of my module access to the functions declared there. "
   ]
  },
  {
   "cell_type": "code",
   "execution_count": 40,
   "metadata": {},
   "outputs": [
    {
     "data": {
      "text/plain": [
       "286"
      ]
     },
     "execution_count": 40,
     "metadata": {},
     "output_type": "execute_result"
    }
   ],
   "source": [
    "from pathlib import Path\n",
    "\n",
    "utils = Path('utils')\n",
    "utils.mkdir() #make the directory \n",
    "(utils / '__init__.py').write_text(\"from .my_stats import *\")\n",
    "my_stats_module = utils / 'my_stats.py'\n",
    "my_stats_module.write_text(\"\"\"\n",
    "__all__ = ['var','std']\n",
    "sum_sq = lambda data: sum(x ** 2 for x in data)\n",
    "mean = lambda data: sum(data)/float(len(data))\n",
    "sq_mean = lambda data: sum_sq(data)/float(len(data)-1)\n",
    "var = lambda data: sum((x - mean(data))**2/float(len(data)-1) for x in data)\n",
    "std = lambda data: var(data)**0.5\n",
    "\"\"\")"
   ]
  },
  {
   "cell_type": "code",
   "execution_count": 41,
   "metadata": {},
   "outputs": [
    {
     "data": {
      "text/plain": [
       "['__builtins__',\n",
       " '__cached__',\n",
       " '__file__',\n",
       " '__loader__',\n",
       " '__name__',\n",
       " '__package__',\n",
       " '__path__',\n",
       " '__spec__',\n",
       " 'std',\n",
       " 'var']"
      ]
     },
     "execution_count": 41,
     "metadata": {},
     "output_type": "execute_result"
    }
   ],
   "source": [
    "import utils\n",
    "dir(utils)"
   ]
  },
  {
   "cell_type": "code",
   "execution_count": 42,
   "metadata": {},
   "outputs": [
    {
     "data": {
      "text/plain": [
       "5.049752469181039"
      ]
     },
     "execution_count": 42,
     "metadata": {},
     "output_type": "execute_result"
    }
   ],
   "source": [
    "utils.std(list(range(3,20)))"
   ]
  },
  {
   "cell_type": "markdown",
   "metadata": {},
   "source": [
    "## Links to expand your understanding \n",
    "\n",
    "For those interested in learning more...\n",
    "\n",
    "- [Modules in python](https://docs.python.org/3/tutorial/modules.html#modules)\n",
    "- [Packages in python](https://docs.python.org/3/tutorial/modules.html#packages) \n",
    "\n"
   ]
  }
 ],
 "metadata": {
  "interpreter": {
   "hash": "758785a5db8cea210020796a8d499f9bc3415c1f560a1a7f9f9e7309f37457cf"
  },
  "kernelspec": {
   "display_name": "Python 3",
   "language": "python",
   "name": "python3"
  },
  "language_info": {
   "codemirror_mode": {
    "name": "ipython",
    "version": 3
   },
   "file_extension": ".py",
   "mimetype": "text/x-python",
   "name": "python",
   "nbconvert_exporter": "python",
   "pygments_lexer": "ipython3",
   "version": "3.10.4"
  }
 },
 "nbformat": 4,
 "nbformat_minor": 4
}