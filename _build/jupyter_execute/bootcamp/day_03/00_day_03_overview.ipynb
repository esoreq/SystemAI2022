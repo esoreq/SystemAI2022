{
 "cells": [
  {
   "cell_type": "markdown",
   "metadata": {},
   "source": [
    "# DAY 03 - Programming with Python \n",
    "\n",
    "## What is Programming?\n",
    "- Programming is a way to “instruct the computer to perform various tasks”.\n",
    "- “Instruct the computer”: this basically means that you provide the computer a set of instructions that are written in a language that the computer can understand. The instructions could be of various types.\n",
    "\n",
    "## Why would we automate tasks using Programming\n",
    "- Humans and computers environments revolve around the symbols we use to communicate and be communicated to. \n",
    "- Computers' consistency, precision, and speed make them good at things we can't or wouldn't accomplish. \n",
    "- If we want to reduce errors, repeated, tedious tasks should also be done by a computer. \n",
    "- Humans hate repeated work. They're usually boring and uninteresting. \n",
    "- We prefer being pushed and rewarded for doing complicated and creative tasks that build our talents. \n",
    "- For example, we don't like to do calculation on a spreadsheet. \n",
    "\n",
    "## How would we automate things using Programming\n",
    "- In most cases it's just a matter of breaking the process that needs to be automated to general bits \n",
    "- As a rule of thumb if you find yourself copying and pasting a piece of code more than twice it's a hint that you should convert it into a function \n",
    "\n",
    "## What this module will cover\n",
    "- Today's main objective is to familiarize you with how to use Python to automate stuff.\n",
    "- We will start by looking into what are functions and how we can use them \n",
    "- Then go over the idea of a module or package as a way of sharing, and storing functions that are useful \n",
    "- Cover how to use magic commands in Jupyter to improve our workflow with modules and functions\n",
    "- And end with the notion of classes in Python and how we can extend functions to create an object armed with methods\n",
    "\n",
    "## Links to expand your understanding \n",
    "\n",
    "For those interested in learning more...\n",
    "\n",
    "- [python-scope-legb-rule](https://realpython.com/python-scope-legb-rule/)\n",
    "- [lambda-expressions](https://docs.python.org/3/tutorial/controlflow.html?highlight=lambda#lambda-expressions)\n",
    "- [filter](https://docs.python.org/3/library/functions.html#filter) \n",
    "- [writing-functions-in-python](https://learn.datacamp.com/courses/writing-functions-in-python)\n",
    "\n"
   ]
  },
  {
   "cell_type": "markdown",
   "metadata": {},
   "source": [
    "## Schedule \n",
    "\n",
    "|Time    | Session    | Description   | \n",
    "|-----------:|----------:|---------:|\n",
    "|09:00-09:10| Day 03 overview | Intro to automation in Python |\n",
    "|09:10-09:50| [Python functions_101](01_python_functions_101.ipynb)| Python Functions 101 |\n",
    "|09:50-09:55| Break | Coffee or Tea |\n",
    "|10:00-10:40| [Python Modules 101](02_python_modules_101.ipynb)| What are modules and packages in Python |\n",
    "|10:40-10:45| Break | Coffee or Tea |\n",
    "|10:45-11:10| [Anaconda Revisited](03_anaconda_revisted.ipynb)| Practical environment setup |\n",
    "|11:10-11:15| Break | Coffee or Tea |\n",
    "|11:15-11:45| [Classes in python](04_classes_in_python.ipynb) | Classes in Python |\n",
    "|11:45-11:50| Break | Coffee or Tea |\n",
    "|11:50-12:00| [homework assignment](05_home_work.ipynb) | Going over the homework assignment |\n",
    "\n",
    "## Home work\n",
    "\n",
    "After finishing all the modules please complete day three [homework assignment](05_home_work.ipynb)"
   ]
  }
 ],
 "metadata": {
  "interpreter": {
   "hash": "758785a5db8cea210020796a8d499f9bc3415c1f560a1a7f9f9e7309f37457cf"
  },
  "kernelspec": {
   "display_name": "Python 3",
   "language": "python",
   "name": "python3"
  },
  "language_info": {
   "codemirror_mode": {
    "name": "ipython",
    "version": 3
   },
   "file_extension": ".py",
   "mimetype": "text/x-python",
   "name": "python",
   "nbconvert_exporter": "python",
   "pygments_lexer": "ipython3",
   "version": "3.10.4"
  }
 },
 "nbformat": 4,
 "nbformat_minor": 4
}