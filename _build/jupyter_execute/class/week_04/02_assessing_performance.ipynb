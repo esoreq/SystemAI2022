{
 "cells": [
  {
   "cell_type": "markdown",
   "metadata": {},
   "source": [
    "# Resampling\n",
    "\n",
    "- Sampling with and without replacement\n",
    "- Cross validation and LOOCV \n",
    "- Bootstrap (using sampling with replacement)\n",
    "- Jackknife \n",
    "- Permutation resampling \n",
    "\n",
    "\n",
    "## Resampling with replacement\n",
    "\n",
    "## Preliminaries\n",
    "\n",
    "Our dataset can reflect either a population or sample (it is a function of context) of size N (i.e. the number of observations). In the univariate case, we define X as our dependent variable and x_i is a specific observation in that feature vector. There are various ways to take a sample, e.g. a simple random sample (SRS) of size n, where n < N.\n",
    "\n",
    "A **population** is the entire group that you want to draw conclusions about.\n",
    "\n",
    "A **sample** is the specific subset of the population. The size of the sample is always less than the total size of the population.\n",
    "\n",
    "## Relevant Statistical Formulas (you should all know by now)\n",
    "\n",
    "| Name | Symbol | Formula   |<p width=10em>Pyhton</p>   |  <p width=35%>description </p>  |  \n",
    "|  :---  |  :---  |  :---:  |  :----  |  :----  |  \n",
    "| Mean | $$\\mu$$ | $$\\mu = 1/N \\sum_{i=1}^N x_i$$ | `mu = np.mean(x)` | The population mean is an average of a group characteristic.|  \n",
    "| Standard deviation (SD) | $$\\sigma$$ | $$\\sigma = \\sqrt{\\frac{1}{N}\\sum_{i=1}^{N}(x_{i}-\\mu)^{2}}$$ |  `sd = np.std(x)` | The population standard deviation is the amount of variation or dispersion of a set of values.|  \n",
    "| Proportion | $$\\mu_{\\hat{p}}$$ | $$p = \\frac{\\sum x}{N} = \\frac{\\text {number of 1s}}{N}$$ | `p = np.mean(x)` | The population proportion is an average of a group characteristic for a binary value.|\n",
    "| Proportion (SD) | $$\\sigma_{\\hat{p}}$$ | $$\\sigma = \\sqrt{p(1-p)}$$  |`sd = np.sqrt(p*(1-p))` |  The dispersion of the feature|\n",
    "| Degree of freedom | $$df$$ | $$df = N - 1 - k$$  |`df = X.shape[0]-1-X.shape[1]` |  The number of \"observations\" (pieces of information) in the data that are free to vary when estimating statistical parameters|\n",
    " \n",
    "\n",
    "# Resampling\n",
    "- The process of selecting a subset(a predetermined number of observations) from a larger population.\n",
    "\n",
    "1. Probability Sampling is when we choose a sample based on the theory of probability.\n",
    "1. Non-Probability Sampling is when we choose a sample based on non-random criteria i.e. not every member of the population has a chance of being included (less relevant to our case).\n",
    "\n",
    "# Types of Probability Resampling (not exhaustive)\n",
    "\n",
    "- Simple Random Sampling: Samples are drawn with a uniform probability from the domain.\n",
    "- Stratified Sampling: Samples are drawn within pre-specified categories or factors.\n",
    "\n",
    "\n",
    "# Aspects to consider when performing sampling\n",
    "\n",
    "- Sample Goal. What is the metric you wish to estimate using the sample.\n",
    "- Population. Where are observations sampled or simulated from.\n",
    "- Selection Criteria. How do you select observations in each sample.\n",
    "- Sample Size. What is the number of observations that will constitute the sample.\n",
    "- Sample proportion. What multilevel factors are reflected in the sample\n"
   ]
  },
  {
   "cell_type": "markdown",
   "metadata": {},
   "source": [
    "# Let's inject some code to the theory\n"
   ]
  },
  {
   "cell_type": "code",
   "execution_count": 1,
   "metadata": {},
   "outputs": [
    {
     "ename": "ModuleNotFoundError",
     "evalue": "No module named 'seaborn'",
     "output_type": "error",
     "traceback": [
      "\u001b[0;31m---------------------------------------------------------------------------\u001b[0m",
      "\u001b[0;31mModuleNotFoundError\u001b[0m                       Traceback (most recent call last)",
      "Input \u001b[0;32mIn [1]\u001b[0m, in \u001b[0;36m<cell line: 3>\u001b[0;34m()\u001b[0m\n\u001b[1;32m      1\u001b[0m \u001b[38;5;28;01mimport\u001b[39;00m \u001b[38;5;21;01mnumpy\u001b[39;00m \u001b[38;5;28;01mas\u001b[39;00m \u001b[38;5;21;01mnp\u001b[39;00m \n\u001b[1;32m      2\u001b[0m \u001b[38;5;28;01mimport\u001b[39;00m \u001b[38;5;21;01mpandas\u001b[39;00m \u001b[38;5;28;01mas\u001b[39;00m \u001b[38;5;21;01mpd\u001b[39;00m \n\u001b[0;32m----> 3\u001b[0m \u001b[38;5;28;01mimport\u001b[39;00m \u001b[38;5;21;01mseaborn\u001b[39;00m \u001b[38;5;28;01mas\u001b[39;00m \u001b[38;5;21;01msns\u001b[39;00m\n\u001b[1;32m      4\u001b[0m SEED \u001b[38;5;241m=\u001b[39m \u001b[38;5;241m2022\u001b[39m\n\u001b[1;32m      5\u001b[0m N \u001b[38;5;241m=\u001b[39m \u001b[38;5;241m50\u001b[39m \u001b[38;5;66;03m#observations\u001b[39;00m\n",
      "\u001b[0;31mModuleNotFoundError\u001b[0m: No module named 'seaborn'"
     ]
    }
   ],
   "source": [
    "import numpy as np \n",
    "import pandas as pd \n",
    "import seaborn as sns\n",
    "SEED = 2022\n",
    "N = 50 #observations\n",
    "rng = np.random.default_rng(SEED)"
   ]
  },
  {
   "cell_type": "markdown",
   "metadata": {},
   "source": [
    "## **Random Sampling**: Each element of the population has an equal chance of being selected.\n",
    "- Each element in the population is equally likely to be selected but only once.\n"
   ]
  },
  {
   "cell_type": "code",
   "execution_count": 24,
   "metadata": {},
   "outputs": [
    {
     "data": {
      "text/plain": [
       "array([ 0,  1,  2,  3,  4,  5,  6,  7,  8,  9, 10, 11, 12, 13, 14, 15, 16,\n",
       "       17, 18, 19, 20, 21, 22, 23, 24, 25, 26, 27, 28, 29, 30, 31, 32, 33,\n",
       "       34, 35, 36, 37, 38, 39, 40, 41, 42, 43, 44, 45, 46, 47, 48, 49])"
      ]
     },
     "execution_count": 24,
     "metadata": {},
     "output_type": "execute_result"
    }
   ],
   "source": [
    "X"
   ]
  },
  {
   "cell_type": "code",
   "execution_count": 23,
   "metadata": {},
   "outputs": [
    {
     "data": {
      "text/plain": [
       "<AxesSubplot:>"
      ]
     },
     "execution_count": 23,
     "metadata": {},
     "output_type": "execute_result"
    },
    {
     "data": {
      "image/png": "[encoded data removed]",
      "text/plain": [
       "<Figure size 432x288 with 2 Axes>"
      ]
     },
     "metadata": {
      "filenames": {
       "image/png": "/Users/eyalsoreq/github/SystemAI2022/_build/jupyter_execute/class/week_04/02_assessing_performance_5_1.png"
      },
      "needs_background": "light"
     },
     "output_type": "display_data"
    }
   ],
   "source": [
    "X = np.arange(N)\n",
    "sample_size = (10, 5) # 10 obs over 5 folds \n",
    "subsets = rng.choice(X, sample_size, replace=False)\n",
    "subsets = pd.DataFrame(subsets)\n",
    "sns.heatmap(subsets, cmap='Spectral', annot=True ,fmt='d')"
   ]
  },
  {
   "cell_type": "markdown",
   "metadata": {},
   "source": [
    "#### If data is large \n"
   ]
  },
  {
   "cell_type": "code",
   "execution_count": 28,
   "metadata": {},
   "outputs": [
    {
     "data": {
      "text/plain": [
       "<AxesSubplot:>"
      ]
     },
     "execution_count": 28,
     "metadata": {},
     "output_type": "execute_result"
    },
    {
     "data": {
      "image/png": "[encoded data removed]",
      "text/plain": [
       "<Figure size 432x288 with 2 Axes>"
      ]
     },
     "metadata": {
      "filenames": {
       "image/png": "/Users/eyalsoreq/github/SystemAI2022/_build/jupyter_execute/class/week_04/02_assessing_performance_7_1.png"
      },
      "needs_background": "light"
     },
     "output_type": "display_data"
    }
   ],
   "source": [
    "sample_size = (10, 5)\n",
    "X = np.arange(N)\n",
    "rng.shuffle(X)\n",
    "subsets = pd.DataFrame(X.reshape(sample_size))\n",
    "sns.heatmap(subsets, cmap='Spectral', annot=True ,fmt='d')"
   ]
  },
  {
   "cell_type": "markdown",
   "metadata": {},
   "source": [
    "### **With replacement**: \n",
    "- All elements of a population have an equal chance of being selected more than once - n can be larger than N in this example. "
   ]
  },
  {
   "cell_type": "code",
   "execution_count": 12,
   "metadata": {},
   "outputs": [
    {
     "data": {
      "text/plain": [
       "<AxesSubplot:>"
      ]
     },
     "execution_count": 12,
     "metadata": {},
     "output_type": "execute_result"
    },
    {
     "data": {
      "image/png": "[encoded data removed]",
      "text/plain": [
       "<Figure size 432x288 with 2 Axes>"
      ]
     },
     "metadata": {
      "filenames": {
       "image/png": "/Users/eyalsoreq/github/SystemAI2022/_build/jupyter_execute/class/week_04/02_assessing_performance_9_1.png"
      },
      "needs_background": "light"
     },
     "output_type": "display_data"
    }
   ],
   "source": [
    "X = np.arange(10)\n",
    "sample_size = (10, 5) # 20 obs over 5 folds \n",
    "subsets = rng.choice(X, sample_size, replace=True)\n",
    "subsets = pd.DataFrame(subsets)\n",
    "sns.heatmap(subsets, cmap='Spectral', annot=True ,fmt='d')"
   ]
  },
  {
   "cell_type": "markdown",
   "metadata": {},
   "source": [
    "## Stratified Sampling\n",
    "Samples are drawn within pre-specified categories or factors.\n",
    "1. We group the entire population into subpopulations by some common property.\n",
    "1. We then randomly sample from those groups individually, such that the groups are still maintained in the same ratio. "
   ]
  },
  {
   "cell_type": "code",
   "execution_count": 18,
   "metadata": {},
   "outputs": [
    {
     "data": {
      "text/plain": [
       "<AxesSubplot:>"
      ]
     },
     "execution_count": 18,
     "metadata": {},
     "output_type": "execute_result"
    },
    {
     "data": {
      "image/png": "[encoded data removed]",
      "text/plain": [
       "<Figure size 432x288 with 2 Axes>"
      ]
     },
     "metadata": {
      "filenames": {
       "image/png": "/Users/eyalsoreq/github/SystemAI2022/_build/jupyter_execute/class/week_04/02_assessing_performance_11_1.png"
      },
      "needs_background": "light"
     },
     "output_type": "display_data"
    }
   ],
   "source": [
    "N = 20\n",
    "X = np.arange(N)\n",
    "ratio, groups = (0.55, 0.15, 0.3), [0, 1, 2]\n",
    "Y = np.repeat(groups, (np.array(ratio)*N).astype(int))\n",
    "folds, sample_size = 5, 10\n",
    "subset_size = np.array(ratio)*sample_size\n",
    "dummy = np.eye(len(groups))[Y]\n",
    "subsets = []\n",
    "for i, k in enumerate(subset_size):\n",
    "    _X = X[np.where(dummy[:, i] == 1)[0]]\n",
    "    subsets.append(pd.DataFrame(rng.choice(_X, (int(k), folds))))\n",
    "subsets = pd.concat(subsets)\n",
    "sns.heatmap(subsets, cmap='Spectral', annot=True ,fmt='d')"
   ]
  },
  {
   "cell_type": "markdown",
   "metadata": {},
   "source": [
    "# Why are we resampling? \n",
    "- Resampling is intended to approximate the variability of some target metrics given some empirical conditions.\n",
    "- This, in turn, gives us the ability to conduct an empirical comparison within the limitations of our dataset.\n",
    "- It also allows us to augment our data in different forms (e.g. to handle imbalanced data or to introduce some heuristics to increase heterogeneity of the dataset)\n",
    "\n",
    "# Cross-Validation\n",
    "A crucial part of machine learning is training the model. A model is created based on a set of data called the training set. \n",
    "We then demonstrate the accuracy of the model on an unseen subset of the data, which is often referred to as a test or validation set. \n",
    "Multiplication of independent subsets of training and, therefore, multiple models are extremely beneficial for many reasons. Each of these splits, however, may limit our model's ability to learn a precise representation of the problem. This is sometimes a required feature of our learning pipeline (e.g. fitting age-band specific models as part of an ensemble learning algorithm). Generally, however, we will make use of all of our data (since it is very expensive to acquire).  \n",
    "Unless manually constrained, models will grow in complexity in an attempt (often futile) to explain every data point. Usually, this kind of behaviour is called overfitting, and it can often be found in situations (at least in our field) when you have more observations than features (aka the \"curse of dimensionality\" or large P, small N, (P >> N)).\n",
    "Generally, this means our model will be very good at predicting known situations, but it will struggle to generalize.\n",
    "Using an iterative split and reporting mean performance over different iterations is one method of evaluating ML performance with minimal data sacrifice, as demonstrated last week. You may also look at the predictions we can make from unseen data. This process is called cross validation, i.e. learn from the training subset and test on the validation subset.  "
   ]
  },
  {
   "cell_type": "markdown",
   "metadata": {},
   "source": [
    "# Data Subset\n",
    "\n",
    "When selecting a model, we distinguish 3 different parts of the data that we have as follows:\n",
    "- Training set (usualy 75-90% of the data) on which the model is trained\n",
    "- Validation set (usualy 25-10% of the data) on which the model is assessed (Also called hold-out or development set)\n",
    "- Testing set - the unseen data on which the perfomance of the model is reported\n",
    "\n",
    "# Common types of CV\n",
    "Two types of cross-validation can be distinguished: \n",
    "- Exhaustive \n",
    "- Non-exhaustive \n",
    "\n",
    "# Exhaustive CV\n",
    " methods which learn and test on all possible ways to divide the original sample into a training and a validation set.\n",
    "\n",
    "## Leave-p-out cross-validation\n",
    "- Creates all the possible training/test sets by removing p samples from the complete set. For n samples, this produces n over p train-test pairs. \n",
    "- Let's view this visually \n",
    "- For example take 20/80% split "
   ]
  },
  {
   "cell_type": "code",
   "execution_count": 29,
   "metadata": {},
   "outputs": [
    {
     "data": {
      "text/plain": [
       "Text(82.5, 0.5, 'Number of observations')"
      ]
     },
     "execution_count": 29,
     "metadata": {},
     "output_type": "execute_result"
    },
    {
     "data": {
      "image/png": "[encoded data removed]",
      "text/plain": [
       "<Figure size 720x288 with 1 Axes>"
      ]
     },
     "metadata": {
      "filenames": {
       "image/png": "/Users/eyalsoreq/github/SystemAI2022/_build/jupyter_execute/class/week_04/02_assessing_performance_14_1.png"
      }
     },
     "output_type": "display_data"
    }
   ],
   "source": [
    "import matplotlib.pyplot as plt\n",
    "from sklearn.model_selection import LeavePOut\n",
    "\n",
    "fig,ax = plt.subplots(figsize=(10,4))\n",
    "params = {\"xticklabels\" : 0,\n",
    "          \"yticklabels\" : 0,\n",
    "          \"annot\": False,\n",
    "          \"cbar\": False,\n",
    "          \"linewidths\" : 1,\n",
    "          'cmap': 'Paired'}\n",
    "Leave_p, N = 0.2, 10\n",
    "N_test = int(N*Leave_p)\n",
    "Y = np.ones(N)\n",
    "lpo=LeavePOut(N_test)\n",
    "data = []\n",
    "for i, (train, test) in enumerate(lpo.split(Y)):\n",
    "    tmp = np.ones(N)\n",
    "    tmp[test]=0\n",
    "    data.append(tmp)\n",
    "sns.heatmap(pd.DataFrame(data).T,  ax=ax, **params)\n",
    "ax.set_xlabel('Number of splits')\n",
    "ax.set_ylabel('Number of observations')"
   ]
  },
  {
   "cell_type": "markdown",
   "metadata": {},
   "source": [
    "- Due to the high number of iterations which grows combinatorially with the number of samples this cross-validation method can be very costly.\n",
    "\n",
    "## Leave-one-out cross-validation\n",
    "Leave-one-out cross-validation (LOOCV) is a particular case of leave-p-out cross-validation with p = 1.\n"
   ]
  },
  {
   "cell_type": "code",
   "execution_count": 21,
   "metadata": {},
   "outputs": [
    {
     "data": {
      "text/plain": [
       "Text(82.5, 0.5, 'Number of observations')"
      ]
     },
     "execution_count": 21,
     "metadata": {},
     "output_type": "execute_result"
    },
    {
     "data": {
      "image/png": "[encoded data removed]",
      "text/plain": [
       "<Figure size 720x288 with 1 Axes>"
      ]
     },
     "metadata": {
      "filenames": {
       "image/png": "/Users/eyalsoreq/github/SystemAI2022/_build/jupyter_execute/class/week_04/02_assessing_performance_16_1.png"
      }
     },
     "output_type": "display_data"
    }
   ],
   "source": [
    "fig, ax = plt.subplots(figsize=(10, 4))\n",
    "Y = np.ones(N)\n",
    "lpo = LeavePOut(1)\n",
    "data = []\n",
    "for i, (train, test) in enumerate(lpo.split(Y)):\n",
    "    tmp = np.ones(N)\n",
    "    tmp[test] = 0\n",
    "    data.append(tmp)\n",
    "sns.heatmap(pd.DataFrame(data).T,  ax=ax, **params)\n",
    "ax.set_xlabel('Number of splits')\n",
    "ax.set_ylabel('Number of observations')"
   ]
  },
  {
   "cell_type": "markdown",
   "metadata": {},
   "source": [
    "# Non-exhaustive CV\n",
    "Methods which learn and test on a subset (often overlapping) of all possible ways to divide the original sample (we are approximating the performance using some assumptions).\n",
    "\n",
    "## Holdout method\n",
    "- We randomly assign data points to two sets d0 and d1, usually referred to as training and testing sets. Usually, the test set is smaller than the training set, but it's not set in stone. Training (building a model) on d0, testing (evaluating it) on d1.\n",
    "- Cross-validation typically involves averaging the results of several model-testing runs; by contrast, holdout involves only a single run. In fact, if the multiple runs are not averaged, you may achieve highly misinforming results without such averaging. "
   ]
  },
  {
   "cell_type": "code",
   "execution_count": 47,
   "metadata": {},
   "outputs": [
    {
     "data": {
      "text/plain": [
       "<AxesSubplot:>"
      ]
     },
     "execution_count": 47,
     "metadata": {},
     "output_type": "execute_result"
    },
    {
     "data": {
      "image/png": "[encoded data removed]",
      "text/plain": [
       "<Figure size 720x288 with 3 Axes>"
      ]
     },
     "metadata": {
      "filenames": {
       "image/png": "/Users/eyalsoreq/github/SystemAI2022/_build/jupyter_execute/class/week_04/02_assessing_performance_18_1.png"
      },
      "needs_background": "light"
     },
     "output_type": "display_data"
    }
   ],
   "source": [
    "from sklearn.model_selection import train_test_split\n",
    "N = 20\n",
    "\n",
    "Y = rng.choice([0, 1], p=(0.35, 0.65), size=(N, 1))\n",
    "X = rng.uniform(1,2,size=(N, 8))*2*Y\n",
    "X_train, X_test, y_train, y_test = train_test_split(\n",
    "    X, Y, test_size=0.25, random_state=2022)\n",
    "\n",
    "fig, ax = plt.subplots(1, 2, figsize=(\n",
    "    10, 4), gridspec_kw={'width_ratios': [1, 8]})\n",
    "params['cmap'] = 'Paired'\n",
    "sns.heatmap(pd.DataFrame(np.vstack([y_train,(y_test+3)])),  ax=ax[0], **params)\n",
    "sns.heatmap(pd.DataFrame(np.vstack([X_train,(X_test+5)])),  ax=ax[1], cmap='Blues')"
   ]
  },
  {
   "cell_type": "markdown",
   "metadata": {},
   "source": [
    "## K-Fold \n",
    "- Split the dataset into k groups of samples, called folds (if k=n, this is equivalent to the Leave One Out strategy), of equal sizes (if possible). \n",
    "- The prediction function is learned using  folds, and the fold left out is used for test.\n"
   ]
  },
  {
   "cell_type": "code",
   "execution_count": 48,
   "metadata": {},
   "outputs": [
    {
     "data": {
      "text/plain": [
       "Text(0.5, 28.5, 'Number of observations')"
      ]
     },
     "execution_count": 48,
     "metadata": {},
     "output_type": "execute_result"
    },
    {
     "data": {
      "image/png": "[encoded data removed]",
      "text/plain": [
       "<Figure size 720x288 with 1 Axes>"
      ]
     },
     "metadata": {
      "filenames": {
       "image/png": "/Users/eyalsoreq/github/SystemAI2022/_build/jupyter_execute/class/week_04/02_assessing_performance_20_1.png"
      }
     },
     "output_type": "display_data"
    }
   ],
   "source": [
    "from sklearn.model_selection import KFold\n",
    "fig, ax = plt.subplots(figsize=(10, 4))\n",
    "Y = np.ones(N)\n",
    "kf = KFold(5)\n",
    "data = []\n",
    "for i, (train, test) in enumerate(kf.split(Y)):\n",
    "    tmp = np.ones(N)\n",
    "    tmp[test] = 0\n",
    "    data.append(tmp)\n",
    "sns.heatmap(pd.DataFrame(data),  ax=ax, **params)\n",
    "ax.set_ylabel('Number of folds')\n",
    "ax.set_xlabel('Number of observations')"
   ]
  },
  {
   "cell_type": "markdown",
   "metadata": {},
   "source": [
    "\n",
    "## Stratified k-fold\n",
    "- Stratified k-fold is a variation of k-fold which returns stratified folds. \n",
    "- each set contains approximately the same ratio of samples of each target class as the complete set.\n"
   ]
  },
  {
   "cell_type": "code",
   "execution_count": 49,
   "metadata": {},
   "outputs": [
    {
     "data": {
      "image/png": "[encoded data removed]",
      "text/plain": [
       "<Figure size 720x144 with 2 Axes>"
      ]
     },
     "metadata": {
      "filenames": {
       "image/png": "/Users/eyalsoreq/github/SystemAI2022/_build/jupyter_execute/class/week_04/02_assessing_performance_22_0.png"
      }
     },
     "output_type": "display_data"
    },
    {
     "data": {
      "image/png": "[encoded data removed]",
      "text/plain": [
       "<Figure size 720x144 with 2 Axes>"
      ]
     },
     "metadata": {
      "filenames": {
       "image/png": "/Users/eyalsoreq/github/SystemAI2022/_build/jupyter_execute/class/week_04/02_assessing_performance_22_1.png"
      }
     },
     "output_type": "display_data"
    }
   ],
   "source": [
    "from sklearn.model_selection import StratifiedKFold\n",
    "N = 100\n",
    "X = rng.uniform(1, 2, size=(N, 8))\n",
    "Y = rng.choice([1, 2, 3], p=(0.10, 0.25, 0.65), size=(N, 1))\n",
    "K = 2\n",
    "skf = StratifiedKFold(K)\n",
    "params[\"linewidths\"]=0\n",
    "data = []\n",
    "for i, (train, test) in enumerate(skf.split(X, Y)):\n",
    "    fig, ax = plt.subplots(1, 2, figsize=(\n",
    "        10, 2), gridspec_kw={'width_ratios': [1, 8]})\n",
    "    C = np.ones((N, 1))\n",
    "    C[train] = 0\n",
    "    params['cmap'] = 'Paired'\n",
    "    sns.heatmap(pd.DataFrame(Y+Y*C*2),  ax=ax[0], **params)\n",
    "    params['cmap'] = 'Blues'\n",
    "    sns.heatmap(pd.DataFrame(X+X*C*2),  ax=ax[1], **params)\n",
    "    plt.tight_layout()"
   ]
  },
  {
   "cell_type": "markdown",
   "metadata": {},
   "source": [
    "## Comparing models using a pipeline \n",
    "\n",
    "\n",
    "\n"
   ]
  },
  {
   "cell_type": "code",
   "execution_count": 35,
   "metadata": {},
   "outputs": [
    {
     "data": {
      "text/markdown": [
       ".. _diabetes_dataset:\n",
       "\n",
       "Diabetes dataset\n",
       "----------------\n",
       "\n",
       "Ten baseline variables, age, sex, body mass index, average blood\n",
       "pressure, and six blood serum measurements were obtained for each of n =\n",
       "442 diabetes patients, as well as the response of interest, a\n",
       "quantitative measure of disease progression one year after baseline.\n",
       "\n",
       "**Data Set Characteristics:**\n",
       "\n",
       "  :Number of Instances: 442\n",
       "\n",
       "  :Number of Attributes: First 10 columns are numeric predictive values\n",
       "\n",
       "  :Target: Column 11 is a quantitative measure of disease progression one year after baseline\n",
       "\n",
       "  :Attribute Information:\n",
       "      - age     age in years\n",
       "      - sex\n",
       "      - bmi     body mass index\n",
       "      - bp      average blood pressure\n",
       "      - s1      tc, total serum cholesterol\n",
       "      - s2      ldl, low-density lipoproteins\n",
       "      - s3      hdl, high-density lipoproteins\n",
       "      - s4      tch, total cholesterol / HDL\n",
       "      - s5      ltg, possibly log of serum triglycerides level\n",
       "      - s6      glu, blood sugar level\n",
       "\n",
       "Note: Each of these 10 feature variables have been mean centered and scaled by the standard deviation times the square root of `n_samples` (i.e. the sum of squares of each column totals 1).\n",
       "\n",
       "Source URL:\n",
       "https://www4.stat.ncsu.edu/~boos/var.select/diabetes.html\n",
       "\n",
       "For more information see:\n",
       "Bradley Efron, Trevor Hastie, Iain Johnstone and Robert Tibshirani (2004) \"Least Angle Regression,\" Annals of Statistics (with discussion), 407-499.\n",
       "(https://web.stanford.edu/~hastie/Papers/LARS/LeastAngle_2002.pdf)\n"
      ],
      "text/plain": [
       "<IPython.core.display.Markdown object>"
      ]
     },
     "metadata": {},
     "output_type": "display_data"
    }
   ],
   "source": [
    "from sklearn.datasets import load_diabetes\n",
    "from IPython.display import display,Markdown\n",
    "diabetes = load_diabetes()\n",
    "X = pd.DataFrame(diabetes['data'],columns= diabetes['feature_names'])\n",
    "y = pd.Series(diabetes['target'])\n",
    "display(Markdown(diabetes['DESCR']))"
   ]
  },
  {
   "cell_type": "code",
   "execution_count": 38,
   "metadata": {},
   "outputs": [
    {
     "data": {
      "text/html": [
       "<div>\n",
       "<style scoped>\n",
       "    .dataframe tbody tr th:only-of-type {\n",
       "        vertical-align: middle;\n",
       "    }\n",
       "\n",
       "    .dataframe tbody tr th {\n",
       "        vertical-align: top;\n",
       "    }\n",
       "\n",
       "    .dataframe thead th {\n",
       "        text-align: right;\n",
       "    }\n",
       "</style>\n",
       "<table border=\"1\" class=\"dataframe\">\n",
       "  <thead>\n",
       "    <tr style=\"text-align: right;\">\n",
       "      <th></th>\n",
       "      <th>Kind</th>\n",
       "      <th>MAE</th>\n",
       "      <th>MSE</th>\n",
       "      <th>MAD</th>\n",
       "      <th>RMSE</th>\n",
       "      <th>r2</th>\n",
       "    </tr>\n",
       "  </thead>\n",
       "  <tbody>\n",
       "    <tr>\n",
       "      <th>None</th>\n",
       "      <td>model</td>\n",
       "      <td>44.145585</td>\n",
       "      <td>2911.802823</td>\n",
       "      <td>38.222455</td>\n",
       "      <td>53.961123</td>\n",
       "      <td>0.520596</td>\n",
       "    </tr>\n",
       "  </tbody>\n",
       "</table>\n",
       "</div>"
      ],
      "text/plain": [
       "       Kind        MAE          MSE        MAD       RMSE        r2\n",
       "None  model  44.145585  2911.802823  38.222455  53.961123  0.520596"
      ]
     },
     "metadata": {},
     "output_type": "display_data"
    }
   ],
   "source": [
    "from sklearn.model_selection import train_test_split\n",
    "from sklearn.pipeline import Pipeline\n",
    "from sklearn.linear_model import LinearRegression\n",
    "from sklearn.decomposition import PCA\n",
    "from sklearn.feature_selection import VarianceThreshold # Feature selector\n",
    "from sklearn.preprocessing import Normalizer, StandardScaler, MinMaxScaler, PowerTransformer, MaxAbsScaler, LabelEncoder\n",
    "from sklearn.model_selection import GridSearchCV # For optimization\n",
    "from sklearn.preprocessing import PolynomialFeatures\n",
    "from sklearn.feature_selection import SelectKBest\n",
    "\n",
    "from sklearn.metrics import mean_absolute_error,mean_squared_error,r2_score,median_absolute_error\n",
    "def calc_error(y,y_hat,i=None,kind='model'):\n",
    "    err = {'Kind':kind,\n",
    "            'MAE':mean_absolute_error(y,y_hat),\n",
    "            'MSE':mean_squared_error(y,y_hat),\n",
    "            'MAD':median_absolute_error(y,y_hat),\n",
    "            'RMSE':mean_squared_error(y,y_hat,squared=False),\n",
    "            'r2':r2_score(y,y_hat)}\n",
    "    return pd.DataFrame(err,index=[i])\n",
    "\n",
    "X_train, X_test, Y_train, Y_test = train_test_split(X, y, test_size = 0.25, random_state=2022)\n",
    "# Linear Regression Pipeline\n",
    "lr_pipe = Pipeline([('mdl',LinearRegression())])\n",
    "lr_pipe.fit(X_train, Y_train)\n",
    "y_hat = lr_pipe.predict(X_test)\n",
    "\n",
    "display(calc_error(Y_test,y_hat))\n"
   ]
  },
  {
   "cell_type": "code",
   "execution_count": 11,
   "metadata": {},
   "outputs": [
    {
     "data": {
      "text/html": [
       "<div>\n",
       "<style scoped>\n",
       "    .dataframe tbody tr th:only-of-type {\n",
       "        vertical-align: middle;\n",
       "    }\n",
       "\n",
       "    .dataframe tbody tr th {\n",
       "        vertical-align: top;\n",
       "    }\n",
       "\n",
       "    .dataframe thead th {\n",
       "        text-align: right;\n",
       "    }\n",
       "</style>\n",
       "<table border=\"1\" class=\"dataframe\">\n",
       "  <thead>\n",
       "    <tr style=\"text-align: right;\">\n",
       "      <th></th>\n",
       "      <th>Kind</th>\n",
       "      <th>MAE</th>\n",
       "      <th>MSE</th>\n",
       "      <th>MAD</th>\n",
       "      <th>RMSE</th>\n",
       "      <th>r2</th>\n",
       "    </tr>\n",
       "  </thead>\n",
       "  <tbody>\n",
       "    <tr>\n",
       "      <th>None</th>\n",
       "      <td>model</td>\n",
       "      <td>43.383252</td>\n",
       "      <td>3315.424821</td>\n",
       "      <td>33.361328</td>\n",
       "      <td>57.579726</td>\n",
       "      <td>0.454143</td>\n",
       "    </tr>\n",
       "  </tbody>\n",
       "</table>\n",
       "</div>"
      ],
      "text/plain": [
       "       Kind        MAE          MSE        MAD       RMSE        r2\n",
       "None  model  43.383252  3315.424821  33.361328  57.579726  0.454143"
      ]
     },
     "metadata": {},
     "output_type": "display_data"
    }
   ],
   "source": [
    "\n",
    "lr_pipe = Pipeline([('scl', StandardScaler()),\n",
    "                    ('poly_expansion', PolynomialFeatures(2)),                                     \n",
    "                    ('mdl',LinearRegression())])\n",
    "lr_pipe.fit(X_train, Y_train)\n",
    "y_hat = lr_pipe.predict(X_test)\n",
    "\n",
    "display(calc_error(Y_test,y_hat))\n"
   ]
  },
  {
   "cell_type": "code",
   "execution_count": 40,
   "metadata": {},
   "outputs": [
    {
     "data": {
      "text/plain": [
       "<matplotlib.collections.PathCollection at 0x17b7c4f70>"
      ]
     },
     "execution_count": 40,
     "metadata": {},
     "output_type": "execute_result"
    },
    {
     "data": {
      "image/png": "[encoded data removed]",
      "text/plain": [
       "<Figure size 432x288 with 1 Axes>"
      ]
     },
     "metadata": {
      "filenames": {
       "image/png": "/Users/eyalsoreq/github/SystemAI2022/_build/jupyter_execute/class/week_04/02_assessing_performance_27_1.png"
      },
      "needs_background": "light"
     },
     "output_type": "display_data"
    }
   ],
   "source": [
    "residual = Y_test - y_hat\n",
    "plt.scatter(np.arange(residual.shape[0]),residual)"
   ]
  },
  {
   "cell_type": "code",
   "execution_count": 41,
   "metadata": {},
   "outputs": [
    {
     "data": {
      "text/html": [
       "<div>\n",
       "<style scoped>\n",
       "    .dataframe tbody tr th:only-of-type {\n",
       "        vertical-align: middle;\n",
       "    }\n",
       "\n",
       "    .dataframe tbody tr th {\n",
       "        vertical-align: top;\n",
       "    }\n",
       "\n",
       "    .dataframe thead th {\n",
       "        text-align: right;\n",
       "    }\n",
       "</style>\n",
       "<table border=\"1\" class=\"dataframe\">\n",
       "  <thead>\n",
       "    <tr style=\"text-align: right;\">\n",
       "      <th></th>\n",
       "      <th>Kind</th>\n",
       "      <th>MAE</th>\n",
       "      <th>MSE</th>\n",
       "      <th>MAD</th>\n",
       "      <th>RMSE</th>\n",
       "      <th>r2</th>\n",
       "    </tr>\n",
       "  </thead>\n",
       "  <tbody>\n",
       "    <tr>\n",
       "      <th>None</th>\n",
       "      <td>model</td>\n",
       "      <td>44.880766</td>\n",
       "      <td>2889.91989</td>\n",
       "      <td>37.997576</td>\n",
       "      <td>53.757975</td>\n",
       "      <td>0.524199</td>\n",
       "    </tr>\n",
       "  </tbody>\n",
       "</table>\n",
       "</div>"
      ],
      "text/plain": [
       "       Kind        MAE         MSE        MAD       RMSE        r2\n",
       "None  model  44.880766  2889.91989  37.997576  53.757975  0.524199"
      ]
     },
     "metadata": {},
     "output_type": "display_data"
    }
   ],
   "source": [
    "\n",
    "lr_pipe = Pipeline([('scl', StandardScaler()),\n",
    "                    ('reduce_dim', PCA(4)),                                     \n",
    "                    ('mdl',LinearRegression())])\n",
    "lr_pipe.fit(X_train, Y_train)\n",
    "y_hat = lr_pipe.predict(X_test)\n",
    "\n",
    "display(calc_error(Y_test,y_hat))\n"
   ]
  },
  {
   "cell_type": "code",
   "execution_count": 42,
   "metadata": {},
   "outputs": [],
   "source": [
    "from sklearn.tree import DecisionTreeRegressor\n",
    "from sklearn.svm import SVR\n",
    "from sklearn.linear_model import LinearRegression\n",
    "\n",
    "pipe = Pipeline([('scaler', StandardScaler()),\n",
    "          ('reduce_dim', 'passthrough'),                                     \n",
    "          ('poly_expansion', 'passthrough'),\n",
    "          ('mdl',LinearRegression())])\n",
    "\n",
    "param_grid = dict(\n",
    "    scaler = [StandardScaler(),PowerTransformer()],\n",
    "    reduce_dim=['passthrough', PCA(5)],\n",
    "    poly_expansion = ['passthrough', PolynomialFeatures(2)],\n",
    "    mdl = [LinearRegression(),DecisionTreeRegressor(),\n",
    "           SVR(C=100),SVR(C=1000)]\n",
    ")\n",
    "grid_search = GridSearchCV(pipe, param_grid=param_grid, cv=5).fit(X_train, Y_train)"
   ]
  },
  {
   "cell_type": "code",
   "execution_count": 43,
   "metadata": {},
   "outputs": [
    {
     "data": {
      "text/html": [
       "<div>\n",
       "<style scoped>\n",
       "    .dataframe tbody tr th:only-of-type {\n",
       "        vertical-align: middle;\n",
       "    }\n",
       "\n",
       "    .dataframe tbody tr th {\n",
       "        vertical-align: top;\n",
       "    }\n",
       "\n",
       "    .dataframe thead th {\n",
       "        text-align: right;\n",
       "    }\n",
       "</style>\n",
       "<table border=\"1\" class=\"dataframe\">\n",
       "  <thead>\n",
       "    <tr style=\"text-align: right;\">\n",
       "      <th></th>\n",
       "      <th>mean_fit_time</th>\n",
       "      <th>std_fit_time</th>\n",
       "      <th>mean_score_time</th>\n",
       "      <th>std_score_time</th>\n",
       "      <th>param_mdl</th>\n",
       "      <th>param_poly_expansion</th>\n",
       "      <th>param_reduce_dim</th>\n",
       "      <th>param_scaler</th>\n",
       "      <th>params</th>\n",
       "      <th>split0_test_score</th>\n",
       "      <th>split1_test_score</th>\n",
       "      <th>split2_test_score</th>\n",
       "      <th>split3_test_score</th>\n",
       "      <th>split4_test_score</th>\n",
       "      <th>mean_test_score</th>\n",
       "      <th>std_test_score</th>\n",
       "      <th>rank_test_score</th>\n",
       "    </tr>\n",
       "  </thead>\n",
       "  <tbody>\n",
       "    <tr>\n",
       "      <th>0</th>\n",
       "      <td>0.005297</td>\n",
       "      <td>0.000942</td>\n",
       "      <td>0.001844</td>\n",
       "      <td>0.000523</td>\n",
       "      <td>LinearRegression()</td>\n",
       "      <td>passthrough</td>\n",
       "      <td>passthrough</td>\n",
       "      <td>StandardScaler()</td>\n",
       "      <td>{'mdl': LinearRegression(), 'poly_expansion': ...</td>\n",
       "      <td>0.469886</td>\n",
       "      <td>0.414581</td>\n",
       "      <td>0.492662</td>\n",
       "      <td>0.512901</td>\n",
       "      <td>0.388028</td>\n",
       "      <td>0.455612</td>\n",
       "      <td>0.047137</td>\n",
       "      <td>1</td>\n",
       "    </tr>\n",
       "    <tr>\n",
       "      <th>2</th>\n",
       "      <td>0.006388</td>\n",
       "      <td>0.001565</td>\n",
       "      <td>0.002252</td>\n",
       "      <td>0.000651</td>\n",
       "      <td>LinearRegression()</td>\n",
       "      <td>passthrough</td>\n",
       "      <td>PCA(n_components=5)</td>\n",
       "      <td>StandardScaler()</td>\n",
       "      <td>{'mdl': LinearRegression(), 'poly_expansion': ...</td>\n",
       "      <td>0.500157</td>\n",
       "      <td>0.417215</td>\n",
       "      <td>0.459713</td>\n",
       "      <td>0.544992</td>\n",
       "      <td>0.346969</td>\n",
       "      <td>0.453809</td>\n",
       "      <td>0.068193</td>\n",
       "      <td>2</td>\n",
       "    </tr>\n",
       "    <tr>\n",
       "      <th>3</th>\n",
       "      <td>0.029924</td>\n",
       "      <td>0.005845</td>\n",
       "      <td>0.002475</td>\n",
       "      <td>0.000387</td>\n",
       "      <td>LinearRegression()</td>\n",
       "      <td>passthrough</td>\n",
       "      <td>PCA(n_components=5)</td>\n",
       "      <td>PowerTransformer()</td>\n",
       "      <td>{'mdl': LinearRegression(), 'poly_expansion': ...</td>\n",
       "      <td>0.483130</td>\n",
       "      <td>0.406608</td>\n",
       "      <td>0.452395</td>\n",
       "      <td>0.539718</td>\n",
       "      <td>0.350204</td>\n",
       "      <td>0.446411</td>\n",
       "      <td>0.064700</td>\n",
       "      <td>3</td>\n",
       "    </tr>\n",
       "    <tr>\n",
       "      <th>1</th>\n",
       "      <td>0.038073</td>\n",
       "      <td>0.011869</td>\n",
       "      <td>0.004389</td>\n",
       "      <td>0.002446</td>\n",
       "      <td>LinearRegression()</td>\n",
       "      <td>passthrough</td>\n",
       "      <td>passthrough</td>\n",
       "      <td>PowerTransformer()</td>\n",
       "      <td>{'mdl': LinearRegression(), 'poly_expansion': ...</td>\n",
       "      <td>0.439101</td>\n",
       "      <td>0.391590</td>\n",
       "      <td>0.493332</td>\n",
       "      <td>0.507906</td>\n",
       "      <td>0.378505</td>\n",
       "      <td>0.442087</td>\n",
       "      <td>0.052076</td>\n",
       "      <td>4</td>\n",
       "    </tr>\n",
       "    <tr>\n",
       "      <th>6</th>\n",
       "      <td>0.006284</td>\n",
       "      <td>0.000768</td>\n",
       "      <td>0.002452</td>\n",
       "      <td>0.000276</td>\n",
       "      <td>LinearRegression()</td>\n",
       "      <td>PolynomialFeatures()</td>\n",
       "      <td>PCA(n_components=5)</td>\n",
       "      <td>StandardScaler()</td>\n",
       "      <td>{'mdl': LinearRegression(), 'poly_expansion': ...</td>\n",
       "      <td>0.523651</td>\n",
       "      <td>0.368110</td>\n",
       "      <td>0.454491</td>\n",
       "      <td>0.531652</td>\n",
       "      <td>0.328744</td>\n",
       "      <td>0.441330</td>\n",
       "      <td>0.081418</td>\n",
       "      <td>5</td>\n",
       "    </tr>\n",
       "    <tr>\n",
       "      <th>7</th>\n",
       "      <td>0.033421</td>\n",
       "      <td>0.001978</td>\n",
       "      <td>0.002939</td>\n",
       "      <td>0.000387</td>\n",
       "      <td>LinearRegression()</td>\n",
       "      <td>PolynomialFeatures()</td>\n",
       "      <td>PCA(n_components=5)</td>\n",
       "      <td>PowerTransformer()</td>\n",
       "      <td>{'mdl': LinearRegression(), 'poly_expansion': ...</td>\n",
       "      <td>0.525636</td>\n",
       "      <td>0.364419</td>\n",
       "      <td>0.446595</td>\n",
       "      <td>0.534919</td>\n",
       "      <td>0.325334</td>\n",
       "      <td>0.439381</td>\n",
       "      <td>0.083959</td>\n",
       "      <td>6</td>\n",
       "    </tr>\n",
       "    <tr>\n",
       "      <th>18</th>\n",
       "      <td>0.009736</td>\n",
       "      <td>0.000614</td>\n",
       "      <td>0.004000</td>\n",
       "      <td>0.000220</td>\n",
       "      <td>SVR(C=100)</td>\n",
       "      <td>passthrough</td>\n",
       "      <td>PCA(n_components=5)</td>\n",
       "      <td>StandardScaler()</td>\n",
       "      <td>{'mdl': SVR(C=100), 'poly_expansion': 'passthr...</td>\n",
       "      <td>0.518726</td>\n",
       "      <td>0.437114</td>\n",
       "      <td>0.434417</td>\n",
       "      <td>0.504068</td>\n",
       "      <td>0.287560</td>\n",
       "      <td>0.436377</td>\n",
       "      <td>0.081871</td>\n",
       "      <td>7</td>\n",
       "    </tr>\n",
       "    <tr>\n",
       "      <th>16</th>\n",
       "      <td>0.009666</td>\n",
       "      <td>0.000266</td>\n",
       "      <td>0.004268</td>\n",
       "      <td>0.000381</td>\n",
       "      <td>SVR(C=100)</td>\n",
       "      <td>passthrough</td>\n",
       "      <td>passthrough</td>\n",
       "      <td>StandardScaler()</td>\n",
       "      <td>{'mdl': SVR(C=100), 'poly_expansion': 'passthr...</td>\n",
       "      <td>0.524250</td>\n",
       "      <td>0.422386</td>\n",
       "      <td>0.491429</td>\n",
       "      <td>0.426068</td>\n",
       "      <td>0.301601</td>\n",
       "      <td>0.433147</td>\n",
       "      <td>0.076376</td>\n",
       "      <td>8</td>\n",
       "    </tr>\n",
       "    <tr>\n",
       "      <th>19</th>\n",
       "      <td>0.031136</td>\n",
       "      <td>0.001707</td>\n",
       "      <td>0.004613</td>\n",
       "      <td>0.000217</td>\n",
       "      <td>SVR(C=100)</td>\n",
       "      <td>passthrough</td>\n",
       "      <td>PCA(n_components=5)</td>\n",
       "      <td>PowerTransformer()</td>\n",
       "      <td>{'mdl': SVR(C=100), 'poly_expansion': 'passthr...</td>\n",
       "      <td>0.482814</td>\n",
       "      <td>0.419219</td>\n",
       "      <td>0.421437</td>\n",
       "      <td>0.522806</td>\n",
       "      <td>0.289662</td>\n",
       "      <td>0.427188</td>\n",
       "      <td>0.079053</td>\n",
       "      <td>9</td>\n",
       "    </tr>\n",
       "    <tr>\n",
       "      <th>17</th>\n",
       "      <td>0.030605</td>\n",
       "      <td>0.001148</td>\n",
       "      <td>0.004910</td>\n",
       "      <td>0.000359</td>\n",
       "      <td>SVR(C=100)</td>\n",
       "      <td>passthrough</td>\n",
       "      <td>passthrough</td>\n",
       "      <td>PowerTransformer()</td>\n",
       "      <td>{'mdl': SVR(C=100), 'poly_expansion': 'passthr...</td>\n",
       "      <td>0.491992</td>\n",
       "      <td>0.408773</td>\n",
       "      <td>0.477814</td>\n",
       "      <td>0.430682</td>\n",
       "      <td>0.282593</td>\n",
       "      <td>0.418371</td>\n",
       "      <td>0.074341</td>\n",
       "      <td>10</td>\n",
       "    </tr>\n",
       "    <tr>\n",
       "      <th>22</th>\n",
       "      <td>0.010963</td>\n",
       "      <td>0.000811</td>\n",
       "      <td>0.004647</td>\n",
       "      <td>0.000230</td>\n",
       "      <td>SVR(C=100)</td>\n",
       "      <td>PolynomialFeatures()</td>\n",
       "      <td>PCA(n_components=5)</td>\n",
       "      <td>StandardScaler()</td>\n",
       "      <td>{'mdl': SVR(C=100), 'poly_expansion': Polynomi...</td>\n",
       "      <td>0.446643</td>\n",
       "      <td>0.385414</td>\n",
       "      <td>0.349174</td>\n",
       "      <td>0.504989</td>\n",
       "      <td>0.283795</td>\n",
       "      <td>0.394003</td>\n",
       "      <td>0.076574</td>\n",
       "      <td>11</td>\n",
       "    </tr>\n",
       "    <tr>\n",
       "      <th>20</th>\n",
       "      <td>0.011107</td>\n",
       "      <td>0.000840</td>\n",
       "      <td>0.006818</td>\n",
       "      <td>0.000910</td>\n",
       "      <td>SVR(C=100)</td>\n",
       "      <td>PolynomialFeatures()</td>\n",
       "      <td>passthrough</td>\n",
       "      <td>StandardScaler()</td>\n",
       "      <td>{'mdl': SVR(C=100), 'poly_expansion': Polynomi...</td>\n",
       "      <td>0.440862</td>\n",
       "      <td>0.401638</td>\n",
       "      <td>0.402375</td>\n",
       "      <td>0.416467</td>\n",
       "      <td>0.256513</td>\n",
       "      <td>0.383571</td>\n",
       "      <td>0.065097</td>\n",
       "      <td>12</td>\n",
       "    </tr>\n",
       "    <tr>\n",
       "      <th>23</th>\n",
       "      <td>0.033296</td>\n",
       "      <td>0.001491</td>\n",
       "      <td>0.005245</td>\n",
       "      <td>0.000542</td>\n",
       "      <td>SVR(C=100)</td>\n",
       "      <td>PolynomialFeatures()</td>\n",
       "      <td>PCA(n_components=5)</td>\n",
       "      <td>PowerTransformer()</td>\n",
       "      <td>{'mdl': SVR(C=100), 'poly_expansion': Polynomi...</td>\n",
       "      <td>0.431164</td>\n",
       "      <td>0.369638</td>\n",
       "      <td>0.320978</td>\n",
       "      <td>0.504165</td>\n",
       "      <td>0.282127</td>\n",
       "      <td>0.381614</td>\n",
       "      <td>0.078983</td>\n",
       "      <td>13</td>\n",
       "    </tr>\n",
       "    <tr>\n",
       "      <th>21</th>\n",
       "      <td>0.032999</td>\n",
       "      <td>0.002133</td>\n",
       "      <td>0.007454</td>\n",
       "      <td>0.000888</td>\n",
       "      <td>SVR(C=100)</td>\n",
       "      <td>PolynomialFeatures()</td>\n",
       "      <td>passthrough</td>\n",
       "      <td>PowerTransformer()</td>\n",
       "      <td>{'mdl': SVR(C=100), 'poly_expansion': Polynomi...</td>\n",
       "      <td>0.429430</td>\n",
       "      <td>0.387670</td>\n",
       "      <td>0.371002</td>\n",
       "      <td>0.380627</td>\n",
       "      <td>0.271917</td>\n",
       "      <td>0.368129</td>\n",
       "      <td>0.052079</td>\n",
       "      <td>14</td>\n",
       "    </tr>\n",
       "    <tr>\n",
       "      <th>26</th>\n",
       "      <td>0.021853</td>\n",
       "      <td>0.001065</td>\n",
       "      <td>0.004051</td>\n",
       "      <td>0.000202</td>\n",
       "      <td>SVR(C=1000)</td>\n",
       "      <td>passthrough</td>\n",
       "      <td>PCA(n_components=5)</td>\n",
       "      <td>StandardScaler()</td>\n",
       "      <td>{'mdl': SVR(C=1000), 'poly_expansion': 'passth...</td>\n",
       "      <td>0.387123</td>\n",
       "      <td>0.350119</td>\n",
       "      <td>0.277183</td>\n",
       "      <td>0.301152</td>\n",
       "      <td>0.135033</td>\n",
       "      <td>0.290122</td>\n",
       "      <td>0.086430</td>\n",
       "      <td>15</td>\n",
       "    </tr>\n",
       "    <tr>\n",
       "      <th>27</th>\n",
       "      <td>0.043514</td>\n",
       "      <td>0.001980</td>\n",
       "      <td>0.004703</td>\n",
       "      <td>0.000261</td>\n",
       "      <td>SVR(C=1000)</td>\n",
       "      <td>passthrough</td>\n",
       "      <td>PCA(n_components=5)</td>\n",
       "      <td>PowerTransformer()</td>\n",
       "      <td>{'mdl': SVR(C=1000), 'poly_expansion': 'passth...</td>\n",
       "      <td>0.343140</td>\n",
       "      <td>0.348840</td>\n",
       "      <td>0.297401</td>\n",
       "      <td>0.308156</td>\n",
       "      <td>0.149251</td>\n",
       "      <td>0.289358</td>\n",
       "      <td>0.072772</td>\n",
       "      <td>16</td>\n",
       "    </tr>\n",
       "    <tr>\n",
       "      <th>30</th>\n",
       "      <td>0.019641</td>\n",
       "      <td>0.001794</td>\n",
       "      <td>0.004731</td>\n",
       "      <td>0.000672</td>\n",
       "      <td>SVR(C=1000)</td>\n",
       "      <td>PolynomialFeatures()</td>\n",
       "      <td>PCA(n_components=5)</td>\n",
       "      <td>StandardScaler()</td>\n",
       "      <td>{'mdl': SVR(C=1000), 'poly_expansion': Polynom...</td>\n",
       "      <td>0.328915</td>\n",
       "      <td>0.274953</td>\n",
       "      <td>0.124144</td>\n",
       "      <td>0.300258</td>\n",
       "      <td>0.214994</td>\n",
       "      <td>0.248653</td>\n",
       "      <td>0.072708</td>\n",
       "      <td>17</td>\n",
       "    </tr>\n",
       "    <tr>\n",
       "      <th>31</th>\n",
       "      <td>0.041920</td>\n",
       "      <td>0.001917</td>\n",
       "      <td>0.005450</td>\n",
       "      <td>0.000192</td>\n",
       "      <td>SVR(C=1000)</td>\n",
       "      <td>PolynomialFeatures()</td>\n",
       "      <td>PCA(n_components=5)</td>\n",
       "      <td>PowerTransformer()</td>\n",
       "      <td>{'mdl': SVR(C=1000), 'poly_expansion': Polynom...</td>\n",
       "      <td>0.346005</td>\n",
       "      <td>0.171278</td>\n",
       "      <td>0.111863</td>\n",
       "      <td>0.276609</td>\n",
       "      <td>0.236536</td>\n",
       "      <td>0.228458</td>\n",
       "      <td>0.081321</td>\n",
       "      <td>18</td>\n",
       "    </tr>\n",
       "    <tr>\n",
       "      <th>28</th>\n",
       "      <td>0.018177</td>\n",
       "      <td>0.001004</td>\n",
       "      <td>0.006713</td>\n",
       "      <td>0.000414</td>\n",
       "      <td>SVR(C=1000)</td>\n",
       "      <td>PolynomialFeatures()</td>\n",
       "      <td>passthrough</td>\n",
       "      <td>StandardScaler()</td>\n",
       "      <td>{'mdl': SVR(C=1000), 'poly_expansion': Polynom...</td>\n",
       "      <td>0.376874</td>\n",
       "      <td>0.182451</td>\n",
       "      <td>0.193284</td>\n",
       "      <td>0.141923</td>\n",
       "      <td>0.074027</td>\n",
       "      <td>0.193712</td>\n",
       "      <td>0.100679</td>\n",
       "      <td>19</td>\n",
       "    </tr>\n",
       "    <tr>\n",
       "      <th>29</th>\n",
       "      <td>0.042055</td>\n",
       "      <td>0.001907</td>\n",
       "      <td>0.007029</td>\n",
       "      <td>0.000200</td>\n",
       "      <td>SVR(C=1000)</td>\n",
       "      <td>PolynomialFeatures()</td>\n",
       "      <td>passthrough</td>\n",
       "      <td>PowerTransformer()</td>\n",
       "      <td>{'mdl': SVR(C=1000), 'poly_expansion': Polynom...</td>\n",
       "      <td>0.348856</td>\n",
       "      <td>0.131184</td>\n",
       "      <td>0.135310</td>\n",
       "      <td>0.095024</td>\n",
       "      <td>0.079884</td>\n",
       "      <td>0.158052</td>\n",
       "      <td>0.097702</td>\n",
       "      <td>20</td>\n",
       "    </tr>\n",
       "    <tr>\n",
       "      <th>25</th>\n",
       "      <td>0.044435</td>\n",
       "      <td>0.001069</td>\n",
       "      <td>0.004790</td>\n",
       "      <td>0.000234</td>\n",
       "      <td>SVR(C=1000)</td>\n",
       "      <td>passthrough</td>\n",
       "      <td>passthrough</td>\n",
       "      <td>PowerTransformer()</td>\n",
       "      <td>{'mdl': SVR(C=1000), 'poly_expansion': 'passth...</td>\n",
       "      <td>0.339580</td>\n",
       "      <td>0.237384</td>\n",
       "      <td>0.222567</td>\n",
       "      <td>-0.026142</td>\n",
       "      <td>-0.010650</td>\n",
       "      <td>0.152547</td>\n",
       "      <td>0.145358</td>\n",
       "      <td>21</td>\n",
       "    </tr>\n",
       "    <tr>\n",
       "      <th>24</th>\n",
       "      <td>0.026006</td>\n",
       "      <td>0.003578</td>\n",
       "      <td>0.004104</td>\n",
       "      <td>0.000112</td>\n",
       "      <td>SVR(C=1000)</td>\n",
       "      <td>passthrough</td>\n",
       "      <td>passthrough</td>\n",
       "      <td>StandardScaler()</td>\n",
       "      <td>{'mdl': SVR(C=1000), 'poly_expansion': 'passth...</td>\n",
       "      <td>0.372247</td>\n",
       "      <td>0.233174</td>\n",
       "      <td>0.220424</td>\n",
       "      <td>-0.115221</td>\n",
       "      <td>0.021848</td>\n",
       "      <td>0.146494</td>\n",
       "      <td>0.172032</td>\n",
       "      <td>22</td>\n",
       "    </tr>\n",
       "    <tr>\n",
       "      <th>5</th>\n",
       "      <td>0.041963</td>\n",
       "      <td>0.010728</td>\n",
       "      <td>0.003880</td>\n",
       "      <td>0.001115</td>\n",
       "      <td>LinearRegression()</td>\n",
       "      <td>PolynomialFeatures()</td>\n",
       "      <td>passthrough</td>\n",
       "      <td>PowerTransformer()</td>\n",
       "      <td>{'mdl': LinearRegression(), 'poly_expansion': ...</td>\n",
       "      <td>0.494102</td>\n",
       "      <td>0.071170</td>\n",
       "      <td>0.287694</td>\n",
       "      <td>-0.483298</td>\n",
       "      <td>0.211702</td>\n",
       "      <td>0.116274</td>\n",
       "      <td>0.329474</td>\n",
       "      <td>23</td>\n",
       "    </tr>\n",
       "    <tr>\n",
       "      <th>15</th>\n",
       "      <td>0.029324</td>\n",
       "      <td>0.001670</td>\n",
       "      <td>0.002642</td>\n",
       "      <td>0.000078</td>\n",
       "      <td>DecisionTreeRegressor()</td>\n",
       "      <td>PolynomialFeatures()</td>\n",
       "      <td>PCA(n_components=5)</td>\n",
       "      <td>PowerTransformer()</td>\n",
       "      <td>{'mdl': DecisionTreeRegressor(), 'poly_expansi...</td>\n",
       "      <td>0.148173</td>\n",
       "      <td>-0.155909</td>\n",
       "      <td>0.068890</td>\n",
       "      <td>-0.151454</td>\n",
       "      <td>0.100249</td>\n",
       "      <td>0.001990</td>\n",
       "      <td>0.129597</td>\n",
       "      <td>24</td>\n",
       "    </tr>\n",
       "    <tr>\n",
       "      <th>11</th>\n",
       "      <td>0.027211</td>\n",
       "      <td>0.001793</td>\n",
       "      <td>0.002526</td>\n",
       "      <td>0.000301</td>\n",
       "      <td>DecisionTreeRegressor()</td>\n",
       "      <td>passthrough</td>\n",
       "      <td>PCA(n_components=5)</td>\n",
       "      <td>PowerTransformer()</td>\n",
       "      <td>{'mdl': DecisionTreeRegressor(), 'poly_expansi...</td>\n",
       "      <td>0.073704</td>\n",
       "      <td>-0.301462</td>\n",
       "      <td>-0.063772</td>\n",
       "      <td>0.013898</td>\n",
       "      <td>0.007968</td>\n",
       "      <td>-0.053933</td>\n",
       "      <td>0.131219</td>\n",
       "      <td>25</td>\n",
       "    </tr>\n",
       "    <tr>\n",
       "      <th>12</th>\n",
       "      <td>0.012866</td>\n",
       "      <td>0.000605</td>\n",
       "      <td>0.002682</td>\n",
       "      <td>0.000957</td>\n",
       "      <td>DecisionTreeRegressor()</td>\n",
       "      <td>PolynomialFeatures()</td>\n",
       "      <td>passthrough</td>\n",
       "      <td>StandardScaler()</td>\n",
       "      <td>{'mdl': DecisionTreeRegressor(), 'poly_expansi...</td>\n",
       "      <td>-0.052544</td>\n",
       "      <td>-0.362405</td>\n",
       "      <td>0.020946</td>\n",
       "      <td>0.143716</td>\n",
       "      <td>-0.216992</td>\n",
       "      <td>-0.093456</td>\n",
       "      <td>0.178105</td>\n",
       "      <td>26</td>\n",
       "    </tr>\n",
       "    <tr>\n",
       "      <th>13</th>\n",
       "      <td>0.034781</td>\n",
       "      <td>0.001258</td>\n",
       "      <td>0.003420</td>\n",
       "      <td>0.000883</td>\n",
       "      <td>DecisionTreeRegressor()</td>\n",
       "      <td>PolynomialFeatures()</td>\n",
       "      <td>passthrough</td>\n",
       "      <td>PowerTransformer()</td>\n",
       "      <td>{'mdl': DecisionTreeRegressor(), 'poly_expansi...</td>\n",
       "      <td>0.102716</td>\n",
       "      <td>-0.100929</td>\n",
       "      <td>-0.250472</td>\n",
       "      <td>-0.025975</td>\n",
       "      <td>-0.316086</td>\n",
       "      <td>-0.118149</td>\n",
       "      <td>0.151170</td>\n",
       "      <td>27</td>\n",
       "    </tr>\n",
       "    <tr>\n",
       "      <th>10</th>\n",
       "      <td>0.004779</td>\n",
       "      <td>0.000357</td>\n",
       "      <td>0.001953</td>\n",
       "      <td>0.000433</td>\n",
       "      <td>DecisionTreeRegressor()</td>\n",
       "      <td>passthrough</td>\n",
       "      <td>PCA(n_components=5)</td>\n",
       "      <td>StandardScaler()</td>\n",
       "      <td>{'mdl': DecisionTreeRegressor(), 'poly_expansi...</td>\n",
       "      <td>0.229728</td>\n",
       "      <td>-0.563812</td>\n",
       "      <td>-0.114719</td>\n",
       "      <td>-0.036201</td>\n",
       "      <td>-0.136083</td>\n",
       "      <td>-0.124217</td>\n",
       "      <td>0.255538</td>\n",
       "      <td>28</td>\n",
       "    </tr>\n",
       "    <tr>\n",
       "      <th>14</th>\n",
       "      <td>0.007214</td>\n",
       "      <td>0.000540</td>\n",
       "      <td>0.001788</td>\n",
       "      <td>0.000098</td>\n",
       "      <td>DecisionTreeRegressor()</td>\n",
       "      <td>PolynomialFeatures()</td>\n",
       "      <td>PCA(n_components=5)</td>\n",
       "      <td>StandardScaler()</td>\n",
       "      <td>{'mdl': DecisionTreeRegressor(), 'poly_expansi...</td>\n",
       "      <td>0.080670</td>\n",
       "      <td>-0.125842</td>\n",
       "      <td>-0.443180</td>\n",
       "      <td>0.009932</td>\n",
       "      <td>-0.202422</td>\n",
       "      <td>-0.136168</td>\n",
       "      <td>0.182820</td>\n",
       "      <td>29</td>\n",
       "    </tr>\n",
       "    <tr>\n",
       "      <th>8</th>\n",
       "      <td>0.005019</td>\n",
       "      <td>0.000226</td>\n",
       "      <td>0.001793</td>\n",
       "      <td>0.000366</td>\n",
       "      <td>DecisionTreeRegressor()</td>\n",
       "      <td>passthrough</td>\n",
       "      <td>passthrough</td>\n",
       "      <td>StandardScaler()</td>\n",
       "      <td>{'mdl': DecisionTreeRegressor(), 'poly_expansi...</td>\n",
       "      <td>0.126046</td>\n",
       "      <td>-0.100575</td>\n",
       "      <td>-0.282734</td>\n",
       "      <td>-0.366028</td>\n",
       "      <td>-0.321156</td>\n",
       "      <td>-0.188889</td>\n",
       "      <td>0.181473</td>\n",
       "      <td>30</td>\n",
       "    </tr>\n",
       "    <tr>\n",
       "      <th>9</th>\n",
       "      <td>0.027610</td>\n",
       "      <td>0.002342</td>\n",
       "      <td>0.002448</td>\n",
       "      <td>0.000236</td>\n",
       "      <td>DecisionTreeRegressor()</td>\n",
       "      <td>passthrough</td>\n",
       "      <td>passthrough</td>\n",
       "      <td>PowerTransformer()</td>\n",
       "      <td>{'mdl': DecisionTreeRegressor(), 'poly_expansi...</td>\n",
       "      <td>0.225420</td>\n",
       "      <td>-0.147166</td>\n",
       "      <td>-0.273759</td>\n",
       "      <td>-0.395750</td>\n",
       "      <td>-0.478908</td>\n",
       "      <td>-0.214033</td>\n",
       "      <td>0.246713</td>\n",
       "      <td>31</td>\n",
       "    </tr>\n",
       "    <tr>\n",
       "      <th>4</th>\n",
       "      <td>0.028424</td>\n",
       "      <td>0.038944</td>\n",
       "      <td>0.002975</td>\n",
       "      <td>0.000607</td>\n",
       "      <td>LinearRegression()</td>\n",
       "      <td>PolynomialFeatures()</td>\n",
       "      <td>passthrough</td>\n",
       "      <td>StandardScaler()</td>\n",
       "      <td>{'mdl': LinearRegression(), 'poly_expansion': ...</td>\n",
       "      <td>-27.050037</td>\n",
       "      <td>0.069305</td>\n",
       "      <td>0.285869</td>\n",
       "      <td>0.243016</td>\n",
       "      <td>0.258598</td>\n",
       "      <td>-5.238650</td>\n",
       "      <td>10.905959</td>\n",
       "      <td>32</td>\n",
       "    </tr>\n",
       "  </tbody>\n",
       "</table>\n",
       "</div>"
      ],
      "text/plain": [
       "    mean_fit_time  std_fit_time  mean_score_time  std_score_time  \\\n",
       "0        0.005297      0.000942         0.001844        0.000523   \n",
       "2        0.006388      0.001565         0.002252        0.000651   \n",
       "3        0.029924      0.005845         0.002475        0.000387   \n",
       "1        0.038073      0.011869         0.004389        0.002446   \n",
       "6        0.006284      0.000768         0.002452        0.000276   \n",
       "7        0.033421      0.001978         0.002939        0.000387   \n",
       "18       0.009736      0.000614         0.004000        0.000220   \n",
       "16       0.009666      0.000266         0.004268        0.000381   \n",
       "19       0.031136      0.001707         0.004613        0.000217   \n",
       "17       0.030605      0.001148         0.004910        0.000359   \n",
       "22       0.010963      0.000811         0.004647        0.000230   \n",
       "20       0.011107      0.000840         0.006818        0.000910   \n",
       "23       0.033296      0.001491         0.005245        0.000542   \n",
       "21       0.032999      0.002133         0.007454        0.000888   \n",
       "26       0.021853      0.001065         0.004051        0.000202   \n",
       "27       0.043514      0.001980         0.004703        0.000261   \n",
       "30       0.019641      0.001794         0.004731        0.000672   \n",
       "31       0.041920      0.001917         0.005450        0.000192   \n",
       "28       0.018177      0.001004         0.006713        0.000414   \n",
       "29       0.042055      0.001907         0.007029        0.000200   \n",
       "25       0.044435      0.001069         0.004790        0.000234   \n",
       "24       0.026006      0.003578         0.004104        0.000112   \n",
       "5        0.041963      0.010728         0.003880        0.001115   \n",
       "15       0.029324      0.001670         0.002642        0.000078   \n",
       "11       0.027211      0.001793         0.002526        0.000301   \n",
       "12       0.012866      0.000605         0.002682        0.000957   \n",
       "13       0.034781      0.001258         0.003420        0.000883   \n",
       "10       0.004779      0.000357         0.001953        0.000433   \n",
       "14       0.007214      0.000540         0.001788        0.000098   \n",
       "8        0.005019      0.000226         0.001793        0.000366   \n",
       "9        0.027610      0.002342         0.002448        0.000236   \n",
       "4        0.028424      0.038944         0.002975        0.000607   \n",
       "\n",
       "                  param_mdl  param_poly_expansion     param_reduce_dim  \\\n",
       "0        LinearRegression()           passthrough          passthrough   \n",
       "2        LinearRegression()           passthrough  PCA(n_components=5)   \n",
       "3        LinearRegression()           passthrough  PCA(n_components=5)   \n",
       "1        LinearRegression()           passthrough          passthrough   \n",
       "6        LinearRegression()  PolynomialFeatures()  PCA(n_components=5)   \n",
       "7        LinearRegression()  PolynomialFeatures()  PCA(n_components=5)   \n",
       "18               SVR(C=100)           passthrough  PCA(n_components=5)   \n",
       "16               SVR(C=100)           passthrough          passthrough   \n",
       "19               SVR(C=100)           passthrough  PCA(n_components=5)   \n",
       "17               SVR(C=100)           passthrough          passthrough   \n",
       "22               SVR(C=100)  PolynomialFeatures()  PCA(n_components=5)   \n",
       "20               SVR(C=100)  PolynomialFeatures()          passthrough   \n",
       "23               SVR(C=100)  PolynomialFeatures()  PCA(n_components=5)   \n",
       "21               SVR(C=100)  PolynomialFeatures()          passthrough   \n",
       "26              SVR(C=1000)           passthrough  PCA(n_components=5)   \n",
       "27              SVR(C=1000)           passthrough  PCA(n_components=5)   \n",
       "30              SVR(C=1000)  PolynomialFeatures()  PCA(n_components=5)   \n",
       "31              SVR(C=1000)  PolynomialFeatures()  PCA(n_components=5)   \n",
       "28              SVR(C=1000)  PolynomialFeatures()          passthrough   \n",
       "29              SVR(C=1000)  PolynomialFeatures()          passthrough   \n",
       "25              SVR(C=1000)           passthrough          passthrough   \n",
       "24              SVR(C=1000)           passthrough          passthrough   \n",
       "5        LinearRegression()  PolynomialFeatures()          passthrough   \n",
       "15  DecisionTreeRegressor()  PolynomialFeatures()  PCA(n_components=5)   \n",
       "11  DecisionTreeRegressor()           passthrough  PCA(n_components=5)   \n",
       "12  DecisionTreeRegressor()  PolynomialFeatures()          passthrough   \n",
       "13  DecisionTreeRegressor()  PolynomialFeatures()          passthrough   \n",
       "10  DecisionTreeRegressor()           passthrough  PCA(n_components=5)   \n",
       "14  DecisionTreeRegressor()  PolynomialFeatures()  PCA(n_components=5)   \n",
       "8   DecisionTreeRegressor()           passthrough          passthrough   \n",
       "9   DecisionTreeRegressor()           passthrough          passthrough   \n",
       "4        LinearRegression()  PolynomialFeatures()          passthrough   \n",
       "\n",
       "          param_scaler                                             params  \\\n",
       "0     StandardScaler()  {'mdl': LinearRegression(), 'poly_expansion': ...   \n",
       "2     StandardScaler()  {'mdl': LinearRegression(), 'poly_expansion': ...   \n",
       "3   PowerTransformer()  {'mdl': LinearRegression(), 'poly_expansion': ...   \n",
       "1   PowerTransformer()  {'mdl': LinearRegression(), 'poly_expansion': ...   \n",
       "6     StandardScaler()  {'mdl': LinearRegression(), 'poly_expansion': ...   \n",
       "7   PowerTransformer()  {'mdl': LinearRegression(), 'poly_expansion': ...   \n",
       "18    StandardScaler()  {'mdl': SVR(C=100), 'poly_expansion': 'passthr...   \n",
       "16    StandardScaler()  {'mdl': SVR(C=100), 'poly_expansion': 'passthr...   \n",
       "19  PowerTransformer()  {'mdl': SVR(C=100), 'poly_expansion': 'passthr...   \n",
       "17  PowerTransformer()  {'mdl': SVR(C=100), 'poly_expansion': 'passthr...   \n",
       "22    StandardScaler()  {'mdl': SVR(C=100), 'poly_expansion': Polynomi...   \n",
       "20    StandardScaler()  {'mdl': SVR(C=100), 'poly_expansion': Polynomi...   \n",
       "23  PowerTransformer()  {'mdl': SVR(C=100), 'poly_expansion': Polynomi...   \n",
       "21  PowerTransformer()  {'mdl': SVR(C=100), 'poly_expansion': Polynomi...   \n",
       "26    StandardScaler()  {'mdl': SVR(C=1000), 'poly_expansion': 'passth...   \n",
       "27  PowerTransformer()  {'mdl': SVR(C=1000), 'poly_expansion': 'passth...   \n",
       "30    StandardScaler()  {'mdl': SVR(C=1000), 'poly_expansion': Polynom...   \n",
       "31  PowerTransformer()  {'mdl': SVR(C=1000), 'poly_expansion': Polynom...   \n",
       "28    StandardScaler()  {'mdl': SVR(C=1000), 'poly_expansion': Polynom...   \n",
       "29  PowerTransformer()  {'mdl': SVR(C=1000), 'poly_expansion': Polynom...   \n",
       "25  PowerTransformer()  {'mdl': SVR(C=1000), 'poly_expansion': 'passth...   \n",
       "24    StandardScaler()  {'mdl': SVR(C=1000), 'poly_expansion': 'passth...   \n",
       "5   PowerTransformer()  {'mdl': LinearRegression(), 'poly_expansion': ...   \n",
       "15  PowerTransformer()  {'mdl': DecisionTreeRegressor(), 'poly_expansi...   \n",
       "11  PowerTransformer()  {'mdl': DecisionTreeRegressor(), 'poly_expansi...   \n",
       "12    StandardScaler()  {'mdl': DecisionTreeRegressor(), 'poly_expansi...   \n",
       "13  PowerTransformer()  {'mdl': DecisionTreeRegressor(), 'poly_expansi...   \n",
       "10    StandardScaler()  {'mdl': DecisionTreeRegressor(), 'poly_expansi...   \n",
       "14    StandardScaler()  {'mdl': DecisionTreeRegressor(), 'poly_expansi...   \n",
       "8     StandardScaler()  {'mdl': DecisionTreeRegressor(), 'poly_expansi...   \n",
       "9   PowerTransformer()  {'mdl': DecisionTreeRegressor(), 'poly_expansi...   \n",
       "4     StandardScaler()  {'mdl': LinearRegression(), 'poly_expansion': ...   \n",
       "\n",
       "    split0_test_score  split1_test_score  split2_test_score  \\\n",
       "0            0.469886           0.414581           0.492662   \n",
       "2            0.500157           0.417215           0.459713   \n",
       "3            0.483130           0.406608           0.452395   \n",
       "1            0.439101           0.391590           0.493332   \n",
       "6            0.523651           0.368110           0.454491   \n",
       "7            0.525636           0.364419           0.446595   \n",
       "18           0.518726           0.437114           0.434417   \n",
       "16           0.524250           0.422386           0.491429   \n",
       "19           0.482814           0.419219           0.421437   \n",
       "17           0.491992           0.408773           0.477814   \n",
       "22           0.446643           0.385414           0.349174   \n",
       "20           0.440862           0.401638           0.402375   \n",
       "23           0.431164           0.369638           0.320978   \n",
       "21           0.429430           0.387670           0.371002   \n",
       "26           0.387123           0.350119           0.277183   \n",
       "27           0.343140           0.348840           0.297401   \n",
       "30           0.328915           0.274953           0.124144   \n",
       "31           0.346005           0.171278           0.111863   \n",
       "28           0.376874           0.182451           0.193284   \n",
       "29           0.348856           0.131184           0.135310   \n",
       "25           0.339580           0.237384           0.222567   \n",
       "24           0.372247           0.233174           0.220424   \n",
       "5            0.494102           0.071170           0.287694   \n",
       "15           0.148173          -0.155909           0.068890   \n",
       "11           0.073704          -0.301462          -0.063772   \n",
       "12          -0.052544          -0.362405           0.020946   \n",
       "13           0.102716          -0.100929          -0.250472   \n",
       "10           0.229728          -0.563812          -0.114719   \n",
       "14           0.080670          -0.125842          -0.443180   \n",
       "8            0.126046          -0.100575          -0.282734   \n",
       "9            0.225420          -0.147166          -0.273759   \n",
       "4          -27.050037           0.069305           0.285869   \n",
       "\n",
       "    split3_test_score  split4_test_score  mean_test_score  std_test_score  \\\n",
       "0            0.512901           0.388028         0.455612        0.047137   \n",
       "2            0.544992           0.346969         0.453809        0.068193   \n",
       "3            0.539718           0.350204         0.446411        0.064700   \n",
       "1            0.507906           0.378505         0.442087        0.052076   \n",
       "6            0.531652           0.328744         0.441330        0.081418   \n",
       "7            0.534919           0.325334         0.439381        0.083959   \n",
       "18           0.504068           0.287560         0.436377        0.081871   \n",
       "16           0.426068           0.301601         0.433147        0.076376   \n",
       "19           0.522806           0.289662         0.427188        0.079053   \n",
       "17           0.430682           0.282593         0.418371        0.074341   \n",
       "22           0.504989           0.283795         0.394003        0.076574   \n",
       "20           0.416467           0.256513         0.383571        0.065097   \n",
       "23           0.504165           0.282127         0.381614        0.078983   \n",
       "21           0.380627           0.271917         0.368129        0.052079   \n",
       "26           0.301152           0.135033         0.290122        0.086430   \n",
       "27           0.308156           0.149251         0.289358        0.072772   \n",
       "30           0.300258           0.214994         0.248653        0.072708   \n",
       "31           0.276609           0.236536         0.228458        0.081321   \n",
       "28           0.141923           0.074027         0.193712        0.100679   \n",
       "29           0.095024           0.079884         0.158052        0.097702   \n",
       "25          -0.026142          -0.010650         0.152547        0.145358   \n",
       "24          -0.115221           0.021848         0.146494        0.172032   \n",
       "5           -0.483298           0.211702         0.116274        0.329474   \n",
       "15          -0.151454           0.100249         0.001990        0.129597   \n",
       "11           0.013898           0.007968        -0.053933        0.131219   \n",
       "12           0.143716          -0.216992        -0.093456        0.178105   \n",
       "13          -0.025975          -0.316086        -0.118149        0.151170   \n",
       "10          -0.036201          -0.136083        -0.124217        0.255538   \n",
       "14           0.009932          -0.202422        -0.136168        0.182820   \n",
       "8           -0.366028          -0.321156        -0.188889        0.181473   \n",
       "9           -0.395750          -0.478908        -0.214033        0.246713   \n",
       "4            0.243016           0.258598        -5.238650       10.905959   \n",
       "\n",
       "    rank_test_score  \n",
       "0                 1  \n",
       "2                 2  \n",
       "3                 3  \n",
       "1                 4  \n",
       "6                 5  \n",
       "7                 6  \n",
       "18                7  \n",
       "16                8  \n",
       "19                9  \n",
       "17               10  \n",
       "22               11  \n",
       "20               12  \n",
       "23               13  \n",
       "21               14  \n",
       "26               15  \n",
       "27               16  \n",
       "30               17  \n",
       "31               18  \n",
       "28               19  \n",
       "29               20  \n",
       "25               21  \n",
       "24               22  \n",
       "5                23  \n",
       "15               24  \n",
       "11               25  \n",
       "12               26  \n",
       "13               27  \n",
       "10               28  \n",
       "14               29  \n",
       "8                30  \n",
       "9                31  \n",
       "4                32  "
      ]
     },
     "execution_count": 43,
     "metadata": {},
     "output_type": "execute_result"
    }
   ],
   "source": [
    "pd.DataFrame(grid_search.cv_results_).sort_values('rank_test_score')"
   ]
  },
  {
   "cell_type": "code",
   "execution_count": 44,
   "metadata": {},
   "outputs": [
    {
     "data": {
      "text/html": [
       "<div>\n",
       "<style scoped>\n",
       "    .dataframe tbody tr th:only-of-type {\n",
       "        vertical-align: middle;\n",
       "    }\n",
       "\n",
       "    .dataframe tbody tr th {\n",
       "        vertical-align: top;\n",
       "    }\n",
       "\n",
       "    .dataframe thead th {\n",
       "        text-align: right;\n",
       "    }\n",
       "</style>\n",
       "<table border=\"1\" class=\"dataframe\">\n",
       "  <thead>\n",
       "    <tr style=\"text-align: right;\">\n",
       "      <th></th>\n",
       "      <th>Kind</th>\n",
       "      <th>MAE</th>\n",
       "      <th>MSE</th>\n",
       "      <th>MAD</th>\n",
       "      <th>RMSE</th>\n",
       "      <th>r2</th>\n",
       "    </tr>\n",
       "  </thead>\n",
       "  <tbody>\n",
       "    <tr>\n",
       "      <th>None</th>\n",
       "      <td>model</td>\n",
       "      <td>44.145585</td>\n",
       "      <td>2911.802823</td>\n",
       "      <td>38.222455</td>\n",
       "      <td>53.961123</td>\n",
       "      <td>0.520596</td>\n",
       "    </tr>\n",
       "  </tbody>\n",
       "</table>\n",
       "</div>"
      ],
      "text/plain": [
       "       Kind        MAE          MSE        MAD       RMSE        r2\n",
       "None  model  44.145585  2911.802823  38.222455  53.961123  0.520596"
      ]
     },
     "metadata": {},
     "output_type": "display_data"
    }
   ],
   "source": [
    "best_pipe = grid_search.best_estimator_\n",
    "\n",
    "\n",
    "display(calc_error(Y_test,best_pipe.predict(X_test)))"
   ]
  },
  {
   "cell_type": "code",
   "execution_count": 19,
   "metadata": {},
   "outputs": [],
   "source": [
    "y_hat = best_pipe.predict(X_test)\n",
    "residual = pd.Series(Y_test-y_hat)"
   ]
  },
  {
   "cell_type": "code",
   "execution_count": 21,
   "metadata": {},
   "outputs": [
    {
     "data": {
      "text/plain": [
       "<matplotlib.collections.PathCollection at 0x17aa89f60>"
      ]
     },
     "execution_count": 21,
     "metadata": {},
     "output_type": "execute_result"
    },
    {
     "data": {
      "image/png": "[encoded data removed]",
      "text/plain": [
       "<Figure size 1080x360 with 2 Axes>"
      ]
     },
     "metadata": {
      "filenames": {
       "image/png": "/Users/eyalsoreq/github/SystemAI2022/_build/jupyter_execute/class/week_04/02_assessing_performance_33_1.png"
      },
      "needs_background": "light"
     },
     "output_type": "display_data"
    }
   ],
   "source": [
    "import matplotlib.pyplot as plt \n",
    "fig,ax = plt.subplots(1,2,figsize=(15,5))\n",
    "ax[0].scatter(residual.index,residual)\n",
    "ax[1].scatter(Y_test,y_hat)"
   ]
  }
 ],
 "metadata": {
  "interpreter": {
   "hash": "af4ed3fa87ab5389ed0d164f2907ab733f2066e3ac536df37d19ad0ca2200646"
  },
  "kernelspec": {
   "display_name": "Python 3.10.4 ('SYS_2022')",
   "language": "python",
   "name": "python3"
  },
  "language_info": {
   "codemirror_mode": {
    "name": "ipython",
    "version": 3
   },
   "file_extension": ".py",
   "mimetype": "text/x-python",
   "name": "python",
   "nbconvert_exporter": "python",
   "pygments_lexer": "ipython3",
   "version": "3.10.4"
  }
 },
 "nbformat": 4,
 "nbformat_minor": 2
}