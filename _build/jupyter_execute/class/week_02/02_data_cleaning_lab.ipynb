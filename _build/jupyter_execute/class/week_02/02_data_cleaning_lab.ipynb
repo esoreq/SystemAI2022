{
 "cells": [
  {
   "cell_type": "markdown",
   "metadata": {},
   "source": [
    "# DATA Cleaning 101\n",
    "\n",
    "## Using simulation to understand the data cleaning cycle\n",
    "\n",
    "### Simulate messy data \n",
    "\n",
    "- We will simulate Intra Cranial Volume (also known as estimated Total Intracranial  Volume (eTIV) in 50k males and females\n",
    "- In addition, we will simulate CDR for all of these synthetic humans\n",
    "- This demonstration is only to touch on technical issues that involve data processing so we won't be imposing any effect (i.e. sex, eTIV & CDR)\n",
    "- What we do is to create datasets with different types of problems\n",
    "- The goal of this session is to fix the data (and remove rows that cannot be fixed)."
   ]
  },
  {
   "cell_type": "markdown",
   "metadata": {},
   "source": [
    "### Start by importing basic tools"
   ]
  },
  {
   "cell_type": "code",
   "execution_count": 1,
   "metadata": {},
   "outputs": [
    {
     "ename": "ModuleNotFoundError",
     "evalue": "No module named 'seaborn'",
     "output_type": "error",
     "traceback": [
      "\u001b[0;31m---------------------------------------------------------------------------\u001b[0m",
      "\u001b[0;31mModuleNotFoundError\u001b[0m                       Traceback (most recent call last)",
      "Input \u001b[0;32mIn [1]\u001b[0m, in \u001b[0;36m<cell line: 3>\u001b[0;34m()\u001b[0m\n\u001b[1;32m      1\u001b[0m \u001b[38;5;28;01mimport\u001b[39;00m \u001b[38;5;21;01mnumpy\u001b[39;00m \u001b[38;5;28;01mas\u001b[39;00m \u001b[38;5;21;01mnp\u001b[39;00m\n\u001b[1;32m      2\u001b[0m \u001b[38;5;28;01mimport\u001b[39;00m \u001b[38;5;21;01mpandas\u001b[39;00m \u001b[38;5;28;01mas\u001b[39;00m \u001b[38;5;21;01mpd\u001b[39;00m\n\u001b[0;32m----> 3\u001b[0m \u001b[38;5;28;01mimport\u001b[39;00m \u001b[38;5;21;01mseaborn\u001b[39;00m \u001b[38;5;28;01mas\u001b[39;00m \u001b[38;5;21;01msns\u001b[39;00m\n\u001b[1;32m      4\u001b[0m \u001b[38;5;28;01mimport\u001b[39;00m \u001b[38;5;21;01mmatplotlib\u001b[39;00m\u001b[38;5;21;01m.\u001b[39;00m\u001b[38;5;21;01mpyplot\u001b[39;00m \u001b[38;5;28;01mas\u001b[39;00m \u001b[38;5;21;01mplt\u001b[39;00m\n\u001b[1;32m      6\u001b[0m plt\u001b[38;5;241m.\u001b[39mstyle\u001b[38;5;241m.\u001b[39muse(\u001b[38;5;124m'\u001b[39m\u001b[38;5;124mbmh\u001b[39m\u001b[38;5;124m'\u001b[39m)\n",
      "\u001b[0;31mModuleNotFoundError\u001b[0m: No module named 'seaborn'"
     ]
    }
   ],
   "source": [
    "import numpy as np\n",
    "import pandas as pd\n",
    "import seaborn as sns\n",
    "import matplotlib.pyplot as plt\n",
    "\n",
    "plt.style.use('bmh')\n"
   ]
  },
  {
   "cell_type": "markdown",
   "metadata": {},
   "source": [
    "### Create a random generator with a seed so we all have the same values"
   ]
  },
  {
   "cell_type": "code",
   "execution_count": 1,
   "metadata": {},
   "outputs": [],
   "source": [
    "rng = np.random.default_rng(seed = 2022)\n",
    "n = 50000"
   ]
  },
  {
   "cell_type": "markdown",
   "metadata": {},
   "source": [
    "### We will start with the CDR values \n",
    "\n",
    "#### [CDR® Dementia Staging Instrument](https://knightadrc.wustl.edu/cdr/cdr.htm)\n",
    "\n",
    "The CDR® Dementia Staging Instrument in one aspect is a 5-point scale used to characterize six domains of cognitive and functional performance applicable to Alzheimer disease and related dementias: Memory, Orientation, Judgment & Problem Solving, Community Affairs, Home & Hobbies, and Personal Care. The necessary information to make each rating is obtained through a semi-structured interview of the patient and a reliable informant or collateral source (e.g., family member) referred to as the CDR® Assessment Protocol.\n",
    "\n",
    "\n",
    "#### Using the following probabilities, sample five groups \n",
    "\n",
    "Seventy-five percent of the population needs to be healthy.  \n",
    "Probabilities for the rest are smaller.  \n",
    "Additionally, we want to introduce missing values that represent incomplete observations.  \n",
    "And add errors and outliers to the code.  \n",
    "\n",
    "To begin with, here are some sampling probability with matching values\n",
    "\n",
    "| Value | Probability | CDR context |\n",
    "| :------------ | :------------ | :---- |\n",
    "|  0 | 0.75 | Normal |\n",
    "|  0.5 | 0.05 | Very Mild Dementia |\n",
    "| 1  | 0.04 | Mild Dementia |\n",
    "| 2 | 0.04 | Moderate Dementia|\n",
    "|3 | 0.02 | Severe Dementia |\n",
    "|np.nan| 0.06 | Missing values|\n",
    "| `3 ` | 0.015 | error in coding |\n",
    "| ` ` | 0.015 | error in coding | \n",
    "| `99` | 0.01 | Missing values|"
   ]
  },
  {
   "cell_type": "code",
   "execution_count": 2,
   "metadata": {},
   "outputs": [],
   "source": [
    "p = [0.75,0.05,0.04,0.04,0.02,0.06,0.015,0.015,0.01]\n",
    "CDR = rng.choice([0,0.5,1,2,3,np.nan,'3 ',' ','99'],replace=True, size=(n,),p=p)"
   ]
  },
  {
   "cell_type": "markdown",
   "metadata": {},
   "source": [
    "### Introducing a coding error\n",
    "- We take 20% of severe dementia cases and randomly assign them a value of 30  "
   ]
  },
  {
   "cell_type": "code",
   "execution_count": 5,
   "metadata": {},
   "outputs": [],
   "source": [
    "ix = np.where(CDR=='3')[0]\n",
    "rng.shuffle(ix)\n",
    "CDR[ix[0:int(ix.shape[0]*0.2)]]= 30"
   ]
  },
  {
   "cell_type": "markdown",
   "metadata": {},
   "source": [
    "### We will do the same with estimated Total Intracranial Volume\n",
    "- Using the continuous measure of [estimated Total Intracranial Volume](https://surfer.nmr.mgh.harvard.edu/fswiki/eTIV). \n",
    "- We start by sampling 50k samples from a normal distribution (using the [numpy.random.Generator.normal](https://numpy.org/doc/stable/reference/random/generated/numpy.random.Generator.normal.html) generator) we define our normal distribution cantered around a mean volume of 1.5e6 mm^3 and with 1.8e5 mm^3 width or standard deviation. \n",
    "- Then we randomly sample 9% of observations and remove them by replacing their values with `np.nan` using [numpy.random.Generator.integers](https://numpy.org/doc/stable/reference/random/generated/numpy.random.Generator.integers.html)."
   ]
  },
  {
   "cell_type": "code",
   "execution_count": 6,
   "metadata": {},
   "outputs": [],
   "source": [
    "eTIV = rng.normal(1.5e6,1.8e5,size=(n,))\n",
    "eTIV[rng.integers(low=0,high=n-1,size=(int(n*0.09),))] = np.nan\n"
   ]
  },
  {
   "cell_type": "markdown",
   "metadata": {},
   "source": [
    "### Adding systematic inconsistency\n",
    "- Making life interesting and introducing another form of error (and some other ways to randomly sample in Python). We are introducing a systematic inconsistency in the data where 32% of observations were coded using cm^3 instead of mm^3"
   ]
  },
  {
   "cell_type": "code",
   "execution_count": 38,
   "metadata": {},
   "outputs": [],
   "source": [
    "ix = rng.permuted(np.where(~np.isnan(eTIV)))[0,0:int(n*0.32)]\n",
    "eTIV[ix] = eTIV[ix]*0.001 # tranfrom 32% of the data from mm^3 to cm^3"
   ]
  },
  {
   "cell_type": "markdown",
   "metadata": {},
   "source": [
    "### Providing sex feature\n",
    "\n",
    "It is now possible to create a categorical sex variable and introduce different coding errors for this binary value (which are less uncommon than you might think)."
   ]
  },
  {
   "cell_type": "code",
   "execution_count": 16,
   "metadata": {},
   "outputs": [],
   "source": [
    "p = [0.12,0.4,0.22,0.10,0.10,0.04,0.02]\n",
    "sex = rng.choice(['M','m ',' F','f','f ',np.nan,' ?'],replace=True, size=(n,),p=p)"
   ]
  },
  {
   "cell_type": "markdown",
   "metadata": {},
   "source": [
    "### Adding another systematic inconsistency\n",
    "\n",
    "Keeping with the former systematic inconsistency we introduced, sex values from this site will be numerically coded."
   ]
  },
  {
   "cell_type": "code",
   "execution_count": 8,
   "metadata": {},
   "outputs": [],
   "source": [
    "_sex = sex[ix]\n",
    "for k in np.unique(_sex):\n",
    "  _k = k.lower().strip()\n",
    "  v = 1 if _k =='m' else 2 if _k=='f' else 'null'\n",
    "  _sex[_sex==k] = v\n",
    "sex[ix] = _sex"
   ]
  },
  {
   "cell_type": "markdown",
   "metadata": {},
   "source": [
    "#### Or more efficiently using the map function "
   ]
  },
  {
   "cell_type": "code",
   "execution_count": 17,
   "metadata": {},
   "outputs": [],
   "source": [
    "sex[ix] = list(map(lambda x: 1 if x=='m' else 2 if x=='f' else 'null', sex[ix]))"
   ]
  },
  {
   "cell_type": "markdown",
   "metadata": {},
   "source": [
    "#### Finally, we will create a dataframe from this horrific sample\n"
   ]
  },
  {
   "cell_type": "code",
   "execution_count": 85,
   "metadata": {},
   "outputs": [
    {
     "data": {
      "text/html": [
       "<div>\n",
       "<style scoped>\n",
       "    .dataframe tbody tr th:only-of-type {\n",
       "        vertical-align: middle;\n",
       "    }\n",
       "\n",
       "    .dataframe tbody tr th {\n",
       "        vertical-align: top;\n",
       "    }\n",
       "\n",
       "    .dataframe thead th {\n",
       "        text-align: right;\n",
       "    }\n",
       "</style>\n",
       "<table border=\"1\" class=\"dataframe\">\n",
       "  <thead>\n",
       "    <tr style=\"text-align: right;\">\n",
       "      <th></th>\n",
       "      <th>Sex</th>\n",
       "      <th>eTIV</th>\n",
       "      <th>CDR</th>\n",
       "    </tr>\n",
       "  </thead>\n",
       "  <tbody>\n",
       "    <tr>\n",
       "      <th>0</th>\n",
       "      <td>M</td>\n",
       "      <td>NaN</td>\n",
       "      <td>0</td>\n",
       "    </tr>\n",
       "    <tr>\n",
       "      <th>1</th>\n",
       "      <td>F</td>\n",
       "      <td>1.647253e+03</td>\n",
       "      <td>0</td>\n",
       "    </tr>\n",
       "    <tr>\n",
       "      <th>2</th>\n",
       "      <td>f</td>\n",
       "      <td>1.329376e+06</td>\n",
       "      <td>0</td>\n",
       "    </tr>\n",
       "    <tr>\n",
       "      <th>3</th>\n",
       "      <td>F</td>\n",
       "      <td>1.391975e+03</td>\n",
       "      <td>0</td>\n",
       "    </tr>\n",
       "    <tr>\n",
       "      <th>4</th>\n",
       "      <td>m</td>\n",
       "      <td>1.729302e+06</td>\n",
       "      <td>0</td>\n",
       "    </tr>\n",
       "  </tbody>\n",
       "</table>\n",
       "</div>"
      ],
      "text/plain": [
       "  Sex          eTIV CDR\n",
       "0   M           NaN   0\n",
       "1   F  1.647253e+03   0\n",
       "2   f  1.329376e+06   0\n",
       "3   F  1.391975e+03   0\n",
       "4  m   1.729302e+06   0"
      ]
     },
     "execution_count": 85,
     "metadata": {},
     "output_type": "execute_result"
    }
   ],
   "source": [
    "fake_data = pd.DataFrame({'Sex':sex,'eTIV':eTIV,'CDR':CDR})\n",
    "fake_data.head()"
   ]
  },
  {
   "cell_type": "markdown",
   "metadata": {},
   "source": [
    "### Examining data when you first get it \n",
    "- We can use the describe function, but this function treats non-numeric values differently, so it may not be the best choice for examining raw messy data.\n",
    "- This is a perfect example of how describe() will fail miserably. The reason is not that it isn't useful, but rather that it isn't designed for dealing with datasets  like these."
   ]
  },
  {
   "cell_type": "code",
   "execution_count": 86,
   "metadata": {},
   "outputs": [
    {
     "name": "stdout",
     "output_type": "stream",
     "text": [
      "<class 'pandas.core.frame.DataFrame'>\n",
      "RangeIndex: 50000 entries, 0 to 49999\n",
      "Data columns (total 3 columns):\n",
      " #   Column  Non-Null Count  Dtype  \n",
      "---  ------  --------------  -----  \n",
      " 0   Sex     50000 non-null  object \n",
      " 1   eTIV    45702 non-null  float64\n",
      " 2   CDR     50000 non-null  object \n",
      "dtypes: float64(1), object(2)\n",
      "memory usage: 1.1+ MB\n"
     ]
    }
   ],
   "source": [
    "fake_data.info()"
   ]
  },
  {
   "cell_type": "markdown",
   "metadata": {},
   "source": [
    "### This should raise alarms \n",
    "Even if we didn't make this data, I've never seen a raw dataset that was error-free \n",
    "The profile of the underlying distributions needs to be examined in any new dataset\n",
    "Although we can definitely do this with prebuilt functions, making your own will allow you to learn and customize to the specifics of your dataset."
   ]
  },
  {
   "cell_type": "code",
   "execution_count": 87,
   "metadata": {},
   "outputs": [
    {
     "data": {
      "text/html": [
       "<div>\n",
       "<style scoped>\n",
       "    .dataframe tbody tr th:only-of-type {\n",
       "        vertical-align: middle;\n",
       "    }\n",
       "\n",
       "    .dataframe tbody tr th {\n",
       "        vertical-align: top;\n",
       "    }\n",
       "\n",
       "    .dataframe thead th {\n",
       "        text-align: right;\n",
       "    }\n",
       "</style>\n",
       "<table border=\"1\" class=\"dataframe\">\n",
       "  <thead>\n",
       "    <tr style=\"text-align: right;\">\n",
       "      <th></th>\n",
       "      <th>Sex</th>\n",
       "      <th>eTIV</th>\n",
       "      <th>CDR</th>\n",
       "    </tr>\n",
       "  </thead>\n",
       "  <tbody>\n",
       "    <tr>\n",
       "      <th>count</th>\n",
       "      <td>50000</td>\n",
       "      <td>45702.0</td>\n",
       "      <td>50000</td>\n",
       "    </tr>\n",
       "    <tr>\n",
       "      <th>unique</th>\n",
       "      <td>9</td>\n",
       "      <td>NaN</td>\n",
       "      <td>10</td>\n",
       "    </tr>\n",
       "    <tr>\n",
       "      <th>top</th>\n",
       "      <td>m</td>\n",
       "      <td>NaN</td>\n",
       "      <td>0</td>\n",
       "    </tr>\n",
       "    <tr>\n",
       "      <th>freq</th>\n",
       "      <td>19643</td>\n",
       "      <td>NaN</td>\n",
       "      <td>37540</td>\n",
       "    </tr>\n",
       "    <tr>\n",
       "      <th>mean</th>\n",
       "      <td>NaN</td>\n",
       "      <td>976005.0</td>\n",
       "      <td>NaN</td>\n",
       "    </tr>\n",
       "    <tr>\n",
       "      <th>std</th>\n",
       "      <td>NaN</td>\n",
       "      <td>729845.0</td>\n",
       "      <td>NaN</td>\n",
       "    </tr>\n",
       "    <tr>\n",
       "      <th>min</th>\n",
       "      <td>NaN</td>\n",
       "      <td>716.0</td>\n",
       "      <td>NaN</td>\n",
       "    </tr>\n",
       "    <tr>\n",
       "      <th>25%</th>\n",
       "      <td>NaN</td>\n",
       "      <td>1599.0</td>\n",
       "      <td>NaN</td>\n",
       "    </tr>\n",
       "    <tr>\n",
       "      <th>50%</th>\n",
       "      <td>NaN</td>\n",
       "      <td>1368160.0</td>\n",
       "      <td>NaN</td>\n",
       "    </tr>\n",
       "    <tr>\n",
       "      <th>75%</th>\n",
       "      <td>NaN</td>\n",
       "      <td>1553236.0</td>\n",
       "      <td>NaN</td>\n",
       "    </tr>\n",
       "    <tr>\n",
       "      <th>max</th>\n",
       "      <td>NaN</td>\n",
       "      <td>2231230.0</td>\n",
       "      <td>NaN</td>\n",
       "    </tr>\n",
       "  </tbody>\n",
       "</table>\n",
       "</div>"
      ],
      "text/plain": [
       "          Sex       eTIV    CDR\n",
       "count   50000    45702.0  50000\n",
       "unique      9        NaN     10\n",
       "top        m         NaN      0\n",
       "freq    19643        NaN  37540\n",
       "mean      NaN   976005.0    NaN\n",
       "std       NaN   729845.0    NaN\n",
       "min       NaN      716.0    NaN\n",
       "25%       NaN     1599.0    NaN\n",
       "50%       NaN  1368160.0    NaN\n",
       "75%       NaN  1553236.0    NaN\n",
       "max       NaN  2231230.0    NaN"
      ]
     },
     "execution_count": 87,
     "metadata": {},
     "output_type": "execute_result"
    }
   ],
   "source": [
    "fake_data.describe(include='all').round()"
   ]
  },
  {
   "cell_type": "code",
   "execution_count": 53,
   "metadata": {},
   "outputs": [],
   "source": [
    "def freq_profile(df:pd.DataFrame) -> pd.DataFrame:\n",
    "    \"\"\"freq_profile Create a frequency profile for messy datasets\n",
    "\n",
    "    Args:\n",
    "        df (pd.DataFrame): Some raw or tidy data frame\n",
    "\n",
    "    Returns:\n",
    "        pd.DataFrame: frequency profile of the input dataset \n",
    "    \"\"\"\n",
    "    d = []\n",
    "    columns = df.columns\n",
    "    for col in columns: \n",
    "        if np.issubdtype(df[col].dtype,np.number):\n",
    "            vc = df[col].value_counts(bins=5).sort_index().reset_index()\n",
    "            if df[col].isnull().sum()>0:\n",
    "                vc = vc.append(dict(zip(vc.columns,\n",
    "                                        [np.nan,df[col].isnull().sum()]))\n",
    "                               ,ignore_index=True)\n",
    "        else:\n",
    "            vc = df[col].value_counts(dropna=False).sort_index().reset_index()\n",
    "        vc.columns=['Value','Freq']\n",
    "        vc['Precent']= vc.Freq/df.shape[0]\n",
    "        vc = pd.concat({col: vc.set_index('Value')},axis=0)\n",
    "        d.append(vc)\n",
    "    return pd.concat(d)"
   ]
  },
  {
   "cell_type": "code",
   "execution_count": 88,
   "metadata": {},
   "outputs": [],
   "source": [
    "profile = freq_profile(fake_data)"
   ]
  },
  {
   "cell_type": "markdown",
   "metadata": {},
   "source": [
    "## It's now time for everything to be fixed transparently \n",
    "It is obvious that this simulates a very problematic dataset. When we encounter something like this in real life, two things are essential: \n",
    "- Fix it in a non-destructive manner \n",
    "- Explain each step you take "
   ]
  },
  {
   "cell_type": "markdown",
   "metadata": {},
   "source": [
    "### Having learned how to fake data now we need to clean it\n",
    "Fortunately, the eda table clearly identifies some problems (even if you do not possess prior knowledge). As a result, they are easy to fix (in fact, fixing them will be faster than learning how to create them).\n",
    "A theoretical solution should be evident just by looking at the sex values  \n",
    "`[ ?, F, 1, 2, M, f, f , m , nan, null]`\n"
   ]
  },
  {
   "cell_type": "markdown",
   "metadata": {},
   "source": [
    "### Using regular expressions simplifies this challenge \n",
    "Although sometimes these can be automated, from my experience, this is never a good idea.\n",
    "Instead we will use a powerful tool called regular expressions (press here for a [tutorial on regex](https://learn.datacamp.com/courses/regular-expressions-in-python))\n",
    "In our example we are using some basic commands \n",
    "1. `^.*` search for everything from start to end containing: \n",
    "1. `[pattern]` string pattern inside brackets \n",
    "1. `[p1|p2|p3]` use `|` to define an `or` operator\n",
    "2. For example the pattern `^.*[f|F|2]` will search for strings containing 'f' or 'F' or 2 \n",
    "1. Similarly, in the case of CDR we can use the following expression `^.*[99|nan|\\s]` to identify missing results in all there forms \n",
    "\n",
    "#### Using this practically \n",
    "- We will start with the sex column \n",
    "- Using the Sex profile we can see he problem we are facing "
   ]
  },
  {
   "cell_type": "code",
   "execution_count": 46,
   "metadata": {},
   "outputs": [
    {
     "data": {
      "text/html": [
       "<div>\n",
       "<style scoped>\n",
       "    .dataframe tbody tr th:only-of-type {\n",
       "        vertical-align: middle;\n",
       "    }\n",
       "\n",
       "    .dataframe tbody tr th {\n",
       "        vertical-align: top;\n",
       "    }\n",
       "\n",
       "    .dataframe thead th {\n",
       "        text-align: right;\n",
       "    }\n",
       "</style>\n",
       "<table border=\"1\" class=\"dataframe\">\n",
       "  <thead>\n",
       "    <tr style=\"text-align: right;\">\n",
       "      <th></th>\n",
       "      <th>Freq</th>\n",
       "      <th>Precent</th>\n",
       "    </tr>\n",
       "    <tr>\n",
       "      <th>Value</th>\n",
       "      <th></th>\n",
       "      <th></th>\n",
       "    </tr>\n",
       "  </thead>\n",
       "  <tbody>\n",
       "    <tr>\n",
       "      <th>?</th>\n",
       "      <td>951</td>\n",
       "      <td>0.01902</td>\n",
       "    </tr>\n",
       "    <tr>\n",
       "      <th>F</th>\n",
       "      <td>10745</td>\n",
       "      <td>0.21490</td>\n",
       "    </tr>\n",
       "    <tr>\n",
       "      <th>2</th>\n",
       "      <td>115</td>\n",
       "      <td>0.00230</td>\n",
       "    </tr>\n",
       "    <tr>\n",
       "      <th>M</th>\n",
       "      <td>5962</td>\n",
       "      <td>0.11924</td>\n",
       "    </tr>\n",
       "    <tr>\n",
       "      <th>f</th>\n",
       "      <td>4879</td>\n",
       "      <td>0.09758</td>\n",
       "    </tr>\n",
       "    <tr>\n",
       "      <th>f</th>\n",
       "      <td>4913</td>\n",
       "      <td>0.09826</td>\n",
       "    </tr>\n",
       "    <tr>\n",
       "      <th>m</th>\n",
       "      <td>19643</td>\n",
       "      <td>0.39286</td>\n",
       "    </tr>\n",
       "    <tr>\n",
       "      <th>nan</th>\n",
       "      <td>1908</td>\n",
       "      <td>0.03816</td>\n",
       "    </tr>\n",
       "    <tr>\n",
       "      <th>null</th>\n",
       "      <td>884</td>\n",
       "      <td>0.01768</td>\n",
       "    </tr>\n",
       "  </tbody>\n",
       "</table>\n",
       "</div>"
      ],
      "text/plain": [
       "        Freq  Precent\n",
       "Value                \n",
       " ?       951  0.01902\n",
       " F     10745  0.21490\n",
       "2        115  0.00230\n",
       "M       5962  0.11924\n",
       "f       4879  0.09758\n",
       "f       4913  0.09826\n",
       "m      19643  0.39286\n",
       "nan     1908  0.03816\n",
       "null     884  0.01768"
      ]
     },
     "execution_count": 46,
     "metadata": {},
     "output_type": "execute_result"
    }
   ],
   "source": [
    "profile.xs('Sex')\n"
   ]
  },
  {
   "cell_type": "markdown",
   "metadata": {},
   "source": [
    "### Start with the Sex feature\n",
    "- We need to define 3 classes mapping\n",
    "  - Male: '^.*[m|M|1]'\n",
    "  - Female : '^.*[f|F|2]'\n",
    "  - Missing : '^.*[null|nan|?]'  \n",
    "\n",
    "- Putting all of these in a dictionary we can create a mapping device \n",
    "- And use replace with regex to remap these values \n"
   ]
  },
  {
   "cell_type": "code",
   "execution_count": 89,
   "metadata": {},
   "outputs": [
    {
     "data": {
      "text/html": [
       "<div>\n",
       "<style scoped>\n",
       "    .dataframe tbody tr th:only-of-type {\n",
       "        vertical-align: middle;\n",
       "    }\n",
       "\n",
       "    .dataframe tbody tr th {\n",
       "        vertical-align: top;\n",
       "    }\n",
       "\n",
       "    .dataframe thead th {\n",
       "        text-align: right;\n",
       "    }\n",
       "</style>\n",
       "<table border=\"1\" class=\"dataframe\">\n",
       "  <thead>\n",
       "    <tr style=\"text-align: right;\">\n",
       "      <th></th>\n",
       "      <th></th>\n",
       "      <th>Freq</th>\n",
       "      <th>Precent</th>\n",
       "    </tr>\n",
       "    <tr>\n",
       "      <th></th>\n",
       "      <th>Value</th>\n",
       "      <th></th>\n",
       "      <th></th>\n",
       "    </tr>\n",
       "  </thead>\n",
       "  <tbody>\n",
       "    <tr>\n",
       "      <th rowspan=\"3\" valign=\"top\">Sex</th>\n",
       "      <th>Female</th>\n",
       "      <td>20652</td>\n",
       "      <td>0.41304</td>\n",
       "    </tr>\n",
       "    <tr>\n",
       "      <th>Male</th>\n",
       "      <td>25605</td>\n",
       "      <td>0.51210</td>\n",
       "    </tr>\n",
       "    <tr>\n",
       "      <th>NaN</th>\n",
       "      <td>3743</td>\n",
       "      <td>0.07486</td>\n",
       "    </tr>\n",
       "  </tbody>\n",
       "</table>\n",
       "</div>"
      ],
      "text/plain": [
       "             Freq  Precent\n",
       "    Value                 \n",
       "Sex Female  20652  0.41304\n",
       "    Male    25605  0.51210\n",
       "    NaN      3743  0.07486"
      ]
     },
     "execution_count": 89,
     "metadata": {},
     "output_type": "execute_result"
    }
   ],
   "source": [
    "cleaned_fake_data = fake_data.copy()\n",
    "sex_mapper = {'^.*[f|F|2]':'Female', '^.*[m|M|1]':'Male', '^.*[null|nan|?]':np.nan}\n",
    "cleaned_fake_data.Sex = fake_data.Sex.str.strip().replace(sex_mapper,regex=True)\n",
    "\n",
    "freq_profile(cleaned_fake_data[['Sex']])"
   ]
  },
  {
   "cell_type": "markdown",
   "metadata": {},
   "source": [
    "### The same approach can be used to remap the CDR data \n"
   ]
  },
  {
   "cell_type": "code",
   "execution_count": 57,
   "metadata": {},
   "outputs": [
    {
     "data": {
      "text/html": [
       "<div>\n",
       "<style scoped>\n",
       "    .dataframe tbody tr th:only-of-type {\n",
       "        vertical-align: middle;\n",
       "    }\n",
       "\n",
       "    .dataframe tbody tr th {\n",
       "        vertical-align: top;\n",
       "    }\n",
       "\n",
       "    .dataframe thead th {\n",
       "        text-align: right;\n",
       "    }\n",
       "</style>\n",
       "<table border=\"1\" class=\"dataframe\">\n",
       "  <thead>\n",
       "    <tr style=\"text-align: right;\">\n",
       "      <th></th>\n",
       "      <th>Freq</th>\n",
       "      <th>Precent</th>\n",
       "    </tr>\n",
       "    <tr>\n",
       "      <th>Value</th>\n",
       "      <th></th>\n",
       "      <th></th>\n",
       "    </tr>\n",
       "  </thead>\n",
       "  <tbody>\n",
       "    <tr>\n",
       "      <th></th>\n",
       "      <td>773</td>\n",
       "      <td>0.01546</td>\n",
       "    </tr>\n",
       "    <tr>\n",
       "      <th>0</th>\n",
       "      <td>37540</td>\n",
       "      <td>0.75080</td>\n",
       "    </tr>\n",
       "    <tr>\n",
       "      <th>0.5</th>\n",
       "      <td>2545</td>\n",
       "      <td>0.05090</td>\n",
       "    </tr>\n",
       "    <tr>\n",
       "      <th>1</th>\n",
       "      <td>1961</td>\n",
       "      <td>0.03922</td>\n",
       "    </tr>\n",
       "    <tr>\n",
       "      <th>2</th>\n",
       "      <td>1993</td>\n",
       "      <td>0.03986</td>\n",
       "    </tr>\n",
       "    <tr>\n",
       "      <th>3</th>\n",
       "      <td>800</td>\n",
       "      <td>0.01600</td>\n",
       "    </tr>\n",
       "    <tr>\n",
       "      <th>3</th>\n",
       "      <td>738</td>\n",
       "      <td>0.01476</td>\n",
       "    </tr>\n",
       "    <tr>\n",
       "      <th>30</th>\n",
       "      <td>199</td>\n",
       "      <td>0.00398</td>\n",
       "    </tr>\n",
       "    <tr>\n",
       "      <th>99</th>\n",
       "      <td>484</td>\n",
       "      <td>0.00968</td>\n",
       "    </tr>\n",
       "    <tr>\n",
       "      <th>nan</th>\n",
       "      <td>2967</td>\n",
       "      <td>0.05934</td>\n",
       "    </tr>\n",
       "  </tbody>\n",
       "</table>\n",
       "</div>"
      ],
      "text/plain": [
       "        Freq  Precent\n",
       "Value                \n",
       "         773  0.01546\n",
       "0      37540  0.75080\n",
       "0.5     2545  0.05090\n",
       "1       1961  0.03922\n",
       "2       1993  0.03986\n",
       "3        800  0.01600\n",
       "3        738  0.01476\n",
       "30       199  0.00398\n",
       "99       484  0.00968\n",
       "nan     2967  0.05934"
      ]
     },
     "execution_count": 57,
     "metadata": {},
     "output_type": "execute_result"
    }
   ],
   "source": [
    "profile.xs('CDR')"
   ]
  },
  {
   "cell_type": "code",
   "execution_count": 90,
   "metadata": {},
   "outputs": [
    {
     "data": {
      "text/html": [
       "<div>\n",
       "<style scoped>\n",
       "    .dataframe tbody tr th:only-of-type {\n",
       "        vertical-align: middle;\n",
       "    }\n",
       "\n",
       "    .dataframe tbody tr th {\n",
       "        vertical-align: top;\n",
       "    }\n",
       "\n",
       "    .dataframe thead th {\n",
       "        text-align: right;\n",
       "    }\n",
       "</style>\n",
       "<table border=\"1\" class=\"dataframe\">\n",
       "  <thead>\n",
       "    <tr style=\"text-align: right;\">\n",
       "      <th></th>\n",
       "      <th></th>\n",
       "      <th>Freq</th>\n",
       "      <th>Precent</th>\n",
       "    </tr>\n",
       "    <tr>\n",
       "      <th></th>\n",
       "      <th>Value</th>\n",
       "      <th></th>\n",
       "      <th></th>\n",
       "    </tr>\n",
       "  </thead>\n",
       "  <tbody>\n",
       "    <tr>\n",
       "      <th rowspan=\"6\" valign=\"top\">CDR</th>\n",
       "      <th>0</th>\n",
       "      <td>37540</td>\n",
       "      <td>0.75080</td>\n",
       "    </tr>\n",
       "    <tr>\n",
       "      <th>0.5</th>\n",
       "      <td>2545</td>\n",
       "      <td>0.05090</td>\n",
       "    </tr>\n",
       "    <tr>\n",
       "      <th>1</th>\n",
       "      <td>1961</td>\n",
       "      <td>0.03922</td>\n",
       "    </tr>\n",
       "    <tr>\n",
       "      <th>2</th>\n",
       "      <td>1993</td>\n",
       "      <td>0.03986</td>\n",
       "    </tr>\n",
       "    <tr>\n",
       "      <th>3</th>\n",
       "      <td>999</td>\n",
       "      <td>0.01998</td>\n",
       "    </tr>\n",
       "    <tr>\n",
       "      <th>nan</th>\n",
       "      <td>4962</td>\n",
       "      <td>0.09924</td>\n",
       "    </tr>\n",
       "  </tbody>\n",
       "</table>\n",
       "</div>"
      ],
      "text/plain": [
       "            Freq  Precent\n",
       "    Value                \n",
       "CDR 0      37540  0.75080\n",
       "    0.5     2545  0.05090\n",
       "    1       1961  0.03922\n",
       "    2       1993  0.03986\n",
       "    3        999  0.01998\n",
       "    nan     4962  0.09924"
      ]
     },
     "execution_count": 90,
     "metadata": {},
     "output_type": "execute_result"
    }
   ],
   "source": [
    "CDR_mapper = {'^.*[99|nan|\\s]':np.nan, '30':'3'}\n",
    "cleaned_fake_data.CDR = fake_data.CDR.replace(CDR_mapper,regex=True).astype('str')\n",
    "freq_profile(cleaned_fake_data[['CDR']])"
   ]
  },
  {
   "cell_type": "markdown",
   "metadata": {},
   "source": [
    "#### What about continuous data?\n",
    "- To improve our understanding of continuous features it is useful to use data visualization"
   ]
  },
  {
   "cell_type": "code",
   "execution_count": 91,
   "metadata": {},
   "outputs": [
    {
     "data": {
      "text/html": [
       "<div>\n",
       "<style scoped>\n",
       "    .dataframe tbody tr th:only-of-type {\n",
       "        vertical-align: middle;\n",
       "    }\n",
       "\n",
       "    .dataframe tbody tr th {\n",
       "        vertical-align: top;\n",
       "    }\n",
       "\n",
       "    .dataframe thead th {\n",
       "        text-align: right;\n",
       "    }\n",
       "</style>\n",
       "<table border=\"1\" class=\"dataframe\">\n",
       "  <thead>\n",
       "    <tr style=\"text-align: right;\">\n",
       "      <th></th>\n",
       "      <th>Freq</th>\n",
       "      <th>Precent</th>\n",
       "    </tr>\n",
       "    <tr>\n",
       "      <th>Value</th>\n",
       "      <th></th>\n",
       "      <th></th>\n",
       "    </tr>\n",
       "  </thead>\n",
       "  <tbody>\n",
       "    <tr>\n",
       "      <th>(-1514.141, 446819.157]</th>\n",
       "      <td>16000.0</td>\n",
       "      <td>0.32000</td>\n",
       "    </tr>\n",
       "    <tr>\n",
       "      <th>(446819.157, 892921.941]</th>\n",
       "      <td>9.0</td>\n",
       "      <td>0.00018</td>\n",
       "    </tr>\n",
       "    <tr>\n",
       "      <th>(892921.941, 1339024.725]</th>\n",
       "      <td>5440.0</td>\n",
       "      <td>0.10880</td>\n",
       "    </tr>\n",
       "    <tr>\n",
       "      <th>(1339024.725, 1785127.508]</th>\n",
       "      <td>22545.0</td>\n",
       "      <td>0.45090</td>\n",
       "    </tr>\n",
       "    <tr>\n",
       "      <th>(1785127.508, 2231230.292]</th>\n",
       "      <td>1708.0</td>\n",
       "      <td>0.03416</td>\n",
       "    </tr>\n",
       "    <tr>\n",
       "      <th>NaN</th>\n",
       "      <td>4298.0</td>\n",
       "      <td>0.08596</td>\n",
       "    </tr>\n",
       "  </tbody>\n",
       "</table>\n",
       "</div>"
      ],
      "text/plain": [
       "                               Freq  Precent\n",
       "Value                                       \n",
       "(-1514.141, 446819.157]     16000.0  0.32000\n",
       "(446819.157, 892921.941]        9.0  0.00018\n",
       "(892921.941, 1339024.725]    5440.0  0.10880\n",
       "(1339024.725, 1785127.508]  22545.0  0.45090\n",
       "(1785127.508, 2231230.292]   1708.0  0.03416\n",
       "NaN                          4298.0  0.08596"
      ]
     },
     "execution_count": 91,
     "metadata": {},
     "output_type": "execute_result"
    }
   ],
   "source": [
    "profile.xs('eTIV')"
   ]
  },
  {
   "cell_type": "code",
   "execution_count": 98,
   "metadata": {},
   "outputs": [
    {
     "data": {
      "text/plain": [
       "<AxesSubplot:xlabel='eTIV', ylabel='Count'>"
      ]
     },
     "execution_count": 98,
     "metadata": {},
     "output_type": "execute_result"
    },
    {
     "data": {
      "image/png": "[encoded data removed]",
      "text/plain": [
       "<Figure size 1080x216 with 2 Axes>"
      ]
     },
     "metadata": {
      "filenames": {
       "image/png": "/Users/eyalsoreq/github/SystemAI2022/_build/jupyter_execute/class/week_02/02_data_cleaning_lab_38_1.png"
      },
      "needs_background": "light"
     },
     "output_type": "display_data"
    }
   ],
   "source": [
    "fig, ax = plt.subplots(1,2,figsize=(15,3))\n",
    "sns.histplot(fake_data.eTIV[fake_data.eTIV<500000],kde=True,ax=ax[0])\n",
    "sns.histplot(fake_data.eTIV[fake_data.eTIV>0.5e6],kde=True,ax=ax[1])"
   ]
  },
  {
   "cell_type": "code",
   "execution_count": 99,
   "metadata": {},
   "outputs": [
    {
     "data": {
      "text/html": [
       "<div>\n",
       "<style scoped>\n",
       "    .dataframe tbody tr th:only-of-type {\n",
       "        vertical-align: middle;\n",
       "    }\n",
       "\n",
       "    .dataframe tbody tr th {\n",
       "        vertical-align: top;\n",
       "    }\n",
       "\n",
       "    .dataframe thead th {\n",
       "        text-align: right;\n",
       "    }\n",
       "</style>\n",
       "<table border=\"1\" class=\"dataframe\">\n",
       "  <thead>\n",
       "    <tr style=\"text-align: right;\">\n",
       "      <th></th>\n",
       "      <th></th>\n",
       "      <th>Freq</th>\n",
       "      <th>Precent</th>\n",
       "    </tr>\n",
       "    <tr>\n",
       "      <th></th>\n",
       "      <th>Value</th>\n",
       "      <th></th>\n",
       "      <th></th>\n",
       "    </tr>\n",
       "  </thead>\n",
       "  <tbody>\n",
       "    <tr>\n",
       "      <th rowspan=\"6\" valign=\"top\">eTIV</th>\n",
       "      <th>(714852.151, 1020702.54]</th>\n",
       "      <td>180.0</td>\n",
       "      <td>0.00360</td>\n",
       "    </tr>\n",
       "    <tr>\n",
       "      <th>(1020702.54, 1325031.285]</th>\n",
       "      <td>7422.0</td>\n",
       "      <td>0.14844</td>\n",
       "    </tr>\n",
       "    <tr>\n",
       "      <th>(1325031.285, 1629360.031]</th>\n",
       "      <td>27384.0</td>\n",
       "      <td>0.54768</td>\n",
       "    </tr>\n",
       "    <tr>\n",
       "      <th>(1629360.031, 1933688.776]</th>\n",
       "      <td>10351.0</td>\n",
       "      <td>0.20702</td>\n",
       "    </tr>\n",
       "    <tr>\n",
       "      <th>(1933688.776, 2238017.521]</th>\n",
       "      <td>365.0</td>\n",
       "      <td>0.00730</td>\n",
       "    </tr>\n",
       "    <tr>\n",
       "      <th>NaN</th>\n",
       "      <td>4298.0</td>\n",
       "      <td>0.08596</td>\n",
       "    </tr>\n",
       "  </tbody>\n",
       "</table>\n",
       "</div>"
      ],
      "text/plain": [
       "                                    Freq  Precent\n",
       "     Value                                       \n",
       "eTIV (714852.151, 1020702.54]      180.0  0.00360\n",
       "     (1020702.54, 1325031.285]    7422.0  0.14844\n",
       "     (1325031.285, 1629360.031]  27384.0  0.54768\n",
       "     (1629360.031, 1933688.776]  10351.0  0.20702\n",
       "     (1933688.776, 2238017.521]    365.0  0.00730\n",
       "     NaN                          4298.0  0.08596"
      ]
     },
     "execution_count": 99,
     "metadata": {},
     "output_type": "execute_result"
    }
   ],
   "source": [
    "ix = fake_data.eTIV < 500000\n",
    "cleaned_fake_data.loc[ix,'eTIV'] = fake_data.eTIV[ix] * 1e3\n",
    "freq_profile(cleaned_fake_data[['eTIV']])"
   ]
  },
  {
   "cell_type": "code",
   "execution_count": 101,
   "metadata": {},
   "outputs": [
    {
     "data": {
      "text/plain": [
       "<AxesSubplot:xlabel='eTIV', ylabel='Count'>"
      ]
     },
     "execution_count": 101,
     "metadata": {},
     "output_type": "execute_result"
    },
    {
     "data": {
      "image/png": "[encoded data removed]",
      "text/plain": [
       "<Figure size 432x288 with 1 Axes>"
      ]
     },
     "metadata": {
      "filenames": {
       "image/png": "/Users/eyalsoreq/github/SystemAI2022/_build/jupyter_execute/class/week_02/02_data_cleaning_lab_40_1.png"
      },
      "needs_background": "light"
     },
     "output_type": "display_data"
    }
   ],
   "source": [
    "sns.histplot(cleaned_fake_data.eTIV,kde=True)\n"
   ]
  },
  {
   "cell_type": "markdown",
   "metadata": {},
   "source": [
    "## Is this valid? \n",
    "- Here we created a manual data cleaning process \n",
    "- In reality we will check our assumptions with our partners before applying these transformations "
   ]
  }
 ],
 "metadata": {
  "interpreter": {
   "hash": "af4ed3fa87ab5389ed0d164f2907ab733f2066e3ac536df37d19ad0ca2200646"
  },
  "kernelspec": {
   "display_name": "Python 3.10.4 ('SYS_2022')",
   "language": "python",
   "name": "python3"
  },
  "language_info": {
   "codemirror_mode": {
    "name": "ipython",
    "version": 3
   },
   "file_extension": ".py",
   "mimetype": "text/x-python",
   "name": "python",
   "nbconvert_exporter": "python",
   "pygments_lexer": "ipython3",
   "version": "3.10.4"
  }
 },
 "nbformat": 4,
 "nbformat_minor": 2
}