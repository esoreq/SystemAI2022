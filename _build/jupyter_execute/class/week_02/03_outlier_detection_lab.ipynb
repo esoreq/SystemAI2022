{
 "cells": [
  {
   "cell_type": "code",
   "execution_count": 1,
   "metadata": {},
   "outputs": [
    {
     "ename": "ModuleNotFoundError",
     "evalue": "No module named 'matplotlib'",
     "output_type": "error",
     "traceback": [
      "\u001b[0;31m---------------------------------------------------------------------------\u001b[0m",
      "\u001b[0;31mModuleNotFoundError\u001b[0m                       Traceback (most recent call last)",
      "Input \u001b[0;32mIn [1]\u001b[0m, in \u001b[0;36m<cell line: 3>\u001b[0;34m()\u001b[0m\n\u001b[1;32m      1\u001b[0m \u001b[38;5;28;01mimport\u001b[39;00m \u001b[38;5;21;01mpandas\u001b[39;00m \u001b[38;5;28;01mas\u001b[39;00m \u001b[38;5;21;01mpd\u001b[39;00m\n\u001b[1;32m      2\u001b[0m \u001b[38;5;28;01mimport\u001b[39;00m \u001b[38;5;21;01mnumpy\u001b[39;00m \u001b[38;5;28;01mas\u001b[39;00m \u001b[38;5;21;01mnp\u001b[39;00m\n\u001b[0;32m----> 3\u001b[0m \u001b[38;5;28;01mimport\u001b[39;00m \u001b[38;5;21;01mmatplotlib\u001b[39;00m\u001b[38;5;21;01m.\u001b[39;00m\u001b[38;5;21;01mpyplot\u001b[39;00m \u001b[38;5;28;01mas\u001b[39;00m \u001b[38;5;21;01mplt\u001b[39;00m\n\u001b[1;32m      4\u001b[0m \u001b[38;5;28;01mfrom\u001b[39;00m \u001b[38;5;21;01msklearn\u001b[39;00m\u001b[38;5;21;01m.\u001b[39;00m\u001b[38;5;21;01mpreprocessing\u001b[39;00m \u001b[38;5;28;01mimport\u001b[39;00m (StandardScaler, \n\u001b[1;32m      5\u001b[0m                                    PowerTransformer, \n\u001b[1;32m      6\u001b[0m                                    MinMaxScaler, \n\u001b[1;32m      7\u001b[0m                                    RobustScaler,\n\u001b[1;32m      8\u001b[0m                                    MaxAbsScaler,\n\u001b[1;32m      9\u001b[0m                                    QuantileTransformer)\n\u001b[1;32m     10\u001b[0m \u001b[38;5;28;01mimport\u001b[39;00m \u001b[38;5;21;01mseaborn\u001b[39;00m \u001b[38;5;28;01mas\u001b[39;00m \u001b[38;5;21;01msns\u001b[39;00m\n",
      "\u001b[0;31mModuleNotFoundError\u001b[0m: No module named 'matplotlib'"
     ]
    }
   ],
   "source": [
    "import pandas as pd\n",
    "import numpy as np\n",
    "import matplotlib.pyplot as plt\n",
    "from sklearn.preprocessing import (StandardScaler, \n",
    "                                   PowerTransformer, \n",
    "                                   MinMaxScaler, \n",
    "                                   RobustScaler,\n",
    "                                   MaxAbsScaler,\n",
    "                                   QuantileTransformer)\n",
    "import seaborn as sns\n",
    "import utils\n",
    "pd.options.display.precision = 2\n",
    "pd.set_option('display.max_rows', 100)\n",
    "pd.set_option(\"display.max.columns\", None)\n",
    "df = pd.read_pickle('12_tasks.pkl')\n",
    "plt.style.use('bmh')\n",
    "%load_ext autoreload\n",
    "%autoreload 2"
   ]
  },
  {
   "cell_type": "markdown",
   "metadata": {},
   "source": [
    "## We start by creating several subset datasets\n",
    "\n",
    "- Using the same dataset as last week create two datasets \n",
    "  - One for cognitive scores that will take either avg or final score \n",
    "  - Another for response time that collects all features that contain `ms` in them\n"
   ]
  },
  {
   "cell_type": "code",
   "execution_count": 108,
   "metadata": {},
   "outputs": [],
   "source": [
    "### Your code comes here \n",
    "\n",
    "scores = None\n",
    "response_time = None\n"
   ]
  },
  {
   "cell_type": "markdown",
   "metadata": {},
   "source": [
    "# What is the difference between the datasets? \n",
    "- can you explain this using domain knowledge? "
   ]
  },
  {
   "cell_type": "markdown",
   "metadata": {},
   "source": [
    "# Challenge 2\n",
    "\n",
    "- Using the two datasets select two different tasks one that records response time per_item and one that records correct rt \n",
    "  - Use the appropriate visualisation method to examine if there are outliers in the reaction time data\n",
    "  - If there are try to use one of the methods covered in the lecture to deal with these \n"
   ]
  },
  {
   "cell_type": "markdown",
   "metadata": {},
   "source": [
    "# Challenge 3\n",
    "\n",
    "- Now try to create a function that automatically detects outliers and deals with them \n",
    "- Apply it to the entire dataset and re-examine your exploration from last week assignment \n"
   ]
  }
 ],
 "metadata": {
  "interpreter": {
   "hash": "af4ed3fa87ab5389ed0d164f2907ab733f2066e3ac536df37d19ad0ca2200646"
  },
  "kernelspec": {
   "display_name": "Python 3.10.4 ('SYS_2022')",
   "language": "python",
   "name": "python3"
  },
  "language_info": {
   "codemirror_mode": {
    "name": "ipython",
    "version": 3
   },
   "file_extension": ".py",
   "mimetype": "text/x-python",
   "name": "python",
   "nbconvert_exporter": "python",
   "pygments_lexer": "ipython3",
   "version": "3.10.4"
  }
 },
 "nbformat": 4,
 "nbformat_minor": 2
}