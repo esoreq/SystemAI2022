{
 "cells": [
  {
   "cell_type": "markdown",
   "metadata": {},
   "source": [
    "## Home assignment \n",
    "\n",
    "1. Using the 12_tasks data clean outliers for both scores and response time \n",
    "2. Scale the dataset \n",
    "3. Reduce dimensionality using PCA \n",
    "4. Then compare to tSNE \n",
    "5. Explore different categorical factors in 'info' and see if the results are different for different subsets"
   ]
  }
 ],
 "metadata": {
  "interpreter": {
   "hash": "af4ed3fa87ab5389ed0d164f2907ab733f2066e3ac536df37d19ad0ca2200646"
  },
  "kernelspec": {
   "display_name": "Python 3.10.4 ('SYS_2022')",
   "language": "python",
   "name": "python3"
  },
  "language_info": {
   "codemirror_mode": {
    "name": "ipython",
    "version": 3
   },
   "file_extension": ".py",
   "mimetype": "text/x-python",
   "name": "python",
   "nbconvert_exporter": "python",
   "pygments_lexer": "ipython3",
   "version": "3.10.4"
  }
 },
 "nbformat": 4,
 "nbformat_minor": 2
}