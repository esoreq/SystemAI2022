{
 "cells": [
  {
   "cell_type": "markdown",
   "metadata": {},
   "source": [
    "## DAY 03 - HOMEWORK \n",
    "\n",
    "- Solve as many of the exercises below "
   ]
  },
  {
   "cell_type": "markdown",
   "metadata": {},
   "source": [
    "### Exercise 1: Calculate age\n",
    "- Write a function that takes date of birth as an argument, and returns the age in years."
   ]
  },
  {
   "cell_type": "markdown",
   "metadata": {},
   "source": [
    "### Exercise 2: Treat negative numbers differently \n",
    "- Write a function that takes as an input a single number\n",
    "- And returns a transformed number such as \n",
    "  - For negative numbers 1/number\n",
    "  - For positive numbers the number squared \n",
    "  - And if the number is not a number it prints an error and returns the string `NaN`"
   ]
  },
  {
   "cell_type": "markdown",
   "metadata": {},
   "source": [
    "### Exercise 3: calculations \n",
    "- Write a function that gets two numbers \n",
    "- and returns the addition, subtraction multiplication and division of these numbers\n",
    "- For example if we give the function the numbers 3,2 we will get 5,1,6,1.5\n"
   ]
  },
  {
   "cell_type": "markdown",
   "metadata": {},
   "source": [
    "### Exercise 4: Create a function with variable length of arguments\n",
    "- Write a function that takes as an input any set of arguments\n",
    "- And returns a transformed set of numbers such as \n",
    "  - Positive sum\n",
    "  - Negative sum\n",
    "  - non-numbers count\n",
    "\n",
    "For example if we give you function the following input \n",
    "~~~python\n",
    "args = [10,-50,7,9,-20,'a','null','5']\n",
    "~~~\n",
    "- It will return 26,-70,3"
   ]
  },
  {
   "cell_type": "markdown",
   "metadata": {},
   "source": [
    "### Exercise 5: Using the same type of input filter conditionally \n",
    "- Write a function that takes as an input any set of arguments\n",
    "- And returns a filtered set of values in a list \n",
    "  - return only Positive numbers\n",
    "  - return only Negative numbers\n",
    "  - return any number (even if in string format) \n",
    "  - return only non-numbers\n",
    "\n",
    "For example if we give you function the following input \n",
    "~~~python\n",
    "args = [10,-50,7,9,-20,'a','null','5']\n",
    "condition = 'numbers'\n",
    "~~~\n",
    "- It will return [10, -50, 7, 9, -20, 5]"
   ]
  },
  {
   "cell_type": "markdown",
   "metadata": {},
   "source": [
    "### Exercise 6: Using the same type of input use map to clean input \n",
    "- Write a function that takes as an input any set of arguments\n",
    "- And returns a mapped set of values in a list where\n",
    "  - all numbers are of type float\n",
    "  - all non-numbers are transformed into 'NaN'\n",
    "\n",
    "For example if we give you function the following input \n",
    "~~~python\n",
    "args = [10,-50,7,9,-20,'a','null','5']\n",
    "~~~\n",
    "- It will return [10, -50, 7, 9, -20,'NaN','NaN', 5]"
   ]
  }
 ],
 "metadata": {
  "kernelspec": {
   "display_name": "Python 3",
   "language": "python",
   "name": "python3"
  },
  "language_info": {
   "name": "python"
  }
 },
 "nbformat": 4,
 "nbformat_minor": 4
}
