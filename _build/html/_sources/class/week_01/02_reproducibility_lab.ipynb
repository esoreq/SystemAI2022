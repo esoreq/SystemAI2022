{
 "cells": [
  {
   "cell_type": "markdown",
   "metadata": {},
   "source": [
    "# Reproducibility lab\n",
    "Over the last few years, there has been a surge in interest in reproducible research and data analysis pipelines. But how can I be certain that what I produce as a Python user is reproducible? In this lab, we'll take you down the rabbit hole of reproducibility. We'll go over repeatable scientific development in Python step by step. "
   ]
  },
  {
   "cell_type": "markdown",
   "metadata": {},
   "source": [
    "## Project structure\n",
    "- Good project layout guarantees \n",
    "  - Integrity of the data\n",
    "  - Portability of the project\n",
    "  - Potential for automation \n",
    "  - That the project is salvageable in the case of change in personal "
   ]
  },
  {
   "cell_type": "markdown",
   "metadata": {},
   "source": [
    "## Version control and automatic setup \n",
    "\n",
    "\n",
    "\n"
   ]
  }
 ],
 "metadata": {
  "language_info": {
   "name": "python"
  },
  "orig_nbformat": 4
 },
 "nbformat": 4,
 "nbformat_minor": 2
}
